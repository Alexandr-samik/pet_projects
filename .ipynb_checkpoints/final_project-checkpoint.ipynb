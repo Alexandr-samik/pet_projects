{
 "cells": [
  {
   "cell_type": "markdown",
   "metadata": {},
   "source": [
    "## Задание:\n",
    "\n",
    "Представьте, что вы работаете в крупном дейтинговом приложении.\n",
    "\n",
    "Помимо базовых функций, в приложении также имеется премиум-подписка, которая дает доступ к ряду важных дополнительных возможностей. Был проведен A/B тест, в рамках которого для новых пользователей из нескольких стран была изменена стоимость премиум-подписки* при покупке через две новые платежные системы. При этом стоимость пробного периода оставалась прежней.\n",
    "\n",
    "Проверьте:\n",
    "\n",
    "Был ли эксперимент успешен в целом.\n",
    "Проанализируйте, имеет ли нововведение смысл среди каких-либо конкретных групп пользователей.\n",
    "\n",
    "## Вывод\n",
    "\n",
    "1. Нововедение мы не выкатываем.\n",
    "\n",
    "\n",
    "2. Система сплитования работает корректно для метрик CR, ARPU, ARPPU. \n",
    "\n",
    "\n",
    "3. Основними метриками для оценки выбраны CR, ARPU, ARPPU.    \n",
    "\n",
    "    CR:\n",
    "        Конверсии стат. значимо различаются для колонки buy_flag(то есть наличие любой покупки). В тестовой группе конверсия упала по сравнению с контрольной. Тестовая: 4.4 Контрольная: 3.4\n",
    "        Конверсии в покупку премиум аккаунта имеют стат. значимые различия. Конверсия в тестовой группе меньше(1.6), чем в контрольной(2.3)\n",
    "        Довольно интересные наблюдения. Выявлены стат. значимые изменения конверсии в сторону уменьшения для тестовой группы, по сравнению с контрольной для колонки:\n",
    "        buy_flag:Для группы: 17-25 контроль: 4.861, тест: 3.093\n",
    "        buy_premium: Для группы: 25-38 контроль: 2.515, тест: 1.6\n",
    "        Я считаю, что это довольно значимое изменение, т.к. оно выявлено для центрального ядра аудитории сервиса.\n",
    "        В разрезе стран стат. значимых изменений конверсии не выявлено.\n",
    "    ARPU:\n",
    "        Как на полных срезах, так и в разрезе возрастных групп и стран, стат значимых изменений ARPU не выявлено.\n",
    "    ARPPU:\n",
    "        Значимых различий ARPPU на полных данных не выявлено.\n",
    "        Для проведения проверок на срезах не достаточно данных.\n",
    "        \n",
    "        \n",
    "        Значимых изменений ARPU и ARPPU на полных срезах не выявлено, но при этом упала как конверсия в покупку в целом, так и конверсия в покупку премиум аккаунта. Эксперимент в целом плохо отразился на метриках, в частности на конверсии.\n",
    "        \n",
    "        \n",
    "4. EDA анализ показал явную зависимость роста количества просмотров и роста количества покупок премиум аккаунта. Зная это можно собирать данные AB тестов на значительно более короткой дистанции, чем в эксперименте(11 мес.). \n",
    "\n",
    "    Так же рост количество дней, в которые пользователь заходил в приложение, положительно коррелирует с количеством подписок премиум.   \n",
    "    \n",
    "    Можно оценивать просмотры и визиты пользователей и делать прогноз о том, какой прирост подписок премиум будет в будующем.   \n",
    "    \n",
    "    На короткой дистанции, можно делать больше тестов, следовательно, будет проверяться больше гиппотез, можно добиться занчительно больших результатов.   \n",
    "    \n",
    "    Так же EDA анализ показал, что люди, у которых коэффициент привлекательности выше 75% квантиля значительно реже приобретают премиум подписку, чем люди в диапазоне от 50 до 75 процентов. Можно на основании этого параметра, например чаще предлагать бесплатную пробную подписку или выработать другие гиппотезы по улучшению конверсии в покупку у данной группы пользователей.   \n",
    "    \n",
    "    Ядро самой лояльной аудитории находится в возрастной группе от 20 до 35 лет, с средним количеством просмотров более 21, средним количеством визитов более 7 и имеющих коэффициент привлекательности от 238-518.\n",
    "    \n",
    "    Можно было выделить более узкие группы при анализе, но я ставил перед собой задачу найти общие тенденции.     \n",
    "  \n",
    "  \n",
    "  \n",
    "5. Предлагаю бизнес заказчику в первую очередь работать над гиппотезами, результатом которых будет увеличение конверсии, на всех этапах жизненного цикла пользователя в приложении(от первого входа в регистрацию, от регистрации в первую покупку или приборетения премиум подписки, далее в удержание пользователя на более долгий срок). \n",
    "\n"
   ]
  },
  {
   "cell_type": "code",
   "execution_count": null,
   "metadata": {},
   "outputs": [],
   "source": [
    "import numpy as np\n",
    "import pandas as pd\n",
    "from scipy.stats import norm, mannwhitneyu, binom_test\n",
    "import matplotlib.pyplot as plt\n",
    "%matplotlib inline \n",
    "import seaborn as sns\n",
    "from tqdm.auto import tqdm\n",
    "from scipy import stats\n",
    "import requests\n",
    "from urllib.parse import urlencode\n",
    "plt.style.use('ggplot')"
   ]
  },
  {
   "cell_type": "code",
   "execution_count": 2,
   "metadata": {},
   "outputs": [],
   "source": [
    "sns.set(rc={'figure.figsize': (16,6)}, style='whitegrid') "
   ]
  },
  {
   "cell_type": "markdown",
   "metadata": {},
   "source": [
    "зададим все функции в одном месте."
   ]
  },
  {
   "cell_type": "code",
   "execution_count": 3,
   "metadata": {},
   "outputs": [],
   "source": [
    "# сравним коверсию в покупку для тестовой и контрольной группы для каждой возрастной группы.\n",
    "def age_xi_square_check(df, age_group_list, columns_list):\n",
    "    for k in columns_list:\n",
    "        print('--------------------------------------------------------------------------------------------')\n",
    "        print('Для колонки: ' + k + '\\n')\n",
    "        for i in age_group_list:\n",
    "            df_filtred = df[df.age_group_my == i]\n",
    "            df_crosstab = pd.crosstab(df_filtred['group'], df_filtred[k])\n",
    "            result_test = stats.chi2_contingency(df_crosstab)[1]\n",
    "            df_crosstab.columns = ['no', 'yes']\n",
    "            a = df_crosstab.yes / df_crosstab.no\n",
    "            if result_test > 0.05:\n",
    "                print('Для группы: ' + i + ' контроль: ' + str(round(a[0]*100,3)) + ', тест: ' + str(round(a[1]*100,3)))\n",
    "                print('H0 различий конверсии в покупку не выявлено')\n",
    "                print('p-value = ' + str(result_test))\n",
    "                print('---')\n",
    "            else:\n",
    "                print('Для группы: ' + i + ' контроль: ' + str(round(a[0]*100,3)) + ', тест: ' + str(round(a[1]*100,3)))\n",
    "                print('Н1 группы имеют стат. значимые различия конверсии в покупку')\n",
    "                print('p-value = ' + str(result_test))\n",
    "                print('---')"
   ]
  },
  {
   "cell_type": "code",
   "execution_count": 4,
   "metadata": {},
   "outputs": [],
   "source": [
    "# сравним коверсию в покупку для тестовой и контрольной группы для каждой возрастной группы.\n",
    "def country_xi_square_check(df, country_list, columns_list):\n",
    "    for k in columns_list:\n",
    "        print('--------------------------------------------------------------------------------------------')\n",
    "        print('Для колонки: ' + k + '\\n')\n",
    "        for i in country_list:\n",
    "            df_filtred = df[df.country_x == i]\n",
    "            df_crosstab = pd.crosstab(df_filtred['group'], df_filtred[k])\n",
    "            result_test = stats.chi2_contingency(df_crosstab)[1]\n",
    "            df_crosstab.columns = ['no', 'yes']\n",
    "            a = df_crosstab.yes / df_crosstab.no\n",
    "            if result_test > 0.05:\n",
    "                print('Для страны: ' + i + ' контроль: ' + str(round(a[0]*100,3)) + ', тест: ' + str(round(a[1]*100,3)))\n",
    "                print('H0 различий конверсии в покупку не выявлено')\n",
    "                print('p-value = ' + str(result_test))\n",
    "                print('---')\n",
    "            else:\n",
    "                print('Для страны: ' + i + ' контроль: ' + str(round(a[0]*100,3)) + ', тест: ' + str(round(a[1]*100,3)))\n",
    "                print('Н1 группы имеют стат. значимые различия конверсии в покупку')\n",
    "                print('p-value = ' + str(result_test))\n",
    "                print('---')"
   ]
  },
  {
   "cell_type": "code",
   "execution_count": 5,
   "metadata": {},
   "outputs": [],
   "source": [
    "# функция создает две новых колонки в дата фреймах 1 - есть покупка NaN - нет покупки\n",
    "def buy_columns(data):\n",
    "    df = data[['uid', 'product_type']][data.product_type == 'premium_no_trial']\n",
    "    df = df.drop_duplicates(subset = ['uid'])\n",
    "    df['buy_premium'] = 1\n",
    "    df = df[['uid','buy_premium']]\n",
    "    data = data.merge(df, on='uid', how='left')\n",
    "    data.buy_premium = data.buy_premium.fillna(0)\n",
    "    data.buy_premium = data.buy_premium.astype(\"int\")\n",
    "    df = data[['uid', 'product_type']][data.product_type != 'premium_no_trial'].dropna()\n",
    "    df['buy_other'] = 1\n",
    "    df = df.drop_duplicates(subset = ['uid'])  \n",
    "    data = data.merge(df[['uid','buy_other']], on='uid', how='left')\n",
    "    data.buy_other = data.buy_other.fillna(0)\n",
    "    data.buy_other = data.buy_other.astype(\"int\")\n",
    "    df = data[['uid', 'revenue']][data.revenue > 0].dropna()\n",
    "    df['buy_flag'] = 1\n",
    "    df = df.drop_duplicates(subset = ['uid'])  \n",
    "    data = data.merge(df[['uid','buy_flag']], on='uid', how='left')\n",
    "    data.buy_flag = data.buy_flag.fillna(0)\n",
    "    data.buy_flag = data.buy_flag.astype(\"int\")\n",
    "    return(data)"
   ]
  },
  {
   "cell_type": "code",
   "execution_count": 6,
   "metadata": {},
   "outputs": [],
   "source": [
    "# зададим функцию, которая считает количество дней, в которые произошли визиты\n",
    "def visit_count(x):\n",
    "    if x != '0':\n",
    "        x = len(x.split(','))\n",
    "    return(x)"
   ]
  },
  {
   "cell_type": "code",
   "execution_count": 7,
   "metadata": {},
   "outputs": [],
   "source": [
    "def split_test(sample1,sample2, t_test_flag = True, n_s = 1000):\n",
    "    n = 100000\n",
    "    simulations = 1000\n",
    "    res = []\n",
    "\n",
    "    # Запуск симуляций A/A теста\n",
    "    for i in tqdm(range(simulations)):\n",
    "        s1 = sample1.sample(n_s, replace = False).values\n",
    "        s2 = sample2.sample(n_s, replace = False).values\n",
    "        if t_test_flag:\n",
    "            res.append(stats.ttest_ind(s1, s2)[1]) # сохраняем pvalue\n",
    "        else:\n",
    "            res.append(stats.ttest_ind(s1, s2, equal_var = False)[1]) # сохраняем pvalue\n",
    "            \n",
    "    result_split_test = sum(np.array(res) <0.05) / simulations\n",
    "    print(result_split_test)\n",
    "    if result_split_test > 0.05:\n",
    "        print('FPR выше 0.05 система сплитования работает не корректно')\n",
    "    else:\n",
    "        print('FPR нижн 0.05 система сплитования работает корректно')\n",
    "        \n",
    "    plt.hist(res, bins = 50)\n",
    "    plt.style.use('ggplot')\n",
    "    plt.xlabel('pvalues')\n",
    "    plt.ylabel('frequency')\n",
    "    plt.title(\"Histogram of ttest A/A simulations \")\n",
    "    plt.show()\n",
    "\n",
    "    # Проверяем, что количество ложноположительных случаев не превышает альфа\n",
    "    "
   ]
  },
  {
   "cell_type": "code",
   "execution_count": 8,
   "metadata": {},
   "outputs": [],
   "source": [
    "def split_test_xi_square_buy_flag(sample1, n_s=1000):\n",
    "    n = 100000\n",
    "    simulations = 1000\n",
    "    res = []\n",
    "\n",
    "    # Запуск симуляций A/A теста\n",
    "    for i in tqdm(range(simulations)):\n",
    "        s1 = sample1[sample1.group == 'control_1'].sample(n_s, replace = False)\n",
    "        s2 = sample1[sample1.group == 'control_2'].sample(n_s, replace = False)\n",
    "        \n",
    "        s3 = s1.append(s2, ignore_index=True)\n",
    "        df_crosstab = pd.crosstab(s3['group'], s3['buy_flag'])\n",
    "        res.append(stats.chi2_contingency(df_crosstab)[1]) # сохраняем pvalue\n",
    "                    \n",
    "    result_split_test = sum(np.array(res) <0.05) / simulations\n",
    "    print(result_split_test)\n",
    "    if result_split_test > 0.05:\n",
    "        print('FPR выше 0.05 система сплитования работает не корректно')\n",
    "    else:\n",
    "        print('FPR нижн 0.05 система сплитования работает корректно')\n",
    "        \n",
    "    plt.hist(res, bins = 50)\n",
    "    plt.style.use('ggplot')\n",
    "    plt.xlabel('pvalues')\n",
    "    plt.ylabel('frequency')\n",
    "    plt.title(\"Histogram of ttest A/A simulations \")\n",
    "    plt.show()\n",
    "\n",
    "    # Проверяем, что количество ложноположительных случаев не превышает альфа\n",
    "    "
   ]
  },
  {
   "cell_type": "code",
   "execution_count": 9,
   "metadata": {},
   "outputs": [],
   "source": [
    "def split_test_xi_square_buy_premium(sample1, n_s=1000):\n",
    "    n = 100000\n",
    "    simulations = 1000\n",
    "    res = []\n",
    "\n",
    "    # Запуск симуляций A/A теста\n",
    "    for i in tqdm(range(simulations)):\n",
    "        s1 = sample1[sample1.group == 'control_1'].sample(n_s, replace = False)\n",
    "        s2 = sample1[sample1.group == 'control_2'].sample(n_s, replace = False)\n",
    "        \n",
    "        s3 = s1.append(s2, ignore_index=True)\n",
    "        df_crosstab = pd.crosstab(s3['group'], s3['buy_premium'])\n",
    "        res.append(stats.chi2_contingency(df_crosstab)[1]) # сохраняем pvalue\n",
    "                    \n",
    "    result_split_test = sum(np.array(res) <0.05) / simulations\n",
    "    print(result_split_test)\n",
    "    if result_split_test > 0.05:\n",
    "        print('FPR выше 0.05 система сплитования работает не корректно')\n",
    "    else:\n",
    "        print('FPR нижн 0.05 система сплитования работает корректно')\n",
    "        \n",
    "    plt.hist(res, bins = 50)\n",
    "    plt.style.use('ggplot')\n",
    "    plt.xlabel('pvalues')\n",
    "    plt.ylabel('frequency')\n",
    "    plt.title(\"Histogram of ttest A/A simulations \")\n",
    "    plt.show()\n",
    "\n",
    "    # Проверяем, что количество ложноположительных случаев не превышает альфа\n",
    "    "
   ]
  },
  {
   "cell_type": "code",
   "execution_count": 10,
   "metadata": {},
   "outputs": [],
   "source": [
    "def split_test_xi_square_buy_other(sample1, n_s=1000):\n",
    "    n = 100000\n",
    "    simulations = 1000\n",
    "    res = []\n",
    "\n",
    "    # Запуск симуляций A/A теста\n",
    "    for i in tqdm(range(simulations)):\n",
    "        s1 = sample1[sample1.group == 'control_1'].sample(n_s, replace = False)\n",
    "        s2 = sample1[sample1.group == 'control_2'].sample(n_s, replace = False)\n",
    "        \n",
    "        s3 = s1.append(s2, ignore_index=True)\n",
    "        df_crosstab = pd.crosstab(s3['group'], s3['buy_other'])\n",
    "        res.append(stats.chi2_contingency(df_crosstab)[1]) # сохраняем pvalue\n",
    "                    \n",
    "    result_split_test = sum(np.array(res) <0.05) / simulations\n",
    "    print(result_split_test)\n",
    "    if result_split_test > 0.05:\n",
    "        print('FPR выше 0.05 система сплитования работает не корректно')\n",
    "    else:\n",
    "        print('FPR нижн 0.05 система сплитования работает корректно')\n",
    "        \n",
    "    plt.hist(res, bins = 50)\n",
    "    plt.style.use('ggplot')\n",
    "    plt.xlabel('pvalues')\n",
    "    plt.ylabel('frequency')\n",
    "    plt.title(\"Histogram of ttest A/A simulations \")\n",
    "    plt.show()\n",
    "\n",
    "    # Проверяем, что количество ложноположительных случаев не превышает альфа\n",
    "    "
   ]
  },
  {
   "cell_type": "code",
   "execution_count": 11,
   "metadata": {},
   "outputs": [],
   "source": [
    "# создадим функция, которая принимает на вход дата фрейм и добавляет в таблицу строку с заполненными значениями метрик\n",
    "def metriks_new(data):    \n",
    "    all_users = data.uid.agg('nunique')\n",
    "    pay_users = data[data.revenue > 0].uid.agg('nunique')\n",
    "    pay_premium = data[data.buy_premium == 1].uid.agg('nunique')\n",
    "    pay_other = data[data.buy_other == 1].uid.agg('nunique')\n",
    "    conversion_prem = round((pay_premium / all_users),3)\n",
    "    conversion_other = round((pay_other / all_users),3)\n",
    "    conversion = pay_users / all_users\n",
    "    all_revenue = data.revenue.agg('sum')\n",
    "    prem_revenue = data[data.buy_premium == 1].revenue.sum()\n",
    "    ARPPU = round((all_revenue / pay_users),2)\n",
    "    ARPU = round((conversion * ARPPU),2)\n",
    "    df_metrik.loc[len(df_metrik.index)] = [data.name, all_users, pay_users,conversion_prem * 100, \n",
    "                                           conversion_other * 100, round(conversion * 100,3), all_revenue, \n",
    "                                           prem_revenue, ARPPU, ARPU\n",
    "                                          ]\n",
    "    return(df_metrik)"
   ]
  },
  {
   "cell_type": "code",
   "execution_count": 12,
   "metadata": {},
   "outputs": [],
   "source": [
    "# напишем функцию, которая будет проверять результат теста mannwhitneyu и выдавать результат.\n",
    "def results(x):\n",
    "    if x[1] < 0.05:\n",
    "        answer = 'Верна гиппотеза H1 p-value = ' + str(x[1]) \n",
    "    else:\n",
    "        answer = 'Верна гиппотеза H0 p-value = ' + str(x[1])\n",
    "    return(answer)"
   ]
  },
  {
   "cell_type": "code",
   "execution_count": 279,
   "metadata": {},
   "outputs": [],
   "source": [
    "# функция проверяет нормальность признака\n",
    "def stats_norm(s1):\n",
    "    if stats.shapiro(s1)[1] > 0.05:\n",
    "        print('H0: выборка взята из генеральной совокупности, где признак распределен нормально')\n",
    "    else:\n",
    "        print('H1: выборка взята из генеральной совокупности, где признак отличается от нормального')\n",
    "    "
   ]
  },
  {
   "cell_type": "code",
   "execution_count": 14,
   "metadata": {},
   "outputs": [],
   "source": [
    "# формируем URL для всех файлов\n",
    "\n",
    "# 1\n",
    "base_url = 'https://cloud-api.yandex.net/v1/disk/public/resources/download?'\n",
    "public_key = 'https://disk.yandex.ru/d/4XXIME4osGrMRA'  # Сюда вписываете вашу ссылку\n",
    "# Получаем загрузочную ссылку\n",
    "final_url = base_url + urlencode(dict(public_key=public_key))\n",
    "response = requests.get(final_url)\n",
    "users_test_url = response.json()['href']\n",
    "\n",
    "# 2\n",
    "base_url = 'https://cloud-api.yandex.net/v1/disk/public/resources/download?'\n",
    "public_key = 'https://disk.yandex.ru/d/yJFydMNNGkEKfg'  # Сюда вписываете вашу ссылку\n",
    "# Получаем загрузочную ссылку\n",
    "final_url = base_url + urlencode(dict(public_key=public_key))\n",
    "response = requests.get(final_url)\n",
    "users_control_1_url = response.json()['href']\n",
    "\n",
    "# 3\n",
    "base_url = 'https://cloud-api.yandex.net/v1/disk/public/resources/download?'\n",
    "public_key = 'https://disk.yandex.ru/d/br6KkQupzzTGoQ'  # Сюда вписываете вашу ссылку\n",
    "# Получаем загрузочную ссылку\n",
    "final_url = base_url + urlencode(dict(public_key=public_key))\n",
    "response = requests.get(final_url)\n",
    "users_control_2_url = response.json()['href']\n",
    "\n",
    "# 4\n",
    "base_url = 'https://cloud-api.yandex.net/v1/disk/public/resources/download?'\n",
    "public_key = 'https://disk.yandex.ru/d/gvCWpZ55ODzs2g'  # Сюда вписываете вашу ссылку\n",
    "# Получаем загрузочную ссылку\n",
    "final_url = base_url + urlencode(dict(public_key=public_key))\n",
    "response = requests.get(final_url)\n",
    "transactions_test_url = response.json()['href']\n",
    "\n",
    "# 5\n",
    "base_url = 'https://cloud-api.yandex.net/v1/disk/public/resources/download?'\n",
    "public_key = 'https://disk.yandex.ru/d/VY5W0keMX5TZBQ'  # Сюда вписываете вашу ссылку\n",
    "# Получаем загрузочную ссылку\n",
    "final_url = base_url + urlencode(dict(public_key=public_key))\n",
    "response = requests.get(final_url)\n",
    "transactions_control_1_url = response.json()['href']\n",
    "\n",
    "# 6\n",
    "base_url = 'https://cloud-api.yandex.net/v1/disk/public/resources/download?'\n",
    "public_key = 'https://disk.yandex.ru/d/th5GL0mGOc-qzg'  # Сюда вписываете вашу ссылку\n",
    "# Получаем загрузочную ссылку\n",
    "final_url = base_url + urlencode(dict(public_key=public_key))\n",
    "response = requests.get(final_url)\n",
    "transactions_control_2_url = response.json()['href']\n",
    "\n"
   ]
  },
  {
   "cell_type": "code",
   "execution_count": 15,
   "metadata": {},
   "outputs": [],
   "source": [
    "# формируем датафреймы\n",
    "\n",
    "df_users_test = pd.read_csv(users_test_url, encoding='Windows-1251', sep=';')\n",
    "\n",
    "df_users_control_1 = pd.read_csv(users_control_1_url, encoding='Windows-1251', sep=';')\n",
    "\n",
    "df_users_control_2 = pd.read_csv(users_control_2_url, encoding='Windows-1251', sep=';')\n",
    "\n",
    "df_transactions_test = pd.read_csv(transactions_test_url, encoding='Windows-1251', sep=';', parse_dates=['joined_at','paid_at'])\n",
    "\n",
    "df_transactions_control_1 = pd.read_csv(transactions_control_1_url, encoding='Windows-1251', sep=';', parse_dates=['joined_at','paid_at'])\n",
    "\n",
    "df_transactions_control_2 = pd.read_csv(transactions_control_2_url, encoding='Windows-1251', sep=';', parse_dates=['joined_at','paid_at'])"
   ]
  },
  {
   "cell_type": "markdown",
   "metadata": {},
   "source": [
    "<h3>Описание данных</h3>\n",
    "\n",
    "Всего есть три группы: тестовая (test), контрольная 1 (control_1) и контрольная 2 (control_2). Для каждой из них:\n",
    "\n",
    "<b>users_*.csv – информация о пользователях:</b>\n",
    "\n",
    "    uid – идентификатор пользователя\n",
    "    age – возраст\n",
    "    attraction_coeff – коэффициент привлекательности (от 0 до 1000, \\frac{лайки}{просмотры}*1000просмотрылайки​∗1000)\n",
    "    coins – число монеток (внутренняя валюта)\n",
    "    country – страна  \n",
    "    visit_days – в какие дни после регистрации пользователь посещал приложение (напр. в 1, затем в 7)\n",
    "    gender – пол\n",
    "    age_filter_start  – фильтр поиска, мин. значение \n",
    "    age_filter_end  – фильтр поиска, макс. значение \n",
    "    views_count – число полученных оценок \n",
    "    was_premium – был ли когда-либо премиум (либо пробный период премиум-статуса, либо купленный за деньги)\n",
    "    is_premium –  является ли премиум\n",
    "    total_revenue – нормированная выручка\n",
    "     \n",
    "\n",
    "<b>transactions_*.csv – информация о платежах пользователей:</b>\n",
    "\n",
    "    uid – идентификатор пользователя\n",
    "    country – страна\n",
    "    joined_at – дата и время регистрации\n",
    "    paid_at – дата и время покупки\n",
    "    revenue – нормированная выручка\n",
    "    payment_id – идентификатор платежа\n",
    "    from_page – откуда пользователь перешел на страницу оплаты\n",
    "    product_type – тип продукта (trial_premium – пробная премиум-подписка, premium_no_trial – премиум-подписка без пробной, coins – подписка за внутреннюю валюту, other_type – другое)"
   ]
  },
  {
   "cell_type": "markdown",
   "metadata": {},
   "source": [
    "сделаем мердж дата фреймов, создадим нужные в дальнейшем колонки. я делал мердж и доработки фреймов в процссе выполнения, сделаем предобработку, изменение типов данных, решил собрать их в одном месте."
   ]
  },
  {
   "cell_type": "code",
   "execution_count": 16,
   "metadata": {
    "scrolled": true
   },
   "outputs": [],
   "source": [
    "# выделим группы так как это 0-17, 18-25(0-50%), 25-38(50-75%), 38-(75%-) \n",
    "df_users_control_1['age_group_my'] = pd.cut(df_users_control_1['age']\n",
    "                                            ,bins=[0,17,25,38,100] , labels=['0-17','17-25','25-38','38-']\n",
    "                                            )"
   ]
  },
  {
   "cell_type": "code",
   "execution_count": 17,
   "metadata": {},
   "outputs": [],
   "source": [
    "# выделим группы так как это 0-17, 18-25(0-50%), 25-38(50-75%), 38-(75%-) для воторой контрольной группы\n",
    "# это нам понадобится в дальнейшем\n",
    "df_users_control_2['age_group_my'] = pd.cut(df_users_control_2['age']\n",
    "                                            ,bins = [0,17,25,38,100] , labels=['0-17','17-25','25-38','38-']\n",
    "                                            )"
   ]
  },
  {
   "cell_type": "code",
   "execution_count": 18,
   "metadata": {},
   "outputs": [],
   "source": [
    "# выделим группы так как это 0-17, 18-25(0-50%), 25-38(50-75%), 38-(75%-) \n",
    "df_users_test['age_group_my'] = pd.cut(df_users_test['age']\n",
    "                                       ,bins = [0,17,25,38,100] , labels=['0-17','17-25','25-38','38-']\n",
    "                                       )"
   ]
  },
  {
   "cell_type": "code",
   "execution_count": 19,
   "metadata": {},
   "outputs": [
    {
     "data": {
      "text/plain": [
       "count     3016\n",
       "unique     880\n",
       "top          1\n",
       "freq       592\n",
       "Name: visit_days, dtype: object"
      ]
     },
     "execution_count": 19,
     "metadata": {},
     "output_type": "execute_result"
    }
   ],
   "source": [
    "df_users_control_1.visit_days.describe()"
   ]
  },
  {
   "cell_type": "code",
   "execution_count": 20,
   "metadata": {},
   "outputs": [],
   "source": [
    "# сразу заменим пустые значения на 0\n",
    "df_users_test.visit_days = df_users_test.visit_days.fillna('0')"
   ]
  },
  {
   "cell_type": "code",
   "execution_count": 21,
   "metadata": {},
   "outputs": [],
   "source": [
    "# сразу заменим пустые значения на 0\n",
    "df_users_control_1.visit_days = df_users_control_1.visit_days.fillna('0')"
   ]
  },
  {
   "cell_type": "code",
   "execution_count": 22,
   "metadata": {},
   "outputs": [],
   "source": [
    "# сразу заменим пустые значения на 0\n",
    "df_users_control_2.visit_days = df_users_control_2.visit_days.fillna('0')"
   ]
  },
  {
   "cell_type": "code",
   "execution_count": 23,
   "metadata": {},
   "outputs": [],
   "source": [
    "# применим функцию к таблице, поменяем тип данных колонки и выведем результат.\n",
    "df_users_control_2.visit_days = df_users_control_2.visit_days.apply(visit_count)\n",
    "df_users_control_2['visit_days'] = df_users_control_2['visit_days'].astype(\"int\")"
   ]
  },
  {
   "cell_type": "code",
   "execution_count": 24,
   "metadata": {
    "scrolled": false
   },
   "outputs": [
    {
     "data": {
      "text/html": [
       "<div>\n",
       "<style scoped>\n",
       "    .dataframe tbody tr th:only-of-type {\n",
       "        vertical-align: middle;\n",
       "    }\n",
       "\n",
       "    .dataframe tbody tr th {\n",
       "        vertical-align: top;\n",
       "    }\n",
       "\n",
       "    .dataframe thead th {\n",
       "        text-align: right;\n",
       "    }\n",
       "</style>\n",
       "<table border=\"1\" class=\"dataframe\">\n",
       "  <thead>\n",
       "    <tr style=\"text-align: right;\">\n",
       "      <th></th>\n",
       "      <th>uid</th>\n",
       "      <th>age</th>\n",
       "      <th>attraction_coeff</th>\n",
       "      <th>coins</th>\n",
       "      <th>country</th>\n",
       "      <th>visit_days</th>\n",
       "      <th>gender</th>\n",
       "      <th>age_filter_start</th>\n",
       "      <th>age_filter_end</th>\n",
       "      <th>views_count</th>\n",
       "      <th>was_premium</th>\n",
       "      <th>is_premium</th>\n",
       "      <th>total_revenue</th>\n",
       "      <th>age_group_my</th>\n",
       "    </tr>\n",
       "  </thead>\n",
       "  <tbody>\n",
       "    <tr>\n",
       "      <th>0</th>\n",
       "      <td>892319115</td>\n",
       "      <td>25</td>\n",
       "      <td>435</td>\n",
       "      <td>NaN</td>\n",
       "      <td>United States of America</td>\n",
       "      <td>6</td>\n",
       "      <td>0</td>\n",
       "      <td>22</td>\n",
       "      <td>32</td>\n",
       "      <td>982</td>\n",
       "      <td>NaN</td>\n",
       "      <td>NaN</td>\n",
       "      <td>0</td>\n",
       "      <td>17-25</td>\n",
       "    </tr>\n",
       "    <tr>\n",
       "      <th>1</th>\n",
       "      <td>891248523</td>\n",
       "      <td>29</td>\n",
       "      <td>500</td>\n",
       "      <td>NaN</td>\n",
       "      <td>United States of America</td>\n",
       "      <td>2</td>\n",
       "      <td>1</td>\n",
       "      <td>26</td>\n",
       "      <td>32</td>\n",
       "      <td>12</td>\n",
       "      <td>NaN</td>\n",
       "      <td>NaN</td>\n",
       "      <td>0</td>\n",
       "      <td>25-38</td>\n",
       "    </tr>\n",
       "    <tr>\n",
       "      <th>2</th>\n",
       "      <td>891670932</td>\n",
       "      <td>33</td>\n",
       "      <td>800</td>\n",
       "      <td>NaN</td>\n",
       "      <td>France</td>\n",
       "      <td>10</td>\n",
       "      <td>1</td>\n",
       "      <td>30</td>\n",
       "      <td>36</td>\n",
       "      <td>5</td>\n",
       "      <td>NaN</td>\n",
       "      <td>NaN</td>\n",
       "      <td>0</td>\n",
       "      <td>25-38</td>\n",
       "    </tr>\n",
       "    <tr>\n",
       "      <th>3</th>\n",
       "      <td>891060786</td>\n",
       "      <td>26</td>\n",
       "      <td>0</td>\n",
       "      <td>NaN</td>\n",
       "      <td>Argentina</td>\n",
       "      <td>5</td>\n",
       "      <td>1</td>\n",
       "      <td>23</td>\n",
       "      <td>29</td>\n",
       "      <td>0</td>\n",
       "      <td>NaN</td>\n",
       "      <td>NaN</td>\n",
       "      <td>0</td>\n",
       "      <td>25-38</td>\n",
       "    </tr>\n",
       "    <tr>\n",
       "      <th>4</th>\n",
       "      <td>892006554</td>\n",
       "      <td>35</td>\n",
       "      <td>294</td>\n",
       "      <td>NaN</td>\n",
       "      <td>United States of America</td>\n",
       "      <td>14</td>\n",
       "      <td>1</td>\n",
       "      <td>30</td>\n",
       "      <td>40</td>\n",
       "      <td>17</td>\n",
       "      <td>NaN</td>\n",
       "      <td>NaN</td>\n",
       "      <td>0</td>\n",
       "      <td>25-38</td>\n",
       "    </tr>\n",
       "  </tbody>\n",
       "</table>\n",
       "</div>"
      ],
      "text/plain": [
       "         uid  age  attraction_coeff  coins                   country  \\\n",
       "0  892319115   25               435    NaN  United States of America   \n",
       "1  891248523   29               500    NaN  United States of America   \n",
       "2  891670932   33               800    NaN                    France   \n",
       "3  891060786   26                 0    NaN                 Argentina   \n",
       "4  892006554   35               294    NaN  United States of America   \n",
       "\n",
       "   visit_days  gender  age_filter_start  age_filter_end  views_count  \\\n",
       "0           6       0                22              32          982   \n",
       "1           2       1                26              32           12   \n",
       "2          10       1                30              36            5   \n",
       "3           5       1                23              29            0   \n",
       "4          14       1                30              40           17   \n",
       "\n",
       "   was_premium  is_premium  total_revenue age_group_my  \n",
       "0          NaN         NaN              0        17-25  \n",
       "1          NaN         NaN              0        25-38  \n",
       "2          NaN         NaN              0        25-38  \n",
       "3          NaN         NaN              0        25-38  \n",
       "4          NaN         NaN              0        25-38  "
      ]
     },
     "execution_count": 24,
     "metadata": {},
     "output_type": "execute_result"
    }
   ],
   "source": [
    "# применим функцию к таблице, поменяем тип данных колонки и выведем результат.\n",
    "df_users_control_1.visit_days = df_users_control_1.visit_days.apply(visit_count)\n",
    "df_users_control_1['visit_days'] = df_users_control_1['visit_days'].astype(\"int\")\n",
    "df_users_control_1.head()"
   ]
  },
  {
   "cell_type": "code",
   "execution_count": 25,
   "metadata": {
    "scrolled": true
   },
   "outputs": [
    {
     "data": {
      "text/html": [
       "<div>\n",
       "<style scoped>\n",
       "    .dataframe tbody tr th:only-of-type {\n",
       "        vertical-align: middle;\n",
       "    }\n",
       "\n",
       "    .dataframe tbody tr th {\n",
       "        vertical-align: top;\n",
       "    }\n",
       "\n",
       "    .dataframe thead th {\n",
       "        text-align: right;\n",
       "    }\n",
       "</style>\n",
       "<table border=\"1\" class=\"dataframe\">\n",
       "  <thead>\n",
       "    <tr style=\"text-align: right;\">\n",
       "      <th></th>\n",
       "      <th>uid</th>\n",
       "      <th>age</th>\n",
       "      <th>attraction_coeff</th>\n",
       "      <th>coins</th>\n",
       "      <th>country</th>\n",
       "      <th>visit_days</th>\n",
       "      <th>gender</th>\n",
       "      <th>age_filter_start</th>\n",
       "      <th>age_filter_end</th>\n",
       "      <th>views_count</th>\n",
       "      <th>was_premium</th>\n",
       "      <th>is_premium</th>\n",
       "      <th>total_revenue</th>\n",
       "      <th>age_group_my</th>\n",
       "    </tr>\n",
       "  </thead>\n",
       "  <tbody>\n",
       "    <tr>\n",
       "      <th>0</th>\n",
       "      <td>892309896</td>\n",
       "      <td>27</td>\n",
       "      <td>685</td>\n",
       "      <td>NaN</td>\n",
       "      <td>United States of America</td>\n",
       "      <td>14</td>\n",
       "      <td>1</td>\n",
       "      <td>24</td>\n",
       "      <td>30</td>\n",
       "      <td>89</td>\n",
       "      <td>NaN</td>\n",
       "      <td>NaN</td>\n",
       "      <td>0</td>\n",
       "      <td>25-38</td>\n",
       "    </tr>\n",
       "    <tr>\n",
       "      <th>1</th>\n",
       "      <td>892044516</td>\n",
       "      <td>27</td>\n",
       "      <td>0</td>\n",
       "      <td>NaN</td>\n",
       "      <td>Germany</td>\n",
       "      <td>0</td>\n",
       "      <td>1</td>\n",
       "      <td>24</td>\n",
       "      <td>30</td>\n",
       "      <td>0</td>\n",
       "      <td>NaN</td>\n",
       "      <td>NaN</td>\n",
       "      <td>0</td>\n",
       "      <td>25-38</td>\n",
       "    </tr>\n",
       "    <tr>\n",
       "      <th>2</th>\n",
       "      <td>892185708</td>\n",
       "      <td>45</td>\n",
       "      <td>44</td>\n",
       "      <td>NaN</td>\n",
       "      <td>Israel</td>\n",
       "      <td>20</td>\n",
       "      <td>1</td>\n",
       "      <td>42</td>\n",
       "      <td>48</td>\n",
       "      <td>68</td>\n",
       "      <td>NaN</td>\n",
       "      <td>NaN</td>\n",
       "      <td>0</td>\n",
       "      <td>38-</td>\n",
       "    </tr>\n",
       "    <tr>\n",
       "      <th>3</th>\n",
       "      <td>892130292</td>\n",
       "      <td>32</td>\n",
       "      <td>0</td>\n",
       "      <td>NaN</td>\n",
       "      <td>United States of America</td>\n",
       "      <td>12</td>\n",
       "      <td>1</td>\n",
       "      <td>29</td>\n",
       "      <td>35</td>\n",
       "      <td>0</td>\n",
       "      <td>NaN</td>\n",
       "      <td>NaN</td>\n",
       "      <td>0</td>\n",
       "      <td>25-38</td>\n",
       "    </tr>\n",
       "    <tr>\n",
       "      <th>4</th>\n",
       "      <td>891406035</td>\n",
       "      <td>27</td>\n",
       "      <td>1000</td>\n",
       "      <td>NaN</td>\n",
       "      <td>France</td>\n",
       "      <td>0</td>\n",
       "      <td>1</td>\n",
       "      <td>24</td>\n",
       "      <td>30</td>\n",
       "      <td>1</td>\n",
       "      <td>1.0</td>\n",
       "      <td>NaN</td>\n",
       "      <td>0</td>\n",
       "      <td>25-38</td>\n",
       "    </tr>\n",
       "  </tbody>\n",
       "</table>\n",
       "</div>"
      ],
      "text/plain": [
       "         uid  age  attraction_coeff  coins                   country  \\\n",
       "0  892309896   27               685    NaN  United States of America   \n",
       "1  892044516   27                 0    NaN                   Germany   \n",
       "2  892185708   45                44    NaN                    Israel   \n",
       "3  892130292   32                 0    NaN  United States of America   \n",
       "4  891406035   27              1000    NaN                    France   \n",
       "\n",
       "   visit_days  gender  age_filter_start  age_filter_end  views_count  \\\n",
       "0          14       1                24              30           89   \n",
       "1           0       1                24              30            0   \n",
       "2          20       1                42              48           68   \n",
       "3          12       1                29              35            0   \n",
       "4           0       1                24              30            1   \n",
       "\n",
       "   was_premium  is_premium  total_revenue age_group_my  \n",
       "0          NaN         NaN              0        25-38  \n",
       "1          NaN         NaN              0        25-38  \n",
       "2          NaN         NaN              0          38-  \n",
       "3          NaN         NaN              0        25-38  \n",
       "4          1.0         NaN              0        25-38  "
      ]
     },
     "execution_count": 25,
     "metadata": {},
     "output_type": "execute_result"
    }
   ],
   "source": [
    "# применим функцию к таблице, поменяем тип данных колонки и выведем результат.\n",
    "df_users_test.visit_days = df_users_test.visit_days.apply(visit_count)\n",
    "df_users_test['visit_days'] = df_users_test['visit_days'].astype(\"int\")\n",
    "df_users_test.head()"
   ]
  },
  {
   "cell_type": "code",
   "execution_count": 26,
   "metadata": {},
   "outputs": [],
   "source": [
    "# выделим группы 0, 0-2(0-50%), 2-7(25-75%), 7-(75% и выше) \n",
    "df_users_control_1['visit_days_group'] = pd.cut(df_users_control_1['visit_days']\n",
    "                                                ,bins=[-1,0,2,7,32] , labels=['0','0-2','2-7','7-']\n",
    "                                               )"
   ]
  },
  {
   "cell_type": "code",
   "execution_count": 27,
   "metadata": {
    "scrolled": true
   },
   "outputs": [
    {
     "data": {
      "text/plain": [
       "count    4340.000000\n",
       "mean       44.467512\n",
       "std       204.800272\n",
       "min         0.000000\n",
       "25%         1.000000\n",
       "50%         6.000000\n",
       "75%        21.000000\n",
       "max      4953.000000\n",
       "Name: views_count, dtype: float64"
      ]
     },
     "execution_count": 27,
     "metadata": {},
     "output_type": "execute_result"
    }
   ],
   "source": [
    "df_users_control_1.views_count.describe()"
   ]
  },
  {
   "cell_type": "code",
   "execution_count": 28,
   "metadata": {},
   "outputs": [],
   "source": [
    "# выделим группы 0-1(0-25%), 1-6(25-50%), 6-21(50-75%), 21-(75%-) \n",
    "df_users_control_1['views_count_group'] = pd.cut(df_users_control_1['views_count']\n",
    "                                                 ,bins=[-1,1,6,21,5000] \n",
    "                                                 ,labels=['0-1','1-6','6-21','21-']\n",
    "                                                )"
   ]
  },
  {
   "cell_type": "code",
   "execution_count": 29,
   "metadata": {},
   "outputs": [],
   "source": [
    "# выделим группы 0, 0-238(0-50%), 1-518(50-75%), 518-1000(75%-) \n",
    "df_users_control_1['attraction_coeff_group'] = pd.cut(df_users_control_1['attraction_coeff']\n",
    "                                                      ,bins=[-1,0,238,518,1001] \n",
    "                                                      ,labels=['0','0-238','238-518','518-']\n",
    "                                                     )"
   ]
  },
  {
   "cell_type": "code",
   "execution_count": 30,
   "metadata": {},
   "outputs": [
    {
     "name": "stdout",
     "output_type": "stream",
     "text": [
      "df_transactions_test      от 2017-01-11 04:37:00 по 2017-12-11 22:06:00\n",
      "df_transactions_control_1 от 2016-12-14 16:16:00 по 2017-12-11 21:57:00\n",
      "df_transactions_control_2 от 2017-01-11 05:34:00 по 2017-12-11 23:28:00\n"
     ]
    },
    {
     "name": "stderr",
     "output_type": "stream",
     "text": [
      "/opt/tljh/user/lib/python3.7/site-packages/ipykernel_launcher.py:3: FutureWarning: Treating datetime data as categorical rather than numeric in `.describe` is deprecated and will be removed in a future version of pandas. Specify `datetime_is_numeric=True` to silence this warning and adopt the future behavior now.\n",
      "  This is separate from the ipykernel package so we can avoid doing imports until\n",
      "/opt/tljh/user/lib/python3.7/site-packages/ipykernel_launcher.py:3: FutureWarning: Treating datetime data as categorical rather than numeric in `.describe` is deprecated and will be removed in a future version of pandas. Specify `datetime_is_numeric=True` to silence this warning and adopt the future behavior now.\n",
      "  This is separate from the ipykernel package so we can avoid doing imports until\n",
      "/opt/tljh/user/lib/python3.7/site-packages/ipykernel_launcher.py:6: FutureWarning: Treating datetime data as categorical rather than numeric in `.describe` is deprecated and will be removed in a future version of pandas. Specify `datetime_is_numeric=True` to silence this warning and adopt the future behavior now.\n",
      "  \n",
      "/opt/tljh/user/lib/python3.7/site-packages/ipykernel_launcher.py:6: FutureWarning: Treating datetime data as categorical rather than numeric in `.describe` is deprecated and will be removed in a future version of pandas. Specify `datetime_is_numeric=True` to silence this warning and adopt the future behavior now.\n",
      "  \n",
      "/opt/tljh/user/lib/python3.7/site-packages/ipykernel_launcher.py:9: FutureWarning: Treating datetime data as categorical rather than numeric in `.describe` is deprecated and will be removed in a future version of pandas. Specify `datetime_is_numeric=True` to silence this warning and adopt the future behavior now.\n",
      "  if __name__ == '__main__':\n",
      "/opt/tljh/user/lib/python3.7/site-packages/ipykernel_launcher.py:9: FutureWarning: Treating datetime data as categorical rather than numeric in `.describe` is deprecated and will be removed in a future version of pandas. Specify `datetime_is_numeric=True` to silence this warning and adopt the future behavior now.\n",
      "  if __name__ == '__main__':\n"
     ]
    }
   ],
   "source": [
    "# выведем даты друг под другом, для удобства\n",
    "print('df_transactions_test      от ' + str(df_transactions_test.paid_at.describe()['first']) \n",
    "      + ' по ' + str(df_transactions_test.paid_at.describe()['last'])\n",
    "     )\n",
    "print('df_transactions_control_1 от ' + str(df_transactions_control_1.paid_at.describe()['first']) \n",
    "      + ' по ' + str(df_transactions_control_1.paid_at.describe()['last'])\n",
    "     )\n",
    "print('df_transactions_control_2 от ' + str(df_transactions_control_2.paid_at.describe()['first']) \n",
    "      + ' по ' + str(df_transactions_control_2.paid_at.describe()['last'])\n",
    "     )"
   ]
  },
  {
   "cell_type": "markdown",
   "metadata": {},
   "source": [
    "В дата сете df_transactions_control_1 даты транзакций начинаются от 2016-12-14, думаю стоит исключить транзакции до 2017-01-11. Что бы время проведения эксперимента во всех группах совпадало. Посмотрим на эти транзакции."
   ]
  },
  {
   "cell_type": "code",
   "execution_count": 31,
   "metadata": {},
   "outputs": [
    {
     "data": {
      "text/html": [
       "<div>\n",
       "<style scoped>\n",
       "    .dataframe tbody tr th:only-of-type {\n",
       "        vertical-align: middle;\n",
       "    }\n",
       "\n",
       "    .dataframe tbody tr th {\n",
       "        vertical-align: top;\n",
       "    }\n",
       "\n",
       "    .dataframe thead th {\n",
       "        text-align: right;\n",
       "    }\n",
       "</style>\n",
       "<table border=\"1\" class=\"dataframe\">\n",
       "  <thead>\n",
       "    <tr style=\"text-align: right;\">\n",
       "      <th></th>\n",
       "      <th>uid</th>\n",
       "      <th>country</th>\n",
       "      <th>joined_at</th>\n",
       "      <th>paid_at</th>\n",
       "      <th>revenue</th>\n",
       "      <th>payment_id</th>\n",
       "      <th>from_page</th>\n",
       "      <th>product_type</th>\n",
       "    </tr>\n",
       "  </thead>\n",
       "  <tbody>\n",
       "    <tr>\n",
       "      <th>65</th>\n",
       "      <td>960936960.0</td>\n",
       "      <td>Russian Federation</td>\n",
       "      <td>2015-01-19 11:49:00</td>\n",
       "      <td>2016-12-14 17:30:00</td>\n",
       "      <td>26.0</td>\n",
       "      <td>0.0</td>\n",
       "      <td>refund_VP</td>\n",
       "      <td>other_type</td>\n",
       "    </tr>\n",
       "    <tr>\n",
       "      <th>101</th>\n",
       "      <td>960936960.0</td>\n",
       "      <td>Russian Federation</td>\n",
       "      <td>2015-01-19 11:49:00</td>\n",
       "      <td>2016-12-14 17:35:00</td>\n",
       "      <td>637.0</td>\n",
       "      <td>0.0</td>\n",
       "      <td>refung_AP</td>\n",
       "      <td>other_type</td>\n",
       "    </tr>\n",
       "    <tr>\n",
       "      <th>224</th>\n",
       "      <td>960936960.0</td>\n",
       "      <td>Russian Federation</td>\n",
       "      <td>2015-01-19 11:49:00</td>\n",
       "      <td>2016-12-14 16:16:00</td>\n",
       "      <td>143.0</td>\n",
       "      <td>0.0</td>\n",
       "      <td>refund_WP</td>\n",
       "      <td>other_type</td>\n",
       "    </tr>\n",
       "  </tbody>\n",
       "</table>\n",
       "</div>"
      ],
      "text/plain": [
       "             uid             country           joined_at             paid_at  \\\n",
       "65   960936960.0  Russian Federation 2015-01-19 11:49:00 2016-12-14 17:30:00   \n",
       "101  960936960.0  Russian Federation 2015-01-19 11:49:00 2016-12-14 17:35:00   \n",
       "224  960936960.0  Russian Federation 2015-01-19 11:49:00 2016-12-14 16:16:00   \n",
       "\n",
       "     revenue  payment_id  from_page product_type  \n",
       "65      26.0         0.0  refund_VP   other_type  \n",
       "101    637.0         0.0  refung_AP   other_type  \n",
       "224    143.0         0.0  refund_WP   other_type  "
      ]
     },
     "execution_count": 31,
     "metadata": {},
     "output_type": "execute_result"
    }
   ],
   "source": [
    "df_transactions_control_1[df_transactions_control_1.paid_at < '2017-01-11']"
   ]
  },
  {
   "cell_type": "markdown",
   "metadata": {},
   "source": [
    "Исключим данные транзакций мы не будем. Их всего 3, тип покупки other_type. Думаю, что решение этого вопроса не повлияет на результат исследования."
   ]
  },
  {
   "cell_type": "code",
   "execution_count": 32,
   "metadata": {},
   "outputs": [],
   "source": [
    "# проведем join дата сетов.\n",
    "df_cont_2_join = df_users_control_2.merge(df_transactions_control_2, on='uid', how='left')\n",
    "df_cont_1_join = df_users_control_1.merge(df_transactions_control_1, on='uid', how='left')\n",
    "df_test_join = df_users_test.merge(df_transactions_test, on='uid', how='left')"
   ]
  },
  {
   "cell_type": "code",
   "execution_count": 33,
   "metadata": {},
   "outputs": [
    {
     "data": {
      "text/plain": [
       "(328, 8)"
      ]
     },
     "execution_count": 33,
     "metadata": {},
     "output_type": "execute_result"
    }
   ],
   "source": [
    "# проверяем количество записей в таблице df_transactions_control_2\n",
    "df_transactions_control_2.shape"
   ]
  },
  {
   "cell_type": "code",
   "execution_count": 34,
   "metadata": {},
   "outputs": [
    {
     "data": {
      "text/html": [
       "<div>\n",
       "<style scoped>\n",
       "    .dataframe tbody tr th:only-of-type {\n",
       "        vertical-align: middle;\n",
       "    }\n",
       "\n",
       "    .dataframe tbody tr th {\n",
       "        vertical-align: top;\n",
       "    }\n",
       "\n",
       "    .dataframe thead th {\n",
       "        text-align: right;\n",
       "    }\n",
       "</style>\n",
       "<table border=\"1\" class=\"dataframe\">\n",
       "  <thead>\n",
       "    <tr style=\"text-align: right;\">\n",
       "      <th></th>\n",
       "      <th>joined_at</th>\n",
       "    </tr>\n",
       "  </thead>\n",
       "  <tbody>\n",
       "    <tr>\n",
       "      <th>True</th>\n",
       "      <td>4077</td>\n",
       "    </tr>\n",
       "    <tr>\n",
       "      <th>False</th>\n",
       "      <td>328</td>\n",
       "    </tr>\n",
       "  </tbody>\n",
       "</table>\n",
       "</div>"
      ],
      "text/plain": [
       "       joined_at\n",
       "True        4077\n",
       "False        328"
      ]
     },
     "execution_count": 34,
     "metadata": {},
     "output_type": "execute_result"
    }
   ],
   "source": [
    "# убеждаемся, что мы ни чего не потяряли при джойне\n",
    "df_cont_2_join.joined_at.isnull().value_counts().to_frame()"
   ]
  },
  {
   "cell_type": "markdown",
   "metadata": {},
   "source": [
    "Создам две новых категориальных переменных buy_premium & buy_other. Что бы можно было проверить конверсию в покупку премиум аккаунта и в остальные траты, общую для всего дата фрейма. Потом можно будет сравнить данные для разных групп."
   ]
  },
  {
   "cell_type": "code",
   "execution_count": 35,
   "metadata": {},
   "outputs": [],
   "source": [
    "#применим функцию к дата фреймам\n",
    "df_cont_1_join = buy_columns(df_cont_1_join)\n",
    "df_cont_2_join = buy_columns(df_cont_2_join)\n",
    "df_test_join = buy_columns(df_test_join)"
   ]
  },
  {
   "cell_type": "markdown",
   "metadata": {},
   "source": [
    "### Для начала, изучим каждую таблицу по отдельности."
   ]
  },
  {
   "cell_type": "markdown",
   "metadata": {},
   "source": [
    "#### 1. df_users_test"
   ]
  },
  {
   "cell_type": "code",
   "execution_count": 36,
   "metadata": {
    "scrolled": false
   },
   "outputs": [
    {
     "data": {
      "text/html": [
       "<div>\n",
       "<style scoped>\n",
       "    .dataframe tbody tr th:only-of-type {\n",
       "        vertical-align: middle;\n",
       "    }\n",
       "\n",
       "    .dataframe tbody tr th {\n",
       "        vertical-align: top;\n",
       "    }\n",
       "\n",
       "    .dataframe thead th {\n",
       "        text-align: right;\n",
       "    }\n",
       "</style>\n",
       "<table border=\"1\" class=\"dataframe\">\n",
       "  <thead>\n",
       "    <tr style=\"text-align: right;\">\n",
       "      <th></th>\n",
       "      <th>uid</th>\n",
       "      <th>age</th>\n",
       "      <th>attraction_coeff</th>\n",
       "      <th>coins</th>\n",
       "      <th>country</th>\n",
       "      <th>visit_days</th>\n",
       "      <th>gender</th>\n",
       "      <th>age_filter_start</th>\n",
       "      <th>age_filter_end</th>\n",
       "      <th>views_count</th>\n",
       "      <th>was_premium</th>\n",
       "      <th>is_premium</th>\n",
       "      <th>total_revenue</th>\n",
       "      <th>age_group_my</th>\n",
       "    </tr>\n",
       "  </thead>\n",
       "  <tbody>\n",
       "    <tr>\n",
       "      <th>0</th>\n",
       "      <td>892309896</td>\n",
       "      <td>27</td>\n",
       "      <td>685</td>\n",
       "      <td>NaN</td>\n",
       "      <td>United States of America</td>\n",
       "      <td>14</td>\n",
       "      <td>1</td>\n",
       "      <td>24</td>\n",
       "      <td>30</td>\n",
       "      <td>89</td>\n",
       "      <td>NaN</td>\n",
       "      <td>NaN</td>\n",
       "      <td>0</td>\n",
       "      <td>25-38</td>\n",
       "    </tr>\n",
       "    <tr>\n",
       "      <th>1</th>\n",
       "      <td>892044516</td>\n",
       "      <td>27</td>\n",
       "      <td>0</td>\n",
       "      <td>NaN</td>\n",
       "      <td>Germany</td>\n",
       "      <td>0</td>\n",
       "      <td>1</td>\n",
       "      <td>24</td>\n",
       "      <td>30</td>\n",
       "      <td>0</td>\n",
       "      <td>NaN</td>\n",
       "      <td>NaN</td>\n",
       "      <td>0</td>\n",
       "      <td>25-38</td>\n",
       "    </tr>\n",
       "    <tr>\n",
       "      <th>2</th>\n",
       "      <td>892185708</td>\n",
       "      <td>45</td>\n",
       "      <td>44</td>\n",
       "      <td>NaN</td>\n",
       "      <td>Israel</td>\n",
       "      <td>20</td>\n",
       "      <td>1</td>\n",
       "      <td>42</td>\n",
       "      <td>48</td>\n",
       "      <td>68</td>\n",
       "      <td>NaN</td>\n",
       "      <td>NaN</td>\n",
       "      <td>0</td>\n",
       "      <td>38-</td>\n",
       "    </tr>\n",
       "    <tr>\n",
       "      <th>3</th>\n",
       "      <td>892130292</td>\n",
       "      <td>32</td>\n",
       "      <td>0</td>\n",
       "      <td>NaN</td>\n",
       "      <td>United States of America</td>\n",
       "      <td>12</td>\n",
       "      <td>1</td>\n",
       "      <td>29</td>\n",
       "      <td>35</td>\n",
       "      <td>0</td>\n",
       "      <td>NaN</td>\n",
       "      <td>NaN</td>\n",
       "      <td>0</td>\n",
       "      <td>25-38</td>\n",
       "    </tr>\n",
       "    <tr>\n",
       "      <th>4</th>\n",
       "      <td>891406035</td>\n",
       "      <td>27</td>\n",
       "      <td>1000</td>\n",
       "      <td>NaN</td>\n",
       "      <td>France</td>\n",
       "      <td>0</td>\n",
       "      <td>1</td>\n",
       "      <td>24</td>\n",
       "      <td>30</td>\n",
       "      <td>1</td>\n",
       "      <td>1.0</td>\n",
       "      <td>NaN</td>\n",
       "      <td>0</td>\n",
       "      <td>25-38</td>\n",
       "    </tr>\n",
       "  </tbody>\n",
       "</table>\n",
       "</div>"
      ],
      "text/plain": [
       "         uid  age  attraction_coeff  coins                   country  \\\n",
       "0  892309896   27               685    NaN  United States of America   \n",
       "1  892044516   27                 0    NaN                   Germany   \n",
       "2  892185708   45                44    NaN                    Israel   \n",
       "3  892130292   32                 0    NaN  United States of America   \n",
       "4  891406035   27              1000    NaN                    France   \n",
       "\n",
       "   visit_days  gender  age_filter_start  age_filter_end  views_count  \\\n",
       "0          14       1                24              30           89   \n",
       "1           0       1                24              30            0   \n",
       "2          20       1                42              48           68   \n",
       "3          12       1                29              35            0   \n",
       "4           0       1                24              30            1   \n",
       "\n",
       "   was_premium  is_premium  total_revenue age_group_my  \n",
       "0          NaN         NaN              0        25-38  \n",
       "1          NaN         NaN              0        25-38  \n",
       "2          NaN         NaN              0          38-  \n",
       "3          NaN         NaN              0        25-38  \n",
       "4          1.0         NaN              0        25-38  "
      ]
     },
     "execution_count": 36,
     "metadata": {},
     "output_type": "execute_result"
    }
   ],
   "source": [
    "df_users_test.head()"
   ]
  },
  {
   "cell_type": "code",
   "execution_count": 37,
   "metadata": {
    "scrolled": true
   },
   "outputs": [
    {
     "data": {
      "text/plain": [
       "(4308, 14)"
      ]
     },
     "execution_count": 37,
     "metadata": {},
     "output_type": "execute_result"
    }
   ],
   "source": [
    "# проверим общее количество строк\n",
    "df_users_test.shape"
   ]
  },
  {
   "cell_type": "code",
   "execution_count": 38,
   "metadata": {
    "scrolled": true
   },
   "outputs": [
    {
     "data": {
      "text/html": [
       "<div>\n",
       "<style scoped>\n",
       "    .dataframe tbody tr th:only-of-type {\n",
       "        vertical-align: middle;\n",
       "    }\n",
       "\n",
       "    .dataframe tbody tr th {\n",
       "        vertical-align: top;\n",
       "    }\n",
       "\n",
       "    .dataframe thead th {\n",
       "        text-align: right;\n",
       "    }\n",
       "</style>\n",
       "<table border=\"1\" class=\"dataframe\">\n",
       "  <thead>\n",
       "    <tr style=\"text-align: right;\">\n",
       "      <th></th>\n",
       "      <th></th>\n",
       "      <th></th>\n",
       "      <th></th>\n",
       "      <th></th>\n",
       "      <th></th>\n",
       "      <th></th>\n",
       "      <th></th>\n",
       "      <th></th>\n",
       "      <th></th>\n",
       "      <th></th>\n",
       "      <th></th>\n",
       "      <th></th>\n",
       "      <th></th>\n",
       "      <th>0</th>\n",
       "    </tr>\n",
       "    <tr>\n",
       "      <th>uid</th>\n",
       "      <th>age</th>\n",
       "      <th>attraction_coeff</th>\n",
       "      <th>coins</th>\n",
       "      <th>country</th>\n",
       "      <th>visit_days</th>\n",
       "      <th>gender</th>\n",
       "      <th>age_filter_start</th>\n",
       "      <th>age_filter_end</th>\n",
       "      <th>views_count</th>\n",
       "      <th>was_premium</th>\n",
       "      <th>is_premium</th>\n",
       "      <th>total_revenue</th>\n",
       "      <th>age_group_my</th>\n",
       "      <th></th>\n",
       "    </tr>\n",
       "  </thead>\n",
       "  <tbody>\n",
       "    <tr>\n",
       "      <th rowspan=\"6\" valign=\"top\">False</th>\n",
       "      <th rowspan=\"6\" valign=\"top\">False</th>\n",
       "      <th rowspan=\"6\" valign=\"top\">False</th>\n",
       "      <th rowspan=\"3\" valign=\"top\">True</th>\n",
       "      <th rowspan=\"3\" valign=\"top\">False</th>\n",
       "      <th rowspan=\"3\" valign=\"top\">False</th>\n",
       "      <th rowspan=\"3\" valign=\"top\">False</th>\n",
       "      <th rowspan=\"3\" valign=\"top\">False</th>\n",
       "      <th rowspan=\"3\" valign=\"top\">False</th>\n",
       "      <th rowspan=\"3\" valign=\"top\">False</th>\n",
       "      <th>True</th>\n",
       "      <th>True</th>\n",
       "      <th>False</th>\n",
       "      <th>False</th>\n",
       "      <td>3894</td>\n",
       "    </tr>\n",
       "    <tr>\n",
       "      <th rowspan=\"2\" valign=\"top\">False</th>\n",
       "      <th>True</th>\n",
       "      <th>False</th>\n",
       "      <th>False</th>\n",
       "      <td>244</td>\n",
       "    </tr>\n",
       "    <tr>\n",
       "      <th>False</th>\n",
       "      <th>False</th>\n",
       "      <th>False</th>\n",
       "      <td>121</td>\n",
       "    </tr>\n",
       "    <tr>\n",
       "      <th rowspan=\"3\" valign=\"top\">False</th>\n",
       "      <th rowspan=\"3\" valign=\"top\">False</th>\n",
       "      <th rowspan=\"3\" valign=\"top\">False</th>\n",
       "      <th rowspan=\"3\" valign=\"top\">False</th>\n",
       "      <th rowspan=\"3\" valign=\"top\">False</th>\n",
       "      <th rowspan=\"3\" valign=\"top\">False</th>\n",
       "      <th rowspan=\"3\" valign=\"top\">False</th>\n",
       "      <th rowspan=\"2\" valign=\"top\">False</th>\n",
       "      <th>False</th>\n",
       "      <th>False</th>\n",
       "      <th>False</th>\n",
       "      <td>36</td>\n",
       "    </tr>\n",
       "    <tr>\n",
       "      <th>True</th>\n",
       "      <th>False</th>\n",
       "      <th>False</th>\n",
       "      <td>7</td>\n",
       "    </tr>\n",
       "    <tr>\n",
       "      <th>True</th>\n",
       "      <th>True</th>\n",
       "      <th>False</th>\n",
       "      <th>False</th>\n",
       "      <td>6</td>\n",
       "    </tr>\n",
       "  </tbody>\n",
       "</table>\n",
       "</div>"
      ],
      "text/plain": [
       "                                                                                                                                                               0\n",
       "uid   age   attraction_coeff coins country visit_days gender age_filter_start age_filter_end views_count was_premium is_premium total_revenue age_group_my      \n",
       "False False False            True  False   False      False  False            False          False       True        True       False         False         3894\n",
       "                                                                                                         False       True       False         False          244\n",
       "                                                                                                                     False      False         False          121\n",
       "                             False False   False      False  False            False          False       False       False      False         False           36\n",
       "                                                                                                                     True       False         False            7\n",
       "                                                                                                         True        True       False         False            6"
      ]
     },
     "execution_count": 38,
     "metadata": {},
     "output_type": "execute_result"
    }
   ],
   "source": [
    "# проверим на наличие пустых значений во всей таблице\n",
    "df_users_test.isnull().value_counts().to_frame()"
   ]
  },
  {
   "cell_type": "markdown",
   "metadata": {},
   "source": [
    "судя по пустым полям каких-то грубых отклонений в данных не ожидается."
   ]
  },
  {
   "cell_type": "code",
   "execution_count": 39,
   "metadata": {
    "scrolled": false
   },
   "outputs": [
    {
     "data": {
      "text/plain": [
       "uid                    int64\n",
       "age                    int64\n",
       "attraction_coeff       int64\n",
       "coins                float64\n",
       "country               object\n",
       "visit_days             int64\n",
       "gender                 int64\n",
       "age_filter_start       int64\n",
       "age_filter_end         int64\n",
       "views_count            int64\n",
       "was_premium          float64\n",
       "is_premium           float64\n",
       "total_revenue          int64\n",
       "age_group_my        category\n",
       "dtype: object"
      ]
     },
     "execution_count": 39,
     "metadata": {},
     "output_type": "execute_result"
    }
   ],
   "source": [
    "df_users_test.dtypes"
   ]
  },
  {
   "cell_type": "code",
   "execution_count": 40,
   "metadata": {},
   "outputs": [],
   "source": [
    "# возрастной интервал разбит на две колонки, для удобства дальнейшей работы объединим в одну колонку и представим в виде 1-5\n",
    "# поменяем тип данных колонок age_filter_start, age_filter_end\n",
    "df_users_test['age_filter_start'] = df_users_test['age_filter_start'].astype(\"string\")\n",
    "df_users_test['age_filter_end'] = df_users_test['age_filter_end'].astype(\"string\")"
   ]
  },
  {
   "cell_type": "code",
   "execution_count": 41,
   "metadata": {
    "scrolled": true
   },
   "outputs": [
    {
     "data": {
      "text/plain": [
       "uid                    int64\n",
       "age                    int64\n",
       "attraction_coeff       int64\n",
       "coins                float64\n",
       "country               object\n",
       "visit_days             int64\n",
       "gender                 int64\n",
       "age_filter_start      string\n",
       "age_filter_end        string\n",
       "views_count            int64\n",
       "was_premium          float64\n",
       "is_premium           float64\n",
       "total_revenue          int64\n",
       "age_group_my        category\n",
       "dtype: object"
      ]
     },
     "execution_count": 41,
     "metadata": {},
     "output_type": "execute_result"
    }
   ],
   "source": [
    "df_users_test.dtypes"
   ]
  },
  {
   "cell_type": "code",
   "execution_count": 42,
   "metadata": {},
   "outputs": [],
   "source": [
    "# произведем конкатенацию и удалим не нужные колонки из таблицы\n",
    "df_users_test['age_int'] = df_users_test.age_filter_start + '-' + df_users_test.age_filter_end\n",
    "df_users_test = df_users_test.drop(['age_filter_start', 'age_filter_end'], axis=1)"
   ]
  },
  {
   "cell_type": "code",
   "execution_count": 43,
   "metadata": {},
   "outputs": [
    {
     "data": {
      "text/html": [
       "<div>\n",
       "<style scoped>\n",
       "    .dataframe tbody tr th:only-of-type {\n",
       "        vertical-align: middle;\n",
       "    }\n",
       "\n",
       "    .dataframe tbody tr th {\n",
       "        vertical-align: top;\n",
       "    }\n",
       "\n",
       "    .dataframe thead th {\n",
       "        text-align: right;\n",
       "    }\n",
       "</style>\n",
       "<table border=\"1\" class=\"dataframe\">\n",
       "  <thead>\n",
       "    <tr style=\"text-align: right;\">\n",
       "      <th></th>\n",
       "      <th>uid</th>\n",
       "      <th>age</th>\n",
       "      <th>attraction_coeff</th>\n",
       "      <th>coins</th>\n",
       "      <th>country</th>\n",
       "      <th>visit_days</th>\n",
       "      <th>gender</th>\n",
       "      <th>views_count</th>\n",
       "      <th>was_premium</th>\n",
       "      <th>is_premium</th>\n",
       "      <th>total_revenue</th>\n",
       "      <th>age_group_my</th>\n",
       "      <th>age_int</th>\n",
       "    </tr>\n",
       "  </thead>\n",
       "  <tbody>\n",
       "    <tr>\n",
       "      <th>0</th>\n",
       "      <td>892309896</td>\n",
       "      <td>27</td>\n",
       "      <td>685</td>\n",
       "      <td>NaN</td>\n",
       "      <td>United States of America</td>\n",
       "      <td>14</td>\n",
       "      <td>1</td>\n",
       "      <td>89</td>\n",
       "      <td>NaN</td>\n",
       "      <td>NaN</td>\n",
       "      <td>0</td>\n",
       "      <td>25-38</td>\n",
       "      <td>24-30</td>\n",
       "    </tr>\n",
       "    <tr>\n",
       "      <th>1</th>\n",
       "      <td>892044516</td>\n",
       "      <td>27</td>\n",
       "      <td>0</td>\n",
       "      <td>NaN</td>\n",
       "      <td>Germany</td>\n",
       "      <td>0</td>\n",
       "      <td>1</td>\n",
       "      <td>0</td>\n",
       "      <td>NaN</td>\n",
       "      <td>NaN</td>\n",
       "      <td>0</td>\n",
       "      <td>25-38</td>\n",
       "      <td>24-30</td>\n",
       "    </tr>\n",
       "    <tr>\n",
       "      <th>2</th>\n",
       "      <td>892185708</td>\n",
       "      <td>45</td>\n",
       "      <td>44</td>\n",
       "      <td>NaN</td>\n",
       "      <td>Israel</td>\n",
       "      <td>20</td>\n",
       "      <td>1</td>\n",
       "      <td>68</td>\n",
       "      <td>NaN</td>\n",
       "      <td>NaN</td>\n",
       "      <td>0</td>\n",
       "      <td>38-</td>\n",
       "      <td>42-48</td>\n",
       "    </tr>\n",
       "    <tr>\n",
       "      <th>3</th>\n",
       "      <td>892130292</td>\n",
       "      <td>32</td>\n",
       "      <td>0</td>\n",
       "      <td>NaN</td>\n",
       "      <td>United States of America</td>\n",
       "      <td>12</td>\n",
       "      <td>1</td>\n",
       "      <td>0</td>\n",
       "      <td>NaN</td>\n",
       "      <td>NaN</td>\n",
       "      <td>0</td>\n",
       "      <td>25-38</td>\n",
       "      <td>29-35</td>\n",
       "    </tr>\n",
       "    <tr>\n",
       "      <th>4</th>\n",
       "      <td>891406035</td>\n",
       "      <td>27</td>\n",
       "      <td>1000</td>\n",
       "      <td>NaN</td>\n",
       "      <td>France</td>\n",
       "      <td>0</td>\n",
       "      <td>1</td>\n",
       "      <td>1</td>\n",
       "      <td>1.0</td>\n",
       "      <td>NaN</td>\n",
       "      <td>0</td>\n",
       "      <td>25-38</td>\n",
       "      <td>24-30</td>\n",
       "    </tr>\n",
       "  </tbody>\n",
       "</table>\n",
       "</div>"
      ],
      "text/plain": [
       "         uid  age  attraction_coeff  coins                   country  \\\n",
       "0  892309896   27               685    NaN  United States of America   \n",
       "1  892044516   27                 0    NaN                   Germany   \n",
       "2  892185708   45                44    NaN                    Israel   \n",
       "3  892130292   32                 0    NaN  United States of America   \n",
       "4  891406035   27              1000    NaN                    France   \n",
       "\n",
       "   visit_days  gender  views_count  was_premium  is_premium  total_revenue  \\\n",
       "0          14       1           89          NaN         NaN              0   \n",
       "1           0       1            0          NaN         NaN              0   \n",
       "2          20       1           68          NaN         NaN              0   \n",
       "3          12       1            0          NaN         NaN              0   \n",
       "4           0       1            1          1.0         NaN              0   \n",
       "\n",
       "  age_group_my age_int  \n",
       "0        25-38   24-30  \n",
       "1        25-38   24-30  \n",
       "2          38-   42-48  \n",
       "3        25-38   29-35  \n",
       "4        25-38   24-30  "
      ]
     },
     "execution_count": 43,
     "metadata": {},
     "output_type": "execute_result"
    }
   ],
   "source": [
    "df_users_test.head()"
   ]
  },
  {
   "cell_type": "markdown",
   "metadata": {},
   "source": [
    "\n",
    "\n",
    "#### Колонка visit_days не очень подходит для работы, в принципе на пока не важен retention на какой-то конкретный день.\n",
    "#### Преобразую данную колонку и посчитаю просто количество дней посещений сервиса. Там где NaN заменим на 0\n",
    "#### на основе данной колонки, можно будет сделать какую-нибудь метрику, или поискать зависимости"
   ]
  },
  {
   "cell_type": "markdown",
   "metadata": {},
   "source": [
    "#### 2. df_users_control_1"
   ]
  },
  {
   "cell_type": "code",
   "execution_count": 44,
   "metadata": {
    "scrolled": true
   },
   "outputs": [
    {
     "data": {
      "text/html": [
       "<div>\n",
       "<style scoped>\n",
       "    .dataframe tbody tr th:only-of-type {\n",
       "        vertical-align: middle;\n",
       "    }\n",
       "\n",
       "    .dataframe tbody tr th {\n",
       "        vertical-align: top;\n",
       "    }\n",
       "\n",
       "    .dataframe thead th {\n",
       "        text-align: right;\n",
       "    }\n",
       "</style>\n",
       "<table border=\"1\" class=\"dataframe\">\n",
       "  <thead>\n",
       "    <tr style=\"text-align: right;\">\n",
       "      <th></th>\n",
       "      <th>uid</th>\n",
       "      <th>age</th>\n",
       "      <th>attraction_coeff</th>\n",
       "      <th>coins</th>\n",
       "      <th>country</th>\n",
       "      <th>visit_days</th>\n",
       "      <th>gender</th>\n",
       "      <th>age_filter_start</th>\n",
       "      <th>age_filter_end</th>\n",
       "      <th>views_count</th>\n",
       "      <th>was_premium</th>\n",
       "      <th>is_premium</th>\n",
       "      <th>total_revenue</th>\n",
       "      <th>age_group_my</th>\n",
       "      <th>visit_days_group</th>\n",
       "      <th>views_count_group</th>\n",
       "      <th>attraction_coeff_group</th>\n",
       "    </tr>\n",
       "  </thead>\n",
       "  <tbody>\n",
       "    <tr>\n",
       "      <th>0</th>\n",
       "      <td>892319115</td>\n",
       "      <td>25</td>\n",
       "      <td>435</td>\n",
       "      <td>NaN</td>\n",
       "      <td>United States of America</td>\n",
       "      <td>6</td>\n",
       "      <td>0</td>\n",
       "      <td>22</td>\n",
       "      <td>32</td>\n",
       "      <td>982</td>\n",
       "      <td>NaN</td>\n",
       "      <td>NaN</td>\n",
       "      <td>0</td>\n",
       "      <td>17-25</td>\n",
       "      <td>2-7</td>\n",
       "      <td>21-</td>\n",
       "      <td>238-518</td>\n",
       "    </tr>\n",
       "    <tr>\n",
       "      <th>1</th>\n",
       "      <td>891248523</td>\n",
       "      <td>29</td>\n",
       "      <td>500</td>\n",
       "      <td>NaN</td>\n",
       "      <td>United States of America</td>\n",
       "      <td>2</td>\n",
       "      <td>1</td>\n",
       "      <td>26</td>\n",
       "      <td>32</td>\n",
       "      <td>12</td>\n",
       "      <td>NaN</td>\n",
       "      <td>NaN</td>\n",
       "      <td>0</td>\n",
       "      <td>25-38</td>\n",
       "      <td>0-2</td>\n",
       "      <td>6-21</td>\n",
       "      <td>238-518</td>\n",
       "    </tr>\n",
       "    <tr>\n",
       "      <th>2</th>\n",
       "      <td>891670932</td>\n",
       "      <td>33</td>\n",
       "      <td>800</td>\n",
       "      <td>NaN</td>\n",
       "      <td>France</td>\n",
       "      <td>10</td>\n",
       "      <td>1</td>\n",
       "      <td>30</td>\n",
       "      <td>36</td>\n",
       "      <td>5</td>\n",
       "      <td>NaN</td>\n",
       "      <td>NaN</td>\n",
       "      <td>0</td>\n",
       "      <td>25-38</td>\n",
       "      <td>7-</td>\n",
       "      <td>1-6</td>\n",
       "      <td>518-</td>\n",
       "    </tr>\n",
       "    <tr>\n",
       "      <th>3</th>\n",
       "      <td>891060786</td>\n",
       "      <td>26</td>\n",
       "      <td>0</td>\n",
       "      <td>NaN</td>\n",
       "      <td>Argentina</td>\n",
       "      <td>5</td>\n",
       "      <td>1</td>\n",
       "      <td>23</td>\n",
       "      <td>29</td>\n",
       "      <td>0</td>\n",
       "      <td>NaN</td>\n",
       "      <td>NaN</td>\n",
       "      <td>0</td>\n",
       "      <td>25-38</td>\n",
       "      <td>2-7</td>\n",
       "      <td>0-1</td>\n",
       "      <td>0</td>\n",
       "    </tr>\n",
       "    <tr>\n",
       "      <th>4</th>\n",
       "      <td>892006554</td>\n",
       "      <td>35</td>\n",
       "      <td>294</td>\n",
       "      <td>NaN</td>\n",
       "      <td>United States of America</td>\n",
       "      <td>14</td>\n",
       "      <td>1</td>\n",
       "      <td>30</td>\n",
       "      <td>40</td>\n",
       "      <td>17</td>\n",
       "      <td>NaN</td>\n",
       "      <td>NaN</td>\n",
       "      <td>0</td>\n",
       "      <td>25-38</td>\n",
       "      <td>7-</td>\n",
       "      <td>6-21</td>\n",
       "      <td>238-518</td>\n",
       "    </tr>\n",
       "  </tbody>\n",
       "</table>\n",
       "</div>"
      ],
      "text/plain": [
       "         uid  age  attraction_coeff  coins                   country  \\\n",
       "0  892319115   25               435    NaN  United States of America   \n",
       "1  891248523   29               500    NaN  United States of America   \n",
       "2  891670932   33               800    NaN                    France   \n",
       "3  891060786   26                 0    NaN                 Argentina   \n",
       "4  892006554   35               294    NaN  United States of America   \n",
       "\n",
       "   visit_days  gender  age_filter_start  age_filter_end  views_count  \\\n",
       "0           6       0                22              32          982   \n",
       "1           2       1                26              32           12   \n",
       "2          10       1                30              36            5   \n",
       "3           5       1                23              29            0   \n",
       "4          14       1                30              40           17   \n",
       "\n",
       "   was_premium  is_premium  total_revenue age_group_my visit_days_group  \\\n",
       "0          NaN         NaN              0        17-25              2-7   \n",
       "1          NaN         NaN              0        25-38              0-2   \n",
       "2          NaN         NaN              0        25-38               7-   \n",
       "3          NaN         NaN              0        25-38              2-7   \n",
       "4          NaN         NaN              0        25-38               7-   \n",
       "\n",
       "  views_count_group attraction_coeff_group  \n",
       "0               21-                238-518  \n",
       "1              6-21                238-518  \n",
       "2               1-6                   518-  \n",
       "3               0-1                      0  \n",
       "4              6-21                238-518  "
      ]
     },
     "execution_count": 44,
     "metadata": {},
     "output_type": "execute_result"
    }
   ],
   "source": [
    "df_users_control_1.head()"
   ]
  },
  {
   "cell_type": "code",
   "execution_count": 45,
   "metadata": {
    "scrolled": true
   },
   "outputs": [
    {
     "data": {
      "text/plain": [
       "(4340, 17)"
      ]
     },
     "execution_count": 45,
     "metadata": {},
     "output_type": "execute_result"
    }
   ],
   "source": [
    "# проверим общее количество строк\n",
    "df_users_control_1.shape"
   ]
  },
  {
   "cell_type": "code",
   "execution_count": 46,
   "metadata": {
    "scrolled": false
   },
   "outputs": [
    {
     "data": {
      "text/html": [
       "<div>\n",
       "<style scoped>\n",
       "    .dataframe tbody tr th:only-of-type {\n",
       "        vertical-align: middle;\n",
       "    }\n",
       "\n",
       "    .dataframe tbody tr th {\n",
       "        vertical-align: top;\n",
       "    }\n",
       "\n",
       "    .dataframe thead th {\n",
       "        text-align: right;\n",
       "    }\n",
       "</style>\n",
       "<table border=\"1\" class=\"dataframe\">\n",
       "  <thead>\n",
       "    <tr style=\"text-align: right;\">\n",
       "      <th></th>\n",
       "      <th></th>\n",
       "      <th></th>\n",
       "      <th></th>\n",
       "      <th></th>\n",
       "      <th></th>\n",
       "      <th></th>\n",
       "      <th></th>\n",
       "      <th></th>\n",
       "      <th></th>\n",
       "      <th></th>\n",
       "      <th></th>\n",
       "      <th></th>\n",
       "      <th></th>\n",
       "      <th></th>\n",
       "      <th></th>\n",
       "      <th></th>\n",
       "      <th>0</th>\n",
       "    </tr>\n",
       "    <tr>\n",
       "      <th>uid</th>\n",
       "      <th>age</th>\n",
       "      <th>attraction_coeff</th>\n",
       "      <th>coins</th>\n",
       "      <th>country</th>\n",
       "      <th>visit_days</th>\n",
       "      <th>gender</th>\n",
       "      <th>age_filter_start</th>\n",
       "      <th>age_filter_end</th>\n",
       "      <th>views_count</th>\n",
       "      <th>was_premium</th>\n",
       "      <th>is_premium</th>\n",
       "      <th>total_revenue</th>\n",
       "      <th>age_group_my</th>\n",
       "      <th>visit_days_group</th>\n",
       "      <th>views_count_group</th>\n",
       "      <th>attraction_coeff_group</th>\n",
       "      <th></th>\n",
       "    </tr>\n",
       "  </thead>\n",
       "  <tbody>\n",
       "    <tr>\n",
       "      <th rowspan=\"6\" valign=\"top\">False</th>\n",
       "      <th rowspan=\"6\" valign=\"top\">False</th>\n",
       "      <th rowspan=\"6\" valign=\"top\">False</th>\n",
       "      <th rowspan=\"3\" valign=\"top\">True</th>\n",
       "      <th rowspan=\"3\" valign=\"top\">False</th>\n",
       "      <th rowspan=\"3\" valign=\"top\">False</th>\n",
       "      <th rowspan=\"3\" valign=\"top\">False</th>\n",
       "      <th rowspan=\"3\" valign=\"top\">False</th>\n",
       "      <th rowspan=\"3\" valign=\"top\">False</th>\n",
       "      <th rowspan=\"3\" valign=\"top\">False</th>\n",
       "      <th>True</th>\n",
       "      <th>True</th>\n",
       "      <th>False</th>\n",
       "      <th>False</th>\n",
       "      <th>False</th>\n",
       "      <th>False</th>\n",
       "      <th>False</th>\n",
       "      <td>3892</td>\n",
       "    </tr>\n",
       "    <tr>\n",
       "      <th rowspan=\"2\" valign=\"top\">False</th>\n",
       "      <th>True</th>\n",
       "      <th>False</th>\n",
       "      <th>False</th>\n",
       "      <th>False</th>\n",
       "      <th>False</th>\n",
       "      <th>False</th>\n",
       "      <td>235</td>\n",
       "    </tr>\n",
       "    <tr>\n",
       "      <th>False</th>\n",
       "      <th>False</th>\n",
       "      <th>False</th>\n",
       "      <th>False</th>\n",
       "      <th>False</th>\n",
       "      <th>False</th>\n",
       "      <td>153</td>\n",
       "    </tr>\n",
       "    <tr>\n",
       "      <th rowspan=\"3\" valign=\"top\">False</th>\n",
       "      <th rowspan=\"3\" valign=\"top\">False</th>\n",
       "      <th rowspan=\"3\" valign=\"top\">False</th>\n",
       "      <th rowspan=\"3\" valign=\"top\">False</th>\n",
       "      <th rowspan=\"3\" valign=\"top\">False</th>\n",
       "      <th rowspan=\"3\" valign=\"top\">False</th>\n",
       "      <th rowspan=\"3\" valign=\"top\">False</th>\n",
       "      <th>False</th>\n",
       "      <th>False</th>\n",
       "      <th>False</th>\n",
       "      <th>False</th>\n",
       "      <th>False</th>\n",
       "      <th>False</th>\n",
       "      <th>False</th>\n",
       "      <td>39</td>\n",
       "    </tr>\n",
       "    <tr>\n",
       "      <th>True</th>\n",
       "      <th>True</th>\n",
       "      <th>False</th>\n",
       "      <th>False</th>\n",
       "      <th>False</th>\n",
       "      <th>False</th>\n",
       "      <th>False</th>\n",
       "      <td>12</td>\n",
       "    </tr>\n",
       "    <tr>\n",
       "      <th>False</th>\n",
       "      <th>True</th>\n",
       "      <th>False</th>\n",
       "      <th>False</th>\n",
       "      <th>False</th>\n",
       "      <th>False</th>\n",
       "      <th>False</th>\n",
       "      <td>9</td>\n",
       "    </tr>\n",
       "  </tbody>\n",
       "</table>\n",
       "</div>"
      ],
      "text/plain": [
       "                                                                                                                                                                                                                         0\n",
       "uid   age   attraction_coeff coins country visit_days gender age_filter_start age_filter_end views_count was_premium is_premium total_revenue age_group_my visit_days_group views_count_group attraction_coeff_group      \n",
       "False False False            True  False   False      False  False            False          False       True        True       False         False        False            False             False                   3892\n",
       "                                                                                                         False       True       False         False        False            False             False                    235\n",
       "                                                                                                                     False      False         False        False            False             False                    153\n",
       "                             False False   False      False  False            False          False       False       False      False         False        False            False             False                     39\n",
       "                                                                                                         True        True       False         False        False            False             False                     12\n",
       "                                                                                                         False       True       False         False        False            False             False                      9"
      ]
     },
     "execution_count": 46,
     "metadata": {},
     "output_type": "execute_result"
    }
   ],
   "source": [
    "# проверим на наличие пустых значений во всей таблице\n",
    "df_users_control_1.isnull().value_counts().to_frame()"
   ]
  },
  {
   "cell_type": "markdown",
   "metadata": {},
   "source": [
    "судя по пустым полям каких-то грубых отклонений в данных не ожидается."
   ]
  },
  {
   "cell_type": "code",
   "execution_count": 47,
   "metadata": {
    "scrolled": true
   },
   "outputs": [
    {
     "data": {
      "text/plain": [
       "uid                          int64\n",
       "age                          int64\n",
       "attraction_coeff             int64\n",
       "coins                      float64\n",
       "country                     object\n",
       "visit_days                   int64\n",
       "gender                       int64\n",
       "age_filter_start             int64\n",
       "age_filter_end               int64\n",
       "views_count                  int64\n",
       "was_premium                float64\n",
       "is_premium                 float64\n",
       "total_revenue                int64\n",
       "age_group_my              category\n",
       "visit_days_group          category\n",
       "views_count_group         category\n",
       "attraction_coeff_group    category\n",
       "dtype: object"
      ]
     },
     "execution_count": 47,
     "metadata": {},
     "output_type": "execute_result"
    }
   ],
   "source": [
    "df_users_control_1.dtypes"
   ]
  },
  {
   "cell_type": "code",
   "execution_count": 48,
   "metadata": {},
   "outputs": [],
   "source": [
    "# возрастной интервал разбит на две колонки, для удобства дальнейшей работы объединим в одну колонку и представим в виде 1-5\n",
    "# поменяем тип данных колонок age_filter_start, age_filter_end\n",
    "df_users_control_1['age_filter_start'] = df_users_control_1['age_filter_start'].astype(\"string\")\n",
    "df_users_control_1['age_filter_end'] = df_users_control_1['age_filter_end'].astype(\"string\")"
   ]
  },
  {
   "cell_type": "code",
   "execution_count": 49,
   "metadata": {
    "scrolled": true
   },
   "outputs": [
    {
     "data": {
      "text/plain": [
       "uid                          int64\n",
       "age                          int64\n",
       "attraction_coeff             int64\n",
       "coins                      float64\n",
       "country                     object\n",
       "visit_days                   int64\n",
       "gender                       int64\n",
       "age_filter_start            string\n",
       "age_filter_end              string\n",
       "views_count                  int64\n",
       "was_premium                float64\n",
       "is_premium                 float64\n",
       "total_revenue                int64\n",
       "age_group_my              category\n",
       "visit_days_group          category\n",
       "views_count_group         category\n",
       "attraction_coeff_group    category\n",
       "dtype: object"
      ]
     },
     "execution_count": 49,
     "metadata": {},
     "output_type": "execute_result"
    }
   ],
   "source": [
    "df_users_control_1.dtypes"
   ]
  },
  {
   "cell_type": "code",
   "execution_count": 50,
   "metadata": {},
   "outputs": [],
   "source": [
    "# произведем конкатенацию и удалим не нужные колонки из таблицы\n",
    "df_users_control_1['age_int'] = df_users_control_1.age_filter_start + '-' + df_users_control_1.age_filter_end\n",
    "df_users_control_1 = df_users_control_1.drop(['age_filter_start', 'age_filter_end'], axis=1)"
   ]
  },
  {
   "cell_type": "code",
   "execution_count": 51,
   "metadata": {},
   "outputs": [
    {
     "data": {
      "text/html": [
       "<div>\n",
       "<style scoped>\n",
       "    .dataframe tbody tr th:only-of-type {\n",
       "        vertical-align: middle;\n",
       "    }\n",
       "\n",
       "    .dataframe tbody tr th {\n",
       "        vertical-align: top;\n",
       "    }\n",
       "\n",
       "    .dataframe thead th {\n",
       "        text-align: right;\n",
       "    }\n",
       "</style>\n",
       "<table border=\"1\" class=\"dataframe\">\n",
       "  <thead>\n",
       "    <tr style=\"text-align: right;\">\n",
       "      <th></th>\n",
       "      <th>uid</th>\n",
       "      <th>age</th>\n",
       "      <th>attraction_coeff</th>\n",
       "      <th>coins</th>\n",
       "      <th>country</th>\n",
       "      <th>visit_days</th>\n",
       "      <th>gender</th>\n",
       "      <th>views_count</th>\n",
       "      <th>was_premium</th>\n",
       "      <th>is_premium</th>\n",
       "      <th>total_revenue</th>\n",
       "      <th>age_group_my</th>\n",
       "      <th>visit_days_group</th>\n",
       "      <th>views_count_group</th>\n",
       "      <th>attraction_coeff_group</th>\n",
       "      <th>age_int</th>\n",
       "    </tr>\n",
       "  </thead>\n",
       "  <tbody>\n",
       "    <tr>\n",
       "      <th>0</th>\n",
       "      <td>892319115</td>\n",
       "      <td>25</td>\n",
       "      <td>435</td>\n",
       "      <td>NaN</td>\n",
       "      <td>United States of America</td>\n",
       "      <td>6</td>\n",
       "      <td>0</td>\n",
       "      <td>982</td>\n",
       "      <td>NaN</td>\n",
       "      <td>NaN</td>\n",
       "      <td>0</td>\n",
       "      <td>17-25</td>\n",
       "      <td>2-7</td>\n",
       "      <td>21-</td>\n",
       "      <td>238-518</td>\n",
       "      <td>22-32</td>\n",
       "    </tr>\n",
       "    <tr>\n",
       "      <th>1</th>\n",
       "      <td>891248523</td>\n",
       "      <td>29</td>\n",
       "      <td>500</td>\n",
       "      <td>NaN</td>\n",
       "      <td>United States of America</td>\n",
       "      <td>2</td>\n",
       "      <td>1</td>\n",
       "      <td>12</td>\n",
       "      <td>NaN</td>\n",
       "      <td>NaN</td>\n",
       "      <td>0</td>\n",
       "      <td>25-38</td>\n",
       "      <td>0-2</td>\n",
       "      <td>6-21</td>\n",
       "      <td>238-518</td>\n",
       "      <td>26-32</td>\n",
       "    </tr>\n",
       "    <tr>\n",
       "      <th>2</th>\n",
       "      <td>891670932</td>\n",
       "      <td>33</td>\n",
       "      <td>800</td>\n",
       "      <td>NaN</td>\n",
       "      <td>France</td>\n",
       "      <td>10</td>\n",
       "      <td>1</td>\n",
       "      <td>5</td>\n",
       "      <td>NaN</td>\n",
       "      <td>NaN</td>\n",
       "      <td>0</td>\n",
       "      <td>25-38</td>\n",
       "      <td>7-</td>\n",
       "      <td>1-6</td>\n",
       "      <td>518-</td>\n",
       "      <td>30-36</td>\n",
       "    </tr>\n",
       "    <tr>\n",
       "      <th>3</th>\n",
       "      <td>891060786</td>\n",
       "      <td>26</td>\n",
       "      <td>0</td>\n",
       "      <td>NaN</td>\n",
       "      <td>Argentina</td>\n",
       "      <td>5</td>\n",
       "      <td>1</td>\n",
       "      <td>0</td>\n",
       "      <td>NaN</td>\n",
       "      <td>NaN</td>\n",
       "      <td>0</td>\n",
       "      <td>25-38</td>\n",
       "      <td>2-7</td>\n",
       "      <td>0-1</td>\n",
       "      <td>0</td>\n",
       "      <td>23-29</td>\n",
       "    </tr>\n",
       "    <tr>\n",
       "      <th>4</th>\n",
       "      <td>892006554</td>\n",
       "      <td>35</td>\n",
       "      <td>294</td>\n",
       "      <td>NaN</td>\n",
       "      <td>United States of America</td>\n",
       "      <td>14</td>\n",
       "      <td>1</td>\n",
       "      <td>17</td>\n",
       "      <td>NaN</td>\n",
       "      <td>NaN</td>\n",
       "      <td>0</td>\n",
       "      <td>25-38</td>\n",
       "      <td>7-</td>\n",
       "      <td>6-21</td>\n",
       "      <td>238-518</td>\n",
       "      <td>30-40</td>\n",
       "    </tr>\n",
       "  </tbody>\n",
       "</table>\n",
       "</div>"
      ],
      "text/plain": [
       "         uid  age  attraction_coeff  coins                   country  \\\n",
       "0  892319115   25               435    NaN  United States of America   \n",
       "1  891248523   29               500    NaN  United States of America   \n",
       "2  891670932   33               800    NaN                    France   \n",
       "3  891060786   26                 0    NaN                 Argentina   \n",
       "4  892006554   35               294    NaN  United States of America   \n",
       "\n",
       "   visit_days  gender  views_count  was_premium  is_premium  total_revenue  \\\n",
       "0           6       0          982          NaN         NaN              0   \n",
       "1           2       1           12          NaN         NaN              0   \n",
       "2          10       1            5          NaN         NaN              0   \n",
       "3           5       1            0          NaN         NaN              0   \n",
       "4          14       1           17          NaN         NaN              0   \n",
       "\n",
       "  age_group_my visit_days_group views_count_group attraction_coeff_group  \\\n",
       "0        17-25              2-7               21-                238-518   \n",
       "1        25-38              0-2              6-21                238-518   \n",
       "2        25-38               7-               1-6                   518-   \n",
       "3        25-38              2-7               0-1                      0   \n",
       "4        25-38               7-              6-21                238-518   \n",
       "\n",
       "  age_int  \n",
       "0   22-32  \n",
       "1   26-32  \n",
       "2   30-36  \n",
       "3   23-29  \n",
       "4   30-40  "
      ]
     },
     "execution_count": 51,
     "metadata": {},
     "output_type": "execute_result"
    }
   ],
   "source": [
    "# проверяем результат\n",
    "df_users_control_1.head()"
   ]
  },
  {
   "cell_type": "code",
   "execution_count": 52,
   "metadata": {
    "scrolled": true
   },
   "outputs": [
    {
     "data": {
      "text/html": [
       "<div>\n",
       "<style scoped>\n",
       "    .dataframe tbody tr th:only-of-type {\n",
       "        vertical-align: middle;\n",
       "    }\n",
       "\n",
       "    .dataframe tbody tr th {\n",
       "        vertical-align: top;\n",
       "    }\n",
       "\n",
       "    .dataframe thead th {\n",
       "        text-align: right;\n",
       "    }\n",
       "</style>\n",
       "<table border=\"1\" class=\"dataframe\">\n",
       "  <thead>\n",
       "    <tr style=\"text-align: right;\">\n",
       "      <th></th>\n",
       "      <th>uid</th>\n",
       "      <th>age</th>\n",
       "      <th>attraction_coeff</th>\n",
       "      <th>coins</th>\n",
       "      <th>country</th>\n",
       "      <th>visit_days</th>\n",
       "      <th>gender</th>\n",
       "      <th>views_count</th>\n",
       "      <th>was_premium</th>\n",
       "      <th>is_premium</th>\n",
       "      <th>total_revenue</th>\n",
       "      <th>age_group_my</th>\n",
       "      <th>visit_days_group</th>\n",
       "      <th>views_count_group</th>\n",
       "      <th>attraction_coeff_group</th>\n",
       "      <th>age_int</th>\n",
       "    </tr>\n",
       "  </thead>\n",
       "  <tbody>\n",
       "    <tr>\n",
       "      <th>count</th>\n",
       "      <td>4340</td>\n",
       "      <td>4340</td>\n",
       "      <td>4340</td>\n",
       "      <td>60</td>\n",
       "      <td>4340</td>\n",
       "      <td>4340</td>\n",
       "      <td>4340</td>\n",
       "      <td>4340</td>\n",
       "      <td>436</td>\n",
       "      <td>192</td>\n",
       "      <td>4340</td>\n",
       "      <td>4340</td>\n",
       "      <td>4340</td>\n",
       "      <td>4340</td>\n",
       "      <td>4340</td>\n",
       "      <td>4340</td>\n",
       "    </tr>\n",
       "    <tr>\n",
       "      <th>size</th>\n",
       "      <td>4340</td>\n",
       "      <td>4340</td>\n",
       "      <td>4340</td>\n",
       "      <td>4340</td>\n",
       "      <td>4340</td>\n",
       "      <td>4340</td>\n",
       "      <td>4340</td>\n",
       "      <td>4340</td>\n",
       "      <td>4340</td>\n",
       "      <td>4340</td>\n",
       "      <td>4340</td>\n",
       "      <td>4340</td>\n",
       "      <td>4340</td>\n",
       "      <td>4340</td>\n",
       "      <td>4340</td>\n",
       "      <td>4340</td>\n",
       "    </tr>\n",
       "    <tr>\n",
       "      <th>nunique</th>\n",
       "      <td>4340</td>\n",
       "      <td>56</td>\n",
       "      <td>587</td>\n",
       "      <td>22</td>\n",
       "      <td>40</td>\n",
       "      <td>32</td>\n",
       "      <td>2</td>\n",
       "      <td>339</td>\n",
       "      <td>1</td>\n",
       "      <td>1</td>\n",
       "      <td>128</td>\n",
       "      <td>4</td>\n",
       "      <td>4</td>\n",
       "      <td>4</td>\n",
       "      <td>4</td>\n",
       "      <td>629</td>\n",
       "    </tr>\n",
       "  </tbody>\n",
       "</table>\n",
       "</div>"
      ],
      "text/plain": [
       "          uid   age  attraction_coeff  coins  country  visit_days  gender  \\\n",
       "count    4340  4340              4340     60     4340        4340    4340   \n",
       "size     4340  4340              4340   4340     4340        4340    4340   \n",
       "nunique  4340    56               587     22       40          32       2   \n",
       "\n",
       "         views_count  was_premium  is_premium  total_revenue  age_group_my  \\\n",
       "count           4340          436         192           4340          4340   \n",
       "size            4340         4340        4340           4340          4340   \n",
       "nunique          339            1           1            128             4   \n",
       "\n",
       "         visit_days_group  views_count_group  attraction_coeff_group  age_int  \n",
       "count                4340               4340                    4340     4340  \n",
       "size                 4340               4340                    4340     4340  \n",
       "nunique                 4                  4                       4      629  "
      ]
     },
     "execution_count": 52,
     "metadata": {},
     "output_type": "execute_result"
    }
   ],
   "source": [
    "# взглянем на общий размер, количество значений и уникальных записей\n",
    "df_users_control_1.agg(['count', 'size', 'nunique'])"
   ]
  },
  {
   "cell_type": "code",
   "execution_count": 53,
   "metadata": {},
   "outputs": [
    {
     "data": {
      "text/html": [
       "<div>\n",
       "<style scoped>\n",
       "    .dataframe tbody tr th:only-of-type {\n",
       "        vertical-align: middle;\n",
       "    }\n",
       "\n",
       "    .dataframe tbody tr th {\n",
       "        vertical-align: top;\n",
       "    }\n",
       "\n",
       "    .dataframe thead th {\n",
       "        text-align: right;\n",
       "    }\n",
       "</style>\n",
       "<table border=\"1\" class=\"dataframe\">\n",
       "  <thead>\n",
       "    <tr style=\"text-align: right;\">\n",
       "      <th></th>\n",
       "      <th>uid</th>\n",
       "      <th>age</th>\n",
       "      <th>attraction_coeff</th>\n",
       "      <th>coins</th>\n",
       "      <th>visit_days</th>\n",
       "      <th>gender</th>\n",
       "      <th>views_count</th>\n",
       "      <th>was_premium</th>\n",
       "      <th>is_premium</th>\n",
       "      <th>total_revenue</th>\n",
       "    </tr>\n",
       "  </thead>\n",
       "  <tbody>\n",
       "    <tr>\n",
       "      <th>count</th>\n",
       "      <td>4.340000e+03</td>\n",
       "      <td>4340.000000</td>\n",
       "      <td>4340.000000</td>\n",
       "      <td>60.0000</td>\n",
       "      <td>4340.000000</td>\n",
       "      <td>4340.000000</td>\n",
       "      <td>4340.000000</td>\n",
       "      <td>436.0</td>\n",
       "      <td>192.0</td>\n",
       "      <td>4340.000000</td>\n",
       "    </tr>\n",
       "    <tr>\n",
       "      <th>mean</th>\n",
       "      <td>8.917578e+08</td>\n",
       "      <td>32.095392</td>\n",
       "      <td>312.048848</td>\n",
       "      <td>1745.9000</td>\n",
       "      <td>4.642396</td>\n",
       "      <td>0.958065</td>\n",
       "      <td>44.467512</td>\n",
       "      <td>1.0</td>\n",
       "      <td>1.0</td>\n",
       "      <td>594.761982</td>\n",
       "    </tr>\n",
       "    <tr>\n",
       "      <th>std</th>\n",
       "      <td>1.125683e+06</td>\n",
       "      <td>10.257466</td>\n",
       "      <td>320.972130</td>\n",
       "      <td>12902.3577</td>\n",
       "      <td>6.313304</td>\n",
       "      <td>0.200465</td>\n",
       "      <td>204.800272</td>\n",
       "      <td>0.0</td>\n",
       "      <td>0.0</td>\n",
       "      <td>7987.922925</td>\n",
       "    </tr>\n",
       "    <tr>\n",
       "      <th>min</th>\n",
       "      <td>8.910510e+08</td>\n",
       "      <td>16.000000</td>\n",
       "      <td>0.000000</td>\n",
       "      <td>1.0000</td>\n",
       "      <td>0.000000</td>\n",
       "      <td>0.000000</td>\n",
       "      <td>0.000000</td>\n",
       "      <td>1.0</td>\n",
       "      <td>1.0</td>\n",
       "      <td>0.000000</td>\n",
       "    </tr>\n",
       "    <tr>\n",
       "      <th>25%</th>\n",
       "      <td>8.913626e+08</td>\n",
       "      <td>24.000000</td>\n",
       "      <td>0.000000</td>\n",
       "      <td>8.0000</td>\n",
       "      <td>0.000000</td>\n",
       "      <td>1.000000</td>\n",
       "      <td>1.000000</td>\n",
       "      <td>1.0</td>\n",
       "      <td>1.0</td>\n",
       "      <td>0.000000</td>\n",
       "    </tr>\n",
       "    <tr>\n",
       "      <th>50%</th>\n",
       "      <td>8.917272e+08</td>\n",
       "      <td>30.000000</td>\n",
       "      <td>238.500000</td>\n",
       "      <td>11.5000</td>\n",
       "      <td>2.000000</td>\n",
       "      <td>1.000000</td>\n",
       "      <td>6.000000</td>\n",
       "      <td>1.0</td>\n",
       "      <td>1.0</td>\n",
       "      <td>0.000000</td>\n",
       "    </tr>\n",
       "    <tr>\n",
       "      <th>75%</th>\n",
       "      <td>8.920898e+08</td>\n",
       "      <td>38.000000</td>\n",
       "      <td>518.000000</td>\n",
       "      <td>28.0000</td>\n",
       "      <td>7.000000</td>\n",
       "      <td>1.000000</td>\n",
       "      <td>21.000000</td>\n",
       "      <td>1.0</td>\n",
       "      <td>1.0</td>\n",
       "      <td>0.000000</td>\n",
       "    </tr>\n",
       "    <tr>\n",
       "      <th>max</th>\n",
       "      <td>9.609370e+08</td>\n",
       "      <td>99.000000</td>\n",
       "      <td>1000.000000</td>\n",
       "      <td>99958.0000</td>\n",
       "      <td>31.000000</td>\n",
       "      <td>1.000000</td>\n",
       "      <td>4953.000000</td>\n",
       "      <td>1.0</td>\n",
       "      <td>1.0</td>\n",
       "      <td>486330.000000</td>\n",
       "    </tr>\n",
       "  </tbody>\n",
       "</table>\n",
       "</div>"
      ],
      "text/plain": [
       "                uid          age  attraction_coeff       coins   visit_days  \\\n",
       "count  4.340000e+03  4340.000000       4340.000000     60.0000  4340.000000   \n",
       "mean   8.917578e+08    32.095392        312.048848   1745.9000     4.642396   \n",
       "std    1.125683e+06    10.257466        320.972130  12902.3577     6.313304   \n",
       "min    8.910510e+08    16.000000          0.000000      1.0000     0.000000   \n",
       "25%    8.913626e+08    24.000000          0.000000      8.0000     0.000000   \n",
       "50%    8.917272e+08    30.000000        238.500000     11.5000     2.000000   \n",
       "75%    8.920898e+08    38.000000        518.000000     28.0000     7.000000   \n",
       "max    9.609370e+08    99.000000       1000.000000  99958.0000    31.000000   \n",
       "\n",
       "            gender  views_count  was_premium  is_premium  total_revenue  \n",
       "count  4340.000000  4340.000000        436.0       192.0    4340.000000  \n",
       "mean      0.958065    44.467512          1.0         1.0     594.761982  \n",
       "std       0.200465   204.800272          0.0         0.0    7987.922925  \n",
       "min       0.000000     0.000000          1.0         1.0       0.000000  \n",
       "25%       1.000000     1.000000          1.0         1.0       0.000000  \n",
       "50%       1.000000     6.000000          1.0         1.0       0.000000  \n",
       "75%       1.000000    21.000000          1.0         1.0       0.000000  \n",
       "max       1.000000  4953.000000          1.0         1.0  486330.000000  "
      ]
     },
     "execution_count": 53,
     "metadata": {},
     "output_type": "execute_result"
    }
   ],
   "source": [
    "df_users_control_1.describe()"
   ]
  },
  {
   "cell_type": "markdown",
   "metadata": {},
   "source": [
    "#### 3. df_users_control_2"
   ]
  },
  {
   "cell_type": "code",
   "execution_count": 54,
   "metadata": {
    "scrolled": false
   },
   "outputs": [
    {
     "data": {
      "text/html": [
       "<div>\n",
       "<style scoped>\n",
       "    .dataframe tbody tr th:only-of-type {\n",
       "        vertical-align: middle;\n",
       "    }\n",
       "\n",
       "    .dataframe tbody tr th {\n",
       "        vertical-align: top;\n",
       "    }\n",
       "\n",
       "    .dataframe thead th {\n",
       "        text-align: right;\n",
       "    }\n",
       "</style>\n",
       "<table border=\"1\" class=\"dataframe\">\n",
       "  <thead>\n",
       "    <tr style=\"text-align: right;\">\n",
       "      <th></th>\n",
       "      <th>uid</th>\n",
       "      <th>age</th>\n",
       "      <th>attraction_coeff</th>\n",
       "      <th>coins</th>\n",
       "      <th>country</th>\n",
       "      <th>visit_days</th>\n",
       "      <th>gender</th>\n",
       "      <th>age_filter_start</th>\n",
       "      <th>age_filter_end</th>\n",
       "      <th>views_count</th>\n",
       "      <th>was_premium</th>\n",
       "      <th>is_premium</th>\n",
       "      <th>total_revenue</th>\n",
       "      <th>age_group_my</th>\n",
       "    </tr>\n",
       "  </thead>\n",
       "  <tbody>\n",
       "    <tr>\n",
       "      <th>0</th>\n",
       "      <td>892035504</td>\n",
       "      <td>37</td>\n",
       "      <td>137</td>\n",
       "      <td>NaN</td>\n",
       "      <td>Israel</td>\n",
       "      <td>11</td>\n",
       "      <td>1</td>\n",
       "      <td>30</td>\n",
       "      <td>40</td>\n",
       "      <td>51</td>\n",
       "      <td>NaN</td>\n",
       "      <td>NaN</td>\n",
       "      <td>0</td>\n",
       "      <td>25-38</td>\n",
       "    </tr>\n",
       "    <tr>\n",
       "      <th>1</th>\n",
       "      <td>891782112</td>\n",
       "      <td>57</td>\n",
       "      <td>0</td>\n",
       "      <td>NaN</td>\n",
       "      <td>Italy</td>\n",
       "      <td>1</td>\n",
       "      <td>1</td>\n",
       "      <td>54</td>\n",
       "      <td>60</td>\n",
       "      <td>0</td>\n",
       "      <td>NaN</td>\n",
       "      <td>NaN</td>\n",
       "      <td>0</td>\n",
       "      <td>38-</td>\n",
       "    </tr>\n",
       "    <tr>\n",
       "      <th>2</th>\n",
       "      <td>891110337</td>\n",
       "      <td>30</td>\n",
       "      <td>769</td>\n",
       "      <td>NaN</td>\n",
       "      <td>France</td>\n",
       "      <td>5</td>\n",
       "      <td>1</td>\n",
       "      <td>27</td>\n",
       "      <td>33</td>\n",
       "      <td>13</td>\n",
       "      <td>NaN</td>\n",
       "      <td>NaN</td>\n",
       "      <td>0</td>\n",
       "      <td>25-38</td>\n",
       "    </tr>\n",
       "    <tr>\n",
       "      <th>3</th>\n",
       "      <td>891796320</td>\n",
       "      <td>48</td>\n",
       "      <td>750</td>\n",
       "      <td>NaN</td>\n",
       "      <td>France</td>\n",
       "      <td>11</td>\n",
       "      <td>1</td>\n",
       "      <td>45</td>\n",
       "      <td>51</td>\n",
       "      <td>12</td>\n",
       "      <td>NaN</td>\n",
       "      <td>NaN</td>\n",
       "      <td>0</td>\n",
       "      <td>38-</td>\n",
       "    </tr>\n",
       "    <tr>\n",
       "      <th>4</th>\n",
       "      <td>891880212</td>\n",
       "      <td>54</td>\n",
       "      <td>638</td>\n",
       "      <td>NaN</td>\n",
       "      <td>United States of America</td>\n",
       "      <td>1</td>\n",
       "      <td>1</td>\n",
       "      <td>35</td>\n",
       "      <td>53</td>\n",
       "      <td>94</td>\n",
       "      <td>NaN</td>\n",
       "      <td>NaN</td>\n",
       "      <td>0</td>\n",
       "      <td>38-</td>\n",
       "    </tr>\n",
       "  </tbody>\n",
       "</table>\n",
       "</div>"
      ],
      "text/plain": [
       "         uid  age  attraction_coeff  coins                   country  \\\n",
       "0  892035504   37               137    NaN                    Israel   \n",
       "1  891782112   57                 0    NaN                     Italy   \n",
       "2  891110337   30               769    NaN                    France   \n",
       "3  891796320   48               750    NaN                    France   \n",
       "4  891880212   54               638    NaN  United States of America   \n",
       "\n",
       "   visit_days  gender  age_filter_start  age_filter_end  views_count  \\\n",
       "0          11       1                30              40           51   \n",
       "1           1       1                54              60            0   \n",
       "2           5       1                27              33           13   \n",
       "3          11       1                45              51           12   \n",
       "4           1       1                35              53           94   \n",
       "\n",
       "   was_premium  is_premium  total_revenue age_group_my  \n",
       "0          NaN         NaN              0        25-38  \n",
       "1          NaN         NaN              0          38-  \n",
       "2          NaN         NaN              0        25-38  \n",
       "3          NaN         NaN              0          38-  \n",
       "4          NaN         NaN              0          38-  "
      ]
     },
     "execution_count": 54,
     "metadata": {},
     "output_type": "execute_result"
    }
   ],
   "source": [
    "df_users_control_2.head()"
   ]
  },
  {
   "cell_type": "code",
   "execution_count": 55,
   "metadata": {
    "scrolled": true
   },
   "outputs": [
    {
     "data": {
      "text/plain": [
       "(4264, 14)"
      ]
     },
     "execution_count": 55,
     "metadata": {},
     "output_type": "execute_result"
    }
   ],
   "source": [
    "# проверим общее количество строк\n",
    "df_users_control_2.shape"
   ]
  },
  {
   "cell_type": "code",
   "execution_count": 56,
   "metadata": {
    "scrolled": true
   },
   "outputs": [
    {
     "data": {
      "text/html": [
       "<div>\n",
       "<style scoped>\n",
       "    .dataframe tbody tr th:only-of-type {\n",
       "        vertical-align: middle;\n",
       "    }\n",
       "\n",
       "    .dataframe tbody tr th {\n",
       "        vertical-align: top;\n",
       "    }\n",
       "\n",
       "    .dataframe thead th {\n",
       "        text-align: right;\n",
       "    }\n",
       "</style>\n",
       "<table border=\"1\" class=\"dataframe\">\n",
       "  <thead>\n",
       "    <tr style=\"text-align: right;\">\n",
       "      <th></th>\n",
       "      <th></th>\n",
       "      <th></th>\n",
       "      <th></th>\n",
       "      <th></th>\n",
       "      <th></th>\n",
       "      <th></th>\n",
       "      <th></th>\n",
       "      <th></th>\n",
       "      <th></th>\n",
       "      <th></th>\n",
       "      <th></th>\n",
       "      <th></th>\n",
       "      <th></th>\n",
       "      <th>0</th>\n",
       "    </tr>\n",
       "    <tr>\n",
       "      <th>uid</th>\n",
       "      <th>age</th>\n",
       "      <th>attraction_coeff</th>\n",
       "      <th>coins</th>\n",
       "      <th>country</th>\n",
       "      <th>visit_days</th>\n",
       "      <th>gender</th>\n",
       "      <th>age_filter_start</th>\n",
       "      <th>age_filter_end</th>\n",
       "      <th>views_count</th>\n",
       "      <th>was_premium</th>\n",
       "      <th>is_premium</th>\n",
       "      <th>total_revenue</th>\n",
       "      <th>age_group_my</th>\n",
       "      <th></th>\n",
       "    </tr>\n",
       "  </thead>\n",
       "  <tbody>\n",
       "    <tr>\n",
       "      <th rowspan=\"6\" valign=\"top\">False</th>\n",
       "      <th rowspan=\"6\" valign=\"top\">False</th>\n",
       "      <th rowspan=\"6\" valign=\"top\">False</th>\n",
       "      <th rowspan=\"3\" valign=\"top\">True</th>\n",
       "      <th rowspan=\"3\" valign=\"top\">False</th>\n",
       "      <th rowspan=\"3\" valign=\"top\">False</th>\n",
       "      <th rowspan=\"3\" valign=\"top\">False</th>\n",
       "      <th rowspan=\"3\" valign=\"top\">False</th>\n",
       "      <th rowspan=\"3\" valign=\"top\">False</th>\n",
       "      <th rowspan=\"3\" valign=\"top\">False</th>\n",
       "      <th>True</th>\n",
       "      <th>True</th>\n",
       "      <th>False</th>\n",
       "      <th>False</th>\n",
       "      <td>3847</td>\n",
       "    </tr>\n",
       "    <tr>\n",
       "      <th rowspan=\"2\" valign=\"top\">False</th>\n",
       "      <th>True</th>\n",
       "      <th>False</th>\n",
       "      <th>False</th>\n",
       "      <td>203</td>\n",
       "    </tr>\n",
       "    <tr>\n",
       "      <th>False</th>\n",
       "      <th>False</th>\n",
       "      <th>False</th>\n",
       "      <td>153</td>\n",
       "    </tr>\n",
       "    <tr>\n",
       "      <th rowspan=\"3\" valign=\"top\">False</th>\n",
       "      <th rowspan=\"3\" valign=\"top\">False</th>\n",
       "      <th rowspan=\"3\" valign=\"top\">False</th>\n",
       "      <th rowspan=\"3\" valign=\"top\">False</th>\n",
       "      <th rowspan=\"3\" valign=\"top\">False</th>\n",
       "      <th rowspan=\"3\" valign=\"top\">False</th>\n",
       "      <th rowspan=\"3\" valign=\"top\">False</th>\n",
       "      <th rowspan=\"2\" valign=\"top\">False</th>\n",
       "      <th>False</th>\n",
       "      <th>False</th>\n",
       "      <th>False</th>\n",
       "      <td>38</td>\n",
       "    </tr>\n",
       "    <tr>\n",
       "      <th>True</th>\n",
       "      <th>False</th>\n",
       "      <th>False</th>\n",
       "      <td>17</td>\n",
       "    </tr>\n",
       "    <tr>\n",
       "      <th>True</th>\n",
       "      <th>True</th>\n",
       "      <th>False</th>\n",
       "      <th>False</th>\n",
       "      <td>6</td>\n",
       "    </tr>\n",
       "  </tbody>\n",
       "</table>\n",
       "</div>"
      ],
      "text/plain": [
       "                                                                                                                                                               0\n",
       "uid   age   attraction_coeff coins country visit_days gender age_filter_start age_filter_end views_count was_premium is_premium total_revenue age_group_my      \n",
       "False False False            True  False   False      False  False            False          False       True        True       False         False         3847\n",
       "                                                                                                         False       True       False         False          203\n",
       "                                                                                                                     False      False         False          153\n",
       "                             False False   False      False  False            False          False       False       False      False         False           38\n",
       "                                                                                                                     True       False         False           17\n",
       "                                                                                                         True        True       False         False            6"
      ]
     },
     "execution_count": 56,
     "metadata": {},
     "output_type": "execute_result"
    }
   ],
   "source": [
    "# проверим на наличие пустых значений во всей таблице\n",
    "df_users_control_2.isnull().value_counts().to_frame()"
   ]
  },
  {
   "cell_type": "markdown",
   "metadata": {},
   "source": [
    "судя по пустым полям каких-то грубых отклонений в данных не ожидается."
   ]
  },
  {
   "cell_type": "code",
   "execution_count": 57,
   "metadata": {
    "scrolled": false
   },
   "outputs": [
    {
     "data": {
      "text/plain": [
       "uid                    int64\n",
       "age                    int64\n",
       "attraction_coeff       int64\n",
       "coins                float64\n",
       "country               object\n",
       "visit_days             int64\n",
       "gender                 int64\n",
       "age_filter_start       int64\n",
       "age_filter_end         int64\n",
       "views_count            int64\n",
       "was_premium          float64\n",
       "is_premium           float64\n",
       "total_revenue          int64\n",
       "age_group_my        category\n",
       "dtype: object"
      ]
     },
     "execution_count": 57,
     "metadata": {},
     "output_type": "execute_result"
    }
   ],
   "source": [
    "df_users_control_2.dtypes"
   ]
  },
  {
   "cell_type": "code",
   "execution_count": 58,
   "metadata": {},
   "outputs": [],
   "source": [
    "# возрастной интервал разбит на две колонки, для удобства дальнейшей работы объединим в одну колонку и представим в виде 1-5\n",
    "# поменяем тип данных колонок age_filter_start, age_filter_end\n",
    "df_users_control_2['age_filter_start'] = df_users_control_2['age_filter_start'].astype(\"string\")\n",
    "df_users_control_2['age_filter_end'] = df_users_control_2['age_filter_end'].astype(\"string\")"
   ]
  },
  {
   "cell_type": "code",
   "execution_count": 59,
   "metadata": {
    "scrolled": true
   },
   "outputs": [
    {
     "data": {
      "text/plain": [
       "uid                    int64\n",
       "age                    int64\n",
       "attraction_coeff       int64\n",
       "coins                float64\n",
       "country               object\n",
       "visit_days             int64\n",
       "gender                 int64\n",
       "views_count            int64\n",
       "was_premium          float64\n",
       "is_premium           float64\n",
       "total_revenue          int64\n",
       "age_group_my        category\n",
       "age_int               string\n",
       "dtype: object"
      ]
     },
     "execution_count": 59,
     "metadata": {},
     "output_type": "execute_result"
    }
   ],
   "source": [
    "df_users_test.dtypes"
   ]
  },
  {
   "cell_type": "code",
   "execution_count": 60,
   "metadata": {},
   "outputs": [],
   "source": [
    "# произведем конкатенацию и удалим не нужные колонки из таблицы\n",
    "df_users_control_2['age_int'] = df_users_control_2.age_filter_start + '-' + df_users_control_2.age_filter_end\n",
    "df_users_control_2 = df_users_control_2.drop(['age_filter_start', 'age_filter_end'], axis=1)"
   ]
  },
  {
   "cell_type": "code",
   "execution_count": 61,
   "metadata": {
    "scrolled": true
   },
   "outputs": [
    {
     "data": {
      "text/html": [
       "<div>\n",
       "<style scoped>\n",
       "    .dataframe tbody tr th:only-of-type {\n",
       "        vertical-align: middle;\n",
       "    }\n",
       "\n",
       "    .dataframe tbody tr th {\n",
       "        vertical-align: top;\n",
       "    }\n",
       "\n",
       "    .dataframe thead th {\n",
       "        text-align: right;\n",
       "    }\n",
       "</style>\n",
       "<table border=\"1\" class=\"dataframe\">\n",
       "  <thead>\n",
       "    <tr style=\"text-align: right;\">\n",
       "      <th></th>\n",
       "      <th>uid</th>\n",
       "      <th>age</th>\n",
       "      <th>attraction_coeff</th>\n",
       "      <th>coins</th>\n",
       "      <th>country</th>\n",
       "      <th>visit_days</th>\n",
       "      <th>gender</th>\n",
       "      <th>views_count</th>\n",
       "      <th>was_premium</th>\n",
       "      <th>is_premium</th>\n",
       "      <th>total_revenue</th>\n",
       "      <th>age_group_my</th>\n",
       "      <th>age_int</th>\n",
       "    </tr>\n",
       "  </thead>\n",
       "  <tbody>\n",
       "    <tr>\n",
       "      <th>0</th>\n",
       "      <td>892035504</td>\n",
       "      <td>37</td>\n",
       "      <td>137</td>\n",
       "      <td>NaN</td>\n",
       "      <td>Israel</td>\n",
       "      <td>11</td>\n",
       "      <td>1</td>\n",
       "      <td>51</td>\n",
       "      <td>NaN</td>\n",
       "      <td>NaN</td>\n",
       "      <td>0</td>\n",
       "      <td>25-38</td>\n",
       "      <td>30-40</td>\n",
       "    </tr>\n",
       "    <tr>\n",
       "      <th>1</th>\n",
       "      <td>891782112</td>\n",
       "      <td>57</td>\n",
       "      <td>0</td>\n",
       "      <td>NaN</td>\n",
       "      <td>Italy</td>\n",
       "      <td>1</td>\n",
       "      <td>1</td>\n",
       "      <td>0</td>\n",
       "      <td>NaN</td>\n",
       "      <td>NaN</td>\n",
       "      <td>0</td>\n",
       "      <td>38-</td>\n",
       "      <td>54-60</td>\n",
       "    </tr>\n",
       "    <tr>\n",
       "      <th>2</th>\n",
       "      <td>891110337</td>\n",
       "      <td>30</td>\n",
       "      <td>769</td>\n",
       "      <td>NaN</td>\n",
       "      <td>France</td>\n",
       "      <td>5</td>\n",
       "      <td>1</td>\n",
       "      <td>13</td>\n",
       "      <td>NaN</td>\n",
       "      <td>NaN</td>\n",
       "      <td>0</td>\n",
       "      <td>25-38</td>\n",
       "      <td>27-33</td>\n",
       "    </tr>\n",
       "    <tr>\n",
       "      <th>3</th>\n",
       "      <td>891796320</td>\n",
       "      <td>48</td>\n",
       "      <td>750</td>\n",
       "      <td>NaN</td>\n",
       "      <td>France</td>\n",
       "      <td>11</td>\n",
       "      <td>1</td>\n",
       "      <td>12</td>\n",
       "      <td>NaN</td>\n",
       "      <td>NaN</td>\n",
       "      <td>0</td>\n",
       "      <td>38-</td>\n",
       "      <td>45-51</td>\n",
       "    </tr>\n",
       "    <tr>\n",
       "      <th>4</th>\n",
       "      <td>891880212</td>\n",
       "      <td>54</td>\n",
       "      <td>638</td>\n",
       "      <td>NaN</td>\n",
       "      <td>United States of America</td>\n",
       "      <td>1</td>\n",
       "      <td>1</td>\n",
       "      <td>94</td>\n",
       "      <td>NaN</td>\n",
       "      <td>NaN</td>\n",
       "      <td>0</td>\n",
       "      <td>38-</td>\n",
       "      <td>35-53</td>\n",
       "    </tr>\n",
       "  </tbody>\n",
       "</table>\n",
       "</div>"
      ],
      "text/plain": [
       "         uid  age  attraction_coeff  coins                   country  \\\n",
       "0  892035504   37               137    NaN                    Israel   \n",
       "1  891782112   57                 0    NaN                     Italy   \n",
       "2  891110337   30               769    NaN                    France   \n",
       "3  891796320   48               750    NaN                    France   \n",
       "4  891880212   54               638    NaN  United States of America   \n",
       "\n",
       "   visit_days  gender  views_count  was_premium  is_premium  total_revenue  \\\n",
       "0          11       1           51          NaN         NaN              0   \n",
       "1           1       1            0          NaN         NaN              0   \n",
       "2           5       1           13          NaN         NaN              0   \n",
       "3          11       1           12          NaN         NaN              0   \n",
       "4           1       1           94          NaN         NaN              0   \n",
       "\n",
       "  age_group_my age_int  \n",
       "0        25-38   30-40  \n",
       "1          38-   54-60  \n",
       "2        25-38   27-33  \n",
       "3          38-   45-51  \n",
       "4          38-   35-53  "
      ]
     },
     "execution_count": 61,
     "metadata": {},
     "output_type": "execute_result"
    }
   ],
   "source": [
    "# проверяем результат\n",
    "df_users_control_2.head()"
   ]
  },
  {
   "cell_type": "code",
   "execution_count": 62,
   "metadata": {},
   "outputs": [
    {
     "data": {
      "text/html": [
       "<div>\n",
       "<style scoped>\n",
       "    .dataframe tbody tr th:only-of-type {\n",
       "        vertical-align: middle;\n",
       "    }\n",
       "\n",
       "    .dataframe tbody tr th {\n",
       "        vertical-align: top;\n",
       "    }\n",
       "\n",
       "    .dataframe thead th {\n",
       "        text-align: right;\n",
       "    }\n",
       "</style>\n",
       "<table border=\"1\" class=\"dataframe\">\n",
       "  <thead>\n",
       "    <tr style=\"text-align: right;\">\n",
       "      <th></th>\n",
       "      <th>uid</th>\n",
       "      <th>age</th>\n",
       "      <th>attraction_coeff</th>\n",
       "      <th>coins</th>\n",
       "      <th>country</th>\n",
       "      <th>visit_days</th>\n",
       "      <th>gender</th>\n",
       "      <th>views_count</th>\n",
       "      <th>was_premium</th>\n",
       "      <th>is_premium</th>\n",
       "      <th>total_revenue</th>\n",
       "      <th>age_group_my</th>\n",
       "      <th>age_int</th>\n",
       "    </tr>\n",
       "  </thead>\n",
       "  <tbody>\n",
       "    <tr>\n",
       "      <th>count</th>\n",
       "      <td>4264</td>\n",
       "      <td>4264</td>\n",
       "      <td>4264</td>\n",
       "      <td>61</td>\n",
       "      <td>4264</td>\n",
       "      <td>4264</td>\n",
       "      <td>4264</td>\n",
       "      <td>4264</td>\n",
       "      <td>411</td>\n",
       "      <td>191</td>\n",
       "      <td>4264</td>\n",
       "      <td>4264</td>\n",
       "      <td>4264</td>\n",
       "    </tr>\n",
       "    <tr>\n",
       "      <th>size</th>\n",
       "      <td>4264</td>\n",
       "      <td>4264</td>\n",
       "      <td>4264</td>\n",
       "      <td>4264</td>\n",
       "      <td>4264</td>\n",
       "      <td>4264</td>\n",
       "      <td>4264</td>\n",
       "      <td>4264</td>\n",
       "      <td>4264</td>\n",
       "      <td>4264</td>\n",
       "      <td>4264</td>\n",
       "      <td>4264</td>\n",
       "      <td>4264</td>\n",
       "    </tr>\n",
       "    <tr>\n",
       "      <th>nunique</th>\n",
       "      <td>4264</td>\n",
       "      <td>59</td>\n",
       "      <td>585</td>\n",
       "      <td>23</td>\n",
       "      <td>45</td>\n",
       "      <td>32</td>\n",
       "      <td>2</td>\n",
       "      <td>328</td>\n",
       "      <td>1</td>\n",
       "      <td>1</td>\n",
       "      <td>128</td>\n",
       "      <td>4</td>\n",
       "      <td>613</td>\n",
       "    </tr>\n",
       "  </tbody>\n",
       "</table>\n",
       "</div>"
      ],
      "text/plain": [
       "          uid   age  attraction_coeff  coins  country  visit_days  gender  \\\n",
       "count    4264  4264              4264     61     4264        4264    4264   \n",
       "size     4264  4264              4264   4264     4264        4264    4264   \n",
       "nunique  4264    59               585     23       45          32       2   \n",
       "\n",
       "         views_count  was_premium  is_premium  total_revenue  age_group_my  \\\n",
       "count           4264          411         191           4264          4264   \n",
       "size            4264         4264        4264           4264          4264   \n",
       "nunique          328            1           1            128             4   \n",
       "\n",
       "         age_int  \n",
       "count       4264  \n",
       "size        4264  \n",
       "nunique      613  "
      ]
     },
     "execution_count": 62,
     "metadata": {},
     "output_type": "execute_result"
    }
   ],
   "source": [
    "# взглянем на общий размер, количество значений и уникальных записей\n",
    "df_users_control_2.agg(['count', 'size', 'nunique'])"
   ]
  },
  {
   "cell_type": "markdown",
   "metadata": {},
   "source": [
    "#### 3. df_transactions_test"
   ]
  },
  {
   "cell_type": "code",
   "execution_count": 63,
   "metadata": {
    "scrolled": false
   },
   "outputs": [
    {
     "data": {
      "text/html": [
       "<div>\n",
       "<style scoped>\n",
       "    .dataframe tbody tr th:only-of-type {\n",
       "        vertical-align: middle;\n",
       "    }\n",
       "\n",
       "    .dataframe tbody tr th {\n",
       "        vertical-align: top;\n",
       "    }\n",
       "\n",
       "    .dataframe thead th {\n",
       "        text-align: right;\n",
       "    }\n",
       "</style>\n",
       "<table border=\"1\" class=\"dataframe\">\n",
       "  <thead>\n",
       "    <tr style=\"text-align: right;\">\n",
       "      <th></th>\n",
       "      <th>uid</th>\n",
       "      <th>country</th>\n",
       "      <th>joined_at</th>\n",
       "      <th>paid_at</th>\n",
       "      <th>revenue</th>\n",
       "      <th>payment_id</th>\n",
       "      <th>from_page</th>\n",
       "      <th>product_type</th>\n",
       "    </tr>\n",
       "  </thead>\n",
       "  <tbody>\n",
       "    <tr>\n",
       "      <th>0</th>\n",
       "      <td>891345942</td>\n",
       "      <td>Italy</td>\n",
       "      <td>2017-05-11 13:00:00</td>\n",
       "      <td>2017-11-13 15:04:00</td>\n",
       "      <td>12909</td>\n",
       "      <td>147</td>\n",
       "      <td>trial_vip_popup</td>\n",
       "      <td>trial_premium</td>\n",
       "    </tr>\n",
       "    <tr>\n",
       "      <th>1</th>\n",
       "      <td>892054251</td>\n",
       "      <td>United States of America</td>\n",
       "      <td>2017-10-22 00:33:00</td>\n",
       "      <td>2017-10-30 01:37:00</td>\n",
       "      <td>13923</td>\n",
       "      <td>147</td>\n",
       "      <td>trial_vip_popup</td>\n",
       "      <td>trial_premium</td>\n",
       "    </tr>\n",
       "    <tr>\n",
       "      <th>2</th>\n",
       "      <td>892236423</td>\n",
       "      <td>United States of America</td>\n",
       "      <td>2017-10-18 01:09:00</td>\n",
       "      <td>2017-10-23 00:15:00</td>\n",
       "      <td>3783</td>\n",
       "      <td>67</td>\n",
       "      <td>menu</td>\n",
       "      <td>other_type</td>\n",
       "    </tr>\n",
       "    <tr>\n",
       "      <th>3</th>\n",
       "      <td>892236423</td>\n",
       "      <td>United States of America</td>\n",
       "      <td>2017-10-18 01:09:00</td>\n",
       "      <td>2017-10-27 22:38:00</td>\n",
       "      <td>3783</td>\n",
       "      <td>67</td>\n",
       "      <td>menu</td>\n",
       "      <td>other_type</td>\n",
       "    </tr>\n",
       "    <tr>\n",
       "      <th>4</th>\n",
       "      <td>892168170</td>\n",
       "      <td>United States of America</td>\n",
       "      <td>2017-10-19 17:10:00</td>\n",
       "      <td>2017-10-27 19:10:00</td>\n",
       "      <td>9087</td>\n",
       "      <td>147</td>\n",
       "      <td>trial_vip_popup</td>\n",
       "      <td>trial_premium</td>\n",
       "    </tr>\n",
       "  </tbody>\n",
       "</table>\n",
       "</div>"
      ],
      "text/plain": [
       "         uid                   country           joined_at  \\\n",
       "0  891345942                     Italy 2017-05-11 13:00:00   \n",
       "1  892054251  United States of America 2017-10-22 00:33:00   \n",
       "2  892236423  United States of America 2017-10-18 01:09:00   \n",
       "3  892236423  United States of America 2017-10-18 01:09:00   \n",
       "4  892168170  United States of America 2017-10-19 17:10:00   \n",
       "\n",
       "              paid_at  revenue  payment_id        from_page   product_type  \n",
       "0 2017-11-13 15:04:00    12909         147  trial_vip_popup  trial_premium  \n",
       "1 2017-10-30 01:37:00    13923         147  trial_vip_popup  trial_premium  \n",
       "2 2017-10-23 00:15:00     3783          67             menu     other_type  \n",
       "3 2017-10-27 22:38:00     3783          67             menu     other_type  \n",
       "4 2017-10-27 19:10:00     9087         147  trial_vip_popup  trial_premium  "
      ]
     },
     "execution_count": 63,
     "metadata": {},
     "output_type": "execute_result"
    }
   ],
   "source": [
    "df_transactions_test.head()"
   ]
  },
  {
   "cell_type": "code",
   "execution_count": 64,
   "metadata": {
    "scrolled": false
   },
   "outputs": [
    {
     "data": {
      "text/plain": [
       "(273, 8)"
      ]
     },
     "execution_count": 64,
     "metadata": {},
     "output_type": "execute_result"
    }
   ],
   "source": [
    "df_transactions_test.shape"
   ]
  },
  {
   "cell_type": "code",
   "execution_count": 65,
   "metadata": {
    "scrolled": true
   },
   "outputs": [
    {
     "data": {
      "text/plain": [
       "uid                      int64\n",
       "country                 object\n",
       "joined_at       datetime64[ns]\n",
       "paid_at         datetime64[ns]\n",
       "revenue                  int64\n",
       "payment_id               int64\n",
       "from_page               object\n",
       "product_type            object\n",
       "dtype: object"
      ]
     },
     "execution_count": 65,
     "metadata": {},
     "output_type": "execute_result"
    }
   ],
   "source": [
    "df_transactions_test.dtypes"
   ]
  },
  {
   "cell_type": "code",
   "execution_count": 66,
   "metadata": {
    "scrolled": true
   },
   "outputs": [
    {
     "data": {
      "text/plain": [
       "uid                      int64\n",
       "country                 object\n",
       "joined_at       datetime64[ns]\n",
       "paid_at         datetime64[ns]\n",
       "revenue                  int64\n",
       "payment_id               int64\n",
       "from_page               object\n",
       "product_type            object\n",
       "dtype: object"
      ]
     },
     "execution_count": 66,
     "metadata": {},
     "output_type": "execute_result"
    }
   ],
   "source": [
    "df_transactions_test.dtypes"
   ]
  },
  {
   "cell_type": "code",
   "execution_count": 67,
   "metadata": {
    "scrolled": true
   },
   "outputs": [
    {
     "data": {
      "text/html": [
       "<div>\n",
       "<style scoped>\n",
       "    .dataframe tbody tr th:only-of-type {\n",
       "        vertical-align: middle;\n",
       "    }\n",
       "\n",
       "    .dataframe tbody tr th {\n",
       "        vertical-align: top;\n",
       "    }\n",
       "\n",
       "    .dataframe thead th {\n",
       "        text-align: right;\n",
       "    }\n",
       "</style>\n",
       "<table border=\"1\" class=\"dataframe\">\n",
       "  <thead>\n",
       "    <tr style=\"text-align: right;\">\n",
       "      <th></th>\n",
       "      <th></th>\n",
       "      <th></th>\n",
       "      <th></th>\n",
       "      <th></th>\n",
       "      <th></th>\n",
       "      <th></th>\n",
       "      <th></th>\n",
       "      <th>0</th>\n",
       "    </tr>\n",
       "    <tr>\n",
       "      <th>uid</th>\n",
       "      <th>country</th>\n",
       "      <th>joined_at</th>\n",
       "      <th>paid_at</th>\n",
       "      <th>revenue</th>\n",
       "      <th>payment_id</th>\n",
       "      <th>from_page</th>\n",
       "      <th>product_type</th>\n",
       "      <th></th>\n",
       "    </tr>\n",
       "  </thead>\n",
       "  <tbody>\n",
       "    <tr>\n",
       "      <th>False</th>\n",
       "      <th>False</th>\n",
       "      <th>False</th>\n",
       "      <th>False</th>\n",
       "      <th>False</th>\n",
       "      <th>False</th>\n",
       "      <th>False</th>\n",
       "      <th>False</th>\n",
       "      <td>273</td>\n",
       "    </tr>\n",
       "  </tbody>\n",
       "</table>\n",
       "</div>"
      ],
      "text/plain": [
       "                                                                             0\n",
       "uid   country joined_at paid_at revenue payment_id from_page product_type     \n",
       "False False   False     False   False   False      False     False         273"
      ]
     },
     "execution_count": 67,
     "metadata": {},
     "output_type": "execute_result"
    }
   ],
   "source": [
    "# Пустые значения отсутствуют\n",
    "df_transactions_test.isnull().value_counts().to_frame()"
   ]
  },
  {
   "cell_type": "code",
   "execution_count": 68,
   "metadata": {
    "scrolled": false
   },
   "outputs": [
    {
     "data": {
      "text/html": [
       "<div>\n",
       "<style scoped>\n",
       "    .dataframe tbody tr th:only-of-type {\n",
       "        vertical-align: middle;\n",
       "    }\n",
       "\n",
       "    .dataframe tbody tr th {\n",
       "        vertical-align: top;\n",
       "    }\n",
       "\n",
       "    .dataframe thead th {\n",
       "        text-align: right;\n",
       "    }\n",
       "</style>\n",
       "<table border=\"1\" class=\"dataframe\">\n",
       "  <thead>\n",
       "    <tr style=\"text-align: right;\">\n",
       "      <th></th>\n",
       "      <th>uid</th>\n",
       "      <th>total_revenue</th>\n",
       "    </tr>\n",
       "  </thead>\n",
       "  <tbody>\n",
       "    <tr>\n",
       "      <th>3629</th>\n",
       "      <td>891178380</td>\n",
       "      <td>129870</td>\n",
       "    </tr>\n",
       "    <tr>\n",
       "      <th>992</th>\n",
       "      <td>892038759</td>\n",
       "      <td>123565</td>\n",
       "    </tr>\n",
       "    <tr>\n",
       "      <th>406</th>\n",
       "      <td>892236423</td>\n",
       "      <td>95823</td>\n",
       "    </tr>\n",
       "    <tr>\n",
       "      <th>597</th>\n",
       "      <td>891346269</td>\n",
       "      <td>75647</td>\n",
       "    </tr>\n",
       "    <tr>\n",
       "      <th>1316</th>\n",
       "      <td>892150854</td>\n",
       "      <td>61789</td>\n",
       "    </tr>\n",
       "  </tbody>\n",
       "</table>\n",
       "</div>"
      ],
      "text/plain": [
       "            uid  total_revenue\n",
       "3629  891178380         129870\n",
       "992   892038759         123565\n",
       "406   892236423          95823\n",
       "597   891346269          75647\n",
       "1316  892150854          61789"
      ]
     },
     "execution_count": 68,
     "metadata": {},
     "output_type": "execute_result"
    }
   ],
   "source": [
    "# посмотрим на пользователей, которые принесли максимальную выручку\n",
    "df_users_test.sort_values(by='total_revenue', ascending=False)[['uid','total_revenue']].head(5)"
   ]
  },
  {
   "cell_type": "code",
   "execution_count": 69,
   "metadata": {
    "scrolled": true
   },
   "outputs": [
    {
     "data": {
      "text/html": [
       "<div>\n",
       "<style scoped>\n",
       "    .dataframe tbody tr th:only-of-type {\n",
       "        vertical-align: middle;\n",
       "    }\n",
       "\n",
       "    .dataframe tbody tr th {\n",
       "        vertical-align: top;\n",
       "    }\n",
       "\n",
       "    .dataframe thead th {\n",
       "        text-align: right;\n",
       "    }\n",
       "</style>\n",
       "<table border=\"1\" class=\"dataframe\">\n",
       "  <thead>\n",
       "    <tr style=\"text-align: right;\">\n",
       "      <th></th>\n",
       "      <th>uid</th>\n",
       "      <th>country</th>\n",
       "      <th>joined_at</th>\n",
       "      <th>paid_at</th>\n",
       "      <th>revenue</th>\n",
       "      <th>payment_id</th>\n",
       "      <th>from_page</th>\n",
       "      <th>product_type</th>\n",
       "    </tr>\n",
       "  </thead>\n",
       "  <tbody>\n",
       "    <tr>\n",
       "      <th>155</th>\n",
       "      <td>892038759</td>\n",
       "      <td>United Arab Emirates</td>\n",
       "      <td>2017-10-22 11:12:00</td>\n",
       "      <td>2017-10-22 11:46:00</td>\n",
       "      <td>6305</td>\n",
       "      <td>19</td>\n",
       "      <td>empty_likes</td>\n",
       "      <td>coins</td>\n",
       "    </tr>\n",
       "    <tr>\n",
       "      <th>196</th>\n",
       "      <td>892038759</td>\n",
       "      <td>United Arab Emirates</td>\n",
       "      <td>2017-10-22 11:12:00</td>\n",
       "      <td>2017-10-22 16:23:00</td>\n",
       "      <td>113477</td>\n",
       "      <td>147</td>\n",
       "      <td>autoreply_message</td>\n",
       "      <td>premium_no_trial</td>\n",
       "    </tr>\n",
       "    <tr>\n",
       "      <th>198</th>\n",
       "      <td>892038759</td>\n",
       "      <td>United Arab Emirates</td>\n",
       "      <td>2017-10-22 11:12:00</td>\n",
       "      <td>2017-10-22 11:36:00</td>\n",
       "      <td>3783</td>\n",
       "      <td>67</td>\n",
       "      <td>empty_likes</td>\n",
       "      <td>other_type</td>\n",
       "    </tr>\n",
       "  </tbody>\n",
       "</table>\n",
       "</div>"
      ],
      "text/plain": [
       "           uid               country           joined_at             paid_at  \\\n",
       "155  892038759  United Arab Emirates 2017-10-22 11:12:00 2017-10-22 11:46:00   \n",
       "196  892038759  United Arab Emirates 2017-10-22 11:12:00 2017-10-22 16:23:00   \n",
       "198  892038759  United Arab Emirates 2017-10-22 11:12:00 2017-10-22 11:36:00   \n",
       "\n",
       "     revenue  payment_id          from_page      product_type  \n",
       "155     6305          19        empty_likes             coins  \n",
       "196   113477         147  autoreply_message  premium_no_trial  \n",
       "198     3783          67        empty_likes        other_type  "
      ]
     },
     "execution_count": 69,
     "metadata": {},
     "output_type": "execute_result"
    }
   ],
   "source": [
    "# взглянем на пользователя 892038759, почему-то оплата внутренней валютой то же идет в выручку.\n",
    "df_transactions_test[df_transactions_test.uid == 892038759]"
   ]
  },
  {
   "cell_type": "markdown",
   "metadata": {},
   "source": [
    "возможно она то же покупается."
   ]
  },
  {
   "cell_type": "code",
   "execution_count": 70,
   "metadata": {
    "scrolled": true
   },
   "outputs": [
    {
     "data": {
      "text/html": [
       "<div>\n",
       "<style scoped>\n",
       "    .dataframe tbody tr th:only-of-type {\n",
       "        vertical-align: middle;\n",
       "    }\n",
       "\n",
       "    .dataframe tbody tr th {\n",
       "        vertical-align: top;\n",
       "    }\n",
       "\n",
       "    .dataframe thead th {\n",
       "        text-align: right;\n",
       "    }\n",
       "</style>\n",
       "<table border=\"1\" class=\"dataframe\">\n",
       "  <thead>\n",
       "    <tr style=\"text-align: right;\">\n",
       "      <th></th>\n",
       "      <th>from_page</th>\n",
       "      <th>revenue</th>\n",
       "    </tr>\n",
       "  </thead>\n",
       "  <tbody>\n",
       "    <tr>\n",
       "      <th>20</th>\n",
       "      <td>trial_vip_popup</td>\n",
       "      <td>600886</td>\n",
       "    </tr>\n",
       "    <tr>\n",
       "      <th>6</th>\n",
       "      <td>empty_likes</td>\n",
       "      <td>400166</td>\n",
       "    </tr>\n",
       "    <tr>\n",
       "      <th>2</th>\n",
       "      <td>autoreply_message</td>\n",
       "      <td>358527</td>\n",
       "    </tr>\n",
       "    <tr>\n",
       "      <th>16</th>\n",
       "      <td>promo_09</td>\n",
       "      <td>281398</td>\n",
       "    </tr>\n",
       "    <tr>\n",
       "      <th>12</th>\n",
       "      <td>menu</td>\n",
       "      <td>141934</td>\n",
       "    </tr>\n",
       "    <tr>\n",
       "      <th>13</th>\n",
       "      <td>none</td>\n",
       "      <td>141180</td>\n",
       "    </tr>\n",
       "    <tr>\n",
       "      <th>15</th>\n",
       "      <td>popular_users_chat</td>\n",
       "      <td>89895</td>\n",
       "    </tr>\n",
       "    <tr>\n",
       "      <th>4</th>\n",
       "      <td>dating</td>\n",
       "      <td>60086</td>\n",
       "    </tr>\n",
       "    <tr>\n",
       "      <th>10</th>\n",
       "      <td>left_sidebar_menu</td>\n",
       "      <td>49010</td>\n",
       "    </tr>\n",
       "    <tr>\n",
       "      <th>18</th>\n",
       "      <td>super_popup</td>\n",
       "      <td>45149</td>\n",
       "    </tr>\n",
       "    <tr>\n",
       "      <th>3</th>\n",
       "      <td>coins_popup</td>\n",
       "      <td>44083</td>\n",
       "    </tr>\n",
       "    <tr>\n",
       "      <th>1</th>\n",
       "      <td>autorefill</td>\n",
       "      <td>27742</td>\n",
       "    </tr>\n",
       "    <tr>\n",
       "      <th>14</th>\n",
       "      <td>popular_users_block</td>\n",
       "      <td>21814</td>\n",
       "    </tr>\n",
       "    <tr>\n",
       "      <th>8</th>\n",
       "      <td>fans</td>\n",
       "      <td>19825</td>\n",
       "    </tr>\n",
       "    <tr>\n",
       "      <th>21</th>\n",
       "      <td>user_profile</td>\n",
       "      <td>14404</td>\n",
       "    </tr>\n",
       "    <tr>\n",
       "      <th>17</th>\n",
       "      <td>send_message</td>\n",
       "      <td>12597</td>\n",
       "    </tr>\n",
       "    <tr>\n",
       "      <th>9</th>\n",
       "      <td>gifts</td>\n",
       "      <td>10790</td>\n",
       "    </tr>\n",
       "    <tr>\n",
       "      <th>5</th>\n",
       "      <td>delivery_vip</td>\n",
       "      <td>9542</td>\n",
       "    </tr>\n",
       "    <tr>\n",
       "      <th>11</th>\n",
       "      <td>likes</td>\n",
       "      <td>6032</td>\n",
       "    </tr>\n",
       "    <tr>\n",
       "      <th>19</th>\n",
       "      <td>sympathy</td>\n",
       "      <td>5161</td>\n",
       "    </tr>\n",
       "    <tr>\n",
       "      <th>7</th>\n",
       "      <td>empty_mutual</td>\n",
       "      <td>3783</td>\n",
       "    </tr>\n",
       "    <tr>\n",
       "      <th>0</th>\n",
       "      <td>ad_to_photo</td>\n",
       "      <td>897</td>\n",
       "    </tr>\n",
       "  </tbody>\n",
       "</table>\n",
       "</div>"
      ],
      "text/plain": [
       "              from_page  revenue\n",
       "20      trial_vip_popup   600886\n",
       "6           empty_likes   400166\n",
       "2     autoreply_message   358527\n",
       "16             promo_09   281398\n",
       "12                 menu   141934\n",
       "13                 none   141180\n",
       "15   popular_users_chat    89895\n",
       "4                dating    60086\n",
       "10    left_sidebar_menu    49010\n",
       "18          super_popup    45149\n",
       "3           coins_popup    44083\n",
       "1            autorefill    27742\n",
       "14  popular_users_block    21814\n",
       "8                  fans    19825\n",
       "21         user_profile    14404\n",
       "17         send_message    12597\n",
       "9                 gifts    10790\n",
       "5          delivery_vip     9542\n",
       "11                likes     6032\n",
       "19             sympathy     5161\n",
       "7          empty_mutual     3783\n",
       "0           ad_to_photo      897"
      ]
     },
     "execution_count": 70,
     "metadata": {},
     "output_type": "execute_result"
    }
   ],
   "source": [
    "# в дополнение посмотрим, какие статусы могут быть у колонки from_page и просуммируем revenue, для каждого статуса.\n",
    "df_transactions_test.groupby(['from_page'], as_index=False)\\\n",
    "                    .agg({'revenue':'sum'})\\\n",
    "                    .sort_values(by='revenue', ascending=False)"
   ]
  },
  {
   "cell_type": "code",
   "execution_count": 71,
   "metadata": {},
   "outputs": [
    {
     "data": {
      "text/html": [
       "<div>\n",
       "<style scoped>\n",
       "    .dataframe tbody tr th:only-of-type {\n",
       "        vertical-align: middle;\n",
       "    }\n",
       "\n",
       "    .dataframe tbody tr th {\n",
       "        vertical-align: top;\n",
       "    }\n",
       "\n",
       "    .dataframe thead th {\n",
       "        text-align: right;\n",
       "    }\n",
       "</style>\n",
       "<table border=\"1\" class=\"dataframe\">\n",
       "  <thead>\n",
       "    <tr style=\"text-align: right;\">\n",
       "      <th></th>\n",
       "      <th>uid</th>\n",
       "      <th>age</th>\n",
       "      <th>attraction_coeff</th>\n",
       "      <th>coins</th>\n",
       "      <th>country</th>\n",
       "      <th>visit_days</th>\n",
       "      <th>gender</th>\n",
       "      <th>views_count</th>\n",
       "      <th>was_premium</th>\n",
       "      <th>is_premium</th>\n",
       "      <th>total_revenue</th>\n",
       "      <th>age_group_my</th>\n",
       "      <th>age_int</th>\n",
       "    </tr>\n",
       "  </thead>\n",
       "  <tbody>\n",
       "    <tr>\n",
       "      <th>count</th>\n",
       "      <td>4308</td>\n",
       "      <td>4308</td>\n",
       "      <td>4308</td>\n",
       "      <td>49</td>\n",
       "      <td>4308</td>\n",
       "      <td>4308</td>\n",
       "      <td>4308</td>\n",
       "      <td>4308</td>\n",
       "      <td>408</td>\n",
       "      <td>157</td>\n",
       "      <td>4308</td>\n",
       "      <td>4308</td>\n",
       "      <td>4308</td>\n",
       "    </tr>\n",
       "    <tr>\n",
       "      <th>size</th>\n",
       "      <td>4308</td>\n",
       "      <td>4308</td>\n",
       "      <td>4308</td>\n",
       "      <td>4308</td>\n",
       "      <td>4308</td>\n",
       "      <td>4308</td>\n",
       "      <td>4308</td>\n",
       "      <td>4308</td>\n",
       "      <td>4308</td>\n",
       "      <td>4308</td>\n",
       "      <td>4308</td>\n",
       "      <td>4308</td>\n",
       "      <td>4308</td>\n",
       "    </tr>\n",
       "    <tr>\n",
       "      <th>nunique</th>\n",
       "      <td>4308</td>\n",
       "      <td>57</td>\n",
       "      <td>600</td>\n",
       "      <td>28</td>\n",
       "      <td>51</td>\n",
       "      <td>32</td>\n",
       "      <td>2</td>\n",
       "      <td>331</td>\n",
       "      <td>1</td>\n",
       "      <td>1</td>\n",
       "      <td>105</td>\n",
       "      <td>4</td>\n",
       "      <td>619</td>\n",
       "    </tr>\n",
       "  </tbody>\n",
       "</table>\n",
       "</div>"
      ],
      "text/plain": [
       "          uid   age  attraction_coeff  coins  country  visit_days  gender  \\\n",
       "count    4308  4308              4308     49     4308        4308    4308   \n",
       "size     4308  4308              4308   4308     4308        4308    4308   \n",
       "nunique  4308    57               600     28       51          32       2   \n",
       "\n",
       "         views_count  was_premium  is_premium  total_revenue  age_group_my  \\\n",
       "count           4308          408         157           4308          4308   \n",
       "size            4308         4308        4308           4308          4308   \n",
       "nunique          331            1           1            105             4   \n",
       "\n",
       "         age_int  \n",
       "count       4308  \n",
       "size        4308  \n",
       "nunique      619  "
      ]
     },
     "execution_count": 71,
     "metadata": {},
     "output_type": "execute_result"
    }
   ],
   "source": [
    "# взглянем на общий размер, количество значений и уникальных записей\n",
    "df_users_test.agg(['count', 'size', 'nunique'])"
   ]
  },
  {
   "cell_type": "markdown",
   "metadata": {},
   "source": [
    "### 4. df_transactions_test"
   ]
  },
  {
   "cell_type": "code",
   "execution_count": 72,
   "metadata": {
    "scrolled": true
   },
   "outputs": [
    {
     "data": {
      "text/html": [
       "<div>\n",
       "<style scoped>\n",
       "    .dataframe tbody tr th:only-of-type {\n",
       "        vertical-align: middle;\n",
       "    }\n",
       "\n",
       "    .dataframe tbody tr th {\n",
       "        vertical-align: top;\n",
       "    }\n",
       "\n",
       "    .dataframe thead th {\n",
       "        text-align: right;\n",
       "    }\n",
       "</style>\n",
       "<table border=\"1\" class=\"dataframe\">\n",
       "  <thead>\n",
       "    <tr style=\"text-align: right;\">\n",
       "      <th></th>\n",
       "      <th>uid</th>\n",
       "      <th>country</th>\n",
       "      <th>joined_at</th>\n",
       "      <th>paid_at</th>\n",
       "      <th>revenue</th>\n",
       "      <th>payment_id</th>\n",
       "      <th>from_page</th>\n",
       "      <th>product_type</th>\n",
       "    </tr>\n",
       "  </thead>\n",
       "  <tbody>\n",
       "    <tr>\n",
       "      <th>0</th>\n",
       "      <td>891345942</td>\n",
       "      <td>Italy</td>\n",
       "      <td>2017-05-11 13:00:00</td>\n",
       "      <td>2017-11-13 15:04:00</td>\n",
       "      <td>12909</td>\n",
       "      <td>147</td>\n",
       "      <td>trial_vip_popup</td>\n",
       "      <td>trial_premium</td>\n",
       "    </tr>\n",
       "    <tr>\n",
       "      <th>1</th>\n",
       "      <td>892054251</td>\n",
       "      <td>United States of America</td>\n",
       "      <td>2017-10-22 00:33:00</td>\n",
       "      <td>2017-10-30 01:37:00</td>\n",
       "      <td>13923</td>\n",
       "      <td>147</td>\n",
       "      <td>trial_vip_popup</td>\n",
       "      <td>trial_premium</td>\n",
       "    </tr>\n",
       "    <tr>\n",
       "      <th>2</th>\n",
       "      <td>892236423</td>\n",
       "      <td>United States of America</td>\n",
       "      <td>2017-10-18 01:09:00</td>\n",
       "      <td>2017-10-23 00:15:00</td>\n",
       "      <td>3783</td>\n",
       "      <td>67</td>\n",
       "      <td>menu</td>\n",
       "      <td>other_type</td>\n",
       "    </tr>\n",
       "    <tr>\n",
       "      <th>3</th>\n",
       "      <td>892236423</td>\n",
       "      <td>United States of America</td>\n",
       "      <td>2017-10-18 01:09:00</td>\n",
       "      <td>2017-10-27 22:38:00</td>\n",
       "      <td>3783</td>\n",
       "      <td>67</td>\n",
       "      <td>menu</td>\n",
       "      <td>other_type</td>\n",
       "    </tr>\n",
       "    <tr>\n",
       "      <th>4</th>\n",
       "      <td>892168170</td>\n",
       "      <td>United States of America</td>\n",
       "      <td>2017-10-19 17:10:00</td>\n",
       "      <td>2017-10-27 19:10:00</td>\n",
       "      <td>9087</td>\n",
       "      <td>147</td>\n",
       "      <td>trial_vip_popup</td>\n",
       "      <td>trial_premium</td>\n",
       "    </tr>\n",
       "  </tbody>\n",
       "</table>\n",
       "</div>"
      ],
      "text/plain": [
       "         uid                   country           joined_at  \\\n",
       "0  891345942                     Italy 2017-05-11 13:00:00   \n",
       "1  892054251  United States of America 2017-10-22 00:33:00   \n",
       "2  892236423  United States of America 2017-10-18 01:09:00   \n",
       "3  892236423  United States of America 2017-10-18 01:09:00   \n",
       "4  892168170  United States of America 2017-10-19 17:10:00   \n",
       "\n",
       "              paid_at  revenue  payment_id        from_page   product_type  \n",
       "0 2017-11-13 15:04:00    12909         147  trial_vip_popup  trial_premium  \n",
       "1 2017-10-30 01:37:00    13923         147  trial_vip_popup  trial_premium  \n",
       "2 2017-10-23 00:15:00     3783          67             menu     other_type  \n",
       "3 2017-10-27 22:38:00     3783          67             menu     other_type  \n",
       "4 2017-10-27 19:10:00     9087         147  trial_vip_popup  trial_premium  "
      ]
     },
     "execution_count": 72,
     "metadata": {},
     "output_type": "execute_result"
    }
   ],
   "source": [
    "df_transactions_test.head()"
   ]
  },
  {
   "cell_type": "code",
   "execution_count": 73,
   "metadata": {
    "scrolled": false
   },
   "outputs": [
    {
     "data": {
      "text/plain": [
       "(273, 8)"
      ]
     },
     "execution_count": 73,
     "metadata": {},
     "output_type": "execute_result"
    }
   ],
   "source": [
    "df_transactions_test.shape"
   ]
  },
  {
   "cell_type": "code",
   "execution_count": 74,
   "metadata": {
    "scrolled": true
   },
   "outputs": [
    {
     "data": {
      "text/plain": [
       "uid                      int64\n",
       "country                 object\n",
       "joined_at       datetime64[ns]\n",
       "paid_at         datetime64[ns]\n",
       "revenue                  int64\n",
       "payment_id               int64\n",
       "from_page               object\n",
       "product_type            object\n",
       "dtype: object"
      ]
     },
     "execution_count": 74,
     "metadata": {},
     "output_type": "execute_result"
    }
   ],
   "source": [
    "df_transactions_test.dtypes"
   ]
  },
  {
   "cell_type": "code",
   "execution_count": 75,
   "metadata": {
    "scrolled": true
   },
   "outputs": [
    {
     "data": {
      "text/plain": [
       "uid                      int64\n",
       "country                 object\n",
       "joined_at       datetime64[ns]\n",
       "paid_at         datetime64[ns]\n",
       "revenue                  int64\n",
       "payment_id               int64\n",
       "from_page               object\n",
       "product_type            object\n",
       "dtype: object"
      ]
     },
     "execution_count": 75,
     "metadata": {},
     "output_type": "execute_result"
    }
   ],
   "source": [
    "df_transactions_test.dtypes"
   ]
  },
  {
   "cell_type": "code",
   "execution_count": 76,
   "metadata": {
    "scrolled": true
   },
   "outputs": [
    {
     "data": {
      "text/html": [
       "<div>\n",
       "<style scoped>\n",
       "    .dataframe tbody tr th:only-of-type {\n",
       "        vertical-align: middle;\n",
       "    }\n",
       "\n",
       "    .dataframe tbody tr th {\n",
       "        vertical-align: top;\n",
       "    }\n",
       "\n",
       "    .dataframe thead th {\n",
       "        text-align: right;\n",
       "    }\n",
       "</style>\n",
       "<table border=\"1\" class=\"dataframe\">\n",
       "  <thead>\n",
       "    <tr style=\"text-align: right;\">\n",
       "      <th></th>\n",
       "      <th></th>\n",
       "      <th></th>\n",
       "      <th></th>\n",
       "      <th></th>\n",
       "      <th></th>\n",
       "      <th></th>\n",
       "      <th></th>\n",
       "      <th>0</th>\n",
       "    </tr>\n",
       "    <tr>\n",
       "      <th>uid</th>\n",
       "      <th>country</th>\n",
       "      <th>joined_at</th>\n",
       "      <th>paid_at</th>\n",
       "      <th>revenue</th>\n",
       "      <th>payment_id</th>\n",
       "      <th>from_page</th>\n",
       "      <th>product_type</th>\n",
       "      <th></th>\n",
       "    </tr>\n",
       "  </thead>\n",
       "  <tbody>\n",
       "    <tr>\n",
       "      <th>False</th>\n",
       "      <th>False</th>\n",
       "      <th>False</th>\n",
       "      <th>False</th>\n",
       "      <th>False</th>\n",
       "      <th>False</th>\n",
       "      <th>False</th>\n",
       "      <th>False</th>\n",
       "      <td>273</td>\n",
       "    </tr>\n",
       "  </tbody>\n",
       "</table>\n",
       "</div>"
      ],
      "text/plain": [
       "                                                                             0\n",
       "uid   country joined_at paid_at revenue payment_id from_page product_type     \n",
       "False False   False     False   False   False      False     False         273"
      ]
     },
     "execution_count": 76,
     "metadata": {},
     "output_type": "execute_result"
    }
   ],
   "source": [
    "# Пустые значения отсутствуют\n",
    "df_transactions_test.isnull().value_counts().to_frame()"
   ]
  },
  {
   "cell_type": "code",
   "execution_count": 77,
   "metadata": {
    "scrolled": false
   },
   "outputs": [
    {
     "data": {
      "text/html": [
       "<div>\n",
       "<style scoped>\n",
       "    .dataframe tbody tr th:only-of-type {\n",
       "        vertical-align: middle;\n",
       "    }\n",
       "\n",
       "    .dataframe tbody tr th {\n",
       "        vertical-align: top;\n",
       "    }\n",
       "\n",
       "    .dataframe thead th {\n",
       "        text-align: right;\n",
       "    }\n",
       "</style>\n",
       "<table border=\"1\" class=\"dataframe\">\n",
       "  <thead>\n",
       "    <tr style=\"text-align: right;\">\n",
       "      <th></th>\n",
       "      <th>uid</th>\n",
       "      <th>total_revenue</th>\n",
       "    </tr>\n",
       "  </thead>\n",
       "  <tbody>\n",
       "    <tr>\n",
       "      <th>3629</th>\n",
       "      <td>891178380</td>\n",
       "      <td>129870</td>\n",
       "    </tr>\n",
       "    <tr>\n",
       "      <th>992</th>\n",
       "      <td>892038759</td>\n",
       "      <td>123565</td>\n",
       "    </tr>\n",
       "    <tr>\n",
       "      <th>406</th>\n",
       "      <td>892236423</td>\n",
       "      <td>95823</td>\n",
       "    </tr>\n",
       "    <tr>\n",
       "      <th>597</th>\n",
       "      <td>891346269</td>\n",
       "      <td>75647</td>\n",
       "    </tr>\n",
       "    <tr>\n",
       "      <th>1316</th>\n",
       "      <td>892150854</td>\n",
       "      <td>61789</td>\n",
       "    </tr>\n",
       "  </tbody>\n",
       "</table>\n",
       "</div>"
      ],
      "text/plain": [
       "            uid  total_revenue\n",
       "3629  891178380         129870\n",
       "992   892038759         123565\n",
       "406   892236423          95823\n",
       "597   891346269          75647\n",
       "1316  892150854          61789"
      ]
     },
     "execution_count": 77,
     "metadata": {},
     "output_type": "execute_result"
    }
   ],
   "source": [
    "# посмотрим на пользователей, которые принесли максимальную выручку\n",
    "df_users_test.sort_values(by='total_revenue', ascending=False)[['uid','total_revenue']].head(5)"
   ]
  },
  {
   "cell_type": "code",
   "execution_count": 78,
   "metadata": {
    "scrolled": true
   },
   "outputs": [
    {
     "data": {
      "text/html": [
       "<div>\n",
       "<style scoped>\n",
       "    .dataframe tbody tr th:only-of-type {\n",
       "        vertical-align: middle;\n",
       "    }\n",
       "\n",
       "    .dataframe tbody tr th {\n",
       "        vertical-align: top;\n",
       "    }\n",
       "\n",
       "    .dataframe thead th {\n",
       "        text-align: right;\n",
       "    }\n",
       "</style>\n",
       "<table border=\"1\" class=\"dataframe\">\n",
       "  <thead>\n",
       "    <tr style=\"text-align: right;\">\n",
       "      <th></th>\n",
       "      <th>uid</th>\n",
       "      <th>country</th>\n",
       "      <th>joined_at</th>\n",
       "      <th>paid_at</th>\n",
       "      <th>revenue</th>\n",
       "      <th>payment_id</th>\n",
       "      <th>from_page</th>\n",
       "      <th>product_type</th>\n",
       "    </tr>\n",
       "  </thead>\n",
       "  <tbody>\n",
       "    <tr>\n",
       "      <th>155</th>\n",
       "      <td>892038759</td>\n",
       "      <td>United Arab Emirates</td>\n",
       "      <td>2017-10-22 11:12:00</td>\n",
       "      <td>2017-10-22 11:46:00</td>\n",
       "      <td>6305</td>\n",
       "      <td>19</td>\n",
       "      <td>empty_likes</td>\n",
       "      <td>coins</td>\n",
       "    </tr>\n",
       "    <tr>\n",
       "      <th>196</th>\n",
       "      <td>892038759</td>\n",
       "      <td>United Arab Emirates</td>\n",
       "      <td>2017-10-22 11:12:00</td>\n",
       "      <td>2017-10-22 16:23:00</td>\n",
       "      <td>113477</td>\n",
       "      <td>147</td>\n",
       "      <td>autoreply_message</td>\n",
       "      <td>premium_no_trial</td>\n",
       "    </tr>\n",
       "    <tr>\n",
       "      <th>198</th>\n",
       "      <td>892038759</td>\n",
       "      <td>United Arab Emirates</td>\n",
       "      <td>2017-10-22 11:12:00</td>\n",
       "      <td>2017-10-22 11:36:00</td>\n",
       "      <td>3783</td>\n",
       "      <td>67</td>\n",
       "      <td>empty_likes</td>\n",
       "      <td>other_type</td>\n",
       "    </tr>\n",
       "  </tbody>\n",
       "</table>\n",
       "</div>"
      ],
      "text/plain": [
       "           uid               country           joined_at             paid_at  \\\n",
       "155  892038759  United Arab Emirates 2017-10-22 11:12:00 2017-10-22 11:46:00   \n",
       "196  892038759  United Arab Emirates 2017-10-22 11:12:00 2017-10-22 16:23:00   \n",
       "198  892038759  United Arab Emirates 2017-10-22 11:12:00 2017-10-22 11:36:00   \n",
       "\n",
       "     revenue  payment_id          from_page      product_type  \n",
       "155     6305          19        empty_likes             coins  \n",
       "196   113477         147  autoreply_message  premium_no_trial  \n",
       "198     3783          67        empty_likes        other_type  "
      ]
     },
     "execution_count": 78,
     "metadata": {},
     "output_type": "execute_result"
    }
   ],
   "source": [
    "# взглянем на пользователя 892038759, почему-то оплата внутренней валютой то же идет в выручку.\n",
    "# возможно она то же покупается.\n",
    "df_transactions_test[df_transactions_test.uid == 892038759]"
   ]
  },
  {
   "cell_type": "code",
   "execution_count": 79,
   "metadata": {
    "scrolled": true
   },
   "outputs": [
    {
     "data": {
      "text/html": [
       "<div>\n",
       "<style scoped>\n",
       "    .dataframe tbody tr th:only-of-type {\n",
       "        vertical-align: middle;\n",
       "    }\n",
       "\n",
       "    .dataframe tbody tr th {\n",
       "        vertical-align: top;\n",
       "    }\n",
       "\n",
       "    .dataframe thead th {\n",
       "        text-align: right;\n",
       "    }\n",
       "</style>\n",
       "<table border=\"1\" class=\"dataframe\">\n",
       "  <thead>\n",
       "    <tr style=\"text-align: right;\">\n",
       "      <th></th>\n",
       "      <th>from_page</th>\n",
       "      <th>revenue</th>\n",
       "    </tr>\n",
       "  </thead>\n",
       "  <tbody>\n",
       "    <tr>\n",
       "      <th>20</th>\n",
       "      <td>trial_vip_popup</td>\n",
       "      <td>600886</td>\n",
       "    </tr>\n",
       "    <tr>\n",
       "      <th>6</th>\n",
       "      <td>empty_likes</td>\n",
       "      <td>400166</td>\n",
       "    </tr>\n",
       "    <tr>\n",
       "      <th>2</th>\n",
       "      <td>autoreply_message</td>\n",
       "      <td>358527</td>\n",
       "    </tr>\n",
       "    <tr>\n",
       "      <th>16</th>\n",
       "      <td>promo_09</td>\n",
       "      <td>281398</td>\n",
       "    </tr>\n",
       "    <tr>\n",
       "      <th>12</th>\n",
       "      <td>menu</td>\n",
       "      <td>141934</td>\n",
       "    </tr>\n",
       "    <tr>\n",
       "      <th>13</th>\n",
       "      <td>none</td>\n",
       "      <td>141180</td>\n",
       "    </tr>\n",
       "    <tr>\n",
       "      <th>15</th>\n",
       "      <td>popular_users_chat</td>\n",
       "      <td>89895</td>\n",
       "    </tr>\n",
       "    <tr>\n",
       "      <th>4</th>\n",
       "      <td>dating</td>\n",
       "      <td>60086</td>\n",
       "    </tr>\n",
       "    <tr>\n",
       "      <th>10</th>\n",
       "      <td>left_sidebar_menu</td>\n",
       "      <td>49010</td>\n",
       "    </tr>\n",
       "    <tr>\n",
       "      <th>18</th>\n",
       "      <td>super_popup</td>\n",
       "      <td>45149</td>\n",
       "    </tr>\n",
       "    <tr>\n",
       "      <th>3</th>\n",
       "      <td>coins_popup</td>\n",
       "      <td>44083</td>\n",
       "    </tr>\n",
       "    <tr>\n",
       "      <th>1</th>\n",
       "      <td>autorefill</td>\n",
       "      <td>27742</td>\n",
       "    </tr>\n",
       "    <tr>\n",
       "      <th>14</th>\n",
       "      <td>popular_users_block</td>\n",
       "      <td>21814</td>\n",
       "    </tr>\n",
       "    <tr>\n",
       "      <th>8</th>\n",
       "      <td>fans</td>\n",
       "      <td>19825</td>\n",
       "    </tr>\n",
       "    <tr>\n",
       "      <th>21</th>\n",
       "      <td>user_profile</td>\n",
       "      <td>14404</td>\n",
       "    </tr>\n",
       "    <tr>\n",
       "      <th>17</th>\n",
       "      <td>send_message</td>\n",
       "      <td>12597</td>\n",
       "    </tr>\n",
       "    <tr>\n",
       "      <th>9</th>\n",
       "      <td>gifts</td>\n",
       "      <td>10790</td>\n",
       "    </tr>\n",
       "    <tr>\n",
       "      <th>5</th>\n",
       "      <td>delivery_vip</td>\n",
       "      <td>9542</td>\n",
       "    </tr>\n",
       "    <tr>\n",
       "      <th>11</th>\n",
       "      <td>likes</td>\n",
       "      <td>6032</td>\n",
       "    </tr>\n",
       "    <tr>\n",
       "      <th>19</th>\n",
       "      <td>sympathy</td>\n",
       "      <td>5161</td>\n",
       "    </tr>\n",
       "    <tr>\n",
       "      <th>7</th>\n",
       "      <td>empty_mutual</td>\n",
       "      <td>3783</td>\n",
       "    </tr>\n",
       "    <tr>\n",
       "      <th>0</th>\n",
       "      <td>ad_to_photo</td>\n",
       "      <td>897</td>\n",
       "    </tr>\n",
       "  </tbody>\n",
       "</table>\n",
       "</div>"
      ],
      "text/plain": [
       "              from_page  revenue\n",
       "20      trial_vip_popup   600886\n",
       "6           empty_likes   400166\n",
       "2     autoreply_message   358527\n",
       "16             promo_09   281398\n",
       "12                 menu   141934\n",
       "13                 none   141180\n",
       "15   popular_users_chat    89895\n",
       "4                dating    60086\n",
       "10    left_sidebar_menu    49010\n",
       "18          super_popup    45149\n",
       "3           coins_popup    44083\n",
       "1            autorefill    27742\n",
       "14  popular_users_block    21814\n",
       "8                  fans    19825\n",
       "21         user_profile    14404\n",
       "17         send_message    12597\n",
       "9                 gifts    10790\n",
       "5          delivery_vip     9542\n",
       "11                likes     6032\n",
       "19             sympathy     5161\n",
       "7          empty_mutual     3783\n",
       "0           ad_to_photo      897"
      ]
     },
     "execution_count": 79,
     "metadata": {},
     "output_type": "execute_result"
    }
   ],
   "source": [
    "# в дополнение посмотрим, какие статусы могут быть у колонки from_page и просуммируем revenue, для каждого статуса.\n",
    "df_transactions_test.groupby(['from_page'], as_index=False)\\\n",
    "                    .agg({'revenue':'sum'})\\\n",
    "                    .sort_values(by='revenue', ascending=False)"
   ]
  },
  {
   "cell_type": "code",
   "execution_count": 80,
   "metadata": {},
   "outputs": [
    {
     "data": {
      "text/html": [
       "<div>\n",
       "<style scoped>\n",
       "    .dataframe tbody tr th:only-of-type {\n",
       "        vertical-align: middle;\n",
       "    }\n",
       "\n",
       "    .dataframe tbody tr th {\n",
       "        vertical-align: top;\n",
       "    }\n",
       "\n",
       "    .dataframe thead th {\n",
       "        text-align: right;\n",
       "    }\n",
       "</style>\n",
       "<table border=\"1\" class=\"dataframe\">\n",
       "  <thead>\n",
       "    <tr style=\"text-align: right;\">\n",
       "      <th></th>\n",
       "      <th>uid</th>\n",
       "      <th>country</th>\n",
       "      <th>joined_at</th>\n",
       "      <th>paid_at</th>\n",
       "      <th>revenue</th>\n",
       "      <th>payment_id</th>\n",
       "      <th>from_page</th>\n",
       "      <th>product_type</th>\n",
       "    </tr>\n",
       "  </thead>\n",
       "  <tbody>\n",
       "    <tr>\n",
       "      <th>count</th>\n",
       "      <td>273</td>\n",
       "      <td>273</td>\n",
       "      <td>273</td>\n",
       "      <td>273</td>\n",
       "      <td>273</td>\n",
       "      <td>273</td>\n",
       "      <td>273</td>\n",
       "      <td>273</td>\n",
       "    </tr>\n",
       "    <tr>\n",
       "      <th>size</th>\n",
       "      <td>273</td>\n",
       "      <td>273</td>\n",
       "      <td>273</td>\n",
       "      <td>273</td>\n",
       "      <td>273</td>\n",
       "      <td>273</td>\n",
       "      <td>273</td>\n",
       "      <td>273</td>\n",
       "    </tr>\n",
       "    <tr>\n",
       "      <th>nunique</th>\n",
       "      <td>146</td>\n",
       "      <td>17</td>\n",
       "      <td>146</td>\n",
       "      <td>258</td>\n",
       "      <td>125</td>\n",
       "      <td>6</td>\n",
       "      <td>22</td>\n",
       "      <td>4</td>\n",
       "    </tr>\n",
       "  </tbody>\n",
       "</table>\n",
       "</div>"
      ],
      "text/plain": [
       "         uid  country  joined_at  paid_at  revenue  payment_id  from_page  \\\n",
       "count    273      273        273      273      273         273        273   \n",
       "size     273      273        273      273      273         273        273   \n",
       "nunique  146       17        146      258      125           6         22   \n",
       "\n",
       "         product_type  \n",
       "count             273  \n",
       "size              273  \n",
       "nunique             4  "
      ]
     },
     "execution_count": 80,
     "metadata": {},
     "output_type": "execute_result"
    }
   ],
   "source": [
    "# взглянем на общий размер, количество значений и уникальных записей\n",
    "df_transactions_test.agg(['count', 'size', 'nunique'])"
   ]
  },
  {
   "cell_type": "markdown",
   "metadata": {},
   "source": [
    "### 5. df_transactions_control_1"
   ]
  },
  {
   "cell_type": "code",
   "execution_count": 81,
   "metadata": {
    "scrolled": false
   },
   "outputs": [
    {
     "data": {
      "text/html": [
       "<div>\n",
       "<style scoped>\n",
       "    .dataframe tbody tr th:only-of-type {\n",
       "        vertical-align: middle;\n",
       "    }\n",
       "\n",
       "    .dataframe tbody tr th {\n",
       "        vertical-align: top;\n",
       "    }\n",
       "\n",
       "    .dataframe thead th {\n",
       "        text-align: right;\n",
       "    }\n",
       "</style>\n",
       "<table border=\"1\" class=\"dataframe\">\n",
       "  <thead>\n",
       "    <tr style=\"text-align: right;\">\n",
       "      <th></th>\n",
       "      <th>uid</th>\n",
       "      <th>country</th>\n",
       "      <th>joined_at</th>\n",
       "      <th>paid_at</th>\n",
       "      <th>revenue</th>\n",
       "      <th>payment_id</th>\n",
       "      <th>from_page</th>\n",
       "      <th>product_type</th>\n",
       "    </tr>\n",
       "  </thead>\n",
       "  <tbody>\n",
       "    <tr>\n",
       "      <th>0</th>\n",
       "      <td>891319275.0</td>\n",
       "      <td>France</td>\n",
       "      <td>2017-05-11 19:57:00</td>\n",
       "      <td>2017-12-11 21:57:00</td>\n",
       "      <td>12727.0</td>\n",
       "      <td>147.0</td>\n",
       "      <td>trial_vip_popup</td>\n",
       "      <td>trial_premium</td>\n",
       "    </tr>\n",
       "    <tr>\n",
       "      <th>1</th>\n",
       "      <td>892421826.0</td>\n",
       "      <td>Israel</td>\n",
       "      <td>2017-10-14 12:46:00</td>\n",
       "      <td>2017-10-23 12:54:00</td>\n",
       "      <td>14586.0</td>\n",
       "      <td>147.0</td>\n",
       "      <td>trial_vip_popup</td>\n",
       "      <td>trial_premium</td>\n",
       "    </tr>\n",
       "    <tr>\n",
       "      <th>2</th>\n",
       "      <td>891822480.0</td>\n",
       "      <td>Italy</td>\n",
       "      <td>2017-10-26 22:27:00</td>\n",
       "      <td>2017-12-11 20:59:00</td>\n",
       "      <td>1911.0</td>\n",
       "      <td>19.0</td>\n",
       "      <td>none</td>\n",
       "      <td>coins</td>\n",
       "    </tr>\n",
       "    <tr>\n",
       "      <th>3</th>\n",
       "      <td>891367521.0</td>\n",
       "      <td>Italy</td>\n",
       "      <td>2017-05-11 02:37:00</td>\n",
       "      <td>2017-06-11 19:15:00</td>\n",
       "      <td>1456.0</td>\n",
       "      <td>127.0</td>\n",
       "      <td>sympathy</td>\n",
       "      <td>other_type</td>\n",
       "    </tr>\n",
       "    <tr>\n",
       "      <th>4</th>\n",
       "      <td>892207959.0</td>\n",
       "      <td>France</td>\n",
       "      <td>2017-10-18 18:30:00</td>\n",
       "      <td>2017-12-11 12:03:00</td>\n",
       "      <td>1261.0</td>\n",
       "      <td>19.0</td>\n",
       "      <td>empty_likes</td>\n",
       "      <td>coins</td>\n",
       "    </tr>\n",
       "  </tbody>\n",
       "</table>\n",
       "</div>"
      ],
      "text/plain": [
       "           uid country           joined_at             paid_at  revenue  \\\n",
       "0  891319275.0  France 2017-05-11 19:57:00 2017-12-11 21:57:00  12727.0   \n",
       "1  892421826.0  Israel 2017-10-14 12:46:00 2017-10-23 12:54:00  14586.0   \n",
       "2  891822480.0   Italy 2017-10-26 22:27:00 2017-12-11 20:59:00   1911.0   \n",
       "3  891367521.0   Italy 2017-05-11 02:37:00 2017-06-11 19:15:00   1456.0   \n",
       "4  892207959.0  France 2017-10-18 18:30:00 2017-12-11 12:03:00   1261.0   \n",
       "\n",
       "   payment_id        from_page   product_type  \n",
       "0       147.0  trial_vip_popup  trial_premium  \n",
       "1       147.0  trial_vip_popup  trial_premium  \n",
       "2        19.0             none          coins  \n",
       "3       127.0         sympathy     other_type  \n",
       "4        19.0      empty_likes          coins  "
      ]
     },
     "execution_count": 81,
     "metadata": {},
     "output_type": "execute_result"
    }
   ],
   "source": [
    "df_transactions_control_1.head()"
   ]
  },
  {
   "cell_type": "code",
   "execution_count": 82,
   "metadata": {
    "scrolled": false
   },
   "outputs": [
    {
     "data": {
      "text/plain": [
       "(1007, 8)"
      ]
     },
     "execution_count": 82,
     "metadata": {},
     "output_type": "execute_result"
    }
   ],
   "source": [
    "df_transactions_control_1.shape"
   ]
  },
  {
   "cell_type": "code",
   "execution_count": 83,
   "metadata": {
    "scrolled": false
   },
   "outputs": [
    {
     "data": {
      "text/plain": [
       "uid                    float64\n",
       "country                 object\n",
       "joined_at       datetime64[ns]\n",
       "paid_at         datetime64[ns]\n",
       "revenue                float64\n",
       "payment_id             float64\n",
       "from_page               object\n",
       "product_type            object\n",
       "dtype: object"
      ]
     },
     "execution_count": 83,
     "metadata": {},
     "output_type": "execute_result"
    }
   ],
   "source": [
    "df_transactions_control_1.dtypes"
   ]
  },
  {
   "cell_type": "code",
   "execution_count": 84,
   "metadata": {
    "scrolled": true
   },
   "outputs": [
    {
     "data": {
      "text/html": [
       "<div>\n",
       "<style scoped>\n",
       "    .dataframe tbody tr th:only-of-type {\n",
       "        vertical-align: middle;\n",
       "    }\n",
       "\n",
       "    .dataframe tbody tr th {\n",
       "        vertical-align: top;\n",
       "    }\n",
       "\n",
       "    .dataframe thead th {\n",
       "        text-align: right;\n",
       "    }\n",
       "</style>\n",
       "<table border=\"1\" class=\"dataframe\">\n",
       "  <thead>\n",
       "    <tr style=\"text-align: right;\">\n",
       "      <th></th>\n",
       "      <th></th>\n",
       "      <th></th>\n",
       "      <th></th>\n",
       "      <th></th>\n",
       "      <th></th>\n",
       "      <th></th>\n",
       "      <th></th>\n",
       "      <th>0</th>\n",
       "    </tr>\n",
       "    <tr>\n",
       "      <th>uid</th>\n",
       "      <th>country</th>\n",
       "      <th>joined_at</th>\n",
       "      <th>paid_at</th>\n",
       "      <th>revenue</th>\n",
       "      <th>payment_id</th>\n",
       "      <th>from_page</th>\n",
       "      <th>product_type</th>\n",
       "      <th></th>\n",
       "    </tr>\n",
       "  </thead>\n",
       "  <tbody>\n",
       "    <tr>\n",
       "      <th>True</th>\n",
       "      <th>True</th>\n",
       "      <th>True</th>\n",
       "      <th>True</th>\n",
       "      <th>True</th>\n",
       "      <th>True</th>\n",
       "      <th>True</th>\n",
       "      <th>True</th>\n",
       "      <td>630</td>\n",
       "    </tr>\n",
       "    <tr>\n",
       "      <th>False</th>\n",
       "      <th>False</th>\n",
       "      <th>False</th>\n",
       "      <th>False</th>\n",
       "      <th>False</th>\n",
       "      <th>False</th>\n",
       "      <th>False</th>\n",
       "      <th>False</th>\n",
       "      <td>377</td>\n",
       "    </tr>\n",
       "  </tbody>\n",
       "</table>\n",
       "</div>"
      ],
      "text/plain": [
       "                                                                             0\n",
       "uid   country joined_at paid_at revenue payment_id from_page product_type     \n",
       "True  True    True      True    True    True       True      True          630\n",
       "False False   False     False   False   False      False     False         377"
      ]
     },
     "execution_count": 84,
     "metadata": {},
     "output_type": "execute_result"
    }
   ],
   "source": [
    "# Большое количество пустых значений в данной таблице.\n",
    "df_transactions_control_1.isnull().value_counts().to_frame()"
   ]
  },
  {
   "cell_type": "code",
   "execution_count": 85,
   "metadata": {},
   "outputs": [],
   "source": [
    "# удаляем пустые значения\n",
    "df_transactions_control_1 = df_transactions_control_1.dropna()"
   ]
  },
  {
   "cell_type": "code",
   "execution_count": 86,
   "metadata": {},
   "outputs": [
    {
     "data": {
      "text/html": [
       "<div>\n",
       "<style scoped>\n",
       "    .dataframe tbody tr th:only-of-type {\n",
       "        vertical-align: middle;\n",
       "    }\n",
       "\n",
       "    .dataframe tbody tr th {\n",
       "        vertical-align: top;\n",
       "    }\n",
       "\n",
       "    .dataframe thead th {\n",
       "        text-align: right;\n",
       "    }\n",
       "</style>\n",
       "<table border=\"1\" class=\"dataframe\">\n",
       "  <thead>\n",
       "    <tr style=\"text-align: right;\">\n",
       "      <th></th>\n",
       "      <th>uid</th>\n",
       "      <th>country</th>\n",
       "      <th>joined_at</th>\n",
       "      <th>paid_at</th>\n",
       "      <th>revenue</th>\n",
       "      <th>payment_id</th>\n",
       "      <th>from_page</th>\n",
       "      <th>product_type</th>\n",
       "    </tr>\n",
       "  </thead>\n",
       "  <tbody>\n",
       "    <tr>\n",
       "      <th>count</th>\n",
       "      <td>377</td>\n",
       "      <td>377</td>\n",
       "      <td>377</td>\n",
       "      <td>377</td>\n",
       "      <td>377</td>\n",
       "      <td>377</td>\n",
       "      <td>377</td>\n",
       "      <td>377</td>\n",
       "    </tr>\n",
       "    <tr>\n",
       "      <th>size</th>\n",
       "      <td>377</td>\n",
       "      <td>377</td>\n",
       "      <td>377</td>\n",
       "      <td>377</td>\n",
       "      <td>377</td>\n",
       "      <td>377</td>\n",
       "      <td>377</td>\n",
       "      <td>377</td>\n",
       "    </tr>\n",
       "    <tr>\n",
       "      <th>nunique</th>\n",
       "      <td>193</td>\n",
       "      <td>18</td>\n",
       "      <td>193</td>\n",
       "      <td>335</td>\n",
       "      <td>127</td>\n",
       "      <td>7</td>\n",
       "      <td>25</td>\n",
       "      <td>4</td>\n",
       "    </tr>\n",
       "  </tbody>\n",
       "</table>\n",
       "</div>"
      ],
      "text/plain": [
       "         uid  country  joined_at  paid_at  revenue  payment_id  from_page  \\\n",
       "count    377      377        377      377      377         377        377   \n",
       "size     377      377        377      377      377         377        377   \n",
       "nunique  193       18        193      335      127           7         25   \n",
       "\n",
       "         product_type  \n",
       "count             377  \n",
       "size              377  \n",
       "nunique             4  "
      ]
     },
     "execution_count": 86,
     "metadata": {},
     "output_type": "execute_result"
    }
   ],
   "source": [
    "# взглянем на общий размер, количество значений и уникальных записей\n",
    "df_transactions_control_1.agg(['count', 'size', 'nunique'])"
   ]
  },
  {
   "cell_type": "markdown",
   "metadata": {},
   "source": [
    "### 5. df_transactions_control_2"
   ]
  },
  {
   "cell_type": "code",
   "execution_count": 87,
   "metadata": {
    "scrolled": false
   },
   "outputs": [
    {
     "data": {
      "text/html": [
       "<div>\n",
       "<style scoped>\n",
       "    .dataframe tbody tr th:only-of-type {\n",
       "        vertical-align: middle;\n",
       "    }\n",
       "\n",
       "    .dataframe tbody tr th {\n",
       "        vertical-align: top;\n",
       "    }\n",
       "\n",
       "    .dataframe thead th {\n",
       "        text-align: right;\n",
       "    }\n",
       "</style>\n",
       "<table border=\"1\" class=\"dataframe\">\n",
       "  <thead>\n",
       "    <tr style=\"text-align: right;\">\n",
       "      <th></th>\n",
       "      <th>uid</th>\n",
       "      <th>country</th>\n",
       "      <th>joined_at</th>\n",
       "      <th>paid_at</th>\n",
       "      <th>revenue</th>\n",
       "      <th>payment_id</th>\n",
       "      <th>from_page</th>\n",
       "      <th>product_type</th>\n",
       "    </tr>\n",
       "  </thead>\n",
       "  <tbody>\n",
       "    <tr>\n",
       "      <th>0</th>\n",
       "      <td>891266616</td>\n",
       "      <td>Argentina</td>\n",
       "      <td>2017-06-11 15:25:00</td>\n",
       "      <td>2017-10-11 17:35:00</td>\n",
       "      <td>6305</td>\n",
       "      <td>19</td>\n",
       "      <td>autorefill</td>\n",
       "      <td>coins</td>\n",
       "    </tr>\n",
       "    <tr>\n",
       "      <th>1</th>\n",
       "      <td>892186737</td>\n",
       "      <td>Chile</td>\n",
       "      <td>2017-10-19 06:03:00</td>\n",
       "      <td>2017-04-11 08:53:00</td>\n",
       "      <td>4732</td>\n",
       "      <td>147</td>\n",
       "      <td>promo_09</td>\n",
       "      <td>premium_no_trial</td>\n",
       "    </tr>\n",
       "    <tr>\n",
       "      <th>2</th>\n",
       "      <td>891959004</td>\n",
       "      <td>United States of America</td>\n",
       "      <td>2017-10-24 00:12:00</td>\n",
       "      <td>2017-10-31 02:12:00</td>\n",
       "      <td>10153</td>\n",
       "      <td>147</td>\n",
       "      <td>trial_vip_popup</td>\n",
       "      <td>trial_premium</td>\n",
       "    </tr>\n",
       "    <tr>\n",
       "      <th>3</th>\n",
       "      <td>892115478</td>\n",
       "      <td>Spain</td>\n",
       "      <td>2017-10-20 20:39:00</td>\n",
       "      <td>2017-10-26 06:26:00</td>\n",
       "      <td>2366</td>\n",
       "      <td>67</td>\n",
       "      <td>empty_likes</td>\n",
       "      <td>other_type</td>\n",
       "    </tr>\n",
       "    <tr>\n",
       "      <th>4</th>\n",
       "      <td>891592941</td>\n",
       "      <td>Switzerland</td>\n",
       "      <td>2017-10-31 12:40:00</td>\n",
       "      <td>2017-03-11 16:25:00</td>\n",
       "      <td>6292</td>\n",
       "      <td>147</td>\n",
       "      <td>promo_09</td>\n",
       "      <td>premium_no_trial</td>\n",
       "    </tr>\n",
       "  </tbody>\n",
       "</table>\n",
       "</div>"
      ],
      "text/plain": [
       "         uid                   country           joined_at  \\\n",
       "0  891266616                 Argentina 2017-06-11 15:25:00   \n",
       "1  892186737                     Chile 2017-10-19 06:03:00   \n",
       "2  891959004  United States of America 2017-10-24 00:12:00   \n",
       "3  892115478                     Spain 2017-10-20 20:39:00   \n",
       "4  891592941               Switzerland 2017-10-31 12:40:00   \n",
       "\n",
       "              paid_at  revenue  payment_id        from_page      product_type  \n",
       "0 2017-10-11 17:35:00     6305          19       autorefill             coins  \n",
       "1 2017-04-11 08:53:00     4732         147         promo_09  premium_no_trial  \n",
       "2 2017-10-31 02:12:00    10153         147  trial_vip_popup     trial_premium  \n",
       "3 2017-10-26 06:26:00     2366          67      empty_likes        other_type  \n",
       "4 2017-03-11 16:25:00     6292         147         promo_09  premium_no_trial  "
      ]
     },
     "execution_count": 87,
     "metadata": {},
     "output_type": "execute_result"
    }
   ],
   "source": [
    "df_transactions_control_2.head()"
   ]
  },
  {
   "cell_type": "code",
   "execution_count": 88,
   "metadata": {
    "scrolled": false
   },
   "outputs": [
    {
     "data": {
      "text/plain": [
       "(328, 8)"
      ]
     },
     "execution_count": 88,
     "metadata": {},
     "output_type": "execute_result"
    }
   ],
   "source": [
    "df_transactions_control_2.shape"
   ]
  },
  {
   "cell_type": "code",
   "execution_count": 89,
   "metadata": {
    "scrolled": true
   },
   "outputs": [
    {
     "data": {
      "text/plain": [
       "uid                      int64\n",
       "country                 object\n",
       "joined_at       datetime64[ns]\n",
       "paid_at         datetime64[ns]\n",
       "revenue                  int64\n",
       "payment_id               int64\n",
       "from_page               object\n",
       "product_type            object\n",
       "dtype: object"
      ]
     },
     "execution_count": 89,
     "metadata": {},
     "output_type": "execute_result"
    }
   ],
   "source": [
    "df_transactions_control_2.dtypes"
   ]
  },
  {
   "cell_type": "code",
   "execution_count": 90,
   "metadata": {
    "scrolled": true
   },
   "outputs": [
    {
     "data": {
      "text/html": [
       "<div>\n",
       "<style scoped>\n",
       "    .dataframe tbody tr th:only-of-type {\n",
       "        vertical-align: middle;\n",
       "    }\n",
       "\n",
       "    .dataframe tbody tr th {\n",
       "        vertical-align: top;\n",
       "    }\n",
       "\n",
       "    .dataframe thead th {\n",
       "        text-align: right;\n",
       "    }\n",
       "</style>\n",
       "<table border=\"1\" class=\"dataframe\">\n",
       "  <thead>\n",
       "    <tr style=\"text-align: right;\">\n",
       "      <th></th>\n",
       "      <th></th>\n",
       "      <th></th>\n",
       "      <th></th>\n",
       "      <th></th>\n",
       "      <th></th>\n",
       "      <th></th>\n",
       "      <th></th>\n",
       "      <th>0</th>\n",
       "    </tr>\n",
       "    <tr>\n",
       "      <th>uid</th>\n",
       "      <th>country</th>\n",
       "      <th>joined_at</th>\n",
       "      <th>paid_at</th>\n",
       "      <th>revenue</th>\n",
       "      <th>payment_id</th>\n",
       "      <th>from_page</th>\n",
       "      <th>product_type</th>\n",
       "      <th></th>\n",
       "    </tr>\n",
       "  </thead>\n",
       "  <tbody>\n",
       "    <tr>\n",
       "      <th>False</th>\n",
       "      <th>False</th>\n",
       "      <th>False</th>\n",
       "      <th>False</th>\n",
       "      <th>False</th>\n",
       "      <th>False</th>\n",
       "      <th>False</th>\n",
       "      <th>False</th>\n",
       "      <td>328</td>\n",
       "    </tr>\n",
       "  </tbody>\n",
       "</table>\n",
       "</div>"
      ],
      "text/plain": [
       "                                                                             0\n",
       "uid   country joined_at paid_at revenue payment_id from_page product_type     \n",
       "False False   False     False   False   False      False     False         328"
      ]
     },
     "execution_count": 90,
     "metadata": {},
     "output_type": "execute_result"
    }
   ],
   "source": [
    "# Пустые значения отсутствуют\n",
    "df_transactions_control_2.isnull().value_counts().to_frame()"
   ]
  },
  {
   "cell_type": "code",
   "execution_count": 91,
   "metadata": {},
   "outputs": [
    {
     "data": {
      "text/html": [
       "<div>\n",
       "<style scoped>\n",
       "    .dataframe tbody tr th:only-of-type {\n",
       "        vertical-align: middle;\n",
       "    }\n",
       "\n",
       "    .dataframe tbody tr th {\n",
       "        vertical-align: top;\n",
       "    }\n",
       "\n",
       "    .dataframe thead th {\n",
       "        text-align: right;\n",
       "    }\n",
       "</style>\n",
       "<table border=\"1\" class=\"dataframe\">\n",
       "  <thead>\n",
       "    <tr style=\"text-align: right;\">\n",
       "      <th></th>\n",
       "      <th>uid</th>\n",
       "      <th>country</th>\n",
       "      <th>joined_at</th>\n",
       "      <th>paid_at</th>\n",
       "      <th>revenue</th>\n",
       "      <th>payment_id</th>\n",
       "      <th>from_page</th>\n",
       "      <th>product_type</th>\n",
       "    </tr>\n",
       "  </thead>\n",
       "  <tbody>\n",
       "    <tr>\n",
       "      <th>count</th>\n",
       "      <td>328</td>\n",
       "      <td>328</td>\n",
       "      <td>328</td>\n",
       "      <td>328</td>\n",
       "      <td>328</td>\n",
       "      <td>328</td>\n",
       "      <td>328</td>\n",
       "      <td>328</td>\n",
       "    </tr>\n",
       "    <tr>\n",
       "      <th>size</th>\n",
       "      <td>328</td>\n",
       "      <td>328</td>\n",
       "      <td>328</td>\n",
       "      <td>328</td>\n",
       "      <td>328</td>\n",
       "      <td>328</td>\n",
       "      <td>328</td>\n",
       "      <td>328</td>\n",
       "    </tr>\n",
       "    <tr>\n",
       "      <th>nunique</th>\n",
       "      <td>187</td>\n",
       "      <td>19</td>\n",
       "      <td>187</td>\n",
       "      <td>309</td>\n",
       "      <td>123</td>\n",
       "      <td>6</td>\n",
       "      <td>18</td>\n",
       "      <td>4</td>\n",
       "    </tr>\n",
       "  </tbody>\n",
       "</table>\n",
       "</div>"
      ],
      "text/plain": [
       "         uid  country  joined_at  paid_at  revenue  payment_id  from_page  \\\n",
       "count    328      328        328      328      328         328        328   \n",
       "size     328      328        328      328      328         328        328   \n",
       "nunique  187       19        187      309      123           6         18   \n",
       "\n",
       "         product_type  \n",
       "count             328  \n",
       "size              328  \n",
       "nunique             4  "
      ]
     },
     "execution_count": 91,
     "metadata": {},
     "output_type": "execute_result"
    }
   ],
   "source": [
    "# взглянем на общий размер, количество значений и уникальных записей\n",
    "df_transactions_control_2.agg(['count', 'size', 'nunique'])"
   ]
  },
  {
   "cell_type": "markdown",
   "metadata": {},
   "source": [
    "Будем считать этап предобработки и первичного изучения данных оконченным. Обратим внимание, что количество уникальных стран разное во всех дата сетах, вернемся к этому вопросу позже.\n",
    "\n",
    "P.S. В таблицу df_transactions_control_1 видимо специально внесли кучу пустых значений, что бы выяснить на сколько внимательны студенты."
   ]
  },
  {
   "cell_type": "code",
   "execution_count": 92,
   "metadata": {
    "scrolled": false
   },
   "outputs": [
    {
     "name": "stderr",
     "output_type": "stream",
     "text": [
      "/opt/tljh/user/lib/python3.7/site-packages/seaborn/distributions.py:2557: FutureWarning: `distplot` is a deprecated function and will be removed in a future version. Please adapt your code to use either `displot` (a figure-level function with similar flexibility) or `histplot` (an axes-level function for histograms).\n",
      "  warnings.warn(msg, FutureWarning)\n"
     ]
    },
    {
     "data": {
      "text/plain": [
       "<matplotlib.axes._subplots.AxesSubplot at 0x7f0e7bc1d3c8>"
      ]
     },
     "execution_count": 92,
     "metadata": {},
     "output_type": "execute_result"
    },
    {
     "data": {
      "image/png": "[encoded data removed]",
      "text/plain": [
       "<Figure size 1152x432 with 1 Axes>"
      ]
     },
     "metadata": {},
     "output_type": "display_data"
    }
   ],
   "source": [
    "# взглянем на распределение переменной total_revenue\n",
    "sns.distplot(df_users_control_1.total_revenue)"
   ]
  },
  {
   "cell_type": "code",
   "execution_count": 93,
   "metadata": {},
   "outputs": [
    {
     "name": "stderr",
     "output_type": "stream",
     "text": [
      "/opt/tljh/user/lib/python3.7/site-packages/seaborn/_decorators.py:43: FutureWarning: Pass the following variable as a keyword arg: x. From version 0.12, the only valid positional argument will be `data`, and passing other arguments without an explicit keyword will result in an error or misinterpretation.\n",
      "  FutureWarning\n"
     ]
    },
    {
     "data": {
      "text/plain": [
       "<matplotlib.axes._subplots.AxesSubplot at 0x7f0e7b2e0588>"
      ]
     },
     "execution_count": 93,
     "metadata": {},
     "output_type": "execute_result"
    },
    {
     "data": {
      "image/png": "[encoded data removed]",
      "text/plain": [
       "<Figure size 1152x432 with 1 Axes>"
      ]
     },
     "metadata": {},
     "output_type": "display_data"
    }
   ],
   "source": [
    "sns.boxplot(df_users_control_1.total_revenue)"
   ]
  },
  {
   "cell_type": "code",
   "execution_count": 94,
   "metadata": {
    "scrolled": false
   },
   "outputs": [
    {
     "name": "stderr",
     "output_type": "stream",
     "text": [
      "/opt/tljh/user/lib/python3.7/site-packages/seaborn/_decorators.py:43: FutureWarning: Pass the following variable as a keyword arg: x. From version 0.12, the only valid positional argument will be `data`, and passing other arguments without an explicit keyword will result in an error or misinterpretation.\n",
      "  FutureWarning\n"
     ]
    },
    {
     "data": {
      "text/plain": [
       "<matplotlib.axes._subplots.AxesSubplot at 0x7f0e78d4a2e8>"
      ]
     },
     "execution_count": 94,
     "metadata": {},
     "output_type": "execute_result"
    },
    {
     "data": {
      "image/png": "[encoded data removed]",
      "text/plain": [
       "<Figure size 1152x432 with 1 Axes>"
      ]
     },
     "metadata": {},
     "output_type": "display_data"
    }
   ],
   "source": [
    "sns.boxplot(df_users_control_1.total_revenue[df_users_control_1.total_revenue < 100000])"
   ]
  },
  {
   "cell_type": "code",
   "execution_count": 95,
   "metadata": {},
   "outputs": [
    {
     "data": {
      "text/html": [
       "<div>\n",
       "<style scoped>\n",
       "    .dataframe tbody tr th:only-of-type {\n",
       "        vertical-align: middle;\n",
       "    }\n",
       "\n",
       "    .dataframe tbody tr th {\n",
       "        vertical-align: top;\n",
       "    }\n",
       "\n",
       "    .dataframe thead th {\n",
       "        text-align: right;\n",
       "    }\n",
       "</style>\n",
       "<table border=\"1\" class=\"dataframe\">\n",
       "  <thead>\n",
       "    <tr style=\"text-align: right;\">\n",
       "      <th></th>\n",
       "      <th>uid</th>\n",
       "      <th>age</th>\n",
       "      <th>attraction_coeff</th>\n",
       "      <th>coins</th>\n",
       "      <th>country</th>\n",
       "      <th>visit_days</th>\n",
       "      <th>gender</th>\n",
       "      <th>views_count</th>\n",
       "      <th>was_premium</th>\n",
       "      <th>is_premium</th>\n",
       "      <th>total_revenue</th>\n",
       "      <th>age_group_my</th>\n",
       "      <th>visit_days_group</th>\n",
       "      <th>views_count_group</th>\n",
       "      <th>attraction_coeff_group</th>\n",
       "      <th>age_int</th>\n",
       "    </tr>\n",
       "  </thead>\n",
       "  <tbody>\n",
       "    <tr>\n",
       "      <th>0</th>\n",
       "      <td>892319115</td>\n",
       "      <td>25</td>\n",
       "      <td>435</td>\n",
       "      <td>NaN</td>\n",
       "      <td>United States of America</td>\n",
       "      <td>6</td>\n",
       "      <td>0</td>\n",
       "      <td>982</td>\n",
       "      <td>NaN</td>\n",
       "      <td>NaN</td>\n",
       "      <td>0</td>\n",
       "      <td>17-25</td>\n",
       "      <td>2-7</td>\n",
       "      <td>21-</td>\n",
       "      <td>238-518</td>\n",
       "      <td>22-32</td>\n",
       "    </tr>\n",
       "    <tr>\n",
       "      <th>1</th>\n",
       "      <td>891248523</td>\n",
       "      <td>29</td>\n",
       "      <td>500</td>\n",
       "      <td>NaN</td>\n",
       "      <td>United States of America</td>\n",
       "      <td>2</td>\n",
       "      <td>1</td>\n",
       "      <td>12</td>\n",
       "      <td>NaN</td>\n",
       "      <td>NaN</td>\n",
       "      <td>0</td>\n",
       "      <td>25-38</td>\n",
       "      <td>0-2</td>\n",
       "      <td>6-21</td>\n",
       "      <td>238-518</td>\n",
       "      <td>26-32</td>\n",
       "    </tr>\n",
       "    <tr>\n",
       "      <th>2</th>\n",
       "      <td>891670932</td>\n",
       "      <td>33</td>\n",
       "      <td>800</td>\n",
       "      <td>NaN</td>\n",
       "      <td>France</td>\n",
       "      <td>10</td>\n",
       "      <td>1</td>\n",
       "      <td>5</td>\n",
       "      <td>NaN</td>\n",
       "      <td>NaN</td>\n",
       "      <td>0</td>\n",
       "      <td>25-38</td>\n",
       "      <td>7-</td>\n",
       "      <td>1-6</td>\n",
       "      <td>518-</td>\n",
       "      <td>30-36</td>\n",
       "    </tr>\n",
       "    <tr>\n",
       "      <th>3</th>\n",
       "      <td>891060786</td>\n",
       "      <td>26</td>\n",
       "      <td>0</td>\n",
       "      <td>NaN</td>\n",
       "      <td>Argentina</td>\n",
       "      <td>5</td>\n",
       "      <td>1</td>\n",
       "      <td>0</td>\n",
       "      <td>NaN</td>\n",
       "      <td>NaN</td>\n",
       "      <td>0</td>\n",
       "      <td>25-38</td>\n",
       "      <td>2-7</td>\n",
       "      <td>0-1</td>\n",
       "      <td>0</td>\n",
       "      <td>23-29</td>\n",
       "    </tr>\n",
       "    <tr>\n",
       "      <th>4</th>\n",
       "      <td>892006554</td>\n",
       "      <td>35</td>\n",
       "      <td>294</td>\n",
       "      <td>NaN</td>\n",
       "      <td>United States of America</td>\n",
       "      <td>14</td>\n",
       "      <td>1</td>\n",
       "      <td>17</td>\n",
       "      <td>NaN</td>\n",
       "      <td>NaN</td>\n",
       "      <td>0</td>\n",
       "      <td>25-38</td>\n",
       "      <td>7-</td>\n",
       "      <td>6-21</td>\n",
       "      <td>238-518</td>\n",
       "      <td>30-40</td>\n",
       "    </tr>\n",
       "    <tr>\n",
       "      <th>...</th>\n",
       "      <td>...</td>\n",
       "      <td>...</td>\n",
       "      <td>...</td>\n",
       "      <td>...</td>\n",
       "      <td>...</td>\n",
       "      <td>...</td>\n",
       "      <td>...</td>\n",
       "      <td>...</td>\n",
       "      <td>...</td>\n",
       "      <td>...</td>\n",
       "      <td>...</td>\n",
       "      <td>...</td>\n",
       "      <td>...</td>\n",
       "      <td>...</td>\n",
       "      <td>...</td>\n",
       "      <td>...</td>\n",
       "    </tr>\n",
       "    <tr>\n",
       "      <th>4335</th>\n",
       "      <td>892022304</td>\n",
       "      <td>26</td>\n",
       "      <td>227</td>\n",
       "      <td>NaN</td>\n",
       "      <td>United States of America</td>\n",
       "      <td>0</td>\n",
       "      <td>0</td>\n",
       "      <td>427</td>\n",
       "      <td>NaN</td>\n",
       "      <td>NaN</td>\n",
       "      <td>0</td>\n",
       "      <td>25-38</td>\n",
       "      <td>0</td>\n",
       "      <td>21-</td>\n",
       "      <td>0-238</td>\n",
       "      <td>23-29</td>\n",
       "    </tr>\n",
       "    <tr>\n",
       "      <th>4336</th>\n",
       "      <td>891905022</td>\n",
       "      <td>38</td>\n",
       "      <td>200</td>\n",
       "      <td>NaN</td>\n",
       "      <td>Argentina</td>\n",
       "      <td>16</td>\n",
       "      <td>1</td>\n",
       "      <td>5</td>\n",
       "      <td>NaN</td>\n",
       "      <td>NaN</td>\n",
       "      <td>0</td>\n",
       "      <td>25-38</td>\n",
       "      <td>7-</td>\n",
       "      <td>1-6</td>\n",
       "      <td>0-238</td>\n",
       "      <td>20-50</td>\n",
       "    </tr>\n",
       "    <tr>\n",
       "      <th>4337</th>\n",
       "      <td>891304722</td>\n",
       "      <td>49</td>\n",
       "      <td>411</td>\n",
       "      <td>NaN</td>\n",
       "      <td>United States of America</td>\n",
       "      <td>1</td>\n",
       "      <td>1</td>\n",
       "      <td>17</td>\n",
       "      <td>NaN</td>\n",
       "      <td>NaN</td>\n",
       "      <td>0</td>\n",
       "      <td>38-</td>\n",
       "      <td>0-2</td>\n",
       "      <td>6-21</td>\n",
       "      <td>238-518</td>\n",
       "      <td>46-52</td>\n",
       "    </tr>\n",
       "    <tr>\n",
       "      <th>4338</th>\n",
       "      <td>891302328</td>\n",
       "      <td>27</td>\n",
       "      <td>0</td>\n",
       "      <td>NaN</td>\n",
       "      <td>United States of America</td>\n",
       "      <td>3</td>\n",
       "      <td>1</td>\n",
       "      <td>0</td>\n",
       "      <td>NaN</td>\n",
       "      <td>NaN</td>\n",
       "      <td>0</td>\n",
       "      <td>25-38</td>\n",
       "      <td>2-7</td>\n",
       "      <td>0-1</td>\n",
       "      <td>0</td>\n",
       "      <td>24-30</td>\n",
       "    </tr>\n",
       "    <tr>\n",
       "      <th>4339</th>\n",
       "      <td>891182532</td>\n",
       "      <td>31</td>\n",
       "      <td>1000</td>\n",
       "      <td>NaN</td>\n",
       "      <td>United States of America</td>\n",
       "      <td>1</td>\n",
       "      <td>1</td>\n",
       "      <td>2</td>\n",
       "      <td>NaN</td>\n",
       "      <td>NaN</td>\n",
       "      <td>0</td>\n",
       "      <td>25-38</td>\n",
       "      <td>0-2</td>\n",
       "      <td>1-6</td>\n",
       "      <td>518-</td>\n",
       "      <td>19-34</td>\n",
       "    </tr>\n",
       "  </tbody>\n",
       "</table>\n",
       "<p>4340 rows × 16 columns</p>\n",
       "</div>"
      ],
      "text/plain": [
       "            uid  age  attraction_coeff  coins                   country  \\\n",
       "0     892319115   25               435    NaN  United States of America   \n",
       "1     891248523   29               500    NaN  United States of America   \n",
       "2     891670932   33               800    NaN                    France   \n",
       "3     891060786   26                 0    NaN                 Argentina   \n",
       "4     892006554   35               294    NaN  United States of America   \n",
       "...         ...  ...               ...    ...                       ...   \n",
       "4335  892022304   26               227    NaN  United States of America   \n",
       "4336  891905022   38               200    NaN                 Argentina   \n",
       "4337  891304722   49               411    NaN  United States of America   \n",
       "4338  891302328   27                 0    NaN  United States of America   \n",
       "4339  891182532   31              1000    NaN  United States of America   \n",
       "\n",
       "      visit_days  gender  views_count  was_premium  is_premium  total_revenue  \\\n",
       "0              6       0          982          NaN         NaN              0   \n",
       "1              2       1           12          NaN         NaN              0   \n",
       "2             10       1            5          NaN         NaN              0   \n",
       "3              5       1            0          NaN         NaN              0   \n",
       "4             14       1           17          NaN         NaN              0   \n",
       "...          ...     ...          ...          ...         ...            ...   \n",
       "4335           0       0          427          NaN         NaN              0   \n",
       "4336          16       1            5          NaN         NaN              0   \n",
       "4337           1       1           17          NaN         NaN              0   \n",
       "4338           3       1            0          NaN         NaN              0   \n",
       "4339           1       1            2          NaN         NaN              0   \n",
       "\n",
       "     age_group_my visit_days_group views_count_group attraction_coeff_group  \\\n",
       "0           17-25              2-7               21-                238-518   \n",
       "1           25-38              0-2              6-21                238-518   \n",
       "2           25-38               7-               1-6                   518-   \n",
       "3           25-38              2-7               0-1                      0   \n",
       "4           25-38               7-              6-21                238-518   \n",
       "...           ...              ...               ...                    ...   \n",
       "4335        25-38                0               21-                  0-238   \n",
       "4336        25-38               7-               1-6                  0-238   \n",
       "4337          38-              0-2              6-21                238-518   \n",
       "4338        25-38              2-7               0-1                      0   \n",
       "4339        25-38              0-2               1-6                   518-   \n",
       "\n",
       "     age_int  \n",
       "0      22-32  \n",
       "1      26-32  \n",
       "2      30-36  \n",
       "3      23-29  \n",
       "4      30-40  \n",
       "...      ...  \n",
       "4335   23-29  \n",
       "4336   20-50  \n",
       "4337   46-52  \n",
       "4338   24-30  \n",
       "4339   19-34  \n",
       "\n",
       "[4340 rows x 16 columns]"
      ]
     },
     "execution_count": 95,
     "metadata": {},
     "output_type": "execute_result"
    }
   ],
   "source": [
    "df_users_control_1"
   ]
  },
  {
   "cell_type": "code",
   "execution_count": 96,
   "metadata": {
    "scrolled": true
   },
   "outputs": [
    {
     "data": {
      "text/plain": [
       "<seaborn.axisgrid.PairGrid at 0x7f0e7b5d6be0>"
      ]
     },
     "execution_count": 96,
     "metadata": {},
     "output_type": "execute_result"
    },
    {
     "data": {
      "image/png": "[encoded data removed]",
      "text/plain": [
       "<Figure size 1440x1440 with 64 Axes>"
      ]
     },
     "metadata": {},
     "output_type": "display_data"
    }
   ],
   "source": [
    "# бегло посмотрим наличие зависимостей у переменных, уберем колонки, которые не стоит учитывать.\n",
    "pair_grid_plot = sns.PairGrid(df_users_control_1[['age','attraction_coeff', 'country', \n",
    "                                                  'visit_days', 'gender', 'views_count',\n",
    "                                                  'was_premium', 'is_premium', 'total_revenue'\n",
    "                                                 ]])\n",
    "pair_grid_plot.map(plt.scatter)"
   ]
  },
  {
   "cell_type": "code",
   "execution_count": 97,
   "metadata": {},
   "outputs": [],
   "source": [
    "# сразу создадим колонку с log от total_revenue, для поиска возаимосвязей в дальнейшейм\n",
    "df_users_control_1['log_rev'] = np.log(df_users_control_1[df_users_control_1.total_revenue > 0].total_revenue)\n",
    "df_users_control_1['log_rev'] = df_users_control_1['log_rev'].replace('-inf','0')\n",
    "df_users_control_1['log_rev'] =  df_users_control_1['log_rev'].fillna(0)"
   ]
  },
  {
   "cell_type": "code",
   "execution_count": 98,
   "metadata": {},
   "outputs": [
    {
     "data": {
      "text/html": [
       "<div>\n",
       "<style scoped>\n",
       "    .dataframe tbody tr th:only-of-type {\n",
       "        vertical-align: middle;\n",
       "    }\n",
       "\n",
       "    .dataframe tbody tr th {\n",
       "        vertical-align: top;\n",
       "    }\n",
       "\n",
       "    .dataframe thead th {\n",
       "        text-align: right;\n",
       "    }\n",
       "</style>\n",
       "<table border=\"1\" class=\"dataframe\">\n",
       "  <thead>\n",
       "    <tr style=\"text-align: right;\">\n",
       "      <th></th>\n",
       "      <th>uid</th>\n",
       "      <th>age</th>\n",
       "      <th>attraction_coeff</th>\n",
       "      <th>coins</th>\n",
       "      <th>country</th>\n",
       "      <th>visit_days</th>\n",
       "      <th>gender</th>\n",
       "      <th>views_count</th>\n",
       "      <th>was_premium</th>\n",
       "      <th>is_premium</th>\n",
       "      <th>total_revenue</th>\n",
       "      <th>age_group_my</th>\n",
       "      <th>visit_days_group</th>\n",
       "      <th>views_count_group</th>\n",
       "      <th>attraction_coeff_group</th>\n",
       "      <th>age_int</th>\n",
       "      <th>log_rev</th>\n",
       "    </tr>\n",
       "  </thead>\n",
       "  <tbody>\n",
       "    <tr>\n",
       "      <th>0</th>\n",
       "      <td>892319115</td>\n",
       "      <td>25</td>\n",
       "      <td>435</td>\n",
       "      <td>NaN</td>\n",
       "      <td>United States of America</td>\n",
       "      <td>6</td>\n",
       "      <td>0</td>\n",
       "      <td>982</td>\n",
       "      <td>NaN</td>\n",
       "      <td>NaN</td>\n",
       "      <td>0</td>\n",
       "      <td>17-25</td>\n",
       "      <td>2-7</td>\n",
       "      <td>21-</td>\n",
       "      <td>238-518</td>\n",
       "      <td>22-32</td>\n",
       "      <td>0.0</td>\n",
       "    </tr>\n",
       "    <tr>\n",
       "      <th>1</th>\n",
       "      <td>891248523</td>\n",
       "      <td>29</td>\n",
       "      <td>500</td>\n",
       "      <td>NaN</td>\n",
       "      <td>United States of America</td>\n",
       "      <td>2</td>\n",
       "      <td>1</td>\n",
       "      <td>12</td>\n",
       "      <td>NaN</td>\n",
       "      <td>NaN</td>\n",
       "      <td>0</td>\n",
       "      <td>25-38</td>\n",
       "      <td>0-2</td>\n",
       "      <td>6-21</td>\n",
       "      <td>238-518</td>\n",
       "      <td>26-32</td>\n",
       "      <td>0.0</td>\n",
       "    </tr>\n",
       "    <tr>\n",
       "      <th>2</th>\n",
       "      <td>891670932</td>\n",
       "      <td>33</td>\n",
       "      <td>800</td>\n",
       "      <td>NaN</td>\n",
       "      <td>France</td>\n",
       "      <td>10</td>\n",
       "      <td>1</td>\n",
       "      <td>5</td>\n",
       "      <td>NaN</td>\n",
       "      <td>NaN</td>\n",
       "      <td>0</td>\n",
       "      <td>25-38</td>\n",
       "      <td>7-</td>\n",
       "      <td>1-6</td>\n",
       "      <td>518-</td>\n",
       "      <td>30-36</td>\n",
       "      <td>0.0</td>\n",
       "    </tr>\n",
       "    <tr>\n",
       "      <th>3</th>\n",
       "      <td>891060786</td>\n",
       "      <td>26</td>\n",
       "      <td>0</td>\n",
       "      <td>NaN</td>\n",
       "      <td>Argentina</td>\n",
       "      <td>5</td>\n",
       "      <td>1</td>\n",
       "      <td>0</td>\n",
       "      <td>NaN</td>\n",
       "      <td>NaN</td>\n",
       "      <td>0</td>\n",
       "      <td>25-38</td>\n",
       "      <td>2-7</td>\n",
       "      <td>0-1</td>\n",
       "      <td>0</td>\n",
       "      <td>23-29</td>\n",
       "      <td>0.0</td>\n",
       "    </tr>\n",
       "    <tr>\n",
       "      <th>4</th>\n",
       "      <td>892006554</td>\n",
       "      <td>35</td>\n",
       "      <td>294</td>\n",
       "      <td>NaN</td>\n",
       "      <td>United States of America</td>\n",
       "      <td>14</td>\n",
       "      <td>1</td>\n",
       "      <td>17</td>\n",
       "      <td>NaN</td>\n",
       "      <td>NaN</td>\n",
       "      <td>0</td>\n",
       "      <td>25-38</td>\n",
       "      <td>7-</td>\n",
       "      <td>6-21</td>\n",
       "      <td>238-518</td>\n",
       "      <td>30-40</td>\n",
       "      <td>0.0</td>\n",
       "    </tr>\n",
       "  </tbody>\n",
       "</table>\n",
       "</div>"
      ],
      "text/plain": [
       "         uid  age  attraction_coeff  coins                   country  \\\n",
       "0  892319115   25               435    NaN  United States of America   \n",
       "1  891248523   29               500    NaN  United States of America   \n",
       "2  891670932   33               800    NaN                    France   \n",
       "3  891060786   26                 0    NaN                 Argentina   \n",
       "4  892006554   35               294    NaN  United States of America   \n",
       "\n",
       "   visit_days  gender  views_count  was_premium  is_premium  total_revenue  \\\n",
       "0           6       0          982          NaN         NaN              0   \n",
       "1           2       1           12          NaN         NaN              0   \n",
       "2          10       1            5          NaN         NaN              0   \n",
       "3           5       1            0          NaN         NaN              0   \n",
       "4          14       1           17          NaN         NaN              0   \n",
       "\n",
       "  age_group_my visit_days_group views_count_group attraction_coeff_group  \\\n",
       "0        17-25              2-7               21-                238-518   \n",
       "1        25-38              0-2              6-21                238-518   \n",
       "2        25-38               7-               1-6                   518-   \n",
       "3        25-38              2-7               0-1                      0   \n",
       "4        25-38               7-              6-21                238-518   \n",
       "\n",
       "  age_int  log_rev  \n",
       "0   22-32      0.0  \n",
       "1   26-32      0.0  \n",
       "2   30-36      0.0  \n",
       "3   23-29      0.0  \n",
       "4   30-40      0.0  "
      ]
     },
     "execution_count": 98,
     "metadata": {},
     "output_type": "execute_result"
    }
   ],
   "source": [
    "df_users_control_1.head()"
   ]
  },
  {
   "cell_type": "code",
   "execution_count": 99,
   "metadata": {
    "scrolled": false
   },
   "outputs": [
    {
     "data": {
      "text/plain": [
       "<seaborn.axisgrid.JointGrid at 0x7f0e4cd5b4a8>"
      ]
     },
     "execution_count": 99,
     "metadata": {},
     "output_type": "execute_result"
    },
    {
     "data": {
      "image/png": "[encoded data removed]",
      "text/plain": [
       "<Figure size 432x432 with 3 Axes>"
      ]
     },
     "metadata": {},
     "output_type": "display_data"
    }
   ],
   "source": [
    "# посмотрим данную взаимосвязь возраста и трат\n",
    "sns.jointplot(x = df_users_control_1.age, y = df_users_control_1.log_rev)"
   ]
  },
  {
   "cell_type": "code",
   "execution_count": 100,
   "metadata": {
    "scrolled": true
   },
   "outputs": [
    {
     "data": {
      "text/plain": [
       "<seaborn.axisgrid.JointGrid at 0x7f0e4cc276d8>"
      ]
     },
     "execution_count": 100,
     "metadata": {},
     "output_type": "execute_result"
    },
    {
     "data": {
      "image/png": "[encoded data removed]",
      "text/plain": [
       "<Figure size 432x432 with 3 Axes>"
      ]
     },
     "metadata": {},
     "output_type": "display_data"
    }
   ],
   "source": [
    "# посмотрим данную взаимосвязь возраста и трат только у платящих пользователей.\n",
    "sns.jointplot(x = df_users_control_1.age, y = df_users_control_1.log_rev[df_users_control_1.log_rev > 0])"
   ]
  },
  {
   "cell_type": "code",
   "execution_count": 101,
   "metadata": {
    "scrolled": true
   },
   "outputs": [
    {
     "data": {
      "text/plain": [
       "count    4340.000000\n",
       "mean       32.095392\n",
       "std        10.257466\n",
       "min        16.000000\n",
       "25%        24.000000\n",
       "50%        30.000000\n",
       "75%        38.000000\n",
       "max        99.000000\n",
       "Name: age, dtype: float64"
      ]
     },
     "execution_count": 101,
     "metadata": {},
     "output_type": "execute_result"
    }
   ],
   "source": [
    "df_users_control_1.age.describe()"
   ]
  },
  {
   "cell_type": "code",
   "execution_count": 102,
   "metadata": {
    "scrolled": true
   },
   "outputs": [
    {
     "data": {
      "text/html": [
       "<div>\n",
       "<style scoped>\n",
       "    .dataframe tbody tr th:only-of-type {\n",
       "        vertical-align: middle;\n",
       "    }\n",
       "\n",
       "    .dataframe tbody tr th {\n",
       "        vertical-align: top;\n",
       "    }\n",
       "\n",
       "    .dataframe thead th {\n",
       "        text-align: right;\n",
       "    }\n",
       "</style>\n",
       "<table border=\"1\" class=\"dataframe\">\n",
       "  <thead>\n",
       "    <tr style=\"text-align: right;\">\n",
       "      <th></th>\n",
       "      <th>uid</th>\n",
       "      <th>age</th>\n",
       "      <th>attraction_coeff</th>\n",
       "      <th>coins</th>\n",
       "      <th>country</th>\n",
       "      <th>visit_days</th>\n",
       "      <th>gender</th>\n",
       "      <th>views_count</th>\n",
       "      <th>was_premium</th>\n",
       "      <th>is_premium</th>\n",
       "      <th>total_revenue</th>\n",
       "      <th>age_group_my</th>\n",
       "      <th>visit_days_group</th>\n",
       "      <th>views_count_group</th>\n",
       "      <th>attraction_coeff_group</th>\n",
       "      <th>age_int</th>\n",
       "      <th>log_rev</th>\n",
       "    </tr>\n",
       "  </thead>\n",
       "  <tbody>\n",
       "    <tr>\n",
       "      <th>0</th>\n",
       "      <td>892319115</td>\n",
       "      <td>25</td>\n",
       "      <td>435</td>\n",
       "      <td>NaN</td>\n",
       "      <td>United States of America</td>\n",
       "      <td>6</td>\n",
       "      <td>0</td>\n",
       "      <td>982</td>\n",
       "      <td>NaN</td>\n",
       "      <td>NaN</td>\n",
       "      <td>0</td>\n",
       "      <td>17-25</td>\n",
       "      <td>2-7</td>\n",
       "      <td>21-</td>\n",
       "      <td>238-518</td>\n",
       "      <td>22-32</td>\n",
       "      <td>0.0</td>\n",
       "    </tr>\n",
       "    <tr>\n",
       "      <th>1</th>\n",
       "      <td>891248523</td>\n",
       "      <td>29</td>\n",
       "      <td>500</td>\n",
       "      <td>NaN</td>\n",
       "      <td>United States of America</td>\n",
       "      <td>2</td>\n",
       "      <td>1</td>\n",
       "      <td>12</td>\n",
       "      <td>NaN</td>\n",
       "      <td>NaN</td>\n",
       "      <td>0</td>\n",
       "      <td>25-38</td>\n",
       "      <td>0-2</td>\n",
       "      <td>6-21</td>\n",
       "      <td>238-518</td>\n",
       "      <td>26-32</td>\n",
       "      <td>0.0</td>\n",
       "    </tr>\n",
       "    <tr>\n",
       "      <th>2</th>\n",
       "      <td>891670932</td>\n",
       "      <td>33</td>\n",
       "      <td>800</td>\n",
       "      <td>NaN</td>\n",
       "      <td>France</td>\n",
       "      <td>10</td>\n",
       "      <td>1</td>\n",
       "      <td>5</td>\n",
       "      <td>NaN</td>\n",
       "      <td>NaN</td>\n",
       "      <td>0</td>\n",
       "      <td>25-38</td>\n",
       "      <td>7-</td>\n",
       "      <td>1-6</td>\n",
       "      <td>518-</td>\n",
       "      <td>30-36</td>\n",
       "      <td>0.0</td>\n",
       "    </tr>\n",
       "    <tr>\n",
       "      <th>3</th>\n",
       "      <td>891060786</td>\n",
       "      <td>26</td>\n",
       "      <td>0</td>\n",
       "      <td>NaN</td>\n",
       "      <td>Argentina</td>\n",
       "      <td>5</td>\n",
       "      <td>1</td>\n",
       "      <td>0</td>\n",
       "      <td>NaN</td>\n",
       "      <td>NaN</td>\n",
       "      <td>0</td>\n",
       "      <td>25-38</td>\n",
       "      <td>2-7</td>\n",
       "      <td>0-1</td>\n",
       "      <td>0</td>\n",
       "      <td>23-29</td>\n",
       "      <td>0.0</td>\n",
       "    </tr>\n",
       "    <tr>\n",
       "      <th>4</th>\n",
       "      <td>892006554</td>\n",
       "      <td>35</td>\n",
       "      <td>294</td>\n",
       "      <td>NaN</td>\n",
       "      <td>United States of America</td>\n",
       "      <td>14</td>\n",
       "      <td>1</td>\n",
       "      <td>17</td>\n",
       "      <td>NaN</td>\n",
       "      <td>NaN</td>\n",
       "      <td>0</td>\n",
       "      <td>25-38</td>\n",
       "      <td>7-</td>\n",
       "      <td>6-21</td>\n",
       "      <td>238-518</td>\n",
       "      <td>30-40</td>\n",
       "      <td>0.0</td>\n",
       "    </tr>\n",
       "    <tr>\n",
       "      <th>...</th>\n",
       "      <td>...</td>\n",
       "      <td>...</td>\n",
       "      <td>...</td>\n",
       "      <td>...</td>\n",
       "      <td>...</td>\n",
       "      <td>...</td>\n",
       "      <td>...</td>\n",
       "      <td>...</td>\n",
       "      <td>...</td>\n",
       "      <td>...</td>\n",
       "      <td>...</td>\n",
       "      <td>...</td>\n",
       "      <td>...</td>\n",
       "      <td>...</td>\n",
       "      <td>...</td>\n",
       "      <td>...</td>\n",
       "      <td>...</td>\n",
       "    </tr>\n",
       "    <tr>\n",
       "      <th>4335</th>\n",
       "      <td>892022304</td>\n",
       "      <td>26</td>\n",
       "      <td>227</td>\n",
       "      <td>NaN</td>\n",
       "      <td>United States of America</td>\n",
       "      <td>0</td>\n",
       "      <td>0</td>\n",
       "      <td>427</td>\n",
       "      <td>NaN</td>\n",
       "      <td>NaN</td>\n",
       "      <td>0</td>\n",
       "      <td>25-38</td>\n",
       "      <td>0</td>\n",
       "      <td>21-</td>\n",
       "      <td>0-238</td>\n",
       "      <td>23-29</td>\n",
       "      <td>0.0</td>\n",
       "    </tr>\n",
       "    <tr>\n",
       "      <th>4336</th>\n",
       "      <td>891905022</td>\n",
       "      <td>38</td>\n",
       "      <td>200</td>\n",
       "      <td>NaN</td>\n",
       "      <td>Argentina</td>\n",
       "      <td>16</td>\n",
       "      <td>1</td>\n",
       "      <td>5</td>\n",
       "      <td>NaN</td>\n",
       "      <td>NaN</td>\n",
       "      <td>0</td>\n",
       "      <td>25-38</td>\n",
       "      <td>7-</td>\n",
       "      <td>1-6</td>\n",
       "      <td>0-238</td>\n",
       "      <td>20-50</td>\n",
       "      <td>0.0</td>\n",
       "    </tr>\n",
       "    <tr>\n",
       "      <th>4337</th>\n",
       "      <td>891304722</td>\n",
       "      <td>49</td>\n",
       "      <td>411</td>\n",
       "      <td>NaN</td>\n",
       "      <td>United States of America</td>\n",
       "      <td>1</td>\n",
       "      <td>1</td>\n",
       "      <td>17</td>\n",
       "      <td>NaN</td>\n",
       "      <td>NaN</td>\n",
       "      <td>0</td>\n",
       "      <td>38-</td>\n",
       "      <td>0-2</td>\n",
       "      <td>6-21</td>\n",
       "      <td>238-518</td>\n",
       "      <td>46-52</td>\n",
       "      <td>0.0</td>\n",
       "    </tr>\n",
       "    <tr>\n",
       "      <th>4338</th>\n",
       "      <td>891302328</td>\n",
       "      <td>27</td>\n",
       "      <td>0</td>\n",
       "      <td>NaN</td>\n",
       "      <td>United States of America</td>\n",
       "      <td>3</td>\n",
       "      <td>1</td>\n",
       "      <td>0</td>\n",
       "      <td>NaN</td>\n",
       "      <td>NaN</td>\n",
       "      <td>0</td>\n",
       "      <td>25-38</td>\n",
       "      <td>2-7</td>\n",
       "      <td>0-1</td>\n",
       "      <td>0</td>\n",
       "      <td>24-30</td>\n",
       "      <td>0.0</td>\n",
       "    </tr>\n",
       "    <tr>\n",
       "      <th>4339</th>\n",
       "      <td>891182532</td>\n",
       "      <td>31</td>\n",
       "      <td>1000</td>\n",
       "      <td>NaN</td>\n",
       "      <td>United States of America</td>\n",
       "      <td>1</td>\n",
       "      <td>1</td>\n",
       "      <td>2</td>\n",
       "      <td>NaN</td>\n",
       "      <td>NaN</td>\n",
       "      <td>0</td>\n",
       "      <td>25-38</td>\n",
       "      <td>0-2</td>\n",
       "      <td>1-6</td>\n",
       "      <td>518-</td>\n",
       "      <td>19-34</td>\n",
       "      <td>0.0</td>\n",
       "    </tr>\n",
       "  </tbody>\n",
       "</table>\n",
       "<p>4340 rows × 17 columns</p>\n",
       "</div>"
      ],
      "text/plain": [
       "            uid  age  attraction_coeff  coins                   country  \\\n",
       "0     892319115   25               435    NaN  United States of America   \n",
       "1     891248523   29               500    NaN  United States of America   \n",
       "2     891670932   33               800    NaN                    France   \n",
       "3     891060786   26                 0    NaN                 Argentina   \n",
       "4     892006554   35               294    NaN  United States of America   \n",
       "...         ...  ...               ...    ...                       ...   \n",
       "4335  892022304   26               227    NaN  United States of America   \n",
       "4336  891905022   38               200    NaN                 Argentina   \n",
       "4337  891304722   49               411    NaN  United States of America   \n",
       "4338  891302328   27                 0    NaN  United States of America   \n",
       "4339  891182532   31              1000    NaN  United States of America   \n",
       "\n",
       "      visit_days  gender  views_count  was_premium  is_premium  total_revenue  \\\n",
       "0              6       0          982          NaN         NaN              0   \n",
       "1              2       1           12          NaN         NaN              0   \n",
       "2             10       1            5          NaN         NaN              0   \n",
       "3              5       1            0          NaN         NaN              0   \n",
       "4             14       1           17          NaN         NaN              0   \n",
       "...          ...     ...          ...          ...         ...            ...   \n",
       "4335           0       0          427          NaN         NaN              0   \n",
       "4336          16       1            5          NaN         NaN              0   \n",
       "4337           1       1           17          NaN         NaN              0   \n",
       "4338           3       1            0          NaN         NaN              0   \n",
       "4339           1       1            2          NaN         NaN              0   \n",
       "\n",
       "     age_group_my visit_days_group views_count_group attraction_coeff_group  \\\n",
       "0           17-25              2-7               21-                238-518   \n",
       "1           25-38              0-2              6-21                238-518   \n",
       "2           25-38               7-               1-6                   518-   \n",
       "3           25-38              2-7               0-1                      0   \n",
       "4           25-38               7-              6-21                238-518   \n",
       "...           ...              ...               ...                    ...   \n",
       "4335        25-38                0               21-                  0-238   \n",
       "4336        25-38               7-               1-6                  0-238   \n",
       "4337          38-              0-2              6-21                238-518   \n",
       "4338        25-38              2-7               0-1                      0   \n",
       "4339        25-38              0-2               1-6                   518-   \n",
       "\n",
       "     age_int  log_rev  \n",
       "0      22-32      0.0  \n",
       "1      26-32      0.0  \n",
       "2      30-36      0.0  \n",
       "3      23-29      0.0  \n",
       "4      30-40      0.0  \n",
       "...      ...      ...  \n",
       "4335   23-29      0.0  \n",
       "4336   20-50      0.0  \n",
       "4337   46-52      0.0  \n",
       "4338   24-30      0.0  \n",
       "4339   19-34      0.0  \n",
       "\n",
       "[4340 rows x 17 columns]"
      ]
     },
     "execution_count": 102,
     "metadata": {},
     "output_type": "execute_result"
    }
   ],
   "source": [
    "df_users_control_1"
   ]
  },
  {
   "cell_type": "code",
   "execution_count": 103,
   "metadata": {
    "scrolled": true
   },
   "outputs": [],
   "source": [
    "df_users_control_1.is_premium = df_users_control_1.is_premium.fillna(0)"
   ]
  },
  {
   "cell_type": "code",
   "execution_count": 104,
   "metadata": {},
   "outputs": [
    {
     "data": {
      "text/html": [
       "<div>\n",
       "<style scoped>\n",
       "    .dataframe tbody tr th:only-of-type {\n",
       "        vertical-align: middle;\n",
       "    }\n",
       "\n",
       "    .dataframe tbody tr th {\n",
       "        vertical-align: top;\n",
       "    }\n",
       "\n",
       "    .dataframe thead th {\n",
       "        text-align: right;\n",
       "    }\n",
       "</style>\n",
       "<table border=\"1\" class=\"dataframe\">\n",
       "  <thead>\n",
       "    <tr style=\"text-align: right;\">\n",
       "      <th></th>\n",
       "      <th>uid</th>\n",
       "      <th>age</th>\n",
       "      <th>attraction_coeff</th>\n",
       "      <th>coins</th>\n",
       "      <th>country_x</th>\n",
       "      <th>visit_days</th>\n",
       "      <th>gender</th>\n",
       "      <th>age_filter_start</th>\n",
       "      <th>age_filter_end</th>\n",
       "      <th>views_count</th>\n",
       "      <th>...</th>\n",
       "      <th>country_y</th>\n",
       "      <th>joined_at</th>\n",
       "      <th>paid_at</th>\n",
       "      <th>revenue</th>\n",
       "      <th>payment_id</th>\n",
       "      <th>from_page</th>\n",
       "      <th>product_type</th>\n",
       "      <th>buy_premium</th>\n",
       "      <th>buy_other</th>\n",
       "      <th>buy_flag</th>\n",
       "    </tr>\n",
       "  </thead>\n",
       "  <tbody>\n",
       "    <tr>\n",
       "      <th>0</th>\n",
       "      <td>892319115</td>\n",
       "      <td>25</td>\n",
       "      <td>435</td>\n",
       "      <td>NaN</td>\n",
       "      <td>United States of America</td>\n",
       "      <td>6</td>\n",
       "      <td>0</td>\n",
       "      <td>22</td>\n",
       "      <td>32</td>\n",
       "      <td>982</td>\n",
       "      <td>...</td>\n",
       "      <td>NaN</td>\n",
       "      <td>NaT</td>\n",
       "      <td>NaT</td>\n",
       "      <td>NaN</td>\n",
       "      <td>NaN</td>\n",
       "      <td>NaN</td>\n",
       "      <td>NaN</td>\n",
       "      <td>0</td>\n",
       "      <td>0</td>\n",
       "      <td>0</td>\n",
       "    </tr>\n",
       "    <tr>\n",
       "      <th>1</th>\n",
       "      <td>891248523</td>\n",
       "      <td>29</td>\n",
       "      <td>500</td>\n",
       "      <td>NaN</td>\n",
       "      <td>United States of America</td>\n",
       "      <td>2</td>\n",
       "      <td>1</td>\n",
       "      <td>26</td>\n",
       "      <td>32</td>\n",
       "      <td>12</td>\n",
       "      <td>...</td>\n",
       "      <td>NaN</td>\n",
       "      <td>NaT</td>\n",
       "      <td>NaT</td>\n",
       "      <td>NaN</td>\n",
       "      <td>NaN</td>\n",
       "      <td>NaN</td>\n",
       "      <td>NaN</td>\n",
       "      <td>0</td>\n",
       "      <td>0</td>\n",
       "      <td>0</td>\n",
       "    </tr>\n",
       "    <tr>\n",
       "      <th>2</th>\n",
       "      <td>891670932</td>\n",
       "      <td>33</td>\n",
       "      <td>800</td>\n",
       "      <td>NaN</td>\n",
       "      <td>France</td>\n",
       "      <td>10</td>\n",
       "      <td>1</td>\n",
       "      <td>30</td>\n",
       "      <td>36</td>\n",
       "      <td>5</td>\n",
       "      <td>...</td>\n",
       "      <td>NaN</td>\n",
       "      <td>NaT</td>\n",
       "      <td>NaT</td>\n",
       "      <td>NaN</td>\n",
       "      <td>NaN</td>\n",
       "      <td>NaN</td>\n",
       "      <td>NaN</td>\n",
       "      <td>0</td>\n",
       "      <td>0</td>\n",
       "      <td>0</td>\n",
       "    </tr>\n",
       "    <tr>\n",
       "      <th>3</th>\n",
       "      <td>891060786</td>\n",
       "      <td>26</td>\n",
       "      <td>0</td>\n",
       "      <td>NaN</td>\n",
       "      <td>Argentina</td>\n",
       "      <td>5</td>\n",
       "      <td>1</td>\n",
       "      <td>23</td>\n",
       "      <td>29</td>\n",
       "      <td>0</td>\n",
       "      <td>...</td>\n",
       "      <td>NaN</td>\n",
       "      <td>NaT</td>\n",
       "      <td>NaT</td>\n",
       "      <td>NaN</td>\n",
       "      <td>NaN</td>\n",
       "      <td>NaN</td>\n",
       "      <td>NaN</td>\n",
       "      <td>0</td>\n",
       "      <td>0</td>\n",
       "      <td>0</td>\n",
       "    </tr>\n",
       "    <tr>\n",
       "      <th>4</th>\n",
       "      <td>892006554</td>\n",
       "      <td>35</td>\n",
       "      <td>294</td>\n",
       "      <td>NaN</td>\n",
       "      <td>United States of America</td>\n",
       "      <td>14</td>\n",
       "      <td>1</td>\n",
       "      <td>30</td>\n",
       "      <td>40</td>\n",
       "      <td>17</td>\n",
       "      <td>...</td>\n",
       "      <td>NaN</td>\n",
       "      <td>NaT</td>\n",
       "      <td>NaT</td>\n",
       "      <td>NaN</td>\n",
       "      <td>NaN</td>\n",
       "      <td>NaN</td>\n",
       "      <td>NaN</td>\n",
       "      <td>0</td>\n",
       "      <td>0</td>\n",
       "      <td>0</td>\n",
       "    </tr>\n",
       "    <tr>\n",
       "      <th>...</th>\n",
       "      <td>...</td>\n",
       "      <td>...</td>\n",
       "      <td>...</td>\n",
       "      <td>...</td>\n",
       "      <td>...</td>\n",
       "      <td>...</td>\n",
       "      <td>...</td>\n",
       "      <td>...</td>\n",
       "      <td>...</td>\n",
       "      <td>...</td>\n",
       "      <td>...</td>\n",
       "      <td>...</td>\n",
       "      <td>...</td>\n",
       "      <td>...</td>\n",
       "      <td>...</td>\n",
       "      <td>...</td>\n",
       "      <td>...</td>\n",
       "      <td>...</td>\n",
       "      <td>...</td>\n",
       "      <td>...</td>\n",
       "      <td>...</td>\n",
       "    </tr>\n",
       "    <tr>\n",
       "      <th>4519</th>\n",
       "      <td>892022304</td>\n",
       "      <td>26</td>\n",
       "      <td>227</td>\n",
       "      <td>NaN</td>\n",
       "      <td>United States of America</td>\n",
       "      <td>0</td>\n",
       "      <td>0</td>\n",
       "      <td>23</td>\n",
       "      <td>29</td>\n",
       "      <td>427</td>\n",
       "      <td>...</td>\n",
       "      <td>NaN</td>\n",
       "      <td>NaT</td>\n",
       "      <td>NaT</td>\n",
       "      <td>NaN</td>\n",
       "      <td>NaN</td>\n",
       "      <td>NaN</td>\n",
       "      <td>NaN</td>\n",
       "      <td>0</td>\n",
       "      <td>0</td>\n",
       "      <td>0</td>\n",
       "    </tr>\n",
       "    <tr>\n",
       "      <th>4520</th>\n",
       "      <td>891905022</td>\n",
       "      <td>38</td>\n",
       "      <td>200</td>\n",
       "      <td>NaN</td>\n",
       "      <td>Argentina</td>\n",
       "      <td>16</td>\n",
       "      <td>1</td>\n",
       "      <td>20</td>\n",
       "      <td>50</td>\n",
       "      <td>5</td>\n",
       "      <td>...</td>\n",
       "      <td>NaN</td>\n",
       "      <td>NaT</td>\n",
       "      <td>NaT</td>\n",
       "      <td>NaN</td>\n",
       "      <td>NaN</td>\n",
       "      <td>NaN</td>\n",
       "      <td>NaN</td>\n",
       "      <td>0</td>\n",
       "      <td>0</td>\n",
       "      <td>0</td>\n",
       "    </tr>\n",
       "    <tr>\n",
       "      <th>4521</th>\n",
       "      <td>891304722</td>\n",
       "      <td>49</td>\n",
       "      <td>411</td>\n",
       "      <td>NaN</td>\n",
       "      <td>United States of America</td>\n",
       "      <td>1</td>\n",
       "      <td>1</td>\n",
       "      <td>46</td>\n",
       "      <td>52</td>\n",
       "      <td>17</td>\n",
       "      <td>...</td>\n",
       "      <td>NaN</td>\n",
       "      <td>NaT</td>\n",
       "      <td>NaT</td>\n",
       "      <td>NaN</td>\n",
       "      <td>NaN</td>\n",
       "      <td>NaN</td>\n",
       "      <td>NaN</td>\n",
       "      <td>0</td>\n",
       "      <td>0</td>\n",
       "      <td>0</td>\n",
       "    </tr>\n",
       "    <tr>\n",
       "      <th>4522</th>\n",
       "      <td>891302328</td>\n",
       "      <td>27</td>\n",
       "      <td>0</td>\n",
       "      <td>NaN</td>\n",
       "      <td>United States of America</td>\n",
       "      <td>3</td>\n",
       "      <td>1</td>\n",
       "      <td>24</td>\n",
       "      <td>30</td>\n",
       "      <td>0</td>\n",
       "      <td>...</td>\n",
       "      <td>NaN</td>\n",
       "      <td>NaT</td>\n",
       "      <td>NaT</td>\n",
       "      <td>NaN</td>\n",
       "      <td>NaN</td>\n",
       "      <td>NaN</td>\n",
       "      <td>NaN</td>\n",
       "      <td>0</td>\n",
       "      <td>0</td>\n",
       "      <td>0</td>\n",
       "    </tr>\n",
       "    <tr>\n",
       "      <th>4523</th>\n",
       "      <td>891182532</td>\n",
       "      <td>31</td>\n",
       "      <td>1000</td>\n",
       "      <td>NaN</td>\n",
       "      <td>United States of America</td>\n",
       "      <td>1</td>\n",
       "      <td>1</td>\n",
       "      <td>19</td>\n",
       "      <td>34</td>\n",
       "      <td>2</td>\n",
       "      <td>...</td>\n",
       "      <td>NaN</td>\n",
       "      <td>NaT</td>\n",
       "      <td>NaT</td>\n",
       "      <td>NaN</td>\n",
       "      <td>NaN</td>\n",
       "      <td>NaN</td>\n",
       "      <td>NaN</td>\n",
       "      <td>0</td>\n",
       "      <td>0</td>\n",
       "      <td>0</td>\n",
       "    </tr>\n",
       "  </tbody>\n",
       "</table>\n",
       "<p>4524 rows × 27 columns</p>\n",
       "</div>"
      ],
      "text/plain": [
       "            uid  age  attraction_coeff  coins                 country_x  \\\n",
       "0     892319115   25               435    NaN  United States of America   \n",
       "1     891248523   29               500    NaN  United States of America   \n",
       "2     891670932   33               800    NaN                    France   \n",
       "3     891060786   26                 0    NaN                 Argentina   \n",
       "4     892006554   35               294    NaN  United States of America   \n",
       "...         ...  ...               ...    ...                       ...   \n",
       "4519  892022304   26               227    NaN  United States of America   \n",
       "4520  891905022   38               200    NaN                 Argentina   \n",
       "4521  891304722   49               411    NaN  United States of America   \n",
       "4522  891302328   27                 0    NaN  United States of America   \n",
       "4523  891182532   31              1000    NaN  United States of America   \n",
       "\n",
       "      visit_days  gender  age_filter_start  age_filter_end  views_count  ...  \\\n",
       "0              6       0                22              32          982  ...   \n",
       "1              2       1                26              32           12  ...   \n",
       "2             10       1                30              36            5  ...   \n",
       "3              5       1                23              29            0  ...   \n",
       "4             14       1                30              40           17  ...   \n",
       "...          ...     ...               ...             ...          ...  ...   \n",
       "4519           0       0                23              29          427  ...   \n",
       "4520          16       1                20              50            5  ...   \n",
       "4521           1       1                46              52           17  ...   \n",
       "4522           3       1                24              30            0  ...   \n",
       "4523           1       1                19              34            2  ...   \n",
       "\n",
       "      country_y  joined_at  paid_at revenue payment_id from_page product_type  \\\n",
       "0           NaN        NaT      NaT     NaN        NaN       NaN          NaN   \n",
       "1           NaN        NaT      NaT     NaN        NaN       NaN          NaN   \n",
       "2           NaN        NaT      NaT     NaN        NaN       NaN          NaN   \n",
       "3           NaN        NaT      NaT     NaN        NaN       NaN          NaN   \n",
       "4           NaN        NaT      NaT     NaN        NaN       NaN          NaN   \n",
       "...         ...        ...      ...     ...        ...       ...          ...   \n",
       "4519        NaN        NaT      NaT     NaN        NaN       NaN          NaN   \n",
       "4520        NaN        NaT      NaT     NaN        NaN       NaN          NaN   \n",
       "4521        NaN        NaT      NaT     NaN        NaN       NaN          NaN   \n",
       "4522        NaN        NaT      NaT     NaN        NaN       NaN          NaN   \n",
       "4523        NaN        NaT      NaT     NaN        NaN       NaN          NaN   \n",
       "\n",
       "     buy_premium buy_other buy_flag  \n",
       "0              0         0        0  \n",
       "1              0         0        0  \n",
       "2              0         0        0  \n",
       "3              0         0        0  \n",
       "4              0         0        0  \n",
       "...          ...       ...      ...  \n",
       "4519           0         0        0  \n",
       "4520           0         0        0  \n",
       "4521           0         0        0  \n",
       "4522           0         0        0  \n",
       "4523           0         0        0  \n",
       "\n",
       "[4524 rows x 27 columns]"
      ]
     },
     "execution_count": 104,
     "metadata": {},
     "output_type": "execute_result"
    }
   ],
   "source": [
    "df_cont_1_join"
   ]
  },
  {
   "cell_type": "code",
   "execution_count": 105,
   "metadata": {},
   "outputs": [],
   "source": [
    "# заполним пустые значения нулями и поменяем тип данных колонок buy_premium, buy_other\n",
    "df_cont_1_join.buy_premium = df_cont_1_join.buy_premium.fillna(0)\n",
    "df_cont_1_join.buy_other = df_cont_1_join.buy_other.fillna(0)\n",
    "df_cont_1_join.buy_premium = df_cont_1_join.buy_premium.astype('int')\n",
    "df_cont_1_join.buy_other = df_cont_1_join.buy_other.astype('int')"
   ]
  },
  {
   "cell_type": "code",
   "execution_count": 106,
   "metadata": {},
   "outputs": [],
   "source": [
    "# поменяем тип данных\n",
    "df_users_control_1.is_premium = df_users_control_1.is_premium.astype('int')"
   ]
  },
  {
   "cell_type": "code",
   "execution_count": 107,
   "metadata": {},
   "outputs": [
    {
     "data": {
      "text/html": [
       "<style  type=\"text/css\" >\n",
       "#T_1f28d490_c0ad_11ed_bdbb_96000040dfb6row0_col0,#T_1f28d490_c0ad_11ed_bdbb_96000040dfb6row0_col1,#T_1f28d490_c0ad_11ed_bdbb_96000040dfb6row0_col2{\n",
       "            background-color:  #ffff00;\n",
       "            color:  #000000;\n",
       "        }#T_1f28d490_c0ad_11ed_bdbb_96000040dfb6row1_col0{\n",
       "            background-color:  #ffbd00;\n",
       "            color:  #000000;\n",
       "        }#T_1f28d490_c0ad_11ed_bdbb_96000040dfb6row1_col1{\n",
       "            background-color:  #ff8700;\n",
       "            color:  #000000;\n",
       "        }#T_1f28d490_c0ad_11ed_bdbb_96000040dfb6row1_col2{\n",
       "            background-color:  #ffba00;\n",
       "            color:  #000000;\n",
       "        }#T_1f28d490_c0ad_11ed_bdbb_96000040dfb6row2_col0{\n",
       "            background-color:  #ff8f00;\n",
       "            color:  #000000;\n",
       "        }#T_1f28d490_c0ad_11ed_bdbb_96000040dfb6row2_col1{\n",
       "            background-color:  #ffa000;\n",
       "            color:  #000000;\n",
       "        }#T_1f28d490_c0ad_11ed_bdbb_96000040dfb6row2_col2{\n",
       "            background-color:  #ff9000;\n",
       "            color:  #000000;\n",
       "        }#T_1f28d490_c0ad_11ed_bdbb_96000040dfb6row3_col0{\n",
       "            background-color:  #ffc500;\n",
       "            color:  #000000;\n",
       "        }#T_1f28d490_c0ad_11ed_bdbb_96000040dfb6row3_col1{\n",
       "            background-color:  #ffdb00;\n",
       "            color:  #000000;\n",
       "        }#T_1f28d490_c0ad_11ed_bdbb_96000040dfb6row3_col2{\n",
       "            background-color:  #ffc600;\n",
       "            color:  #000000;\n",
       "        }#T_1f28d490_c0ad_11ed_bdbb_96000040dfb6row4_col0,#T_1f28d490_c0ad_11ed_bdbb_96000040dfb6row4_col1,#T_1f28d490_c0ad_11ed_bdbb_96000040dfb6row4_col2{\n",
       "            background-color:  #ff0000;\n",
       "            color:  #f1f1f1;\n",
       "        }</style><table id=\"T_1f28d490_c0ad_11ed_bdbb_96000040dfb6\" ><thead>    <tr>        <th class=\"index_name level0\" >buy_premium</th>        <th class=\"col_heading level0 col0\" >0</th>        <th class=\"col_heading level0 col1\" >1</th>        <th class=\"col_heading level0 col2\" >All</th>    </tr>    <tr>        <th class=\"index_name level0\" >age_group_my</th>        <th class=\"blank\" ></th>        <th class=\"blank\" ></th>        <th class=\"blank\" ></th>    </tr></thead><tbody>\n",
       "                <tr>\n",
       "                        <th id=\"T_1f28d490_c0ad_11ed_bdbb_96000040dfb6level0_row0\" class=\"row_heading level0 row0\" >0-17</th>\n",
       "                        <td id=\"T_1f28d490_c0ad_11ed_bdbb_96000040dfb6row0_col0\" class=\"data row0 col0\" >104</td>\n",
       "                        <td id=\"T_1f28d490_c0ad_11ed_bdbb_96000040dfb6row0_col1\" class=\"data row0 col1\" >1</td>\n",
       "                        <td id=\"T_1f28d490_c0ad_11ed_bdbb_96000040dfb6row0_col2\" class=\"data row0 col2\" >105</td>\n",
       "            </tr>\n",
       "            <tr>\n",
       "                        <th id=\"T_1f28d490_c0ad_11ed_bdbb_96000040dfb6level0_row1\" class=\"row_heading level0 row1\" >17-25</th>\n",
       "                        <td id=\"T_1f28d490_c0ad_11ed_bdbb_96000040dfb6row1_col0\" class=\"data row1 col0\" >1192</td>\n",
       "                        <td id=\"T_1f28d490_c0ad_11ed_bdbb_96000040dfb6row1_col1\" class=\"data row1 col1\" >111</td>\n",
       "                        <td id=\"T_1f28d490_c0ad_11ed_bdbb_96000040dfb6row1_col2\" class=\"data row1 col2\" >1303</td>\n",
       "            </tr>\n",
       "            <tr>\n",
       "                        <th id=\"T_1f28d490_c0ad_11ed_bdbb_96000040dfb6level0_row2\" class=\"row_heading level0 row2\" >25-38</th>\n",
       "                        <td id=\"T_1f28d490_c0ad_11ed_bdbb_96000040dfb6row2_col0\" class=\"data row2 col0\" >1936</td>\n",
       "                        <td id=\"T_1f28d490_c0ad_11ed_bdbb_96000040dfb6row2_col1\" class=\"data row2 col1\" >88</td>\n",
       "                        <td id=\"T_1f28d490_c0ad_11ed_bdbb_96000040dfb6row2_col2\" class=\"data row2 col2\" >2024</td>\n",
       "            </tr>\n",
       "            <tr>\n",
       "                        <th id=\"T_1f28d490_c0ad_11ed_bdbb_96000040dfb6level0_row3\" class=\"row_heading level0 row3\" >38-</th>\n",
       "                        <td id=\"T_1f28d490_c0ad_11ed_bdbb_96000040dfb6row3_col0\" class=\"data row3 col0\" >1058</td>\n",
       "                        <td id=\"T_1f28d490_c0ad_11ed_bdbb_96000040dfb6row3_col1\" class=\"data row3 col1\" >34</td>\n",
       "                        <td id=\"T_1f28d490_c0ad_11ed_bdbb_96000040dfb6row3_col2\" class=\"data row3 col2\" >1092</td>\n",
       "            </tr>\n",
       "            <tr>\n",
       "                        <th id=\"T_1f28d490_c0ad_11ed_bdbb_96000040dfb6level0_row4\" class=\"row_heading level0 row4\" >All</th>\n",
       "                        <td id=\"T_1f28d490_c0ad_11ed_bdbb_96000040dfb6row4_col0\" class=\"data row4 col0\" >4290</td>\n",
       "                        <td id=\"T_1f28d490_c0ad_11ed_bdbb_96000040dfb6row4_col1\" class=\"data row4 col1\" >234</td>\n",
       "                        <td id=\"T_1f28d490_c0ad_11ed_bdbb_96000040dfb6row4_col2\" class=\"data row4 col2\" >4524</td>\n",
       "            </tr>\n",
       "    </tbody></table>"
      ],
      "text/plain": [
       "<pandas.io.formats.style.Styler at 0x7f0e4ccd4160>"
      ]
     },
     "execution_count": 107,
     "metadata": {},
     "output_type": "execute_result"
    }
   ],
   "source": [
    "# посмотрим зависимость возрастной группы и наличие подписки премиум\n",
    "pd.crosstab(df_cont_1_join.age_group_my, df_cont_1_join.buy_premium, margins=True).style.background_gradient(cmap='autumn_r')"
   ]
  },
  {
   "cell_type": "code",
   "execution_count": 108,
   "metadata": {},
   "outputs": [
    {
     "data": {
      "text/html": [
       "<style  type=\"text/css\" >\n",
       "#T_1f28d491_c0ad_11ed_bdbb_96000040dfb6row0_col0,#T_1f28d491_c0ad_11ed_bdbb_96000040dfb6row0_col1,#T_1f28d491_c0ad_11ed_bdbb_96000040dfb6row0_col2{\n",
       "            background-color:  #ffff00;\n",
       "            color:  #000000;\n",
       "        }#T_1f28d491_c0ad_11ed_bdbb_96000040dfb6row1_col0{\n",
       "            background-color:  #ffbd00;\n",
       "            color:  #000000;\n",
       "        }#T_1f28d491_c0ad_11ed_bdbb_96000040dfb6row1_col1{\n",
       "            background-color:  #ff9a00;\n",
       "            color:  #000000;\n",
       "        }#T_1f28d491_c0ad_11ed_bdbb_96000040dfb6row1_col2{\n",
       "            background-color:  #ffba00;\n",
       "            color:  #000000;\n",
       "        }#T_1f28d491_c0ad_11ed_bdbb_96000040dfb6row2_col0{\n",
       "            background-color:  #ff8f00;\n",
       "            color:  #000000;\n",
       "        }#T_1f28d491_c0ad_11ed_bdbb_96000040dfb6row2_col1{\n",
       "            background-color:  #ff9b00;\n",
       "            color:  #000000;\n",
       "        }#T_1f28d491_c0ad_11ed_bdbb_96000040dfb6row2_col2{\n",
       "            background-color:  #ff9000;\n",
       "            color:  #000000;\n",
       "        }#T_1f28d491_c0ad_11ed_bdbb_96000040dfb6row3_col0,#T_1f28d491_c0ad_11ed_bdbb_96000040dfb6row3_col2{\n",
       "            background-color:  #ffc600;\n",
       "            color:  #000000;\n",
       "        }#T_1f28d491_c0ad_11ed_bdbb_96000040dfb6row3_col1{\n",
       "            background-color:  #ffce00;\n",
       "            color:  #000000;\n",
       "        }#T_1f28d491_c0ad_11ed_bdbb_96000040dfb6row4_col0,#T_1f28d491_c0ad_11ed_bdbb_96000040dfb6row4_col1,#T_1f28d491_c0ad_11ed_bdbb_96000040dfb6row4_col2{\n",
       "            background-color:  #ff0000;\n",
       "            color:  #f1f1f1;\n",
       "        }</style><table id=\"T_1f28d491_c0ad_11ed_bdbb_96000040dfb6\" ><thead>    <tr>        <th class=\"index_name level0\" >buy_other</th>        <th class=\"col_heading level0 col0\" >0</th>        <th class=\"col_heading level0 col1\" >1</th>        <th class=\"col_heading level0 col2\" >All</th>    </tr>    <tr>        <th class=\"index_name level0\" >age_group_my</th>        <th class=\"blank\" ></th>        <th class=\"blank\" ></th>        <th class=\"blank\" ></th>    </tr></thead><tbody>\n",
       "                <tr>\n",
       "                        <th id=\"T_1f28d491_c0ad_11ed_bdbb_96000040dfb6level0_row0\" class=\"row_heading level0 row0\" >0-17</th>\n",
       "                        <td id=\"T_1f28d491_c0ad_11ed_bdbb_96000040dfb6row0_col0\" class=\"data row0 col0\" >103</td>\n",
       "                        <td id=\"T_1f28d491_c0ad_11ed_bdbb_96000040dfb6row0_col1\" class=\"data row0 col1\" >2</td>\n",
       "                        <td id=\"T_1f28d491_c0ad_11ed_bdbb_96000040dfb6row0_col2\" class=\"data row0 col2\" >105</td>\n",
       "            </tr>\n",
       "            <tr>\n",
       "                        <th id=\"T_1f28d491_c0ad_11ed_bdbb_96000040dfb6level0_row1\" class=\"row_heading level0 row1\" >17-25</th>\n",
       "                        <td id=\"T_1f28d491_c0ad_11ed_bdbb_96000040dfb6row1_col0\" class=\"data row1 col0\" >1175</td>\n",
       "                        <td id=\"T_1f28d491_c0ad_11ed_bdbb_96000040dfb6row1_col1\" class=\"data row1 col1\" >128</td>\n",
       "                        <td id=\"T_1f28d491_c0ad_11ed_bdbb_96000040dfb6row1_col2\" class=\"data row1 col2\" >1303</td>\n",
       "            </tr>\n",
       "            <tr>\n",
       "                        <th id=\"T_1f28d491_c0ad_11ed_bdbb_96000040dfb6level0_row2\" class=\"row_heading level0 row2\" >25-38</th>\n",
       "                        <td id=\"T_1f28d491_c0ad_11ed_bdbb_96000040dfb6row2_col0\" class=\"data row2 col0\" >1898</td>\n",
       "                        <td id=\"T_1f28d491_c0ad_11ed_bdbb_96000040dfb6row2_col1\" class=\"data row2 col1\" >126</td>\n",
       "                        <td id=\"T_1f28d491_c0ad_11ed_bdbb_96000040dfb6row2_col2\" class=\"data row2 col2\" >2024</td>\n",
       "            </tr>\n",
       "            <tr>\n",
       "                        <th id=\"T_1f28d491_c0ad_11ed_bdbb_96000040dfb6level0_row3\" class=\"row_heading level0 row3\" >38-</th>\n",
       "                        <td id=\"T_1f28d491_c0ad_11ed_bdbb_96000040dfb6row3_col0\" class=\"data row3 col0\" >1029</td>\n",
       "                        <td id=\"T_1f28d491_c0ad_11ed_bdbb_96000040dfb6row3_col1\" class=\"data row3 col1\" >63</td>\n",
       "                        <td id=\"T_1f28d491_c0ad_11ed_bdbb_96000040dfb6row3_col2\" class=\"data row3 col2\" >1092</td>\n",
       "            </tr>\n",
       "            <tr>\n",
       "                        <th id=\"T_1f28d491_c0ad_11ed_bdbb_96000040dfb6level0_row4\" class=\"row_heading level0 row4\" >All</th>\n",
       "                        <td id=\"T_1f28d491_c0ad_11ed_bdbb_96000040dfb6row4_col0\" class=\"data row4 col0\" >4205</td>\n",
       "                        <td id=\"T_1f28d491_c0ad_11ed_bdbb_96000040dfb6row4_col1\" class=\"data row4 col1\" >319</td>\n",
       "                        <td id=\"T_1f28d491_c0ad_11ed_bdbb_96000040dfb6row4_col2\" class=\"data row4 col2\" >4524</td>\n",
       "            </tr>\n",
       "    </tbody></table>"
      ],
      "text/plain": [
       "<pandas.io.formats.style.Styler at 0x7f0e4cc41da0>"
      ]
     },
     "execution_count": 108,
     "metadata": {},
     "output_type": "execute_result"
    }
   ],
   "source": [
    "# посмотрим зависимость возрастной группы и других покупок, кроме премиум\n",
    "pd.crosstab(df_cont_1_join.age_group_my, df_cont_1_join.buy_other, margins=True).style.background_gradient(cmap='autumn_r')"
   ]
  },
  {
   "cell_type": "markdown",
   "metadata": {},
   "source": [
    "В принципе можно поверхностно оценить, как выглядит ядро нашей платящей аудитории, в разрезе возраста. Большее количество сконцентрировано примерно от 20 до 35 лет. Что в принципе подтверждается, той информацией, которую я читал про дейтинговые приложения. Так же мы проверили наличие платных подписок для разных возрастных групп. Можно конечно попробовать оценивать каждый возраст отдельно и попробовать выявить какие-то скачки например в возрасте 23 года, для какой-то страны, в который люди заканчивают обучение в вузе или наборот начинают. Но в данный момент не стоит задачи делать такое исследование, да и данных для этого понадобится значительно больше."
   ]
  },
  {
   "cell_type": "markdown",
   "metadata": {},
   "source": [
    "### Промежуточный вывод. Основная платящая аудитория нашего сервиса от 20-35 лет. Следовательно будем оценивать влияние эффекта и метрик именно для данной возрастной категории в первую очередь."
   ]
  },
  {
   "cell_type": "code",
   "execution_count": 109,
   "metadata": {
    "scrolled": false
   },
   "outputs": [
    {
     "data": {
      "text/html": [
       "<style  type=\"text/css\" >\n",
       "#T_1f28d492_c0ad_11ed_bdbb_96000040dfb6row0_col0,#T_1f28d492_c0ad_11ed_bdbb_96000040dfb6row0_col1,#T_1f28d492_c0ad_11ed_bdbb_96000040dfb6row0_col2{\n",
       "            background-color:  #ffff00;\n",
       "            color:  #000000;\n",
       "        }#T_1f28d492_c0ad_11ed_bdbb_96000040dfb6row1_col0{\n",
       "            background-color:  #ff0b00;\n",
       "            color:  #f1f1f1;\n",
       "        }#T_1f28d492_c0ad_11ed_bdbb_96000040dfb6row1_col1,#T_1f28d492_c0ad_11ed_bdbb_96000040dfb6row2_col0,#T_1f28d492_c0ad_11ed_bdbb_96000040dfb6row2_col1,#T_1f28d492_c0ad_11ed_bdbb_96000040dfb6row2_col2{\n",
       "            background-color:  #ff0000;\n",
       "            color:  #f1f1f1;\n",
       "        }#T_1f28d492_c0ad_11ed_bdbb_96000040dfb6row1_col2{\n",
       "            background-color:  #ff0a00;\n",
       "            color:  #f1f1f1;\n",
       "        }</style><table id=\"T_1f28d492_c0ad_11ed_bdbb_96000040dfb6\" ><thead>    <tr>        <th class=\"index_name level0\" >buy_premium</th>        <th class=\"col_heading level0 col0\" >0</th>        <th class=\"col_heading level0 col1\" >1</th>        <th class=\"col_heading level0 col2\" >All</th>    </tr>    <tr>        <th class=\"index_name level0\" >gender</th>        <th class=\"blank\" ></th>        <th class=\"blank\" ></th>        <th class=\"blank\" ></th>    </tr></thead><tbody>\n",
       "                <tr>\n",
       "                        <th id=\"T_1f28d492_c0ad_11ed_bdbb_96000040dfb6level0_row0\" class=\"row_heading level0 row0\" >0</th>\n",
       "                        <td id=\"T_1f28d492_c0ad_11ed_bdbb_96000040dfb6row0_col0\" class=\"data row0 col0\" >182</td>\n",
       "                        <td id=\"T_1f28d492_c0ad_11ed_bdbb_96000040dfb6row0_col1\" class=\"data row0 col1\" >0</td>\n",
       "                        <td id=\"T_1f28d492_c0ad_11ed_bdbb_96000040dfb6row0_col2\" class=\"data row0 col2\" >182</td>\n",
       "            </tr>\n",
       "            <tr>\n",
       "                        <th id=\"T_1f28d492_c0ad_11ed_bdbb_96000040dfb6level0_row1\" class=\"row_heading level0 row1\" >1</th>\n",
       "                        <td id=\"T_1f28d492_c0ad_11ed_bdbb_96000040dfb6row1_col0\" class=\"data row1 col0\" >4108</td>\n",
       "                        <td id=\"T_1f28d492_c0ad_11ed_bdbb_96000040dfb6row1_col1\" class=\"data row1 col1\" >234</td>\n",
       "                        <td id=\"T_1f28d492_c0ad_11ed_bdbb_96000040dfb6row1_col2\" class=\"data row1 col2\" >4342</td>\n",
       "            </tr>\n",
       "            <tr>\n",
       "                        <th id=\"T_1f28d492_c0ad_11ed_bdbb_96000040dfb6level0_row2\" class=\"row_heading level0 row2\" >All</th>\n",
       "                        <td id=\"T_1f28d492_c0ad_11ed_bdbb_96000040dfb6row2_col0\" class=\"data row2 col0\" >4290</td>\n",
       "                        <td id=\"T_1f28d492_c0ad_11ed_bdbb_96000040dfb6row2_col1\" class=\"data row2 col1\" >234</td>\n",
       "                        <td id=\"T_1f28d492_c0ad_11ed_bdbb_96000040dfb6row2_col2\" class=\"data row2 col2\" >4524</td>\n",
       "            </tr>\n",
       "    </tbody></table>"
      ],
      "text/plain": [
       "<pandas.io.formats.style.Styler at 0x7f0e4c707a20>"
      ]
     },
     "execution_count": 109,
     "metadata": {},
     "output_type": "execute_result"
    }
   ],
   "source": [
    "# проверим зависимость пола и наличия платной подписки\n",
    "pd.crosstab(df_cont_1_join.gender, df_cont_1_join.buy_premium, margins=True)\\\n",
    "           .style.background_gradient(cmap='autumn_r')"
   ]
  },
  {
   "cell_type": "markdown",
   "metadata": {},
   "source": [
    "данную зависимость не будем учитывать в дальнейших изысканиях. gender = 0, вероятно женщины. Имеют низкое количесвто платных подписок."
   ]
  },
  {
   "cell_type": "code",
   "execution_count": 110,
   "metadata": {
    "scrolled": true
   },
   "outputs": [
    {
     "data": {
      "text/html": [
       "<style  type=\"text/css\" >\n",
       "#T_1f28d493_c0ad_11ed_bdbb_96000040dfb6row0_col0{\n",
       "            background-color:  #ffb100;\n",
       "            color:  #000000;\n",
       "        }#T_1f28d493_c0ad_11ed_bdbb_96000040dfb6row0_col1,#T_1f28d493_c0ad_11ed_bdbb_96000040dfb6row10_col0,#T_1f28d493_c0ad_11ed_bdbb_96000040dfb6row10_col2,#T_1f28d493_c0ad_11ed_bdbb_96000040dfb6row11_col0,#T_1f28d493_c0ad_11ed_bdbb_96000040dfb6row11_col2,#T_1f28d493_c0ad_11ed_bdbb_96000040dfb6row15_col1{\n",
       "            background-color:  #fffb00;\n",
       "            color:  #000000;\n",
       "        }#T_1f28d493_c0ad_11ed_bdbb_96000040dfb6row0_col2{\n",
       "            background-color:  #ffb500;\n",
       "            color:  #000000;\n",
       "        }#T_1f28d493_c0ad_11ed_bdbb_96000040dfb6row1_col0{\n",
       "            background-color:  #ffd600;\n",
       "            color:  #000000;\n",
       "        }#T_1f28d493_c0ad_11ed_bdbb_96000040dfb6row1_col1,#T_1f28d493_c0ad_11ed_bdbb_96000040dfb6row7_col1,#T_1f28d493_c0ad_11ed_bdbb_96000040dfb6row25_col1{\n",
       "            background-color:  #fff900;\n",
       "            color:  #000000;\n",
       "        }#T_1f28d493_c0ad_11ed_bdbb_96000040dfb6row1_col2{\n",
       "            background-color:  #ffd800;\n",
       "            color:  #000000;\n",
       "        }#T_1f28d493_c0ad_11ed_bdbb_96000040dfb6row2_col0,#T_1f28d493_c0ad_11ed_bdbb_96000040dfb6row2_col2{\n",
       "            background-color:  #ffea00;\n",
       "            color:  #000000;\n",
       "        }#T_1f28d493_c0ad_11ed_bdbb_96000040dfb6row2_col1{\n",
       "            background-color:  #ffef00;\n",
       "            color:  #000000;\n",
       "        }#T_1f28d493_c0ad_11ed_bdbb_96000040dfb6row3_col0,#T_1f28d493_c0ad_11ed_bdbb_96000040dfb6row3_col2{\n",
       "            background-color:  #fff000;\n",
       "            color:  #000000;\n",
       "        }#T_1f28d493_c0ad_11ed_bdbb_96000040dfb6row3_col1,#T_1f28d493_c0ad_11ed_bdbb_96000040dfb6row4_col1{\n",
       "            background-color:  #fff700;\n",
       "            color:  #000000;\n",
       "        }#T_1f28d493_c0ad_11ed_bdbb_96000040dfb6row4_col0,#T_1f28d493_c0ad_11ed_bdbb_96000040dfb6row4_col2,#T_1f28d493_c0ad_11ed_bdbb_96000040dfb6row18_col1{\n",
       "            background-color:  #fff300;\n",
       "            color:  #000000;\n",
       "        }#T_1f28d493_c0ad_11ed_bdbb_96000040dfb6row5_col0,#T_1f28d493_c0ad_11ed_bdbb_96000040dfb6row5_col2,#T_1f28d493_c0ad_11ed_bdbb_96000040dfb6row6_col0,#T_1f28d493_c0ad_11ed_bdbb_96000040dfb6row6_col2,#T_1f28d493_c0ad_11ed_bdbb_96000040dfb6row7_col0,#T_1f28d493_c0ad_11ed_bdbb_96000040dfb6row7_col2{\n",
       "            background-color:  #fff600;\n",
       "            color:  #000000;\n",
       "        }#T_1f28d493_c0ad_11ed_bdbb_96000040dfb6row5_col1,#T_1f28d493_c0ad_11ed_bdbb_96000040dfb6row12_col1,#T_1f28d493_c0ad_11ed_bdbb_96000040dfb6row13_col1,#T_1f28d493_c0ad_11ed_bdbb_96000040dfb6row17_col0,#T_1f28d493_c0ad_11ed_bdbb_96000040dfb6row19_col0,#T_1f28d493_c0ad_11ed_bdbb_96000040dfb6row20_col2,#T_1f28d493_c0ad_11ed_bdbb_96000040dfb6row21_col0,#T_1f28d493_c0ad_11ed_bdbb_96000040dfb6row21_col2,#T_1f28d493_c0ad_11ed_bdbb_96000040dfb6row22_col0,#T_1f28d493_c0ad_11ed_bdbb_96000040dfb6row22_col1,#T_1f28d493_c0ad_11ed_bdbb_96000040dfb6row22_col2,#T_1f28d493_c0ad_11ed_bdbb_96000040dfb6row24_col0,#T_1f28d493_c0ad_11ed_bdbb_96000040dfb6row24_col2,#T_1f28d493_c0ad_11ed_bdbb_96000040dfb6row25_col0,#T_1f28d493_c0ad_11ed_bdbb_96000040dfb6row25_col2,#T_1f28d493_c0ad_11ed_bdbb_96000040dfb6row28_col1{\n",
       "            background-color:  #fffe00;\n",
       "            color:  #000000;\n",
       "        }#T_1f28d493_c0ad_11ed_bdbb_96000040dfb6row6_col1,#T_1f28d493_c0ad_11ed_bdbb_96000040dfb6row10_col1,#T_1f28d493_c0ad_11ed_bdbb_96000040dfb6row19_col1,#T_1f28d493_c0ad_11ed_bdbb_96000040dfb6row24_col1{\n",
       "            background-color:  #fff200;\n",
       "            color:  #000000;\n",
       "        }#T_1f28d493_c0ad_11ed_bdbb_96000040dfb6row8_col0,#T_1f28d493_c0ad_11ed_bdbb_96000040dfb6row9_col0,#T_1f28d493_c0ad_11ed_bdbb_96000040dfb6row16_col1{\n",
       "            background-color:  #fffa00;\n",
       "            color:  #000000;\n",
       "        }#T_1f28d493_c0ad_11ed_bdbb_96000040dfb6row8_col1{\n",
       "            background-color:  #ffd900;\n",
       "            color:  #000000;\n",
       "        }#T_1f28d493_c0ad_11ed_bdbb_96000040dfb6row8_col2,#T_1f28d493_c0ad_11ed_bdbb_96000040dfb6row9_col2,#T_1f28d493_c0ad_11ed_bdbb_96000040dfb6row14_col1,#T_1f28d493_c0ad_11ed_bdbb_96000040dfb6row21_col1{\n",
       "            background-color:  #fff800;\n",
       "            color:  #000000;\n",
       "        }#T_1f28d493_c0ad_11ed_bdbb_96000040dfb6row9_col1{\n",
       "            background-color:  #ffe200;\n",
       "            color:  #000000;\n",
       "        }#T_1f28d493_c0ad_11ed_bdbb_96000040dfb6row11_col1,#T_1f28d493_c0ad_11ed_bdbb_96000040dfb6row20_col0,#T_1f28d493_c0ad_11ed_bdbb_96000040dfb6row23_col0,#T_1f28d493_c0ad_11ed_bdbb_96000040dfb6row23_col1,#T_1f28d493_c0ad_11ed_bdbb_96000040dfb6row23_col2,#T_1f28d493_c0ad_11ed_bdbb_96000040dfb6row26_col0,#T_1f28d493_c0ad_11ed_bdbb_96000040dfb6row26_col2,#T_1f28d493_c0ad_11ed_bdbb_96000040dfb6row27_col0,#T_1f28d493_c0ad_11ed_bdbb_96000040dfb6row27_col2,#T_1f28d493_c0ad_11ed_bdbb_96000040dfb6row28_col0,#T_1f28d493_c0ad_11ed_bdbb_96000040dfb6row28_col2,#T_1f28d493_c0ad_11ed_bdbb_96000040dfb6row29_col0,#T_1f28d493_c0ad_11ed_bdbb_96000040dfb6row29_col1,#T_1f28d493_c0ad_11ed_bdbb_96000040dfb6row29_col2,#T_1f28d493_c0ad_11ed_bdbb_96000040dfb6row30_col0,#T_1f28d493_c0ad_11ed_bdbb_96000040dfb6row30_col1,#T_1f28d493_c0ad_11ed_bdbb_96000040dfb6row30_col2,#T_1f28d493_c0ad_11ed_bdbb_96000040dfb6row31_col0,#T_1f28d493_c0ad_11ed_bdbb_96000040dfb6row31_col2{\n",
       "            background-color:  #ffff00;\n",
       "            color:  #000000;\n",
       "        }#T_1f28d493_c0ad_11ed_bdbb_96000040dfb6row12_col0,#T_1f28d493_c0ad_11ed_bdbb_96000040dfb6row12_col2,#T_1f28d493_c0ad_11ed_bdbb_96000040dfb6row14_col0,#T_1f28d493_c0ad_11ed_bdbb_96000040dfb6row14_col2,#T_1f28d493_c0ad_11ed_bdbb_96000040dfb6row15_col0,#T_1f28d493_c0ad_11ed_bdbb_96000040dfb6row15_col2,#T_1f28d493_c0ad_11ed_bdbb_96000040dfb6row16_col0,#T_1f28d493_c0ad_11ed_bdbb_96000040dfb6row17_col2,#T_1f28d493_c0ad_11ed_bdbb_96000040dfb6row18_col0,#T_1f28d493_c0ad_11ed_bdbb_96000040dfb6row18_col2,#T_1f28d493_c0ad_11ed_bdbb_96000040dfb6row19_col2{\n",
       "            background-color:  #fffd00;\n",
       "            color:  #000000;\n",
       "        }#T_1f28d493_c0ad_11ed_bdbb_96000040dfb6row13_col0,#T_1f28d493_c0ad_11ed_bdbb_96000040dfb6row13_col2,#T_1f28d493_c0ad_11ed_bdbb_96000040dfb6row16_col2,#T_1f28d493_c0ad_11ed_bdbb_96000040dfb6row20_col1,#T_1f28d493_c0ad_11ed_bdbb_96000040dfb6row27_col1,#T_1f28d493_c0ad_11ed_bdbb_96000040dfb6row31_col1{\n",
       "            background-color:  #fffc00;\n",
       "            color:  #000000;\n",
       "        }#T_1f28d493_c0ad_11ed_bdbb_96000040dfb6row17_col1{\n",
       "            background-color:  #fff100;\n",
       "            color:  #000000;\n",
       "        }#T_1f28d493_c0ad_11ed_bdbb_96000040dfb6row26_col1{\n",
       "            background-color:  #fff500;\n",
       "            color:  #000000;\n",
       "        }#T_1f28d493_c0ad_11ed_bdbb_96000040dfb6row32_col0,#T_1f28d493_c0ad_11ed_bdbb_96000040dfb6row32_col1,#T_1f28d493_c0ad_11ed_bdbb_96000040dfb6row32_col2{\n",
       "            background-color:  #ff0000;\n",
       "            color:  #f1f1f1;\n",
       "        }</style><table id=\"T_1f28d493_c0ad_11ed_bdbb_96000040dfb6\" ><thead>    <tr>        <th class=\"index_name level0\" >buy_premium</th>        <th class=\"col_heading level0 col0\" >0</th>        <th class=\"col_heading level0 col1\" >1</th>        <th class=\"col_heading level0 col2\" >All</th>    </tr>    <tr>        <th class=\"index_name level0\" >visit_days</th>        <th class=\"blank\" ></th>        <th class=\"blank\" ></th>        <th class=\"blank\" ></th>    </tr></thead><tbody>\n",
       "                <tr>\n",
       "                        <th id=\"T_1f28d493_c0ad_11ed_bdbb_96000040dfb6level0_row0\" class=\"row_heading level0 row0\" >0</th>\n",
       "                        <td id=\"T_1f28d493_c0ad_11ed_bdbb_96000040dfb6row0_col0\" class=\"data row0 col0\" >1320</td>\n",
       "                        <td id=\"T_1f28d493_c0ad_11ed_bdbb_96000040dfb6row0_col1\" class=\"data row0 col1\" >4</td>\n",
       "                        <td id=\"T_1f28d493_c0ad_11ed_bdbb_96000040dfb6row0_col2\" class=\"data row0 col2\" >1324</td>\n",
       "            </tr>\n",
       "            <tr>\n",
       "                        <th id=\"T_1f28d493_c0ad_11ed_bdbb_96000040dfb6level0_row1\" class=\"row_heading level0 row1\" >1</th>\n",
       "                        <td id=\"T_1f28d493_c0ad_11ed_bdbb_96000040dfb6row1_col0\" class=\"data row1 col0\" >705</td>\n",
       "                        <td id=\"T_1f28d493_c0ad_11ed_bdbb_96000040dfb6row1_col1\" class=\"data row1 col1\" >6</td>\n",
       "                        <td id=\"T_1f28d493_c0ad_11ed_bdbb_96000040dfb6row1_col2\" class=\"data row1 col2\" >711</td>\n",
       "            </tr>\n",
       "            <tr>\n",
       "                        <th id=\"T_1f28d493_c0ad_11ed_bdbb_96000040dfb6level0_row2\" class=\"row_heading level0 row2\" >2</th>\n",
       "                        <td id=\"T_1f28d493_c0ad_11ed_bdbb_96000040dfb6row2_col0\" class=\"data row2 col0\" >370</td>\n",
       "                        <td id=\"T_1f28d493_c0ad_11ed_bdbb_96000040dfb6row2_col1\" class=\"data row2 col1\" >15</td>\n",
       "                        <td id=\"T_1f28d493_c0ad_11ed_bdbb_96000040dfb6row2_col2\" class=\"data row2 col2\" >385</td>\n",
       "            </tr>\n",
       "            <tr>\n",
       "                        <th id=\"T_1f28d493_c0ad_11ed_bdbb_96000040dfb6level0_row3\" class=\"row_heading level0 row3\" >3</th>\n",
       "                        <td id=\"T_1f28d493_c0ad_11ed_bdbb_96000040dfb6row3_col0\" class=\"data row3 col0\" >265</td>\n",
       "                        <td id=\"T_1f28d493_c0ad_11ed_bdbb_96000040dfb6row3_col1\" class=\"data row3 col1\" >8</td>\n",
       "                        <td id=\"T_1f28d493_c0ad_11ed_bdbb_96000040dfb6row3_col2\" class=\"data row3 col2\" >273</td>\n",
       "            </tr>\n",
       "            <tr>\n",
       "                        <th id=\"T_1f28d493_c0ad_11ed_bdbb_96000040dfb6level0_row4\" class=\"row_heading level0 row4\" >4</th>\n",
       "                        <td id=\"T_1f28d493_c0ad_11ed_bdbb_96000040dfb6row4_col0\" class=\"data row4 col0\" >212</td>\n",
       "                        <td id=\"T_1f28d493_c0ad_11ed_bdbb_96000040dfb6row4_col1\" class=\"data row4 col1\" >8</td>\n",
       "                        <td id=\"T_1f28d493_c0ad_11ed_bdbb_96000040dfb6row4_col2\" class=\"data row4 col2\" >220</td>\n",
       "            </tr>\n",
       "            <tr>\n",
       "                        <th id=\"T_1f28d493_c0ad_11ed_bdbb_96000040dfb6level0_row5\" class=\"row_heading level0 row5\" >5</th>\n",
       "                        <td id=\"T_1f28d493_c0ad_11ed_bdbb_96000040dfb6row5_col0\" class=\"data row5 col0\" >169</td>\n",
       "                        <td id=\"T_1f28d493_c0ad_11ed_bdbb_96000040dfb6row5_col1\" class=\"data row5 col1\" >1</td>\n",
       "                        <td id=\"T_1f28d493_c0ad_11ed_bdbb_96000040dfb6row5_col2\" class=\"data row5 col2\" >170</td>\n",
       "            </tr>\n",
       "            <tr>\n",
       "                        <th id=\"T_1f28d493_c0ad_11ed_bdbb_96000040dfb6level0_row6\" class=\"row_heading level0 row6\" >6</th>\n",
       "                        <td id=\"T_1f28d493_c0ad_11ed_bdbb_96000040dfb6row6_col0\" class=\"data row6 col0\" >161</td>\n",
       "                        <td id=\"T_1f28d493_c0ad_11ed_bdbb_96000040dfb6row6_col1\" class=\"data row6 col1\" >12</td>\n",
       "                        <td id=\"T_1f28d493_c0ad_11ed_bdbb_96000040dfb6row6_col2\" class=\"data row6 col2\" >173</td>\n",
       "            </tr>\n",
       "            <tr>\n",
       "                        <th id=\"T_1f28d493_c0ad_11ed_bdbb_96000040dfb6level0_row7\" class=\"row_heading level0 row7\" >7</th>\n",
       "                        <td id=\"T_1f28d493_c0ad_11ed_bdbb_96000040dfb6row7_col0\" class=\"data row7 col0\" >159</td>\n",
       "                        <td id=\"T_1f28d493_c0ad_11ed_bdbb_96000040dfb6row7_col1\" class=\"data row7 col1\" >6</td>\n",
       "                        <td id=\"T_1f28d493_c0ad_11ed_bdbb_96000040dfb6row7_col2\" class=\"data row7 col2\" >165</td>\n",
       "            </tr>\n",
       "            <tr>\n",
       "                        <th id=\"T_1f28d493_c0ad_11ed_bdbb_96000040dfb6level0_row8\" class=\"row_heading level0 row8\" >8</th>\n",
       "                        <td id=\"T_1f28d493_c0ad_11ed_bdbb_96000040dfb6row8_col0\" class=\"data row8 col0\" >99</td>\n",
       "                        <td id=\"T_1f28d493_c0ad_11ed_bdbb_96000040dfb6row8_col1\" class=\"data row8 col1\" >35</td>\n",
       "                        <td id=\"T_1f28d493_c0ad_11ed_bdbb_96000040dfb6row8_col2\" class=\"data row8 col2\" >134</td>\n",
       "            </tr>\n",
       "            <tr>\n",
       "                        <th id=\"T_1f28d493_c0ad_11ed_bdbb_96000040dfb6level0_row9\" class=\"row_heading level0 row9\" >9</th>\n",
       "                        <td id=\"T_1f28d493_c0ad_11ed_bdbb_96000040dfb6row9_col0\" class=\"data row9 col0\" >103</td>\n",
       "                        <td id=\"T_1f28d493_c0ad_11ed_bdbb_96000040dfb6row9_col1\" class=\"data row9 col1\" >27</td>\n",
       "                        <td id=\"T_1f28d493_c0ad_11ed_bdbb_96000040dfb6row9_col2\" class=\"data row9 col2\" >130</td>\n",
       "            </tr>\n",
       "            <tr>\n",
       "                        <th id=\"T_1f28d493_c0ad_11ed_bdbb_96000040dfb6level0_row10\" class=\"row_heading level0 row10\" >10</th>\n",
       "                        <td id=\"T_1f28d493_c0ad_11ed_bdbb_96000040dfb6row10_col0\" class=\"data row10 col0\" >80</td>\n",
       "                        <td id=\"T_1f28d493_c0ad_11ed_bdbb_96000040dfb6row10_col1\" class=\"data row10 col1\" >12</td>\n",
       "                        <td id=\"T_1f28d493_c0ad_11ed_bdbb_96000040dfb6row10_col2\" class=\"data row10 col2\" >92</td>\n",
       "            </tr>\n",
       "            <tr>\n",
       "                        <th id=\"T_1f28d493_c0ad_11ed_bdbb_96000040dfb6level0_row11\" class=\"row_heading level0 row11\" >11</th>\n",
       "                        <td id=\"T_1f28d493_c0ad_11ed_bdbb_96000040dfb6row11_col0\" class=\"data row11 col0\" >85</td>\n",
       "                        <td id=\"T_1f28d493_c0ad_11ed_bdbb_96000040dfb6row11_col1\" class=\"data row11 col1\" >0</td>\n",
       "                        <td id=\"T_1f28d493_c0ad_11ed_bdbb_96000040dfb6row11_col2\" class=\"data row11 col2\" >85</td>\n",
       "            </tr>\n",
       "            <tr>\n",
       "                        <th id=\"T_1f28d493_c0ad_11ed_bdbb_96000040dfb6level0_row12\" class=\"row_heading level0 row12\" >12</th>\n",
       "                        <td id=\"T_1f28d493_c0ad_11ed_bdbb_96000040dfb6row12_col0\" class=\"data row12 col0\" >44</td>\n",
       "                        <td id=\"T_1f28d493_c0ad_11ed_bdbb_96000040dfb6row12_col1\" class=\"data row12 col1\" >1</td>\n",
       "                        <td id=\"T_1f28d493_c0ad_11ed_bdbb_96000040dfb6row12_col2\" class=\"data row12 col2\" >45</td>\n",
       "            </tr>\n",
       "            <tr>\n",
       "                        <th id=\"T_1f28d493_c0ad_11ed_bdbb_96000040dfb6level0_row13\" class=\"row_heading level0 row13\" >13</th>\n",
       "                        <td id=\"T_1f28d493_c0ad_11ed_bdbb_96000040dfb6row13_col0\" class=\"data row13 col0\" >58</td>\n",
       "                        <td id=\"T_1f28d493_c0ad_11ed_bdbb_96000040dfb6row13_col1\" class=\"data row13 col1\" >1</td>\n",
       "                        <td id=\"T_1f28d493_c0ad_11ed_bdbb_96000040dfb6row13_col2\" class=\"data row13 col2\" >59</td>\n",
       "            </tr>\n",
       "            <tr>\n",
       "                        <th id=\"T_1f28d493_c0ad_11ed_bdbb_96000040dfb6level0_row14\" class=\"row_heading level0 row14\" >14</th>\n",
       "                        <td id=\"T_1f28d493_c0ad_11ed_bdbb_96000040dfb6row14_col0\" class=\"data row14 col0\" >46</td>\n",
       "                        <td id=\"T_1f28d493_c0ad_11ed_bdbb_96000040dfb6row14_col1\" class=\"data row14 col1\" >7</td>\n",
       "                        <td id=\"T_1f28d493_c0ad_11ed_bdbb_96000040dfb6row14_col2\" class=\"data row14 col2\" >53</td>\n",
       "            </tr>\n",
       "            <tr>\n",
       "                        <th id=\"T_1f28d493_c0ad_11ed_bdbb_96000040dfb6level0_row15\" class=\"row_heading level0 row15\" >15</th>\n",
       "                        <td id=\"T_1f28d493_c0ad_11ed_bdbb_96000040dfb6row15_col0\" class=\"data row15 col0\" >48</td>\n",
       "                        <td id=\"T_1f28d493_c0ad_11ed_bdbb_96000040dfb6row15_col1\" class=\"data row15 col1\" >4</td>\n",
       "                        <td id=\"T_1f28d493_c0ad_11ed_bdbb_96000040dfb6row15_col2\" class=\"data row15 col2\" >52</td>\n",
       "            </tr>\n",
       "            <tr>\n",
       "                        <th id=\"T_1f28d493_c0ad_11ed_bdbb_96000040dfb6level0_row16\" class=\"row_heading level0 row16\" >16</th>\n",
       "                        <td id=\"T_1f28d493_c0ad_11ed_bdbb_96000040dfb6row16_col0\" class=\"data row16 col0\" >53</td>\n",
       "                        <td id=\"T_1f28d493_c0ad_11ed_bdbb_96000040dfb6row16_col1\" class=\"data row16 col1\" >5</td>\n",
       "                        <td id=\"T_1f28d493_c0ad_11ed_bdbb_96000040dfb6row16_col2\" class=\"data row16 col2\" >58</td>\n",
       "            </tr>\n",
       "            <tr>\n",
       "                        <th id=\"T_1f28d493_c0ad_11ed_bdbb_96000040dfb6level0_row17\" class=\"row_heading level0 row17\" >17</th>\n",
       "                        <td id=\"T_1f28d493_c0ad_11ed_bdbb_96000040dfb6row17_col0\" class=\"data row17 col0\" >36</td>\n",
       "                        <td id=\"T_1f28d493_c0ad_11ed_bdbb_96000040dfb6row17_col1\" class=\"data row17 col1\" >13</td>\n",
       "                        <td id=\"T_1f28d493_c0ad_11ed_bdbb_96000040dfb6row17_col2\" class=\"data row17 col2\" >49</td>\n",
       "            </tr>\n",
       "            <tr>\n",
       "                        <th id=\"T_1f28d493_c0ad_11ed_bdbb_96000040dfb6level0_row18\" class=\"row_heading level0 row18\" >18</th>\n",
       "                        <td id=\"T_1f28d493_c0ad_11ed_bdbb_96000040dfb6row18_col0\" class=\"data row18 col0\" >46</td>\n",
       "                        <td id=\"T_1f28d493_c0ad_11ed_bdbb_96000040dfb6row18_col1\" class=\"data row18 col1\" >11</td>\n",
       "                        <td id=\"T_1f28d493_c0ad_11ed_bdbb_96000040dfb6row18_col2\" class=\"data row18 col2\" >57</td>\n",
       "            </tr>\n",
       "            <tr>\n",
       "                        <th id=\"T_1f28d493_c0ad_11ed_bdbb_96000040dfb6level0_row19\" class=\"row_heading level0 row19\" >19</th>\n",
       "                        <td id=\"T_1f28d493_c0ad_11ed_bdbb_96000040dfb6row19_col0\" class=\"data row19 col0\" >37</td>\n",
       "                        <td id=\"T_1f28d493_c0ad_11ed_bdbb_96000040dfb6row19_col1\" class=\"data row19 col1\" >12</td>\n",
       "                        <td id=\"T_1f28d493_c0ad_11ed_bdbb_96000040dfb6row19_col2\" class=\"data row19 col2\" >49</td>\n",
       "            </tr>\n",
       "            <tr>\n",
       "                        <th id=\"T_1f28d493_c0ad_11ed_bdbb_96000040dfb6level0_row20\" class=\"row_heading level0 row20\" >20</th>\n",
       "                        <td id=\"T_1f28d493_c0ad_11ed_bdbb_96000040dfb6row20_col0\" class=\"data row20 col0\" >21</td>\n",
       "                        <td id=\"T_1f28d493_c0ad_11ed_bdbb_96000040dfb6row20_col1\" class=\"data row20 col1\" >3</td>\n",
       "                        <td id=\"T_1f28d493_c0ad_11ed_bdbb_96000040dfb6row20_col2\" class=\"data row20 col2\" >24</td>\n",
       "            </tr>\n",
       "            <tr>\n",
       "                        <th id=\"T_1f28d493_c0ad_11ed_bdbb_96000040dfb6level0_row21\" class=\"row_heading level0 row21\" >21</th>\n",
       "                        <td id=\"T_1f28d493_c0ad_11ed_bdbb_96000040dfb6row21_col0\" class=\"data row21 col0\" >28</td>\n",
       "                        <td id=\"T_1f28d493_c0ad_11ed_bdbb_96000040dfb6row21_col1\" class=\"data row21 col1\" >7</td>\n",
       "                        <td id=\"T_1f28d493_c0ad_11ed_bdbb_96000040dfb6row21_col2\" class=\"data row21 col2\" >35</td>\n",
       "            </tr>\n",
       "            <tr>\n",
       "                        <th id=\"T_1f28d493_c0ad_11ed_bdbb_96000040dfb6level0_row22\" class=\"row_heading level0 row22\" >22</th>\n",
       "                        <td id=\"T_1f28d493_c0ad_11ed_bdbb_96000040dfb6row22_col0\" class=\"data row22 col0\" >25</td>\n",
       "                        <td id=\"T_1f28d493_c0ad_11ed_bdbb_96000040dfb6row22_col1\" class=\"data row22 col1\" >1</td>\n",
       "                        <td id=\"T_1f28d493_c0ad_11ed_bdbb_96000040dfb6row22_col2\" class=\"data row22 col2\" >26</td>\n",
       "            </tr>\n",
       "            <tr>\n",
       "                        <th id=\"T_1f28d493_c0ad_11ed_bdbb_96000040dfb6level0_row23\" class=\"row_heading level0 row23\" >23</th>\n",
       "                        <td id=\"T_1f28d493_c0ad_11ed_bdbb_96000040dfb6row23_col0\" class=\"data row23 col0\" >13</td>\n",
       "                        <td id=\"T_1f28d493_c0ad_11ed_bdbb_96000040dfb6row23_col1\" class=\"data row23 col1\" >0</td>\n",
       "                        <td id=\"T_1f28d493_c0ad_11ed_bdbb_96000040dfb6row23_col2\" class=\"data row23 col2\" >13</td>\n",
       "            </tr>\n",
       "            <tr>\n",
       "                        <th id=\"T_1f28d493_c0ad_11ed_bdbb_96000040dfb6level0_row24\" class=\"row_heading level0 row24\" >24</th>\n",
       "                        <td id=\"T_1f28d493_c0ad_11ed_bdbb_96000040dfb6row24_col0\" class=\"data row24 col0\" >23</td>\n",
       "                        <td id=\"T_1f28d493_c0ad_11ed_bdbb_96000040dfb6row24_col1\" class=\"data row24 col1\" >12</td>\n",
       "                        <td id=\"T_1f28d493_c0ad_11ed_bdbb_96000040dfb6row24_col2\" class=\"data row24 col2\" >35</td>\n",
       "            </tr>\n",
       "            <tr>\n",
       "                        <th id=\"T_1f28d493_c0ad_11ed_bdbb_96000040dfb6level0_row25\" class=\"row_heading level0 row25\" >25</th>\n",
       "                        <td id=\"T_1f28d493_c0ad_11ed_bdbb_96000040dfb6row25_col0\" class=\"data row25 col0\" >29</td>\n",
       "                        <td id=\"T_1f28d493_c0ad_11ed_bdbb_96000040dfb6row25_col1\" class=\"data row25 col1\" >6</td>\n",
       "                        <td id=\"T_1f28d493_c0ad_11ed_bdbb_96000040dfb6row25_col2\" class=\"data row25 col2\" >35</td>\n",
       "            </tr>\n",
       "            <tr>\n",
       "                        <th id=\"T_1f28d493_c0ad_11ed_bdbb_96000040dfb6level0_row26\" class=\"row_heading level0 row26\" >26</th>\n",
       "                        <td id=\"T_1f28d493_c0ad_11ed_bdbb_96000040dfb6row26_col0\" class=\"data row26 col0\" >10</td>\n",
       "                        <td id=\"T_1f28d493_c0ad_11ed_bdbb_96000040dfb6row26_col1\" class=\"data row26 col1\" >10</td>\n",
       "                        <td id=\"T_1f28d493_c0ad_11ed_bdbb_96000040dfb6row26_col2\" class=\"data row26 col2\" >20</td>\n",
       "            </tr>\n",
       "            <tr>\n",
       "                        <th id=\"T_1f28d493_c0ad_11ed_bdbb_96000040dfb6level0_row27\" class=\"row_heading level0 row27\" >27</th>\n",
       "                        <td id=\"T_1f28d493_c0ad_11ed_bdbb_96000040dfb6row27_col0\" class=\"data row27 col0\" >15</td>\n",
       "                        <td id=\"T_1f28d493_c0ad_11ed_bdbb_96000040dfb6row27_col1\" class=\"data row27 col1\" >3</td>\n",
       "                        <td id=\"T_1f28d493_c0ad_11ed_bdbb_96000040dfb6row27_col2\" class=\"data row27 col2\" >18</td>\n",
       "            </tr>\n",
       "            <tr>\n",
       "                        <th id=\"T_1f28d493_c0ad_11ed_bdbb_96000040dfb6level0_row28\" class=\"row_heading level0 row28\" >28</th>\n",
       "                        <td id=\"T_1f28d493_c0ad_11ed_bdbb_96000040dfb6row28_col0\" class=\"data row28 col0\" >6</td>\n",
       "                        <td id=\"T_1f28d493_c0ad_11ed_bdbb_96000040dfb6row28_col1\" class=\"data row28 col1\" >1</td>\n",
       "                        <td id=\"T_1f28d493_c0ad_11ed_bdbb_96000040dfb6row28_col2\" class=\"data row28 col2\" >7</td>\n",
       "            </tr>\n",
       "            <tr>\n",
       "                        <th id=\"T_1f28d493_c0ad_11ed_bdbb_96000040dfb6level0_row29\" class=\"row_heading level0 row29\" >29</th>\n",
       "                        <td id=\"T_1f28d493_c0ad_11ed_bdbb_96000040dfb6row29_col0\" class=\"data row29 col0\" >10</td>\n",
       "                        <td id=\"T_1f28d493_c0ad_11ed_bdbb_96000040dfb6row29_col1\" class=\"data row29 col1\" >0</td>\n",
       "                        <td id=\"T_1f28d493_c0ad_11ed_bdbb_96000040dfb6row29_col2\" class=\"data row29 col2\" >10</td>\n",
       "            </tr>\n",
       "            <tr>\n",
       "                        <th id=\"T_1f28d493_c0ad_11ed_bdbb_96000040dfb6level0_row30\" class=\"row_heading level0 row30\" >30</th>\n",
       "                        <td id=\"T_1f28d493_c0ad_11ed_bdbb_96000040dfb6row30_col0\" class=\"data row30 col0\" >5</td>\n",
       "                        <td id=\"T_1f28d493_c0ad_11ed_bdbb_96000040dfb6row30_col1\" class=\"data row30 col1\" >0</td>\n",
       "                        <td id=\"T_1f28d493_c0ad_11ed_bdbb_96000040dfb6row30_col2\" class=\"data row30 col2\" >5</td>\n",
       "            </tr>\n",
       "            <tr>\n",
       "                        <th id=\"T_1f28d493_c0ad_11ed_bdbb_96000040dfb6level0_row31\" class=\"row_heading level0 row31\" >31</th>\n",
       "                        <td id=\"T_1f28d493_c0ad_11ed_bdbb_96000040dfb6row31_col0\" class=\"data row31 col0\" >9</td>\n",
       "                        <td id=\"T_1f28d493_c0ad_11ed_bdbb_96000040dfb6row31_col1\" class=\"data row31 col1\" >3</td>\n",
       "                        <td id=\"T_1f28d493_c0ad_11ed_bdbb_96000040dfb6row31_col2\" class=\"data row31 col2\" >12</td>\n",
       "            </tr>\n",
       "            <tr>\n",
       "                        <th id=\"T_1f28d493_c0ad_11ed_bdbb_96000040dfb6level0_row32\" class=\"row_heading level0 row32\" >All</th>\n",
       "                        <td id=\"T_1f28d493_c0ad_11ed_bdbb_96000040dfb6row32_col0\" class=\"data row32 col0\" >4290</td>\n",
       "                        <td id=\"T_1f28d493_c0ad_11ed_bdbb_96000040dfb6row32_col1\" class=\"data row32 col1\" >234</td>\n",
       "                        <td id=\"T_1f28d493_c0ad_11ed_bdbb_96000040dfb6row32_col2\" class=\"data row32 col2\" >4524</td>\n",
       "            </tr>\n",
       "    </tbody></table>"
      ],
      "text/plain": [
       "<pandas.io.formats.style.Styler at 0x7f0e4c9e2588>"
      ]
     },
     "execution_count": 110,
     "metadata": {},
     "output_type": "execute_result"
    }
   ],
   "source": [
    "# попробуем увидеть взаимосвязь количество дней визитов и наличия платной подписки\n",
    "pd.crosstab(df_cont_1_join.visit_days, df_cont_1_join.buy_premium, margins=True)\\\n",
    "            .style.background_gradient(cmap='autumn_r')"
   ]
  },
  {
   "cell_type": "markdown",
   "metadata": {},
   "source": [
    "Таким образом взаимосвязь не увидеть. попрбую разделить количество визитов по квартилям на 4 группы и посмотреть наличие зависимости"
   ]
  },
  {
   "cell_type": "code",
   "execution_count": 111,
   "metadata": {
    "scrolled": true
   },
   "outputs": [
    {
     "data": {
      "text/html": [
       "<style  type=\"text/css\" >\n",
       "#T_1f28d494_c0ad_11ed_bdbb_96000040dfb6row0_col0{\n",
       "            background-color:  #ffe200;\n",
       "            color:  #000000;\n",
       "        }#T_1f28d494_c0ad_11ed_bdbb_96000040dfb6row0_col1,#T_1f28d494_c0ad_11ed_bdbb_96000040dfb6row2_col2,#T_1f28d494_c0ad_11ed_bdbb_96000040dfb6row3_col0{\n",
       "            background-color:  #ffff00;\n",
       "            color:  #000000;\n",
       "        }#T_1f28d494_c0ad_11ed_bdbb_96000040dfb6row0_col2{\n",
       "            background-color:  #ffe800;\n",
       "            color:  #000000;\n",
       "        }#T_1f28d494_c0ad_11ed_bdbb_96000040dfb6row1_col0{\n",
       "            background-color:  #fff400;\n",
       "            color:  #000000;\n",
       "        }#T_1f28d494_c0ad_11ed_bdbb_96000040dfb6row1_col1{\n",
       "            background-color:  #ffed00;\n",
       "            color:  #000000;\n",
       "        }#T_1f28d494_c0ad_11ed_bdbb_96000040dfb6row1_col2{\n",
       "            background-color:  #fff900;\n",
       "            color:  #000000;\n",
       "        }#T_1f28d494_c0ad_11ed_bdbb_96000040dfb6row2_col0{\n",
       "            background-color:  #fffd00;\n",
       "            color:  #000000;\n",
       "        }#T_1f28d494_c0ad_11ed_bdbb_96000040dfb6row2_col1{\n",
       "            background-color:  #ffdd00;\n",
       "            color:  #000000;\n",
       "        }#T_1f28d494_c0ad_11ed_bdbb_96000040dfb6row3_col1{\n",
       "            background-color:  #ff4200;\n",
       "            color:  #f1f1f1;\n",
       "        }#T_1f28d494_c0ad_11ed_bdbb_96000040dfb6row3_col2{\n",
       "            background-color:  #fff800;\n",
       "            color:  #000000;\n",
       "        }#T_1f28d494_c0ad_11ed_bdbb_96000040dfb6row4_col0,#T_1f28d494_c0ad_11ed_bdbb_96000040dfb6row4_col1,#T_1f28d494_c0ad_11ed_bdbb_96000040dfb6row4_col2{\n",
       "            background-color:  #ff0000;\n",
       "            color:  #f1f1f1;\n",
       "        }</style><table id=\"T_1f28d494_c0ad_11ed_bdbb_96000040dfb6\" ><thead>    <tr>        <th class=\"index_name level0\" >buy_premium</th>        <th class=\"col_heading level0 col0\" >0</th>        <th class=\"col_heading level0 col1\" >1</th>        <th class=\"col_heading level0 col2\" >All</th>    </tr>    <tr>        <th class=\"index_name level0\" >visit_days_group</th>        <th class=\"blank\" ></th>        <th class=\"blank\" ></th>        <th class=\"blank\" ></th>    </tr></thead><tbody>\n",
       "                <tr>\n",
       "                        <th id=\"T_1f28d494_c0ad_11ed_bdbb_96000040dfb6level0_row0\" class=\"row_heading level0 row0\" >0</th>\n",
       "                        <td id=\"T_1f28d494_c0ad_11ed_bdbb_96000040dfb6row0_col0\" class=\"data row0 col0\" >1320</td>\n",
       "                        <td id=\"T_1f28d494_c0ad_11ed_bdbb_96000040dfb6row0_col1\" class=\"data row0 col1\" >4</td>\n",
       "                        <td id=\"T_1f28d494_c0ad_11ed_bdbb_96000040dfb6row0_col2\" class=\"data row0 col2\" >1324</td>\n",
       "            </tr>\n",
       "            <tr>\n",
       "                        <th id=\"T_1f28d494_c0ad_11ed_bdbb_96000040dfb6level0_row1\" class=\"row_heading level0 row1\" >0-2</th>\n",
       "                        <td id=\"T_1f28d494_c0ad_11ed_bdbb_96000040dfb6row1_col0\" class=\"data row1 col0\" >1075</td>\n",
       "                        <td id=\"T_1f28d494_c0ad_11ed_bdbb_96000040dfb6row1_col1\" class=\"data row1 col1\" >21</td>\n",
       "                        <td id=\"T_1f28d494_c0ad_11ed_bdbb_96000040dfb6row1_col2\" class=\"data row1 col2\" >1096</td>\n",
       "            </tr>\n",
       "            <tr>\n",
       "                        <th id=\"T_1f28d494_c0ad_11ed_bdbb_96000040dfb6level0_row2\" class=\"row_heading level0 row2\" >2-7</th>\n",
       "                        <td id=\"T_1f28d494_c0ad_11ed_bdbb_96000040dfb6row2_col0\" class=\"data row2 col0\" >966</td>\n",
       "                        <td id=\"T_1f28d494_c0ad_11ed_bdbb_96000040dfb6row2_col1\" class=\"data row2 col1\" >35</td>\n",
       "                        <td id=\"T_1f28d494_c0ad_11ed_bdbb_96000040dfb6row2_col2\" class=\"data row2 col2\" >1001</td>\n",
       "            </tr>\n",
       "            <tr>\n",
       "                        <th id=\"T_1f28d494_c0ad_11ed_bdbb_96000040dfb6level0_row3\" class=\"row_heading level0 row3\" >7-</th>\n",
       "                        <td id=\"T_1f28d494_c0ad_11ed_bdbb_96000040dfb6row3_col0\" class=\"data row3 col0\" >929</td>\n",
       "                        <td id=\"T_1f28d494_c0ad_11ed_bdbb_96000040dfb6row3_col1\" class=\"data row3 col1\" >174</td>\n",
       "                        <td id=\"T_1f28d494_c0ad_11ed_bdbb_96000040dfb6row3_col2\" class=\"data row3 col2\" >1103</td>\n",
       "            </tr>\n",
       "            <tr>\n",
       "                        <th id=\"T_1f28d494_c0ad_11ed_bdbb_96000040dfb6level0_row4\" class=\"row_heading level0 row4\" >All</th>\n",
       "                        <td id=\"T_1f28d494_c0ad_11ed_bdbb_96000040dfb6row4_col0\" class=\"data row4 col0\" >4290</td>\n",
       "                        <td id=\"T_1f28d494_c0ad_11ed_bdbb_96000040dfb6row4_col1\" class=\"data row4 col1\" >234</td>\n",
       "                        <td id=\"T_1f28d494_c0ad_11ed_bdbb_96000040dfb6row4_col2\" class=\"data row4 col2\" >4524</td>\n",
       "            </tr>\n",
       "    </tbody></table>"
      ],
      "text/plain": [
       "<pandas.io.formats.style.Styler at 0x7f0e4c70d5f8>"
      ]
     },
     "execution_count": 111,
     "metadata": {},
     "output_type": "execute_result"
    }
   ],
   "source": [
    "pd.crosstab(df_cont_1_join.visit_days_group, df_cont_1_join.buy_premium, margins=True)\\\n",
    "            .style.background_gradient(cmap='autumn_r')"
   ]
  },
  {
   "cell_type": "code",
   "execution_count": 112,
   "metadata": {},
   "outputs": [
    {
     "data": {
      "text/html": [
       "<style  type=\"text/css\" >\n",
       "#T_1f28d495_c0ad_11ed_bdbb_96000040dfb6row0_col0{\n",
       "            background-color:  #ffdf00;\n",
       "            color:  #000000;\n",
       "        }#T_1f28d495_c0ad_11ed_bdbb_96000040dfb6row0_col1,#T_1f28d495_c0ad_11ed_bdbb_96000040dfb6row2_col2,#T_1f28d495_c0ad_11ed_bdbb_96000040dfb6row3_col0{\n",
       "            background-color:  #ffff00;\n",
       "            color:  #000000;\n",
       "        }#T_1f28d495_c0ad_11ed_bdbb_96000040dfb6row0_col2{\n",
       "            background-color:  #ffe800;\n",
       "            color:  #000000;\n",
       "        }#T_1f28d495_c0ad_11ed_bdbb_96000040dfb6row1_col0{\n",
       "            background-color:  #fff200;\n",
       "            color:  #000000;\n",
       "        }#T_1f28d495_c0ad_11ed_bdbb_96000040dfb6row1_col1{\n",
       "            background-color:  #fff500;\n",
       "            color:  #000000;\n",
       "        }#T_1f28d495_c0ad_11ed_bdbb_96000040dfb6row1_col2{\n",
       "            background-color:  #fff900;\n",
       "            color:  #000000;\n",
       "        }#T_1f28d495_c0ad_11ed_bdbb_96000040dfb6row2_col0{\n",
       "            background-color:  #fffc00;\n",
       "            color:  #000000;\n",
       "        }#T_1f28d495_c0ad_11ed_bdbb_96000040dfb6row2_col1{\n",
       "            background-color:  #ffd100;\n",
       "            color:  #000000;\n",
       "        }#T_1f28d495_c0ad_11ed_bdbb_96000040dfb6row3_col1{\n",
       "            background-color:  #ff5a00;\n",
       "            color:  #000000;\n",
       "        }#T_1f28d495_c0ad_11ed_bdbb_96000040dfb6row3_col2{\n",
       "            background-color:  #fff800;\n",
       "            color:  #000000;\n",
       "        }#T_1f28d495_c0ad_11ed_bdbb_96000040dfb6row4_col0,#T_1f28d495_c0ad_11ed_bdbb_96000040dfb6row4_col1,#T_1f28d495_c0ad_11ed_bdbb_96000040dfb6row4_col2{\n",
       "            background-color:  #ff0000;\n",
       "            color:  #f1f1f1;\n",
       "        }</style><table id=\"T_1f28d495_c0ad_11ed_bdbb_96000040dfb6\" ><thead>    <tr>        <th class=\"index_name level0\" >buy_other</th>        <th class=\"col_heading level0 col0\" >0</th>        <th class=\"col_heading level0 col1\" >1</th>        <th class=\"col_heading level0 col2\" >All</th>    </tr>    <tr>        <th class=\"index_name level0\" >visit_days_group</th>        <th class=\"blank\" ></th>        <th class=\"blank\" ></th>        <th class=\"blank\" ></th>    </tr></thead><tbody>\n",
       "                <tr>\n",
       "                        <th id=\"T_1f28d495_c0ad_11ed_bdbb_96000040dfb6level0_row0\" class=\"row_heading level0 row0\" >0</th>\n",
       "                        <td id=\"T_1f28d495_c0ad_11ed_bdbb_96000040dfb6row0_col0\" class=\"data row0 col0\" >1311</td>\n",
       "                        <td id=\"T_1f28d495_c0ad_11ed_bdbb_96000040dfb6row0_col1\" class=\"data row0 col1\" >13</td>\n",
       "                        <td id=\"T_1f28d495_c0ad_11ed_bdbb_96000040dfb6row0_col2\" class=\"data row0 col2\" >1324</td>\n",
       "            </tr>\n",
       "            <tr>\n",
       "                        <th id=\"T_1f28d495_c0ad_11ed_bdbb_96000040dfb6level0_row1\" class=\"row_heading level0 row1\" >0-2</th>\n",
       "                        <td id=\"T_1f28d495_c0ad_11ed_bdbb_96000040dfb6row1_col0\" class=\"data row1 col0\" >1070</td>\n",
       "                        <td id=\"T_1f28d495_c0ad_11ed_bdbb_96000040dfb6row1_col1\" class=\"data row1 col1\" >26</td>\n",
       "                        <td id=\"T_1f28d495_c0ad_11ed_bdbb_96000040dfb6row1_col2\" class=\"data row1 col2\" >1096</td>\n",
       "            </tr>\n",
       "            <tr>\n",
       "                        <th id=\"T_1f28d495_c0ad_11ed_bdbb_96000040dfb6level0_row2\" class=\"row_heading level0 row2\" >2-7</th>\n",
       "                        <td id=\"T_1f28d495_c0ad_11ed_bdbb_96000040dfb6row2_col0\" class=\"data row2 col0\" >932</td>\n",
       "                        <td id=\"T_1f28d495_c0ad_11ed_bdbb_96000040dfb6row2_col1\" class=\"data row2 col1\" >69</td>\n",
       "                        <td id=\"T_1f28d495_c0ad_11ed_bdbb_96000040dfb6row2_col2\" class=\"data row2 col2\" >1001</td>\n",
       "            </tr>\n",
       "            <tr>\n",
       "                        <th id=\"T_1f28d495_c0ad_11ed_bdbb_96000040dfb6level0_row3\" class=\"row_heading level0 row3\" >7-</th>\n",
       "                        <td id=\"T_1f28d495_c0ad_11ed_bdbb_96000040dfb6row3_col0\" class=\"data row3 col0\" >892</td>\n",
       "                        <td id=\"T_1f28d495_c0ad_11ed_bdbb_96000040dfb6row3_col1\" class=\"data row3 col1\" >211</td>\n",
       "                        <td id=\"T_1f28d495_c0ad_11ed_bdbb_96000040dfb6row3_col2\" class=\"data row3 col2\" >1103</td>\n",
       "            </tr>\n",
       "            <tr>\n",
       "                        <th id=\"T_1f28d495_c0ad_11ed_bdbb_96000040dfb6level0_row4\" class=\"row_heading level0 row4\" >All</th>\n",
       "                        <td id=\"T_1f28d495_c0ad_11ed_bdbb_96000040dfb6row4_col0\" class=\"data row4 col0\" >4205</td>\n",
       "                        <td id=\"T_1f28d495_c0ad_11ed_bdbb_96000040dfb6row4_col1\" class=\"data row4 col1\" >319</td>\n",
       "                        <td id=\"T_1f28d495_c0ad_11ed_bdbb_96000040dfb6row4_col2\" class=\"data row4 col2\" >4524</td>\n",
       "            </tr>\n",
       "    </tbody></table>"
      ],
      "text/plain": [
       "<pandas.io.formats.style.Styler at 0x7f0e4c9e2518>"
      ]
     },
     "execution_count": 112,
     "metadata": {},
     "output_type": "execute_result"
    }
   ],
   "source": [
    "pd.crosstab(df_cont_1_join.visit_days_group, df_cont_1_join.buy_other, margins=True)\\\n",
    "            .style.background_gradient(cmap='autumn_r')"
   ]
  },
  {
   "cell_type": "markdown",
   "metadata": {},
   "source": [
    "Мы обнаружили явную зависимость количества дней посещения и наличия подписки премиум у пользвателей. Соответственно можно предоположить, что такая же зависимость будет у attraction_coeff и views_count. Давайте это проверим. Сразу будем разбивать значения на группы."
   ]
  },
  {
   "cell_type": "code",
   "execution_count": 113,
   "metadata": {
    "scrolled": false
   },
   "outputs": [
    {
     "data": {
      "text/html": [
       "<style  type=\"text/css\" >\n",
       "#T_1f28d496_c0ad_11ed_bdbb_96000040dfb6row0_col0,#T_1f28d496_c0ad_11ed_bdbb_96000040dfb6row3_col2{\n",
       "            background-color:  #ffee00;\n",
       "            color:  #000000;\n",
       "        }#T_1f28d496_c0ad_11ed_bdbb_96000040dfb6row0_col1,#T_1f28d496_c0ad_11ed_bdbb_96000040dfb6row2_col0,#T_1f28d496_c0ad_11ed_bdbb_96000040dfb6row2_col2{\n",
       "            background-color:  #ffff00;\n",
       "            color:  #000000;\n",
       "        }#T_1f28d496_c0ad_11ed_bdbb_96000040dfb6row0_col2,#T_1f28d496_c0ad_11ed_bdbb_96000040dfb6row2_col1{\n",
       "            background-color:  #fff000;\n",
       "            color:  #000000;\n",
       "        }#T_1f28d496_c0ad_11ed_bdbb_96000040dfb6row1_col0,#T_1f28d496_c0ad_11ed_bdbb_96000040dfb6row3_col0{\n",
       "            background-color:  #fffa00;\n",
       "            color:  #000000;\n",
       "        }#T_1f28d496_c0ad_11ed_bdbb_96000040dfb6row1_col1{\n",
       "            background-color:  #fffc00;\n",
       "            color:  #000000;\n",
       "        }#T_1f28d496_c0ad_11ed_bdbb_96000040dfb6row1_col2{\n",
       "            background-color:  #fffb00;\n",
       "            color:  #000000;\n",
       "        }#T_1f28d496_c0ad_11ed_bdbb_96000040dfb6row3_col1{\n",
       "            background-color:  #ff2e00;\n",
       "            color:  #f1f1f1;\n",
       "        }#T_1f28d496_c0ad_11ed_bdbb_96000040dfb6row4_col0,#T_1f28d496_c0ad_11ed_bdbb_96000040dfb6row4_col1,#T_1f28d496_c0ad_11ed_bdbb_96000040dfb6row4_col2{\n",
       "            background-color:  #ff0000;\n",
       "            color:  #f1f1f1;\n",
       "        }</style><table id=\"T_1f28d496_c0ad_11ed_bdbb_96000040dfb6\" ><thead>    <tr>        <th class=\"index_name level0\" >buy_premium</th>        <th class=\"col_heading level0 col0\" >0</th>        <th class=\"col_heading level0 col1\" >1</th>        <th class=\"col_heading level0 col2\" >All</th>    </tr>    <tr>        <th class=\"index_name level0\" >views_count_group</th>        <th class=\"blank\" ></th>        <th class=\"blank\" ></th>        <th class=\"blank\" ></th>    </tr></thead><tbody>\n",
       "                <tr>\n",
       "                        <th id=\"T_1f28d496_c0ad_11ed_bdbb_96000040dfb6level0_row0\" class=\"row_heading level0 row0\" >0-1</th>\n",
       "                        <td id=\"T_1f28d496_c0ad_11ed_bdbb_96000040dfb6row0_col0\" class=\"data row0 col0\" >1204</td>\n",
       "                        <td id=\"T_1f28d496_c0ad_11ed_bdbb_96000040dfb6row0_col1\" class=\"data row0 col1\" >8</td>\n",
       "                        <td id=\"T_1f28d496_c0ad_11ed_bdbb_96000040dfb6row0_col2\" class=\"data row0 col2\" >1212</td>\n",
       "            </tr>\n",
       "            <tr>\n",
       "                        <th id=\"T_1f28d496_c0ad_11ed_bdbb_96000040dfb6level0_row1\" class=\"row_heading level0 row1\" >1-6</th>\n",
       "                        <td id=\"T_1f28d496_c0ad_11ed_bdbb_96000040dfb6row1_col0\" class=\"data row1 col0\" >1051</td>\n",
       "                        <td id=\"T_1f28d496_c0ad_11ed_bdbb_96000040dfb6row1_col1\" class=\"data row1 col1\" >11</td>\n",
       "                        <td id=\"T_1f28d496_c0ad_11ed_bdbb_96000040dfb6row1_col2\" class=\"data row1 col2\" >1062</td>\n",
       "            </tr>\n",
       "            <tr>\n",
       "                        <th id=\"T_1f28d496_c0ad_11ed_bdbb_96000040dfb6level0_row2\" class=\"row_heading level0 row2\" >6-21</th>\n",
       "                        <td id=\"T_1f28d496_c0ad_11ed_bdbb_96000040dfb6row2_col0\" class=\"data row2 col0\" >982</td>\n",
       "                        <td id=\"T_1f28d496_c0ad_11ed_bdbb_96000040dfb6row2_col1\" class=\"data row2 col1\" >22</td>\n",
       "                        <td id=\"T_1f28d496_c0ad_11ed_bdbb_96000040dfb6row2_col2\" class=\"data row2 col2\" >1004</td>\n",
       "            </tr>\n",
       "            <tr>\n",
       "                        <th id=\"T_1f28d496_c0ad_11ed_bdbb_96000040dfb6level0_row3\" class=\"row_heading level0 row3\" >21-</th>\n",
       "                        <td id=\"T_1f28d496_c0ad_11ed_bdbb_96000040dfb6row3_col0\" class=\"data row3 col0\" >1053</td>\n",
       "                        <td id=\"T_1f28d496_c0ad_11ed_bdbb_96000040dfb6row3_col1\" class=\"data row3 col1\" >193</td>\n",
       "                        <td id=\"T_1f28d496_c0ad_11ed_bdbb_96000040dfb6row3_col2\" class=\"data row3 col2\" >1246</td>\n",
       "            </tr>\n",
       "            <tr>\n",
       "                        <th id=\"T_1f28d496_c0ad_11ed_bdbb_96000040dfb6level0_row4\" class=\"row_heading level0 row4\" >All</th>\n",
       "                        <td id=\"T_1f28d496_c0ad_11ed_bdbb_96000040dfb6row4_col0\" class=\"data row4 col0\" >4290</td>\n",
       "                        <td id=\"T_1f28d496_c0ad_11ed_bdbb_96000040dfb6row4_col1\" class=\"data row4 col1\" >234</td>\n",
       "                        <td id=\"T_1f28d496_c0ad_11ed_bdbb_96000040dfb6row4_col2\" class=\"data row4 col2\" >4524</td>\n",
       "            </tr>\n",
       "    </tbody></table>"
      ],
      "text/plain": [
       "<pandas.io.formats.style.Styler at 0x7f0e4c70dcc0>"
      ]
     },
     "execution_count": 113,
     "metadata": {},
     "output_type": "execute_result"
    }
   ],
   "source": [
    "# построим таблицу, которая отразить зависмость наличия платной подписки, в зависимости от количества просмотров по группам\n",
    "pd.crosstab(df_cont_1_join.views_count_group, df_cont_1_join.buy_premium, margins=True)\\\n",
    "            .style.background_gradient(cmap='autumn_r')"
   ]
  },
  {
   "cell_type": "code",
   "execution_count": 114,
   "metadata": {},
   "outputs": [
    {
     "data": {
      "text/html": [
       "<style  type=\"text/css\" >\n",
       "#T_1f28d497_c0ad_11ed_bdbb_96000040dfb6row0_col0,#T_1f28d497_c0ad_11ed_bdbb_96000040dfb6row3_col2{\n",
       "            background-color:  #ffee00;\n",
       "            color:  #000000;\n",
       "        }#T_1f28d497_c0ad_11ed_bdbb_96000040dfb6row0_col1,#T_1f28d497_c0ad_11ed_bdbb_96000040dfb6row2_col0,#T_1f28d497_c0ad_11ed_bdbb_96000040dfb6row2_col2,#T_1f28d497_c0ad_11ed_bdbb_96000040dfb6row3_col0{\n",
       "            background-color:  #ffff00;\n",
       "            color:  #000000;\n",
       "        }#T_1f28d497_c0ad_11ed_bdbb_96000040dfb6row0_col2{\n",
       "            background-color:  #fff000;\n",
       "            color:  #000000;\n",
       "        }#T_1f28d497_c0ad_11ed_bdbb_96000040dfb6row1_col0{\n",
       "            background-color:  #fffa00;\n",
       "            color:  #000000;\n",
       "        }#T_1f28d497_c0ad_11ed_bdbb_96000040dfb6row1_col1,#T_1f28d497_c0ad_11ed_bdbb_96000040dfb6row1_col2{\n",
       "            background-color:  #fffb00;\n",
       "            color:  #000000;\n",
       "        }#T_1f28d497_c0ad_11ed_bdbb_96000040dfb6row2_col1{\n",
       "            background-color:  #fff500;\n",
       "            color:  #000000;\n",
       "        }#T_1f28d497_c0ad_11ed_bdbb_96000040dfb6row3_col1{\n",
       "            background-color:  #ff3100;\n",
       "            color:  #f1f1f1;\n",
       "        }#T_1f28d497_c0ad_11ed_bdbb_96000040dfb6row4_col0,#T_1f28d497_c0ad_11ed_bdbb_96000040dfb6row4_col1,#T_1f28d497_c0ad_11ed_bdbb_96000040dfb6row4_col2{\n",
       "            background-color:  #ff0000;\n",
       "            color:  #f1f1f1;\n",
       "        }</style><table id=\"T_1f28d497_c0ad_11ed_bdbb_96000040dfb6\" ><thead>    <tr>        <th class=\"index_name level0\" >buy_other</th>        <th class=\"col_heading level0 col0\" >0</th>        <th class=\"col_heading level0 col1\" >1</th>        <th class=\"col_heading level0 col2\" >All</th>    </tr>    <tr>        <th class=\"index_name level0\" >views_count_group</th>        <th class=\"blank\" ></th>        <th class=\"blank\" ></th>        <th class=\"blank\" ></th>    </tr></thead><tbody>\n",
       "                <tr>\n",
       "                        <th id=\"T_1f28d497_c0ad_11ed_bdbb_96000040dfb6level0_row0\" class=\"row_heading level0 row0\" >0-1</th>\n",
       "                        <td id=\"T_1f28d497_c0ad_11ed_bdbb_96000040dfb6row0_col0\" class=\"data row0 col0\" >1198</td>\n",
       "                        <td id=\"T_1f28d497_c0ad_11ed_bdbb_96000040dfb6row0_col1\" class=\"data row0 col1\" >14</td>\n",
       "                        <td id=\"T_1f28d497_c0ad_11ed_bdbb_96000040dfb6row0_col2\" class=\"data row0 col2\" >1212</td>\n",
       "            </tr>\n",
       "            <tr>\n",
       "                        <th id=\"T_1f28d497_c0ad_11ed_bdbb_96000040dfb6level0_row1\" class=\"row_heading level0 row1\" >1-6</th>\n",
       "                        <td id=\"T_1f28d497_c0ad_11ed_bdbb_96000040dfb6row1_col0\" class=\"data row1 col0\" >1043</td>\n",
       "                        <td id=\"T_1f28d497_c0ad_11ed_bdbb_96000040dfb6row1_col1\" class=\"data row1 col1\" >19</td>\n",
       "                        <td id=\"T_1f28d497_c0ad_11ed_bdbb_96000040dfb6row1_col2\" class=\"data row1 col2\" >1062</td>\n",
       "            </tr>\n",
       "            <tr>\n",
       "                        <th id=\"T_1f28d497_c0ad_11ed_bdbb_96000040dfb6level0_row2\" class=\"row_heading level0 row2\" >6-21</th>\n",
       "                        <td id=\"T_1f28d497_c0ad_11ed_bdbb_96000040dfb6row2_col0\" class=\"data row2 col0\" >978</td>\n",
       "                        <td id=\"T_1f28d497_c0ad_11ed_bdbb_96000040dfb6row2_col1\" class=\"data row2 col1\" >26</td>\n",
       "                        <td id=\"T_1f28d497_c0ad_11ed_bdbb_96000040dfb6row2_col2\" class=\"data row2 col2\" >1004</td>\n",
       "            </tr>\n",
       "            <tr>\n",
       "                        <th id=\"T_1f28d497_c0ad_11ed_bdbb_96000040dfb6level0_row3\" class=\"row_heading level0 row3\" >21-</th>\n",
       "                        <td id=\"T_1f28d497_c0ad_11ed_bdbb_96000040dfb6row3_col0\" class=\"data row3 col0\" >986</td>\n",
       "                        <td id=\"T_1f28d497_c0ad_11ed_bdbb_96000040dfb6row3_col1\" class=\"data row3 col1\" >260</td>\n",
       "                        <td id=\"T_1f28d497_c0ad_11ed_bdbb_96000040dfb6row3_col2\" class=\"data row3 col2\" >1246</td>\n",
       "            </tr>\n",
       "            <tr>\n",
       "                        <th id=\"T_1f28d497_c0ad_11ed_bdbb_96000040dfb6level0_row4\" class=\"row_heading level0 row4\" >All</th>\n",
       "                        <td id=\"T_1f28d497_c0ad_11ed_bdbb_96000040dfb6row4_col0\" class=\"data row4 col0\" >4205</td>\n",
       "                        <td id=\"T_1f28d497_c0ad_11ed_bdbb_96000040dfb6row4_col1\" class=\"data row4 col1\" >319</td>\n",
       "                        <td id=\"T_1f28d497_c0ad_11ed_bdbb_96000040dfb6row4_col2\" class=\"data row4 col2\" >4524</td>\n",
       "            </tr>\n",
       "    </tbody></table>"
      ],
      "text/plain": [
       "<pandas.io.formats.style.Styler at 0x7f0e4c6b6da0>"
      ]
     },
     "execution_count": 114,
     "metadata": {},
     "output_type": "execute_result"
    }
   ],
   "source": [
    "# построим таблицу, которая отразить зависмость наличия других покупок, в зависимости от количества просмотров по группам\n",
    "pd.crosstab(df_cont_1_join.views_count_group, df_cont_1_join.buy_other, margins=True)\\\n",
    "            .style.background_gradient(cmap='autumn_r')"
   ]
  },
  {
   "cell_type": "markdown",
   "metadata": {},
   "source": [
    "Положительная взаимосвязь очевидна, но и не совсем линейна, возможно будет более четкая картинка на данных, где количество подписок будет выше на пару порядков. Проверим следующий параметр."
   ]
  },
  {
   "cell_type": "code",
   "execution_count": 115,
   "metadata": {},
   "outputs": [
    {
     "data": {
      "text/plain": [
       "count    4340.000000\n",
       "mean      312.048848\n",
       "std       320.972130\n",
       "min         0.000000\n",
       "25%         0.000000\n",
       "50%       238.500000\n",
       "75%       518.000000\n",
       "max      1000.000000\n",
       "Name: attraction_coeff, dtype: float64"
      ]
     },
     "execution_count": 115,
     "metadata": {},
     "output_type": "execute_result"
    }
   ],
   "source": [
    "df_users_control_1.attraction_coeff.describe()"
   ]
  },
  {
   "cell_type": "code",
   "execution_count": 116,
   "metadata": {
    "scrolled": false
   },
   "outputs": [
    {
     "data": {
      "text/html": [
       "<style  type=\"text/css\" >\n",
       "#T_1f28d498_c0ad_11ed_bdbb_96000040dfb6row0_col0{\n",
       "            background-color:  #ffc400;\n",
       "            color:  #000000;\n",
       "        }#T_1f28d498_c0ad_11ed_bdbb_96000040dfb6row0_col1,#T_1f28d498_c0ad_11ed_bdbb_96000040dfb6row1_col0,#T_1f28d498_c0ad_11ed_bdbb_96000040dfb6row1_col2{\n",
       "            background-color:  #ffff00;\n",
       "            color:  #000000;\n",
       "        }#T_1f28d498_c0ad_11ed_bdbb_96000040dfb6row0_col2{\n",
       "            background-color:  #ffcc00;\n",
       "            color:  #000000;\n",
       "        }#T_1f28d498_c0ad_11ed_bdbb_96000040dfb6row1_col1{\n",
       "            background-color:  #ffa500;\n",
       "            color:  #000000;\n",
       "        }#T_1f28d498_c0ad_11ed_bdbb_96000040dfb6row2_col0,#T_1f28d498_c0ad_11ed_bdbb_96000040dfb6row2_col2{\n",
       "            background-color:  #ffe400;\n",
       "            color:  #000000;\n",
       "        }#T_1f28d498_c0ad_11ed_bdbb_96000040dfb6row2_col1{\n",
       "            background-color:  #ff8a00;\n",
       "            color:  #000000;\n",
       "        }#T_1f28d498_c0ad_11ed_bdbb_96000040dfb6row3_col0{\n",
       "            background-color:  #ffe300;\n",
       "            color:  #000000;\n",
       "        }#T_1f28d498_c0ad_11ed_bdbb_96000040dfb6row3_col1{\n",
       "            background-color:  #ffe700;\n",
       "            color:  #000000;\n",
       "        }#T_1f28d498_c0ad_11ed_bdbb_96000040dfb6row3_col2{\n",
       "            background-color:  #ffe800;\n",
       "            color:  #000000;\n",
       "        }#T_1f28d498_c0ad_11ed_bdbb_96000040dfb6row4_col0,#T_1f28d498_c0ad_11ed_bdbb_96000040dfb6row4_col1,#T_1f28d498_c0ad_11ed_bdbb_96000040dfb6row4_col2{\n",
       "            background-color:  #ff0000;\n",
       "            color:  #f1f1f1;\n",
       "        }</style><table id=\"T_1f28d498_c0ad_11ed_bdbb_96000040dfb6\" ><thead>    <tr>        <th class=\"index_name level0\" >buy_premium</th>        <th class=\"col_heading level0 col0\" >0</th>        <th class=\"col_heading level0 col1\" >1</th>        <th class=\"col_heading level0 col2\" >All</th>    </tr>    <tr>        <th class=\"index_name level0\" >attraction_coeff_group</th>        <th class=\"blank\" ></th>        <th class=\"blank\" ></th>        <th class=\"blank\" ></th>    </tr></thead><tbody>\n",
       "                <tr>\n",
       "                        <th id=\"T_1f28d498_c0ad_11ed_bdbb_96000040dfb6level0_row0\" class=\"row_heading level0 row0\" >0</th>\n",
       "                        <td id=\"T_1f28d498_c0ad_11ed_bdbb_96000040dfb6row0_col0\" class=\"data row0 col0\" >1506</td>\n",
       "                        <td id=\"T_1f28d498_c0ad_11ed_bdbb_96000040dfb6row0_col1\" class=\"data row0 col1\" >7</td>\n",
       "                        <td id=\"T_1f28d498_c0ad_11ed_bdbb_96000040dfb6row0_col2\" class=\"data row0 col2\" >1513</td>\n",
       "            </tr>\n",
       "            <tr>\n",
       "                        <th id=\"T_1f28d498_c0ad_11ed_bdbb_96000040dfb6level0_row1\" class=\"row_heading level0 row1\" >0-238</th>\n",
       "                        <td id=\"T_1f28d498_c0ad_11ed_bdbb_96000040dfb6row1_col0\" class=\"data row1 col0\" >666</td>\n",
       "                        <td id=\"T_1f28d498_c0ad_11ed_bdbb_96000040dfb6row1_col1\" class=\"data row1 col1\" >87</td>\n",
       "                        <td id=\"T_1f28d498_c0ad_11ed_bdbb_96000040dfb6row1_col2\" class=\"data row1 col2\" >753</td>\n",
       "            </tr>\n",
       "            <tr>\n",
       "                        <th id=\"T_1f28d498_c0ad_11ed_bdbb_96000040dfb6level0_row2\" class=\"row_heading level0 row2\" >238-518</th>\n",
       "                        <td id=\"T_1f28d498_c0ad_11ed_bdbb_96000040dfb6row2_col0\" class=\"data row2 col0\" >1054</td>\n",
       "                        <td id=\"T_1f28d498_c0ad_11ed_bdbb_96000040dfb6row2_col1\" class=\"data row2 col1\" >111</td>\n",
       "                        <td id=\"T_1f28d498_c0ad_11ed_bdbb_96000040dfb6row2_col2\" class=\"data row2 col2\" >1165</td>\n",
       "            </tr>\n",
       "            <tr>\n",
       "                        <th id=\"T_1f28d498_c0ad_11ed_bdbb_96000040dfb6level0_row3\" class=\"row_heading level0 row3\" >518-</th>\n",
       "                        <td id=\"T_1f28d498_c0ad_11ed_bdbb_96000040dfb6row3_col0\" class=\"data row3 col0\" >1064</td>\n",
       "                        <td id=\"T_1f28d498_c0ad_11ed_bdbb_96000040dfb6row3_col1\" class=\"data row3 col1\" >29</td>\n",
       "                        <td id=\"T_1f28d498_c0ad_11ed_bdbb_96000040dfb6row3_col2\" class=\"data row3 col2\" >1093</td>\n",
       "            </tr>\n",
       "            <tr>\n",
       "                        <th id=\"T_1f28d498_c0ad_11ed_bdbb_96000040dfb6level0_row4\" class=\"row_heading level0 row4\" >All</th>\n",
       "                        <td id=\"T_1f28d498_c0ad_11ed_bdbb_96000040dfb6row4_col0\" class=\"data row4 col0\" >4290</td>\n",
       "                        <td id=\"T_1f28d498_c0ad_11ed_bdbb_96000040dfb6row4_col1\" class=\"data row4 col1\" >234</td>\n",
       "                        <td id=\"T_1f28d498_c0ad_11ed_bdbb_96000040dfb6row4_col2\" class=\"data row4 col2\" >4524</td>\n",
       "            </tr>\n",
       "    </tbody></table>"
      ],
      "text/plain": [
       "<pandas.io.formats.style.Styler at 0x7f0e4c70d358>"
      ]
     },
     "execution_count": 116,
     "metadata": {},
     "output_type": "execute_result"
    }
   ],
   "source": [
    "# проверим с каким коэффициентом привлекательности, люди чаще приобретают подписку\n",
    "pd.crosstab(df_cont_1_join.attraction_coeff_group, df_cont_1_join.buy_premium, margins=True)\\\n",
    "            .style.background_gradient(cmap='autumn_r')"
   ]
  },
  {
   "cell_type": "code",
   "execution_count": 117,
   "metadata": {},
   "outputs": [
    {
     "data": {
      "text/html": [
       "<style  type=\"text/css\" >\n",
       "#T_1f28d499_c0ad_11ed_bdbb_96000040dfb6row0_col0{\n",
       "            background-color:  #ffc100;\n",
       "            color:  #000000;\n",
       "        }#T_1f28d499_c0ad_11ed_bdbb_96000040dfb6row0_col1,#T_1f28d499_c0ad_11ed_bdbb_96000040dfb6row1_col0,#T_1f28d499_c0ad_11ed_bdbb_96000040dfb6row1_col2{\n",
       "            background-color:  #ffff00;\n",
       "            color:  #000000;\n",
       "        }#T_1f28d499_c0ad_11ed_bdbb_96000040dfb6row0_col2{\n",
       "            background-color:  #ffcc00;\n",
       "            color:  #000000;\n",
       "        }#T_1f28d499_c0ad_11ed_bdbb_96000040dfb6row1_col1{\n",
       "            background-color:  #ff9f00;\n",
       "            color:  #000000;\n",
       "        }#T_1f28d499_c0ad_11ed_bdbb_96000040dfb6row2_col0{\n",
       "            background-color:  #ffe300;\n",
       "            color:  #000000;\n",
       "        }#T_1f28d499_c0ad_11ed_bdbb_96000040dfb6row2_col1{\n",
       "            background-color:  #ff9400;\n",
       "            color:  #000000;\n",
       "        }#T_1f28d499_c0ad_11ed_bdbb_96000040dfb6row2_col2{\n",
       "            background-color:  #ffe400;\n",
       "            color:  #000000;\n",
       "        }#T_1f28d499_c0ad_11ed_bdbb_96000040dfb6row3_col0{\n",
       "            background-color:  #ffe000;\n",
       "            color:  #000000;\n",
       "        }#T_1f28d499_c0ad_11ed_bdbb_96000040dfb6row3_col1{\n",
       "            background-color:  #fff900;\n",
       "            color:  #000000;\n",
       "        }#T_1f28d499_c0ad_11ed_bdbb_96000040dfb6row3_col2{\n",
       "            background-color:  #ffe800;\n",
       "            color:  #000000;\n",
       "        }#T_1f28d499_c0ad_11ed_bdbb_96000040dfb6row4_col0,#T_1f28d499_c0ad_11ed_bdbb_96000040dfb6row4_col1,#T_1f28d499_c0ad_11ed_bdbb_96000040dfb6row4_col2{\n",
       "            background-color:  #ff0000;\n",
       "            color:  #f1f1f1;\n",
       "        }</style><table id=\"T_1f28d499_c0ad_11ed_bdbb_96000040dfb6\" ><thead>    <tr>        <th class=\"index_name level0\" >buy_other</th>        <th class=\"col_heading level0 col0\" >0</th>        <th class=\"col_heading level0 col1\" >1</th>        <th class=\"col_heading level0 col2\" >All</th>    </tr>    <tr>        <th class=\"index_name level0\" >attraction_coeff_group</th>        <th class=\"blank\" ></th>        <th class=\"blank\" ></th>        <th class=\"blank\" ></th>    </tr></thead><tbody>\n",
       "                <tr>\n",
       "                        <th id=\"T_1f28d499_c0ad_11ed_bdbb_96000040dfb6level0_row0\" class=\"row_heading level0 row0\" >0</th>\n",
       "                        <td id=\"T_1f28d499_c0ad_11ed_bdbb_96000040dfb6row0_col0\" class=\"data row0 col0\" >1495</td>\n",
       "                        <td id=\"T_1f28d499_c0ad_11ed_bdbb_96000040dfb6row0_col1\" class=\"data row0 col1\" >18</td>\n",
       "                        <td id=\"T_1f28d499_c0ad_11ed_bdbb_96000040dfb6row0_col2\" class=\"data row0 col2\" >1513</td>\n",
       "            </tr>\n",
       "            <tr>\n",
       "                        <th id=\"T_1f28d499_c0ad_11ed_bdbb_96000040dfb6level0_row1\" class=\"row_heading level0 row1\" >0-238</th>\n",
       "                        <td id=\"T_1f28d499_c0ad_11ed_bdbb_96000040dfb6row1_col0\" class=\"data row1 col0\" >622</td>\n",
       "                        <td id=\"T_1f28d499_c0ad_11ed_bdbb_96000040dfb6row1_col1\" class=\"data row1 col1\" >131</td>\n",
       "                        <td id=\"T_1f28d499_c0ad_11ed_bdbb_96000040dfb6row1_col2\" class=\"data row1 col2\" >753</td>\n",
       "            </tr>\n",
       "            <tr>\n",
       "                        <th id=\"T_1f28d499_c0ad_11ed_bdbb_96000040dfb6level0_row2\" class=\"row_heading level0 row2\" >238-518</th>\n",
       "                        <td id=\"T_1f28d499_c0ad_11ed_bdbb_96000040dfb6row2_col0\" class=\"data row2 col0\" >1021</td>\n",
       "                        <td id=\"T_1f28d499_c0ad_11ed_bdbb_96000040dfb6row2_col1\" class=\"data row2 col1\" >144</td>\n",
       "                        <td id=\"T_1f28d499_c0ad_11ed_bdbb_96000040dfb6row2_col2\" class=\"data row2 col2\" >1165</td>\n",
       "            </tr>\n",
       "            <tr>\n",
       "                        <th id=\"T_1f28d499_c0ad_11ed_bdbb_96000040dfb6level0_row3\" class=\"row_heading level0 row3\" >518-</th>\n",
       "                        <td id=\"T_1f28d499_c0ad_11ed_bdbb_96000040dfb6row3_col0\" class=\"data row3 col0\" >1067</td>\n",
       "                        <td id=\"T_1f28d499_c0ad_11ed_bdbb_96000040dfb6row3_col1\" class=\"data row3 col1\" >26</td>\n",
       "                        <td id=\"T_1f28d499_c0ad_11ed_bdbb_96000040dfb6row3_col2\" class=\"data row3 col2\" >1093</td>\n",
       "            </tr>\n",
       "            <tr>\n",
       "                        <th id=\"T_1f28d499_c0ad_11ed_bdbb_96000040dfb6level0_row4\" class=\"row_heading level0 row4\" >All</th>\n",
       "                        <td id=\"T_1f28d499_c0ad_11ed_bdbb_96000040dfb6row4_col0\" class=\"data row4 col0\" >4205</td>\n",
       "                        <td id=\"T_1f28d499_c0ad_11ed_bdbb_96000040dfb6row4_col1\" class=\"data row4 col1\" >319</td>\n",
       "                        <td id=\"T_1f28d499_c0ad_11ed_bdbb_96000040dfb6row4_col2\" class=\"data row4 col2\" >4524</td>\n",
       "            </tr>\n",
       "    </tbody></table>"
      ],
      "text/plain": [
       "<pandas.io.formats.style.Styler at 0x7f0e4c6c65c0>"
      ]
     },
     "execution_count": 117,
     "metadata": {},
     "output_type": "execute_result"
    }
   ],
   "source": [
    "# проверим с каким коэффициентом привлекательности, люди чаще приобретают другие услуги\n",
    "pd.crosstab(df_cont_1_join.attraction_coeff_group, df_cont_1_join.buy_other, margins=True)\\\n",
    "            .style.background_gradient(cmap='autumn_r')"
   ]
  },
  {
   "cell_type": "markdown",
   "metadata": {},
   "source": [
    "Тут то же видна тенденция на увеличение, при этом там где коэффицент находится в 75% и выше, происходит падение. Вероятней всего этот коэффициент показывает количество лайков профиля пользователя на количество просмотров. Те кого больше лайкают, не так нуждаются в премиум аккаунте."
   ]
  },
  {
   "cell_type": "markdown",
   "metadata": {},
   "source": [
    "### Сделаем промежуточный вывод. Количество дней визитов и количество просмотров имеют явную положительную зависимость с параметром наличия платной подписки. А так как подписка списывается раз в месяц и при проведении экспериментов мы сможем увидеть результат только через длительное время, то следовательно мы можем оценивать просмотры и посещаемость пользователей и на основании этого делать выводы на значительно более короткой дистанции."
   ]
  },
  {
   "cell_type": "code",
   "execution_count": 118,
   "metadata": {
    "scrolled": true
   },
   "outputs": [
    {
     "data": {
      "text/html": [
       "<style  type=\"text/css\" >\n",
       "#T_1f28d49a_c0ad_11ed_bdbb_96000040dfb6row0_col0,#T_1f28d49a_c0ad_11ed_bdbb_96000040dfb6row0_col1,#T_1f28d49a_c0ad_11ed_bdbb_96000040dfb6row0_col2,#T_1f28d49a_c0ad_11ed_bdbb_96000040dfb6row2_col0,#T_1f28d49a_c0ad_11ed_bdbb_96000040dfb6row2_col1,#T_1f28d49a_c0ad_11ed_bdbb_96000040dfb6row2_col2,#T_1f28d49a_c0ad_11ed_bdbb_96000040dfb6row5_col0,#T_1f28d49a_c0ad_11ed_bdbb_96000040dfb6row5_col1,#T_1f28d49a_c0ad_11ed_bdbb_96000040dfb6row5_col2,#T_1f28d49a_c0ad_11ed_bdbb_96000040dfb6row8_col0,#T_1f28d49a_c0ad_11ed_bdbb_96000040dfb6row8_col1,#T_1f28d49a_c0ad_11ed_bdbb_96000040dfb6row8_col2,#T_1f28d49a_c0ad_11ed_bdbb_96000040dfb6row9_col0,#T_1f28d49a_c0ad_11ed_bdbb_96000040dfb6row9_col1,#T_1f28d49a_c0ad_11ed_bdbb_96000040dfb6row9_col2,#T_1f28d49a_c0ad_11ed_bdbb_96000040dfb6row10_col0,#T_1f28d49a_c0ad_11ed_bdbb_96000040dfb6row10_col1,#T_1f28d49a_c0ad_11ed_bdbb_96000040dfb6row10_col2,#T_1f28d49a_c0ad_11ed_bdbb_96000040dfb6row11_col0,#T_1f28d49a_c0ad_11ed_bdbb_96000040dfb6row11_col1,#T_1f28d49a_c0ad_11ed_bdbb_96000040dfb6row11_col2,#T_1f28d49a_c0ad_11ed_bdbb_96000040dfb6row12_col0,#T_1f28d49a_c0ad_11ed_bdbb_96000040dfb6row12_col1,#T_1f28d49a_c0ad_11ed_bdbb_96000040dfb6row12_col2,#T_1f28d49a_c0ad_11ed_bdbb_96000040dfb6row15_col0,#T_1f28d49a_c0ad_11ed_bdbb_96000040dfb6row15_col2,#T_1f28d49a_c0ad_11ed_bdbb_96000040dfb6row18_col0,#T_1f28d49a_c0ad_11ed_bdbb_96000040dfb6row18_col1,#T_1f28d49a_c0ad_11ed_bdbb_96000040dfb6row18_col2,#T_1f28d49a_c0ad_11ed_bdbb_96000040dfb6row19_col0,#T_1f28d49a_c0ad_11ed_bdbb_96000040dfb6row19_col1,#T_1f28d49a_c0ad_11ed_bdbb_96000040dfb6row19_col2,#T_1f28d49a_c0ad_11ed_bdbb_96000040dfb6row20_col0,#T_1f28d49a_c0ad_11ed_bdbb_96000040dfb6row20_col1,#T_1f28d49a_c0ad_11ed_bdbb_96000040dfb6row20_col2,#T_1f28d49a_c0ad_11ed_bdbb_96000040dfb6row21_col0,#T_1f28d49a_c0ad_11ed_bdbb_96000040dfb6row21_col1,#T_1f28d49a_c0ad_11ed_bdbb_96000040dfb6row21_col2,#T_1f28d49a_c0ad_11ed_bdbb_96000040dfb6row22_col0,#T_1f28d49a_c0ad_11ed_bdbb_96000040dfb6row22_col1,#T_1f28d49a_c0ad_11ed_bdbb_96000040dfb6row22_col2,#T_1f28d49a_c0ad_11ed_bdbb_96000040dfb6row23_col0,#T_1f28d49a_c0ad_11ed_bdbb_96000040dfb6row23_col1,#T_1f28d49a_c0ad_11ed_bdbb_96000040dfb6row23_col2,#T_1f28d49a_c0ad_11ed_bdbb_96000040dfb6row24_col0,#T_1f28d49a_c0ad_11ed_bdbb_96000040dfb6row24_col1,#T_1f28d49a_c0ad_11ed_bdbb_96000040dfb6row24_col2,#T_1f28d49a_c0ad_11ed_bdbb_96000040dfb6row26_col0,#T_1f28d49a_c0ad_11ed_bdbb_96000040dfb6row26_col1,#T_1f28d49a_c0ad_11ed_bdbb_96000040dfb6row26_col2,#T_1f28d49a_c0ad_11ed_bdbb_96000040dfb6row27_col0,#T_1f28d49a_c0ad_11ed_bdbb_96000040dfb6row27_col1,#T_1f28d49a_c0ad_11ed_bdbb_96000040dfb6row27_col2,#T_1f28d49a_c0ad_11ed_bdbb_96000040dfb6row28_col0,#T_1f28d49a_c0ad_11ed_bdbb_96000040dfb6row28_col1,#T_1f28d49a_c0ad_11ed_bdbb_96000040dfb6row28_col2,#T_1f28d49a_c0ad_11ed_bdbb_96000040dfb6row29_col0,#T_1f28d49a_c0ad_11ed_bdbb_96000040dfb6row29_col1,#T_1f28d49a_c0ad_11ed_bdbb_96000040dfb6row29_col2,#T_1f28d49a_c0ad_11ed_bdbb_96000040dfb6row31_col0,#T_1f28d49a_c0ad_11ed_bdbb_96000040dfb6row31_col1,#T_1f28d49a_c0ad_11ed_bdbb_96000040dfb6row31_col2,#T_1f28d49a_c0ad_11ed_bdbb_96000040dfb6row33_col0,#T_1f28d49a_c0ad_11ed_bdbb_96000040dfb6row33_col1,#T_1f28d49a_c0ad_11ed_bdbb_96000040dfb6row33_col2,#T_1f28d49a_c0ad_11ed_bdbb_96000040dfb6row34_col0,#T_1f28d49a_c0ad_11ed_bdbb_96000040dfb6row34_col2,#T_1f28d49a_c0ad_11ed_bdbb_96000040dfb6row35_col0,#T_1f28d49a_c0ad_11ed_bdbb_96000040dfb6row35_col1,#T_1f28d49a_c0ad_11ed_bdbb_96000040dfb6row35_col2,#T_1f28d49a_c0ad_11ed_bdbb_96000040dfb6row39_col0,#T_1f28d49a_c0ad_11ed_bdbb_96000040dfb6row39_col1,#T_1f28d49a_c0ad_11ed_bdbb_96000040dfb6row39_col2{\n",
       "            background-color:  #ffff00;\n",
       "            color:  #000000;\n",
       "        }#T_1f28d49a_c0ad_11ed_bdbb_96000040dfb6row1_col0,#T_1f28d49a_c0ad_11ed_bdbb_96000040dfb6row1_col1,#T_1f28d49a_c0ad_11ed_bdbb_96000040dfb6row1_col2{\n",
       "            background-color:  #ffe900;\n",
       "            color:  #000000;\n",
       "        }#T_1f28d49a_c0ad_11ed_bdbb_96000040dfb6row3_col0,#T_1f28d49a_c0ad_11ed_bdbb_96000040dfb6row3_col2,#T_1f28d49a_c0ad_11ed_bdbb_96000040dfb6row15_col1,#T_1f28d49a_c0ad_11ed_bdbb_96000040dfb6row32_col0,#T_1f28d49a_c0ad_11ed_bdbb_96000040dfb6row32_col2{\n",
       "            background-color:  #fffd00;\n",
       "            color:  #000000;\n",
       "        }#T_1f28d49a_c0ad_11ed_bdbb_96000040dfb6row3_col1,#T_1f28d49a_c0ad_11ed_bdbb_96000040dfb6row4_col1,#T_1f28d49a_c0ad_11ed_bdbb_96000040dfb6row32_col1{\n",
       "            background-color:  #fffe00;\n",
       "            color:  #000000;\n",
       "        }#T_1f28d49a_c0ad_11ed_bdbb_96000040dfb6row4_col0,#T_1f28d49a_c0ad_11ed_bdbb_96000040dfb6row4_col2,#T_1f28d49a_c0ad_11ed_bdbb_96000040dfb6row6_col1,#T_1f28d49a_c0ad_11ed_bdbb_96000040dfb6row14_col1,#T_1f28d49a_c0ad_11ed_bdbb_96000040dfb6row16_col2,#T_1f28d49a_c0ad_11ed_bdbb_96000040dfb6row34_col1{\n",
       "            background-color:  #fff900;\n",
       "            color:  #000000;\n",
       "        }#T_1f28d49a_c0ad_11ed_bdbb_96000040dfb6row6_col0,#T_1f28d49a_c0ad_11ed_bdbb_96000040dfb6row6_col2,#T_1f28d49a_c0ad_11ed_bdbb_96000040dfb6row7_col1,#T_1f28d49a_c0ad_11ed_bdbb_96000040dfb6row36_col1{\n",
       "            background-color:  #fff800;\n",
       "            color:  #000000;\n",
       "        }#T_1f28d49a_c0ad_11ed_bdbb_96000040dfb6row7_col0,#T_1f28d49a_c0ad_11ed_bdbb_96000040dfb6row7_col2{\n",
       "            background-color:  #ffef00;\n",
       "            color:  #000000;\n",
       "        }#T_1f28d49a_c0ad_11ed_bdbb_96000040dfb6row13_col0,#T_1f28d49a_c0ad_11ed_bdbb_96000040dfb6row13_col2,#T_1f28d49a_c0ad_11ed_bdbb_96000040dfb6row17_col2{\n",
       "            background-color:  #ffea00;\n",
       "            color:  #000000;\n",
       "        }#T_1f28d49a_c0ad_11ed_bdbb_96000040dfb6row13_col1{\n",
       "            background-color:  #ffe400;\n",
       "            color:  #000000;\n",
       "        }#T_1f28d49a_c0ad_11ed_bdbb_96000040dfb6row14_col0,#T_1f28d49a_c0ad_11ed_bdbb_96000040dfb6row14_col2,#T_1f28d49a_c0ad_11ed_bdbb_96000040dfb6row30_col1{\n",
       "            background-color:  #fff500;\n",
       "            color:  #000000;\n",
       "        }#T_1f28d49a_c0ad_11ed_bdbb_96000040dfb6row16_col0,#T_1f28d49a_c0ad_11ed_bdbb_96000040dfb6row25_col0,#T_1f28d49a_c0ad_11ed_bdbb_96000040dfb6row25_col2{\n",
       "            background-color:  #fffa00;\n",
       "            color:  #000000;\n",
       "        }#T_1f28d49a_c0ad_11ed_bdbb_96000040dfb6row16_col1{\n",
       "            background-color:  #ffed00;\n",
       "            color:  #000000;\n",
       "        }#T_1f28d49a_c0ad_11ed_bdbb_96000040dfb6row17_col0,#T_1f28d49a_c0ad_11ed_bdbb_96000040dfb6row30_col2{\n",
       "            background-color:  #ffec00;\n",
       "            color:  #000000;\n",
       "        }#T_1f28d49a_c0ad_11ed_bdbb_96000040dfb6row17_col1{\n",
       "            background-color:  #ffc600;\n",
       "            color:  #000000;\n",
       "        }#T_1f28d49a_c0ad_11ed_bdbb_96000040dfb6row25_col1{\n",
       "            background-color:  #fffc00;\n",
       "            color:  #000000;\n",
       "        }#T_1f28d49a_c0ad_11ed_bdbb_96000040dfb6row30_col0{\n",
       "            background-color:  #ffeb00;\n",
       "            color:  #000000;\n",
       "        }#T_1f28d49a_c0ad_11ed_bdbb_96000040dfb6row36_col0{\n",
       "            background-color:  #fff300;\n",
       "            color:  #000000;\n",
       "        }#T_1f28d49a_c0ad_11ed_bdbb_96000040dfb6row36_col2{\n",
       "            background-color:  #fff400;\n",
       "            color:  #000000;\n",
       "        }#T_1f28d49a_c0ad_11ed_bdbb_96000040dfb6row37_col0,#T_1f28d49a_c0ad_11ed_bdbb_96000040dfb6row37_col2{\n",
       "            background-color:  #fff600;\n",
       "            color:  #000000;\n",
       "        }#T_1f28d49a_c0ad_11ed_bdbb_96000040dfb6row37_col1{\n",
       "            background-color:  #fff000;\n",
       "            color:  #000000;\n",
       "        }#T_1f28d49a_c0ad_11ed_bdbb_96000040dfb6row38_col0{\n",
       "            background-color:  #ffa800;\n",
       "            color:  #000000;\n",
       "        }#T_1f28d49a_c0ad_11ed_bdbb_96000040dfb6row38_col1{\n",
       "            background-color:  #ffc400;\n",
       "            color:  #000000;\n",
       "        }#T_1f28d49a_c0ad_11ed_bdbb_96000040dfb6row38_col2{\n",
       "            background-color:  #ffaa00;\n",
       "            color:  #000000;\n",
       "        }#T_1f28d49a_c0ad_11ed_bdbb_96000040dfb6row40_col0,#T_1f28d49a_c0ad_11ed_bdbb_96000040dfb6row40_col1,#T_1f28d49a_c0ad_11ed_bdbb_96000040dfb6row40_col2{\n",
       "            background-color:  #ff0000;\n",
       "            color:  #f1f1f1;\n",
       "        }</style><table id=\"T_1f28d49a_c0ad_11ed_bdbb_96000040dfb6\" ><thead>    <tr>        <th class=\"index_name level0\" >buy_premium</th>        <th class=\"col_heading level0 col0\" >0</th>        <th class=\"col_heading level0 col1\" >1</th>        <th class=\"col_heading level0 col2\" >All</th>    </tr>    <tr>        <th class=\"index_name level0\" >country_x</th>        <th class=\"blank\" ></th>        <th class=\"blank\" ></th>        <th class=\"blank\" ></th>    </tr></thead><tbody>\n",
       "                <tr>\n",
       "                        <th id=\"T_1f28d49a_c0ad_11ed_bdbb_96000040dfb6level0_row0\" class=\"row_heading level0 row0\" >Algeria</th>\n",
       "                        <td id=\"T_1f28d49a_c0ad_11ed_bdbb_96000040dfb6row0_col0\" class=\"data row0 col0\" >2</td>\n",
       "                        <td id=\"T_1f28d49a_c0ad_11ed_bdbb_96000040dfb6row0_col1\" class=\"data row0 col1\" >0</td>\n",
       "                        <td id=\"T_1f28d49a_c0ad_11ed_bdbb_96000040dfb6row0_col2\" class=\"data row0 col2\" >2</td>\n",
       "            </tr>\n",
       "            <tr>\n",
       "                        <th id=\"T_1f28d49a_c0ad_11ed_bdbb_96000040dfb6level0_row1\" class=\"row_heading level0 row1\" >Argentina</th>\n",
       "                        <td id=\"T_1f28d49a_c0ad_11ed_bdbb_96000040dfb6row1_col0\" class=\"data row1 col0\" >384</td>\n",
       "                        <td id=\"T_1f28d49a_c0ad_11ed_bdbb_96000040dfb6row1_col1\" class=\"data row1 col1\" >21</td>\n",
       "                        <td id=\"T_1f28d49a_c0ad_11ed_bdbb_96000040dfb6row1_col2\" class=\"data row1 col2\" >405</td>\n",
       "            </tr>\n",
       "            <tr>\n",
       "                        <th id=\"T_1f28d49a_c0ad_11ed_bdbb_96000040dfb6level0_row2\" class=\"row_heading level0 row2\" >Armenia</th>\n",
       "                        <td id=\"T_1f28d49a_c0ad_11ed_bdbb_96000040dfb6row2_col0\" class=\"data row2 col0\" >1</td>\n",
       "                        <td id=\"T_1f28d49a_c0ad_11ed_bdbb_96000040dfb6row2_col1\" class=\"data row2 col1\" >0</td>\n",
       "                        <td id=\"T_1f28d49a_c0ad_11ed_bdbb_96000040dfb6row2_col2\" class=\"data row2 col2\" >1</td>\n",
       "            </tr>\n",
       "            <tr>\n",
       "                        <th id=\"T_1f28d49a_c0ad_11ed_bdbb_96000040dfb6level0_row3\" class=\"row_heading level0 row3\" >Australia</th>\n",
       "                        <td id=\"T_1f28d49a_c0ad_11ed_bdbb_96000040dfb6row3_col0\" class=\"data row3 col0\" >49</td>\n",
       "                        <td id=\"T_1f28d49a_c0ad_11ed_bdbb_96000040dfb6row3_col1\" class=\"data row3 col1\" >1</td>\n",
       "                        <td id=\"T_1f28d49a_c0ad_11ed_bdbb_96000040dfb6row3_col2\" class=\"data row3 col2\" >50</td>\n",
       "            </tr>\n",
       "            <tr>\n",
       "                        <th id=\"T_1f28d49a_c0ad_11ed_bdbb_96000040dfb6level0_row4\" class=\"row_heading level0 row4\" >Belgium</th>\n",
       "                        <td id=\"T_1f28d49a_c0ad_11ed_bdbb_96000040dfb6row4_col0\" class=\"data row4 col0\" >107</td>\n",
       "                        <td id=\"T_1f28d49a_c0ad_11ed_bdbb_96000040dfb6row4_col1\" class=\"data row4 col1\" >1</td>\n",
       "                        <td id=\"T_1f28d49a_c0ad_11ed_bdbb_96000040dfb6row4_col2\" class=\"data row4 col2\" >108</td>\n",
       "            </tr>\n",
       "            <tr>\n",
       "                        <th id=\"T_1f28d49a_c0ad_11ed_bdbb_96000040dfb6level0_row5\" class=\"row_heading level0 row5\" >Burkina Faso</th>\n",
       "                        <td id=\"T_1f28d49a_c0ad_11ed_bdbb_96000040dfb6row5_col0\" class=\"data row5 col0\" >1</td>\n",
       "                        <td id=\"T_1f28d49a_c0ad_11ed_bdbb_96000040dfb6row5_col1\" class=\"data row5 col1\" >0</td>\n",
       "                        <td id=\"T_1f28d49a_c0ad_11ed_bdbb_96000040dfb6row5_col2\" class=\"data row5 col2\" >1</td>\n",
       "            </tr>\n",
       "            <tr>\n",
       "                        <th id=\"T_1f28d49a_c0ad_11ed_bdbb_96000040dfb6level0_row6\" class=\"row_heading level0 row6\" >Canada</th>\n",
       "                        <td id=\"T_1f28d49a_c0ad_11ed_bdbb_96000040dfb6row6_col0\" class=\"data row6 col0\" >133</td>\n",
       "                        <td id=\"T_1f28d49a_c0ad_11ed_bdbb_96000040dfb6row6_col1\" class=\"data row6 col1\" >6</td>\n",
       "                        <td id=\"T_1f28d49a_c0ad_11ed_bdbb_96000040dfb6row6_col2\" class=\"data row6 col2\" >139</td>\n",
       "            </tr>\n",
       "            <tr>\n",
       "                        <th id=\"T_1f28d49a_c0ad_11ed_bdbb_96000040dfb6level0_row7\" class=\"row_heading level0 row7\" >Chile</th>\n",
       "                        <td id=\"T_1f28d49a_c0ad_11ed_bdbb_96000040dfb6row7_col0\" class=\"data row7 col0\" >285</td>\n",
       "                        <td id=\"T_1f28d49a_c0ad_11ed_bdbb_96000040dfb6row7_col1\" class=\"data row7 col1\" >7</td>\n",
       "                        <td id=\"T_1f28d49a_c0ad_11ed_bdbb_96000040dfb6row7_col2\" class=\"data row7 col2\" >292</td>\n",
       "            </tr>\n",
       "            <tr>\n",
       "                        <th id=\"T_1f28d49a_c0ad_11ed_bdbb_96000040dfb6level0_row8\" class=\"row_heading level0 row8\" >China</th>\n",
       "                        <td id=\"T_1f28d49a_c0ad_11ed_bdbb_96000040dfb6row8_col0\" class=\"data row8 col0\" >1</td>\n",
       "                        <td id=\"T_1f28d49a_c0ad_11ed_bdbb_96000040dfb6row8_col1\" class=\"data row8 col1\" >0</td>\n",
       "                        <td id=\"T_1f28d49a_c0ad_11ed_bdbb_96000040dfb6row8_col2\" class=\"data row8 col2\" >1</td>\n",
       "            </tr>\n",
       "            <tr>\n",
       "                        <th id=\"T_1f28d49a_c0ad_11ed_bdbb_96000040dfb6level0_row9\" class=\"row_heading level0 row9\" >Colombia</th>\n",
       "                        <td id=\"T_1f28d49a_c0ad_11ed_bdbb_96000040dfb6row9_col0\" class=\"data row9 col0\" >1</td>\n",
       "                        <td id=\"T_1f28d49a_c0ad_11ed_bdbb_96000040dfb6row9_col1\" class=\"data row9 col1\" >0</td>\n",
       "                        <td id=\"T_1f28d49a_c0ad_11ed_bdbb_96000040dfb6row9_col2\" class=\"data row9 col2\" >1</td>\n",
       "            </tr>\n",
       "            <tr>\n",
       "                        <th id=\"T_1f28d49a_c0ad_11ed_bdbb_96000040dfb6level0_row10\" class=\"row_heading level0 row10\" >Costa Rica</th>\n",
       "                        <td id=\"T_1f28d49a_c0ad_11ed_bdbb_96000040dfb6row10_col0\" class=\"data row10 col0\" >1</td>\n",
       "                        <td id=\"T_1f28d49a_c0ad_11ed_bdbb_96000040dfb6row10_col1\" class=\"data row10 col1\" >0</td>\n",
       "                        <td id=\"T_1f28d49a_c0ad_11ed_bdbb_96000040dfb6row10_col2\" class=\"data row10 col2\" >1</td>\n",
       "            </tr>\n",
       "            <tr>\n",
       "                        <th id=\"T_1f28d49a_c0ad_11ed_bdbb_96000040dfb6level0_row11\" class=\"row_heading level0 row11\" >Dominican Republic</th>\n",
       "                        <td id=\"T_1f28d49a_c0ad_11ed_bdbb_96000040dfb6row11_col0\" class=\"data row11 col0\" >2</td>\n",
       "                        <td id=\"T_1f28d49a_c0ad_11ed_bdbb_96000040dfb6row11_col1\" class=\"data row11 col1\" >0</td>\n",
       "                        <td id=\"T_1f28d49a_c0ad_11ed_bdbb_96000040dfb6row11_col2\" class=\"data row11 col2\" >2</td>\n",
       "            </tr>\n",
       "            <tr>\n",
       "                        <th id=\"T_1f28d49a_c0ad_11ed_bdbb_96000040dfb6level0_row12\" class=\"row_heading level0 row12\" >Egypt</th>\n",
       "                        <td id=\"T_1f28d49a_c0ad_11ed_bdbb_96000040dfb6row12_col0\" class=\"data row12 col0\" >2</td>\n",
       "                        <td id=\"T_1f28d49a_c0ad_11ed_bdbb_96000040dfb6row12_col1\" class=\"data row12 col1\" >0</td>\n",
       "                        <td id=\"T_1f28d49a_c0ad_11ed_bdbb_96000040dfb6row12_col2\" class=\"data row12 col2\" >2</td>\n",
       "            </tr>\n",
       "            <tr>\n",
       "                        <th id=\"T_1f28d49a_c0ad_11ed_bdbb_96000040dfb6level0_row13\" class=\"row_heading level0 row13\" >France</th>\n",
       "                        <td id=\"T_1f28d49a_c0ad_11ed_bdbb_96000040dfb6row13_col0\" class=\"data row13 col0\" >362</td>\n",
       "                        <td id=\"T_1f28d49a_c0ad_11ed_bdbb_96000040dfb6row13_col1\" class=\"data row13 col1\" >25</td>\n",
       "                        <td id=\"T_1f28d49a_c0ad_11ed_bdbb_96000040dfb6row13_col2\" class=\"data row13 col2\" >387</td>\n",
       "            </tr>\n",
       "            <tr>\n",
       "                        <th id=\"T_1f28d49a_c0ad_11ed_bdbb_96000040dfb6level0_row14\" class=\"row_heading level0 row14\" >Germany</th>\n",
       "                        <td id=\"T_1f28d49a_c0ad_11ed_bdbb_96000040dfb6row14_col0\" class=\"data row14 col0\" >184</td>\n",
       "                        <td id=\"T_1f28d49a_c0ad_11ed_bdbb_96000040dfb6row14_col1\" class=\"data row14 col1\" >6</td>\n",
       "                        <td id=\"T_1f28d49a_c0ad_11ed_bdbb_96000040dfb6row14_col2\" class=\"data row14 col2\" >190</td>\n",
       "            </tr>\n",
       "            <tr>\n",
       "                        <th id=\"T_1f28d49a_c0ad_11ed_bdbb_96000040dfb6level0_row15\" class=\"row_heading level0 row15\" >India</th>\n",
       "                        <td id=\"T_1f28d49a_c0ad_11ed_bdbb_96000040dfb6row15_col0\" class=\"data row15 col0\" >4</td>\n",
       "                        <td id=\"T_1f28d49a_c0ad_11ed_bdbb_96000040dfb6row15_col1\" class=\"data row15 col1\" >2</td>\n",
       "                        <td id=\"T_1f28d49a_c0ad_11ed_bdbb_96000040dfb6row15_col2\" class=\"data row15 col2\" >6</td>\n",
       "            </tr>\n",
       "            <tr>\n",
       "                        <th id=\"T_1f28d49a_c0ad_11ed_bdbb_96000040dfb6level0_row16\" class=\"row_heading level0 row16\" >Israel</th>\n",
       "                        <td id=\"T_1f28d49a_c0ad_11ed_bdbb_96000040dfb6row16_col0\" class=\"data row16 col0\" >100</td>\n",
       "                        <td id=\"T_1f28d49a_c0ad_11ed_bdbb_96000040dfb6row16_col1\" class=\"data row16 col1\" >17</td>\n",
       "                        <td id=\"T_1f28d49a_c0ad_11ed_bdbb_96000040dfb6row16_col2\" class=\"data row16 col2\" >117</td>\n",
       "            </tr>\n",
       "            <tr>\n",
       "                        <th id=\"T_1f28d49a_c0ad_11ed_bdbb_96000040dfb6level0_row17\" class=\"row_heading level0 row17\" >Italy</th>\n",
       "                        <td id=\"T_1f28d49a_c0ad_11ed_bdbb_96000040dfb6row17_col0\" class=\"data row17 col0\" >334</td>\n",
       "                        <td id=\"T_1f28d49a_c0ad_11ed_bdbb_96000040dfb6row17_col1\" class=\"data row17 col1\" >53</td>\n",
       "                        <td id=\"T_1f28d49a_c0ad_11ed_bdbb_96000040dfb6row17_col2\" class=\"data row17 col2\" >387</td>\n",
       "            </tr>\n",
       "            <tr>\n",
       "                        <th id=\"T_1f28d49a_c0ad_11ed_bdbb_96000040dfb6level0_row18\" class=\"row_heading level0 row18\" >Jamaica</th>\n",
       "                        <td id=\"T_1f28d49a_c0ad_11ed_bdbb_96000040dfb6row18_col0\" class=\"data row18 col0\" >1</td>\n",
       "                        <td id=\"T_1f28d49a_c0ad_11ed_bdbb_96000040dfb6row18_col1\" class=\"data row18 col1\" >0</td>\n",
       "                        <td id=\"T_1f28d49a_c0ad_11ed_bdbb_96000040dfb6row18_col2\" class=\"data row18 col2\" >1</td>\n",
       "            </tr>\n",
       "            <tr>\n",
       "                        <th id=\"T_1f28d49a_c0ad_11ed_bdbb_96000040dfb6level0_row19\" class=\"row_heading level0 row19\" >Kyrgyzstan</th>\n",
       "                        <td id=\"T_1f28d49a_c0ad_11ed_bdbb_96000040dfb6row19_col0\" class=\"data row19 col0\" >1</td>\n",
       "                        <td id=\"T_1f28d49a_c0ad_11ed_bdbb_96000040dfb6row19_col1\" class=\"data row19 col1\" >0</td>\n",
       "                        <td id=\"T_1f28d49a_c0ad_11ed_bdbb_96000040dfb6row19_col2\" class=\"data row19 col2\" >1</td>\n",
       "            </tr>\n",
       "            <tr>\n",
       "                        <th id=\"T_1f28d49a_c0ad_11ed_bdbb_96000040dfb6level0_row20\" class=\"row_heading level0 row20\" >Mexico</th>\n",
       "                        <td id=\"T_1f28d49a_c0ad_11ed_bdbb_96000040dfb6row20_col0\" class=\"data row20 col0\" >4</td>\n",
       "                        <td id=\"T_1f28d49a_c0ad_11ed_bdbb_96000040dfb6row20_col1\" class=\"data row20 col1\" >0</td>\n",
       "                        <td id=\"T_1f28d49a_c0ad_11ed_bdbb_96000040dfb6row20_col2\" class=\"data row20 col2\" >4</td>\n",
       "            </tr>\n",
       "            <tr>\n",
       "                        <th id=\"T_1f28d49a_c0ad_11ed_bdbb_96000040dfb6level0_row21\" class=\"row_heading level0 row21\" >Moldova, Republic of</th>\n",
       "                        <td id=\"T_1f28d49a_c0ad_11ed_bdbb_96000040dfb6row21_col0\" class=\"data row21 col0\" >1</td>\n",
       "                        <td id=\"T_1f28d49a_c0ad_11ed_bdbb_96000040dfb6row21_col1\" class=\"data row21 col1\" >0</td>\n",
       "                        <td id=\"T_1f28d49a_c0ad_11ed_bdbb_96000040dfb6row21_col2\" class=\"data row21 col2\" >1</td>\n",
       "            </tr>\n",
       "            <tr>\n",
       "                        <th id=\"T_1f28d49a_c0ad_11ed_bdbb_96000040dfb6level0_row22\" class=\"row_heading level0 row22\" >Panama</th>\n",
       "                        <td id=\"T_1f28d49a_c0ad_11ed_bdbb_96000040dfb6row22_col0\" class=\"data row22 col0\" >1</td>\n",
       "                        <td id=\"T_1f28d49a_c0ad_11ed_bdbb_96000040dfb6row22_col1\" class=\"data row22 col1\" >0</td>\n",
       "                        <td id=\"T_1f28d49a_c0ad_11ed_bdbb_96000040dfb6row22_col2\" class=\"data row22 col2\" >1</td>\n",
       "            </tr>\n",
       "            <tr>\n",
       "                        <th id=\"T_1f28d49a_c0ad_11ed_bdbb_96000040dfb6level0_row23\" class=\"row_heading level0 row23\" >Peru</th>\n",
       "                        <td id=\"T_1f28d49a_c0ad_11ed_bdbb_96000040dfb6row23_col0\" class=\"data row23 col0\" >1</td>\n",
       "                        <td id=\"T_1f28d49a_c0ad_11ed_bdbb_96000040dfb6row23_col1\" class=\"data row23 col1\" >0</td>\n",
       "                        <td id=\"T_1f28d49a_c0ad_11ed_bdbb_96000040dfb6row23_col2\" class=\"data row23 col2\" >1</td>\n",
       "            </tr>\n",
       "            <tr>\n",
       "                        <th id=\"T_1f28d49a_c0ad_11ed_bdbb_96000040dfb6level0_row24\" class=\"row_heading level0 row24\" >Philippines</th>\n",
       "                        <td id=\"T_1f28d49a_c0ad_11ed_bdbb_96000040dfb6row24_col0\" class=\"data row24 col0\" >1</td>\n",
       "                        <td id=\"T_1f28d49a_c0ad_11ed_bdbb_96000040dfb6row24_col1\" class=\"data row24 col1\" >0</td>\n",
       "                        <td id=\"T_1f28d49a_c0ad_11ed_bdbb_96000040dfb6row24_col2\" class=\"data row24 col2\" >1</td>\n",
       "            </tr>\n",
       "            <tr>\n",
       "                        <th id=\"T_1f28d49a_c0ad_11ed_bdbb_96000040dfb6level0_row25\" class=\"row_heading level0 row25\" >Portugal</th>\n",
       "                        <td id=\"T_1f28d49a_c0ad_11ed_bdbb_96000040dfb6row25_col0\" class=\"data row25 col0\" >99</td>\n",
       "                        <td id=\"T_1f28d49a_c0ad_11ed_bdbb_96000040dfb6row25_col1\" class=\"data row25 col1\" >3</td>\n",
       "                        <td id=\"T_1f28d49a_c0ad_11ed_bdbb_96000040dfb6row25_col2\" class=\"data row25 col2\" >102</td>\n",
       "            </tr>\n",
       "            <tr>\n",
       "                        <th id=\"T_1f28d49a_c0ad_11ed_bdbb_96000040dfb6level0_row26\" class=\"row_heading level0 row26\" >Puerto Rico</th>\n",
       "                        <td id=\"T_1f28d49a_c0ad_11ed_bdbb_96000040dfb6row26_col0\" class=\"data row26 col0\" >2</td>\n",
       "                        <td id=\"T_1f28d49a_c0ad_11ed_bdbb_96000040dfb6row26_col1\" class=\"data row26 col1\" >0</td>\n",
       "                        <td id=\"T_1f28d49a_c0ad_11ed_bdbb_96000040dfb6row26_col2\" class=\"data row26 col2\" >2</td>\n",
       "            </tr>\n",
       "            <tr>\n",
       "                        <th id=\"T_1f28d49a_c0ad_11ed_bdbb_96000040dfb6level0_row27\" class=\"row_heading level0 row27\" >Qatar</th>\n",
       "                        <td id=\"T_1f28d49a_c0ad_11ed_bdbb_96000040dfb6row27_col0\" class=\"data row27 col0\" >1</td>\n",
       "                        <td id=\"T_1f28d49a_c0ad_11ed_bdbb_96000040dfb6row27_col1\" class=\"data row27 col1\" >0</td>\n",
       "                        <td id=\"T_1f28d49a_c0ad_11ed_bdbb_96000040dfb6row27_col2\" class=\"data row27 col2\" >1</td>\n",
       "            </tr>\n",
       "            <tr>\n",
       "                        <th id=\"T_1f28d49a_c0ad_11ed_bdbb_96000040dfb6level0_row28\" class=\"row_heading level0 row28\" >Romania</th>\n",
       "                        <td id=\"T_1f28d49a_c0ad_11ed_bdbb_96000040dfb6row28_col0\" class=\"data row28 col0\" >1</td>\n",
       "                        <td id=\"T_1f28d49a_c0ad_11ed_bdbb_96000040dfb6row28_col1\" class=\"data row28 col1\" >0</td>\n",
       "                        <td id=\"T_1f28d49a_c0ad_11ed_bdbb_96000040dfb6row28_col2\" class=\"data row28 col2\" >1</td>\n",
       "            </tr>\n",
       "            <tr>\n",
       "                        <th id=\"T_1f28d49a_c0ad_11ed_bdbb_96000040dfb6level0_row29\" class=\"row_heading level0 row29\" >Russian Federation</th>\n",
       "                        <td id=\"T_1f28d49a_c0ad_11ed_bdbb_96000040dfb6row29_col0\" class=\"data row29 col0\" >8</td>\n",
       "                        <td id=\"T_1f28d49a_c0ad_11ed_bdbb_96000040dfb6row29_col1\" class=\"data row29 col1\" >0</td>\n",
       "                        <td id=\"T_1f28d49a_c0ad_11ed_bdbb_96000040dfb6row29_col2\" class=\"data row29 col2\" >8</td>\n",
       "            </tr>\n",
       "            <tr>\n",
       "                        <th id=\"T_1f28d49a_c0ad_11ed_bdbb_96000040dfb6level0_row30\" class=\"row_heading level0 row30\" >Spain</th>\n",
       "                        <td id=\"T_1f28d49a_c0ad_11ed_bdbb_96000040dfb6row30_col0\" class=\"data row30 col0\" >337</td>\n",
       "                        <td id=\"T_1f28d49a_c0ad_11ed_bdbb_96000040dfb6row30_col1\" class=\"data row30 col1\" >10</td>\n",
       "                        <td id=\"T_1f28d49a_c0ad_11ed_bdbb_96000040dfb6row30_col2\" class=\"data row30 col2\" >347</td>\n",
       "            </tr>\n",
       "            <tr>\n",
       "                        <th id=\"T_1f28d49a_c0ad_11ed_bdbb_96000040dfb6level0_row31\" class=\"row_heading level0 row31\" >Sweden</th>\n",
       "                        <td id=\"T_1f28d49a_c0ad_11ed_bdbb_96000040dfb6row31_col0\" class=\"data row31 col0\" >1</td>\n",
       "                        <td id=\"T_1f28d49a_c0ad_11ed_bdbb_96000040dfb6row31_col1\" class=\"data row31 col1\" >0</td>\n",
       "                        <td id=\"T_1f28d49a_c0ad_11ed_bdbb_96000040dfb6row31_col2\" class=\"data row31 col2\" >1</td>\n",
       "            </tr>\n",
       "            <tr>\n",
       "                        <th id=\"T_1f28d49a_c0ad_11ed_bdbb_96000040dfb6level0_row32\" class=\"row_heading level0 row32\" >Switzerland</th>\n",
       "                        <td id=\"T_1f28d49a_c0ad_11ed_bdbb_96000040dfb6row32_col0\" class=\"data row32 col0\" >41</td>\n",
       "                        <td id=\"T_1f28d49a_c0ad_11ed_bdbb_96000040dfb6row32_col1\" class=\"data row32 col1\" >1</td>\n",
       "                        <td id=\"T_1f28d49a_c0ad_11ed_bdbb_96000040dfb6row32_col2\" class=\"data row32 col2\" >42</td>\n",
       "            </tr>\n",
       "            <tr>\n",
       "                        <th id=\"T_1f28d49a_c0ad_11ed_bdbb_96000040dfb6level0_row33\" class=\"row_heading level0 row33\" >Tunisia</th>\n",
       "                        <td id=\"T_1f28d49a_c0ad_11ed_bdbb_96000040dfb6row33_col0\" class=\"data row33 col0\" >3</td>\n",
       "                        <td id=\"T_1f28d49a_c0ad_11ed_bdbb_96000040dfb6row33_col1\" class=\"data row33 col1\" >0</td>\n",
       "                        <td id=\"T_1f28d49a_c0ad_11ed_bdbb_96000040dfb6row33_col2\" class=\"data row33 col2\" >3</td>\n",
       "            </tr>\n",
       "            <tr>\n",
       "                        <th id=\"T_1f28d49a_c0ad_11ed_bdbb_96000040dfb6level0_row34\" class=\"row_heading level0 row34\" >Turkey</th>\n",
       "                        <td id=\"T_1f28d49a_c0ad_11ed_bdbb_96000040dfb6row34_col0\" class=\"data row34 col0\" >5</td>\n",
       "                        <td id=\"T_1f28d49a_c0ad_11ed_bdbb_96000040dfb6row34_col1\" class=\"data row34 col1\" >6</td>\n",
       "                        <td id=\"T_1f28d49a_c0ad_11ed_bdbb_96000040dfb6row34_col2\" class=\"data row34 col2\" >11</td>\n",
       "            </tr>\n",
       "            <tr>\n",
       "                        <th id=\"T_1f28d49a_c0ad_11ed_bdbb_96000040dfb6level0_row35\" class=\"row_heading level0 row35\" >Ukraine</th>\n",
       "                        <td id=\"T_1f28d49a_c0ad_11ed_bdbb_96000040dfb6row35_col0\" class=\"data row35 col0\" >8</td>\n",
       "                        <td id=\"T_1f28d49a_c0ad_11ed_bdbb_96000040dfb6row35_col1\" class=\"data row35 col1\" >0</td>\n",
       "                        <td id=\"T_1f28d49a_c0ad_11ed_bdbb_96000040dfb6row35_col2\" class=\"data row35 col2\" >8</td>\n",
       "            </tr>\n",
       "            <tr>\n",
       "                        <th id=\"T_1f28d49a_c0ad_11ed_bdbb_96000040dfb6level0_row36\" class=\"row_heading level0 row36\" >United Arab Emirates</th>\n",
       "                        <td id=\"T_1f28d49a_c0ad_11ed_bdbb_96000040dfb6row36_col0\" class=\"data row36 col0\" >205</td>\n",
       "                        <td id=\"T_1f28d49a_c0ad_11ed_bdbb_96000040dfb6row36_col1\" class=\"data row36 col1\" >7</td>\n",
       "                        <td id=\"T_1f28d49a_c0ad_11ed_bdbb_96000040dfb6row36_col2\" class=\"data row36 col2\" >212</td>\n",
       "            </tr>\n",
       "            <tr>\n",
       "                        <th id=\"T_1f28d49a_c0ad_11ed_bdbb_96000040dfb6level0_row37\" class=\"row_heading level0 row37\" >United Kingdom (Great Britain)</th>\n",
       "                        <td id=\"T_1f28d49a_c0ad_11ed_bdbb_96000040dfb6row37_col0\" class=\"data row37 col0\" >152</td>\n",
       "                        <td id=\"T_1f28d49a_c0ad_11ed_bdbb_96000040dfb6row37_col1\" class=\"data row37 col1\" >14</td>\n",
       "                        <td id=\"T_1f28d49a_c0ad_11ed_bdbb_96000040dfb6row37_col2\" class=\"data row37 col2\" >166</td>\n",
       "            </tr>\n",
       "            <tr>\n",
       "                        <th id=\"T_1f28d49a_c0ad_11ed_bdbb_96000040dfb6level0_row38\" class=\"row_heading level0 row38\" >United States of America</th>\n",
       "                        <td id=\"T_1f28d49a_c0ad_11ed_bdbb_96000040dfb6row38_col0\" class=\"data row38 col0\" >1462</td>\n",
       "                        <td id=\"T_1f28d49a_c0ad_11ed_bdbb_96000040dfb6row38_col1\" class=\"data row38 col1\" >54</td>\n",
       "                        <td id=\"T_1f28d49a_c0ad_11ed_bdbb_96000040dfb6row38_col2\" class=\"data row38 col2\" >1516</td>\n",
       "            </tr>\n",
       "            <tr>\n",
       "                        <th id=\"T_1f28d49a_c0ad_11ed_bdbb_96000040dfb6level0_row39\" class=\"row_heading level0 row39\" >Venezuela</th>\n",
       "                        <td id=\"T_1f28d49a_c0ad_11ed_bdbb_96000040dfb6row39_col0\" class=\"data row39 col0\" >2</td>\n",
       "                        <td id=\"T_1f28d49a_c0ad_11ed_bdbb_96000040dfb6row39_col1\" class=\"data row39 col1\" >0</td>\n",
       "                        <td id=\"T_1f28d49a_c0ad_11ed_bdbb_96000040dfb6row39_col2\" class=\"data row39 col2\" >2</td>\n",
       "            </tr>\n",
       "            <tr>\n",
       "                        <th id=\"T_1f28d49a_c0ad_11ed_bdbb_96000040dfb6level0_row40\" class=\"row_heading level0 row40\" >All</th>\n",
       "                        <td id=\"T_1f28d49a_c0ad_11ed_bdbb_96000040dfb6row40_col0\" class=\"data row40 col0\" >4290</td>\n",
       "                        <td id=\"T_1f28d49a_c0ad_11ed_bdbb_96000040dfb6row40_col1\" class=\"data row40 col1\" >234</td>\n",
       "                        <td id=\"T_1f28d49a_c0ad_11ed_bdbb_96000040dfb6row40_col2\" class=\"data row40 col2\" >4524</td>\n",
       "            </tr>\n",
       "    </tbody></table>"
      ],
      "text/plain": [
       "<pandas.io.formats.style.Styler at 0x7f0e4c70d198>"
      ]
     },
     "execution_count": 118,
     "metadata": {},
     "output_type": "execute_result"
    }
   ],
   "source": [
    "#попробуем выясния влияние страны на наличие платной подписки\n",
    "pd.crosstab(df_cont_1_join.country_x, df_cont_1_join.buy_premium, margins=True)\\\n",
    "            .style.background_gradient(cmap='autumn_r')"
   ]
  },
  {
   "cell_type": "markdown",
   "metadata": {},
   "source": [
    "Явно вырываются пользователи из United States of America и Italy. Для большинства остальных стран, данных очень мало, что не дает возможности дать какую-либо оценку. Попробуем учесть метрики в разрезе стран, в дальнейшейм, для проверки системы сплитования."
   ]
  },
  {
   "cell_type": "code",
   "execution_count": 119,
   "metadata": {},
   "outputs": [],
   "source": [
    "# заменим пустые значения на 0\n",
    "df_users_control_1.was_premium = df_users_control_1.was_premium.fillna(0);"
   ]
  },
  {
   "cell_type": "code",
   "execution_count": 120,
   "metadata": {},
   "outputs": [],
   "source": [
    "# поменяем тип данных\n",
    "df_users_control_1.was_premium = df_users_control_1.was_premium.astype('int');"
   ]
  },
  {
   "cell_type": "code",
   "execution_count": 121,
   "metadata": {
    "scrolled": true
   },
   "outputs": [
    {
     "data": {
      "text/html": [
       "<style  type=\"text/css\" >\n",
       "#T_1f28d49b_c0ad_11ed_bdbb_96000040dfb6row0_col0{\n",
       "            background-color:  #ff0f00;\n",
       "            color:  #f1f1f1;\n",
       "        }#T_1f28d49b_c0ad_11ed_bdbb_96000040dfb6row0_col1,#T_1f28d49b_c0ad_11ed_bdbb_96000040dfb6row1_col0,#T_1f28d49b_c0ad_11ed_bdbb_96000040dfb6row1_col2{\n",
       "            background-color:  #ffff00;\n",
       "            color:  #000000;\n",
       "        }#T_1f28d49b_c0ad_11ed_bdbb_96000040dfb6row0_col2{\n",
       "            background-color:  #ff1c00;\n",
       "            color:  #f1f1f1;\n",
       "        }#T_1f28d49b_c0ad_11ed_bdbb_96000040dfb6row1_col1,#T_1f28d49b_c0ad_11ed_bdbb_96000040dfb6row2_col0,#T_1f28d49b_c0ad_11ed_bdbb_96000040dfb6row2_col1,#T_1f28d49b_c0ad_11ed_bdbb_96000040dfb6row2_col2{\n",
       "            background-color:  #ff0000;\n",
       "            color:  #f1f1f1;\n",
       "        }</style><table id=\"T_1f28d49b_c0ad_11ed_bdbb_96000040dfb6\" ><thead>    <tr>        <th class=\"index_name level0\" >is_premium</th>        <th class=\"col_heading level0 col0\" >0</th>        <th class=\"col_heading level0 col1\" >1</th>        <th class=\"col_heading level0 col2\" >All</th>    </tr>    <tr>        <th class=\"index_name level0\" >was_premium</th>        <th class=\"blank\" ></th>        <th class=\"blank\" ></th>        <th class=\"blank\" ></th>    </tr></thead><tbody>\n",
       "                <tr>\n",
       "                        <th id=\"T_1f28d49b_c0ad_11ed_bdbb_96000040dfb6level0_row0\" class=\"row_heading level0 row0\" >0</th>\n",
       "                        <td id=\"T_1f28d49b_c0ad_11ed_bdbb_96000040dfb6row0_col0\" class=\"data row0 col0\" >3904</td>\n",
       "                        <td id=\"T_1f28d49b_c0ad_11ed_bdbb_96000040dfb6row0_col1\" class=\"data row0 col1\" >0</td>\n",
       "                        <td id=\"T_1f28d49b_c0ad_11ed_bdbb_96000040dfb6row0_col2\" class=\"data row0 col2\" >3904</td>\n",
       "            </tr>\n",
       "            <tr>\n",
       "                        <th id=\"T_1f28d49b_c0ad_11ed_bdbb_96000040dfb6level0_row1\" class=\"row_heading level0 row1\" >1</th>\n",
       "                        <td id=\"T_1f28d49b_c0ad_11ed_bdbb_96000040dfb6row1_col0\" class=\"data row1 col0\" >244</td>\n",
       "                        <td id=\"T_1f28d49b_c0ad_11ed_bdbb_96000040dfb6row1_col1\" class=\"data row1 col1\" >192</td>\n",
       "                        <td id=\"T_1f28d49b_c0ad_11ed_bdbb_96000040dfb6row1_col2\" class=\"data row1 col2\" >436</td>\n",
       "            </tr>\n",
       "            <tr>\n",
       "                        <th id=\"T_1f28d49b_c0ad_11ed_bdbb_96000040dfb6level0_row2\" class=\"row_heading level0 row2\" >All</th>\n",
       "                        <td id=\"T_1f28d49b_c0ad_11ed_bdbb_96000040dfb6row2_col0\" class=\"data row2 col0\" >4148</td>\n",
       "                        <td id=\"T_1f28d49b_c0ad_11ed_bdbb_96000040dfb6row2_col1\" class=\"data row2 col1\" >192</td>\n",
       "                        <td id=\"T_1f28d49b_c0ad_11ed_bdbb_96000040dfb6row2_col2\" class=\"data row2 col2\" >4340</td>\n",
       "            </tr>\n",
       "    </tbody></table>"
      ],
      "text/plain": [
       "<pandas.io.formats.style.Styler at 0x7f0e6f5d68d0>"
      ]
     },
     "execution_count": 121,
     "metadata": {},
     "output_type": "execute_result"
    }
   ],
   "source": [
    "pd.crosstab(df_users_control_1.was_premium, df_users_control_1.is_premium, margins=True)\\\n",
    "            .style.background_gradient(cmap='autumn_r')"
   ]
  },
  {
   "cell_type": "code",
   "execution_count": 122,
   "metadata": {},
   "outputs": [],
   "source": [
    "df_users_control_2.is_premium = df_users_control_2.is_premium.fillna(0);"
   ]
  },
  {
   "cell_type": "code",
   "execution_count": 123,
   "metadata": {},
   "outputs": [],
   "source": [
    "# заменим пустые значения на 0\n",
    "df_users_control_2.was_premium = df_users_control_2.was_premium.fillna(0);\n",
    "df_users_control_2.is_premium = df_users_control_2.is_premium.fillna(0);\n",
    "df_users_test.is_premium = df_users_test.is_premium.fillna(0);\n",
    "df_users_test.was_premium = df_users_test.was_premium.fillna(0);"
   ]
  },
  {
   "cell_type": "code",
   "execution_count": 124,
   "metadata": {},
   "outputs": [],
   "source": [
    "# поменяем тип данных\n",
    "df_users_control_2.was_premium = df_users_control_2.was_premium.astype('int');\n",
    "df_users_control_2.is_premium = df_users_control_2.is_premium.astype('int');\n",
    "df_users_test.was_premium = df_users_test.was_premium.astype('int');\n",
    "df_users_test.is_premium = df_users_test.is_premium.astype('int');"
   ]
  },
  {
   "cell_type": "markdown",
   "metadata": {},
   "source": [
    "судя по данным, премиум есть только у тех, кто оформлял его ранее, либо пользовался пробным периодом. Попробуем посмотреть дынный разрез на других группах."
   ]
  },
  {
   "cell_type": "code",
   "execution_count": 125,
   "metadata": {
    "scrolled": true
   },
   "outputs": [
    {
     "data": {
      "text/html": [
       "<style  type=\"text/css\" >\n",
       "#T_1f28d49c_c0ad_11ed_bdbb_96000040dfb6row0_col0{\n",
       "            background-color:  #ff0e00;\n",
       "            color:  #f1f1f1;\n",
       "        }#T_1f28d49c_c0ad_11ed_bdbb_96000040dfb6row0_col1,#T_1f28d49c_c0ad_11ed_bdbb_96000040dfb6row1_col0,#T_1f28d49c_c0ad_11ed_bdbb_96000040dfb6row1_col2{\n",
       "            background-color:  #ffff00;\n",
       "            color:  #000000;\n",
       "        }#T_1f28d49c_c0ad_11ed_bdbb_96000040dfb6row0_col2{\n",
       "            background-color:  #ff1b00;\n",
       "            color:  #f1f1f1;\n",
       "        }#T_1f28d49c_c0ad_11ed_bdbb_96000040dfb6row1_col1,#T_1f28d49c_c0ad_11ed_bdbb_96000040dfb6row2_col0,#T_1f28d49c_c0ad_11ed_bdbb_96000040dfb6row2_col1,#T_1f28d49c_c0ad_11ed_bdbb_96000040dfb6row2_col2{\n",
       "            background-color:  #ff0000;\n",
       "            color:  #f1f1f1;\n",
       "        }</style><table id=\"T_1f28d49c_c0ad_11ed_bdbb_96000040dfb6\" ><thead>    <tr>        <th class=\"index_name level0\" >is_premium</th>        <th class=\"col_heading level0 col0\" >0</th>        <th class=\"col_heading level0 col1\" >1</th>        <th class=\"col_heading level0 col2\" >All</th>    </tr>    <tr>        <th class=\"index_name level0\" >was_premium</th>        <th class=\"blank\" ></th>        <th class=\"blank\" ></th>        <th class=\"blank\" ></th>    </tr></thead><tbody>\n",
       "                <tr>\n",
       "                        <th id=\"T_1f28d49c_c0ad_11ed_bdbb_96000040dfb6level0_row0\" class=\"row_heading level0 row0\" >0</th>\n",
       "                        <td id=\"T_1f28d49c_c0ad_11ed_bdbb_96000040dfb6row0_col0\" class=\"data row0 col0\" >3853</td>\n",
       "                        <td id=\"T_1f28d49c_c0ad_11ed_bdbb_96000040dfb6row0_col1\" class=\"data row0 col1\" >0</td>\n",
       "                        <td id=\"T_1f28d49c_c0ad_11ed_bdbb_96000040dfb6row0_col2\" class=\"data row0 col2\" >3853</td>\n",
       "            </tr>\n",
       "            <tr>\n",
       "                        <th id=\"T_1f28d49c_c0ad_11ed_bdbb_96000040dfb6level0_row1\" class=\"row_heading level0 row1\" >1</th>\n",
       "                        <td id=\"T_1f28d49c_c0ad_11ed_bdbb_96000040dfb6row1_col0\" class=\"data row1 col0\" >220</td>\n",
       "                        <td id=\"T_1f28d49c_c0ad_11ed_bdbb_96000040dfb6row1_col1\" class=\"data row1 col1\" >191</td>\n",
       "                        <td id=\"T_1f28d49c_c0ad_11ed_bdbb_96000040dfb6row1_col2\" class=\"data row1 col2\" >411</td>\n",
       "            </tr>\n",
       "            <tr>\n",
       "                        <th id=\"T_1f28d49c_c0ad_11ed_bdbb_96000040dfb6level0_row2\" class=\"row_heading level0 row2\" >All</th>\n",
       "                        <td id=\"T_1f28d49c_c0ad_11ed_bdbb_96000040dfb6row2_col0\" class=\"data row2 col0\" >4073</td>\n",
       "                        <td id=\"T_1f28d49c_c0ad_11ed_bdbb_96000040dfb6row2_col1\" class=\"data row2 col1\" >191</td>\n",
       "                        <td id=\"T_1f28d49c_c0ad_11ed_bdbb_96000040dfb6row2_col2\" class=\"data row2 col2\" >4264</td>\n",
       "            </tr>\n",
       "    </tbody></table>"
      ],
      "text/plain": [
       "<pandas.io.formats.style.Styler at 0x7f0e6f5d62b0>"
      ]
     },
     "execution_count": 125,
     "metadata": {},
     "output_type": "execute_result"
    }
   ],
   "source": [
    "pd.crosstab(df_users_control_2.was_premium, df_users_control_2.is_premium, margins=True)\\\n",
    "            .style.background_gradient(cmap='autumn_r')"
   ]
  },
  {
   "cell_type": "code",
   "execution_count": 126,
   "metadata": {
    "scrolled": true
   },
   "outputs": [
    {
     "data": {
      "text/html": [
       "<style  type=\"text/css\" >\n",
       "#T_1f28d49d_c0ad_11ed_bdbb_96000040dfb6row0_col0{\n",
       "            background-color:  #ff1000;\n",
       "            color:  #f1f1f1;\n",
       "        }#T_1f28d49d_c0ad_11ed_bdbb_96000040dfb6row0_col1,#T_1f28d49d_c0ad_11ed_bdbb_96000040dfb6row1_col0,#T_1f28d49d_c0ad_11ed_bdbb_96000040dfb6row1_col2{\n",
       "            background-color:  #ffff00;\n",
       "            color:  #000000;\n",
       "        }#T_1f28d49d_c0ad_11ed_bdbb_96000040dfb6row0_col2{\n",
       "            background-color:  #ff1a00;\n",
       "            color:  #f1f1f1;\n",
       "        }#T_1f28d49d_c0ad_11ed_bdbb_96000040dfb6row1_col1,#T_1f28d49d_c0ad_11ed_bdbb_96000040dfb6row2_col0,#T_1f28d49d_c0ad_11ed_bdbb_96000040dfb6row2_col1,#T_1f28d49d_c0ad_11ed_bdbb_96000040dfb6row2_col2{\n",
       "            background-color:  #ff0000;\n",
       "            color:  #f1f1f1;\n",
       "        }</style><table id=\"T_1f28d49d_c0ad_11ed_bdbb_96000040dfb6\" ><thead>    <tr>        <th class=\"index_name level0\" >is_premium</th>        <th class=\"col_heading level0 col0\" >0</th>        <th class=\"col_heading level0 col1\" >1</th>        <th class=\"col_heading level0 col2\" >All</th>    </tr>    <tr>        <th class=\"index_name level0\" >was_premium</th>        <th class=\"blank\" ></th>        <th class=\"blank\" ></th>        <th class=\"blank\" ></th>    </tr></thead><tbody>\n",
       "                <tr>\n",
       "                        <th id=\"T_1f28d49d_c0ad_11ed_bdbb_96000040dfb6level0_row0\" class=\"row_heading level0 row0\" >0</th>\n",
       "                        <td id=\"T_1f28d49d_c0ad_11ed_bdbb_96000040dfb6row0_col0\" class=\"data row0 col0\" >3900</td>\n",
       "                        <td id=\"T_1f28d49d_c0ad_11ed_bdbb_96000040dfb6row0_col1\" class=\"data row0 col1\" >0</td>\n",
       "                        <td id=\"T_1f28d49d_c0ad_11ed_bdbb_96000040dfb6row0_col2\" class=\"data row0 col2\" >3900</td>\n",
       "            </tr>\n",
       "            <tr>\n",
       "                        <th id=\"T_1f28d49d_c0ad_11ed_bdbb_96000040dfb6level0_row1\" class=\"row_heading level0 row1\" >1</th>\n",
       "                        <td id=\"T_1f28d49d_c0ad_11ed_bdbb_96000040dfb6row1_col0\" class=\"data row1 col0\" >251</td>\n",
       "                        <td id=\"T_1f28d49d_c0ad_11ed_bdbb_96000040dfb6row1_col1\" class=\"data row1 col1\" >157</td>\n",
       "                        <td id=\"T_1f28d49d_c0ad_11ed_bdbb_96000040dfb6row1_col2\" class=\"data row1 col2\" >408</td>\n",
       "            </tr>\n",
       "            <tr>\n",
       "                        <th id=\"T_1f28d49d_c0ad_11ed_bdbb_96000040dfb6level0_row2\" class=\"row_heading level0 row2\" >All</th>\n",
       "                        <td id=\"T_1f28d49d_c0ad_11ed_bdbb_96000040dfb6row2_col0\" class=\"data row2 col0\" >4151</td>\n",
       "                        <td id=\"T_1f28d49d_c0ad_11ed_bdbb_96000040dfb6row2_col1\" class=\"data row2 col1\" >157</td>\n",
       "                        <td id=\"T_1f28d49d_c0ad_11ed_bdbb_96000040dfb6row2_col2\" class=\"data row2 col2\" >4308</td>\n",
       "            </tr>\n",
       "    </tbody></table>"
      ],
      "text/plain": [
       "<pandas.io.formats.style.Styler at 0x7f0e4c6c6a90>"
      ]
     },
     "execution_count": 126,
     "metadata": {},
     "output_type": "execute_result"
    }
   ],
   "source": [
    "pd.crosstab(df_users_test.was_premium, df_users_test.is_premium, margins=True).style.background_gradient(cmap='autumn_r')"
   ]
  },
  {
   "cell_type": "markdown",
   "metadata": {},
   "source": [
    "такая же тенденция сохраняется и в остальных группах.\n",
    "\n",
    "### Промежуточный вывод. Судя по данным во всех группах, подписка премиум есть только у тех пользователей, у которых подписка уже была ранее, либо у тех кто воспользовался пробным периодом."
   ]
  },
  {
   "cell_type": "markdown",
   "metadata": {},
   "source": [
    "### На этом закончим с разведывательным анализом данных. Результаты промежуточных выводов просто скопирую здесь, что бы обобщить.\n",
    "\n",
    "### Основная платящая аудитория нашего сервиса от 20-35 лет. Следовательно будем оценивать влияние эффекта и метрик именно для данной возрастной категории в первую очередь.\n",
    "\n",
    "### Количество дней визитов и количество просмотров имеют явную положительную зависимость с параметром наличия платной подписки. А так как подписка списывается раз в месяц и при проведении экспериментов мы сможем увидеть результат только через длительное время, то следовательно мы можем оценивать просмотры и посещаемость пользователей и на основании этого делать выводы на значительно более короткой дистанции.\n",
    "\n",
    "###  Судя по данным во всех группах, подписка премиум есть только у тех пользователей, у которых подписка уже была ранее, либо у тех, кто воспользовался пробным периодом.\n",
    "\n",
    "\n",
    "### В дата сете df_transactions_control_1 даты транзакций начинаются от 2016-12-14, думаю стоит исключить транзакции до 2017-01-11. Что бы время проведения эксперимента во всех группах совпадало.\n",
    "\n",
    "P.S. Мне очень понравилось делить количественные переменные на группы и проводить анализ через таблицы сопряженности. Ранее не задумывался, что такой подход может быть настолько удобным и полезным."
   ]
  },
  {
   "cell_type": "markdown",
   "metadata": {},
   "source": [
    "Дальнейший план действий:\n",
    "\n",
    "1. Определить основные метрики.\n",
    "2. Сравнить меткрики во всех группах.\n",
    "3. Провести AA тест, по основным срезам и метрикам.\n",
    "4. Провести A\\B тесты.\n",
    "5. Написать выводы."
   ]
  },
  {
   "cell_type": "markdown",
   "metadata": {},
   "source": [
    "проверим гиппотезу, что стоимость подписки различна только для разных стран. Видимо она различна вне зависимости от страны.\n",
    "предположу, что стоимость зависит от акций, промокодов, времени и др. параметров.\n",
    "на решение поставленной задачи это не влияет."
   ]
  },
  {
   "cell_type": "code",
   "execution_count": 127,
   "metadata": {
    "scrolled": true
   },
   "outputs": [
    {
     "data": {
      "text/html": [
       "<div>\n",
       "<style scoped>\n",
       "    .dataframe tbody tr th:only-of-type {\n",
       "        vertical-align: middle;\n",
       "    }\n",
       "\n",
       "    .dataframe tbody tr th {\n",
       "        vertical-align: top;\n",
       "    }\n",
       "\n",
       "    .dataframe thead th {\n",
       "        text-align: right;\n",
       "    }\n",
       "</style>\n",
       "<table border=\"1\" class=\"dataframe\">\n",
       "  <thead>\n",
       "    <tr style=\"text-align: right;\">\n",
       "      <th></th>\n",
       "      <th>uid</th>\n",
       "      <th>revenue</th>\n",
       "    </tr>\n",
       "  </thead>\n",
       "  <tbody>\n",
       "    <tr>\n",
       "      <th>count</th>\n",
       "      <td>3.300000e+01</td>\n",
       "      <td>33.000000</td>\n",
       "    </tr>\n",
       "    <tr>\n",
       "      <th>mean</th>\n",
       "      <td>8.917951e+08</td>\n",
       "      <td>5505.303030</td>\n",
       "    </tr>\n",
       "    <tr>\n",
       "      <th>std</th>\n",
       "      <td>4.247200e+05</td>\n",
       "      <td>1457.693372</td>\n",
       "    </tr>\n",
       "    <tr>\n",
       "      <th>min</th>\n",
       "      <td>8.911123e+08</td>\n",
       "      <td>2756.000000</td>\n",
       "    </tr>\n",
       "    <tr>\n",
       "      <th>25%</th>\n",
       "      <td>8.913658e+08</td>\n",
       "      <td>4537.000000</td>\n",
       "    </tr>\n",
       "    <tr>\n",
       "      <th>50%</th>\n",
       "      <td>8.918839e+08</td>\n",
       "      <td>4732.000000</td>\n",
       "    </tr>\n",
       "    <tr>\n",
       "      <th>75%</th>\n",
       "      <td>8.921533e+08</td>\n",
       "      <td>6292.000000</td>\n",
       "    </tr>\n",
       "    <tr>\n",
       "      <th>max</th>\n",
       "      <td>8.924355e+08</td>\n",
       "      <td>9360.000000</td>\n",
       "    </tr>\n",
       "  </tbody>\n",
       "</table>\n",
       "</div>"
      ],
      "text/plain": [
       "                uid      revenue\n",
       "count  3.300000e+01    33.000000\n",
       "mean   8.917951e+08  5505.303030\n",
       "std    4.247200e+05  1457.693372\n",
       "min    8.911123e+08  2756.000000\n",
       "25%    8.913658e+08  4537.000000\n",
       "50%    8.918839e+08  4732.000000\n",
       "75%    8.921533e+08  6292.000000\n",
       "max    8.924355e+08  9360.000000"
      ]
     },
     "execution_count": 127,
     "metadata": {},
     "output_type": "execute_result"
    }
   ],
   "source": [
    "df_cont_2_join[(df_cont_2_join.revenue > 0) & \n",
    "               (df_cont_2_join.product_type == 'premium_no_trial') &\n",
    "               (df_cont_2_join.country_x == 'United States of America')\n",
    "              ]\\\n",
    "              [['uid','revenue','paid_at','country_x']]\\\n",
    "              .sort_values(by='revenue', ascending=False).describe()"
   ]
  },
  {
   "cell_type": "code",
   "execution_count": 128,
   "metadata": {
    "scrolled": false
   },
   "outputs": [
    {
     "data": {
      "text/plain": [
       "coins               124\n",
       "premium_no_trial    107\n",
       "trial_premium        53\n",
       "other_type           44\n",
       "Name: product_type, dtype: int64"
      ]
     },
     "execution_count": 128,
     "metadata": {},
     "output_type": "execute_result"
    }
   ],
   "source": [
    "# проверим количество транзакций каждого типа\n",
    "df_cont_2_join.product_type.value_counts()"
   ]
  },
  {
   "cell_type": "markdown",
   "metadata": {},
   "source": [
    "Теперь осталось ответить пару вопросов! Использовать ли нам транзакции, в которых учавствовала внутренняя валюта. Или под каждой транзакцией понимается покупка внутренней валюты? У нас отстутствует информация о том, как ее получить. Надо ли делать задания внутри приложения или приглашать друзей. То есть она существует, что бы увеличить активность пользователей внутри сервиса. Или внутренняя валюта покупается, тогда ее надо учитывать при расчетах. Т.к. решение остается за мной и транзакции с внутренней валютой занимают первое место, то исключать ее нельзя.\n",
    "\n",
    "Буду считать, что каждая транзакция с product_type coins, это покупка внутренней валюты."
   ]
  },
  {
   "cell_type": "markdown",
   "metadata": {},
   "source": [
    "Теперь приступим к расчету и выбору метрик, которые мы будем учитывать и сравнивать. \n",
    "1. Первой посчитаем ARPU=Конверсия⋅ARPPU - средний доход на привлеченного пользователя\n",
    "2. Конверсия = число клиентов / число пользователей\n",
    "\n",
    "\n",
    "   Так же посчитаем конверсию в покупку премиум аккаунта и в остальные траты\n",
    "3. ARPPU = доход / число клиентов - средний доход на платящего пользователя"
   ]
  },
  {
   "cell_type": "code",
   "execution_count": 129,
   "metadata": {},
   "outputs": [],
   "source": [
    "# обнулим дата фрейм\n",
    "df_metrik = pd.DataFrame(columns=['group', 'all_users', 'pay_users','conversion_prem',\n",
    "                                  'conversion_other', 'conversion', 'all_revenue', 'prem_revenue' , 'ARPPU', 'ARPU'])"
   ]
  },
  {
   "cell_type": "code",
   "execution_count": 130,
   "metadata": {},
   "outputs": [],
   "source": [
    "df_cont_1_join.name = 'control_1'\n",
    "df_cont_2_join.name = 'control_2'\n",
    "df_test_join.name = 'test'"
   ]
  },
  {
   "cell_type": "code",
   "execution_count": 131,
   "metadata": {},
   "outputs": [
    {
     "data": {
      "text/html": [
       "<div>\n",
       "<style scoped>\n",
       "    .dataframe tbody tr th:only-of-type {\n",
       "        vertical-align: middle;\n",
       "    }\n",
       "\n",
       "    .dataframe tbody tr th {\n",
       "        vertical-align: top;\n",
       "    }\n",
       "\n",
       "    .dataframe thead th {\n",
       "        text-align: right;\n",
       "    }\n",
       "</style>\n",
       "<table border=\"1\" class=\"dataframe\">\n",
       "  <thead>\n",
       "    <tr style=\"text-align: right;\">\n",
       "      <th></th>\n",
       "      <th>group</th>\n",
       "      <th>all_users</th>\n",
       "      <th>pay_users</th>\n",
       "      <th>conversion_prem</th>\n",
       "      <th>conversion_other</th>\n",
       "      <th>conversion</th>\n",
       "      <th>all_revenue</th>\n",
       "      <th>prem_revenue</th>\n",
       "      <th>ARPPU</th>\n",
       "      <th>ARPU</th>\n",
       "    </tr>\n",
       "  </thead>\n",
       "  <tbody>\n",
       "    <tr>\n",
       "      <th>0</th>\n",
       "      <td>control_1</td>\n",
       "      <td>4340</td>\n",
       "      <td>193</td>\n",
       "      <td>2.3</td>\n",
       "      <td>3.2</td>\n",
       "      <td>4.447</td>\n",
       "      <td>2612311.0</td>\n",
       "      <td>1568866.0</td>\n",
       "      <td>13535.29</td>\n",
       "      <td>601.91</td>\n",
       "    </tr>\n",
       "    <tr>\n",
       "      <th>1</th>\n",
       "      <td>control_2</td>\n",
       "      <td>4264</td>\n",
       "      <td>187</td>\n",
       "      <td>2.4</td>\n",
       "      <td>2.9</td>\n",
       "      <td>4.386</td>\n",
       "      <td>1920438.0</td>\n",
       "      <td>1026558.0</td>\n",
       "      <td>10269.72</td>\n",
       "      <td>450.38</td>\n",
       "    </tr>\n",
       "    <tr>\n",
       "      <th>2</th>\n",
       "      <td>test</td>\n",
       "      <td>4308</td>\n",
       "      <td>146</td>\n",
       "      <td>1.6</td>\n",
       "      <td>2.4</td>\n",
       "      <td>3.389</td>\n",
       "      <td>2344901.0</td>\n",
       "      <td>1202903.0</td>\n",
       "      <td>16060.97</td>\n",
       "      <td>544.31</td>\n",
       "    </tr>\n",
       "  </tbody>\n",
       "</table>\n",
       "</div>"
      ],
      "text/plain": [
       "       group all_users pay_users  conversion_prem  conversion_other  \\\n",
       "0  control_1      4340       193              2.3               3.2   \n",
       "1  control_2      4264       187              2.4               2.9   \n",
       "2       test      4308       146              1.6               2.4   \n",
       "\n",
       "   conversion  all_revenue  prem_revenue     ARPPU    ARPU  \n",
       "0       4.447    2612311.0     1568866.0  13535.29  601.91  \n",
       "1       4.386    1920438.0     1026558.0  10269.72  450.38  \n",
       "2       3.389    2344901.0     1202903.0  16060.97  544.31  "
      ]
     },
     "execution_count": 131,
     "metadata": {},
     "output_type": "execute_result"
    }
   ],
   "source": [
    "metriks_new(df_cont_1_join)\n",
    "metriks_new(df_cont_2_join)\n",
    "metriks_new(df_test_join)"
   ]
  },
  {
   "cell_type": "markdown",
   "metadata": {},
   "source": [
    "### Промежуточный вывод. Если сравнивать контрольные группы, то ARPPU и ARPU сильно отличаются.\n",
    "### Если сравнивать control_1 и test, то средний доход с пользователя вырос, а вот конверсия и ARPU упали, следовательно, нужно привлечь больше пользователей, что бы получить такую же прибыль. \n",
    "\n",
    "\n",
    "### Так же конверсия в покупку премиум аккаунта, так и во все остальные виды покупок упали в тестовой группе.\n",
    "\n",
    "### Общий доход так же упал, вырос только средний чек.\n",
    "\n",
    "### Мысли: Получется, что увеличив стоимость подписки мы добились увеличения среднего чека, но средний привлеченный пользователь стал дороже и конверсия в покупку упала. Мне кажется, что в первую очередь надо думать, как увеличить конверсию. Улучшить сервис, сделать более удобный дизайн. Мораль такова, что увеличение стоимости подписки дает только уменьшение других более важных параметров.\n",
    "\n",
    "### Средний доход с привлеченного пользователя так же падает. Эффективность расходов на рекламу падает. В принципе изначально можно было построить модель unit экономики и не проводить тест. По сути это просто уравнение, если где-то прибыло, то где то убыло, если значение после равенства не поменялось в большую сторону."
   ]
  },
  {
   "cell_type": "markdown",
   "metadata": {},
   "source": [
    "## проведем проверку системы сплитования.\n",
    "\n"
   ]
  },
  {
   "cell_type": "code",
   "execution_count": 132,
   "metadata": {},
   "outputs": [],
   "source": [
    "# для удобства создания кросс таб, объеденим все дата фреймы\n",
    "df_cont_1_join['group'] = 'control_1'\n",
    "df_cont_2_join['group'] = 'control_2'\n",
    "\n",
    "control = df_cont_1_join.append(df_cont_2_join, ignore_index=True)\n",
    "\n",
    "df_test_join['group'] = 'test'\n",
    "\n",
    "df_all_data = df_test_join.append(control, ignore_index=True)"
   ]
  },
  {
   "cell_type": "code",
   "execution_count": 133,
   "metadata": {},
   "outputs": [],
   "source": [
    "# оставим только уникальные uid\n",
    "df_all_data_uniq_id = df_all_data.drop_duplicates(subset='uid')"
   ]
  },
  {
   "cell_type": "code",
   "execution_count": 134,
   "metadata": {},
   "outputs": [],
   "source": [
    "df_all_data_uniq_id_split_test = df_all_data_uniq_id[df_all_data_uniq_id.group != 'test']"
   ]
  },
  {
   "cell_type": "code",
   "execution_count": 135,
   "metadata": {
    "scrolled": false
   },
   "outputs": [
    {
     "data": {
      "text/html": [
       "<div>\n",
       "<style scoped>\n",
       "    .dataframe tbody tr th:only-of-type {\n",
       "        vertical-align: middle;\n",
       "    }\n",
       "\n",
       "    .dataframe tbody tr th {\n",
       "        vertical-align: top;\n",
       "    }\n",
       "\n",
       "    .dataframe thead th {\n",
       "        text-align: right;\n",
       "    }\n",
       "</style>\n",
       "<table border=\"1\" class=\"dataframe\">\n",
       "  <thead>\n",
       "    <tr style=\"text-align: right;\">\n",
       "      <th>buy_flag</th>\n",
       "      <th>0</th>\n",
       "      <th>1</th>\n",
       "    </tr>\n",
       "    <tr>\n",
       "      <th>group</th>\n",
       "      <th></th>\n",
       "      <th></th>\n",
       "    </tr>\n",
       "  </thead>\n",
       "  <tbody>\n",
       "    <tr>\n",
       "      <th>control_1</th>\n",
       "      <td>4147</td>\n",
       "      <td>193</td>\n",
       "    </tr>\n",
       "    <tr>\n",
       "      <th>control_2</th>\n",
       "      <td>4077</td>\n",
       "      <td>187</td>\n",
       "    </tr>\n",
       "  </tbody>\n",
       "</table>\n",
       "</div>"
      ],
      "text/plain": [
       "buy_flag      0    1\n",
       "group               \n",
       "control_1  4147  193\n",
       "control_2  4077  187"
      ]
     },
     "execution_count": 135,
     "metadata": {},
     "output_type": "execute_result"
    }
   ],
   "source": [
    "df_crosstab = pd.crosstab(df_all_data_uniq_id_split_test['group'], df_all_data_uniq_id_split_test['buy_flag'])\n",
    "df_crosstab"
   ]
  },
  {
   "cell_type": "markdown",
   "metadata": {},
   "source": [
    "Проведем тест хи-квадрат, для контрольных групп\n",
    "\n",
    "Н0: стат значимых различиймых различий в распределении конверсии в покупку нет\n",
    "\n",
    "Н1: есть стат. значимые различия в распределении в покупку"
   ]
  },
  {
   "cell_type": "code",
   "execution_count": 136,
   "metadata": {
    "scrolled": false
   },
   "outputs": [
    {
     "data": {
      "text/plain": [
       "0.9312797290911659"
      ]
     },
     "execution_count": 136,
     "metadata": {},
     "output_type": "execute_result"
    }
   ],
   "source": [
    "stats.chi2_contingency(df_crosstab)[1]"
   ]
  },
  {
   "cell_type": "markdown",
   "metadata": {},
   "source": [
    "p-value больше 0.05 принимаем Н0: стат значимых различиймых различий в распределении конверсии в покупку нет"
   ]
  },
  {
   "cell_type": "code",
   "execution_count": 137,
   "metadata": {
    "scrolled": false
   },
   "outputs": [
    {
     "data": {
      "application/vnd.jupyter.widget-view+json": {
       "model_id": "aff6e89ce8514756b8abc59b3ade1743",
       "version_major": 2,
       "version_minor": 0
      },
      "text/plain": [
       "HBox(children=(FloatProgress(value=0.0, max=1000.0), HTML(value='')))"
      ]
     },
     "metadata": {},
     "output_type": "display_data"
    },
    {
     "name": "stdout",
     "output_type": "stream",
     "text": [
      "\n",
      "0.014\n",
      "FPR нижн 0.05 система сплитования работает корректно\n"
     ]
    },
    {
     "data": {
      "image/png": "[encoded data removed]",
      "text/plain": [
       "<Figure size 1152x432 with 1 Axes>"
      ]
     },
     "metadata": {},
     "output_type": "display_data"
    }
   ],
   "source": [
    "# посчитаем FPR для колонки buy_flag\n",
    "split_test_xi_square_buy_flag(df_all_data_uniq_id_split_test)"
   ]
  },
  {
   "cell_type": "code",
   "execution_count": 138,
   "metadata": {
    "scrolled": false
   },
   "outputs": [
    {
     "data": {
      "text/html": [
       "<div>\n",
       "<style scoped>\n",
       "    .dataframe tbody tr th:only-of-type {\n",
       "        vertical-align: middle;\n",
       "    }\n",
       "\n",
       "    .dataframe tbody tr th {\n",
       "        vertical-align: top;\n",
       "    }\n",
       "\n",
       "    .dataframe thead th {\n",
       "        text-align: right;\n",
       "    }\n",
       "</style>\n",
       "<table border=\"1\" class=\"dataframe\">\n",
       "  <thead>\n",
       "    <tr style=\"text-align: right;\">\n",
       "      <th>buy_premium</th>\n",
       "      <th>0</th>\n",
       "      <th>1</th>\n",
       "    </tr>\n",
       "    <tr>\n",
       "      <th>group</th>\n",
       "      <th></th>\n",
       "      <th></th>\n",
       "    </tr>\n",
       "  </thead>\n",
       "  <tbody>\n",
       "    <tr>\n",
       "      <th>control_1</th>\n",
       "      <td>4241</td>\n",
       "      <td>99</td>\n",
       "    </tr>\n",
       "    <tr>\n",
       "      <th>control_2</th>\n",
       "      <td>4162</td>\n",
       "      <td>102</td>\n",
       "    </tr>\n",
       "  </tbody>\n",
       "</table>\n",
       "</div>"
      ],
      "text/plain": [
       "buy_premium     0    1\n",
       "group                 \n",
       "control_1    4241   99\n",
       "control_2    4162  102"
      ]
     },
     "execution_count": 138,
     "metadata": {},
     "output_type": "execute_result"
    }
   ],
   "source": [
    "df_crosstab = pd.crosstab(df_all_data_uniq_id_split_test['group'], df_all_data_uniq_id_split_test['buy_premium'])\n",
    "df_crosstab"
   ]
  },
  {
   "cell_type": "markdown",
   "metadata": {},
   "source": [
    "Проведем тест хи-квадрат, для контрольных групп\n",
    "\n",
    "Н0: стат значимых различиймых различий в распределении конверсии в покупку премиум аккаунта\n",
    "\n",
    "Н1: есть стат. значимые различия в распределении в покупку премиум аккаунта нет"
   ]
  },
  {
   "cell_type": "code",
   "execution_count": 139,
   "metadata": {
    "scrolled": true
   },
   "outputs": [
    {
     "data": {
      "text/plain": [
       "0.787562959056054"
      ]
     },
     "execution_count": 139,
     "metadata": {},
     "output_type": "execute_result"
    }
   ],
   "source": [
    "stats.chi2_contingency(df_crosstab)[1]"
   ]
  },
  {
   "cell_type": "markdown",
   "metadata": {},
   "source": [
    "p-value больше 0.05 принимаем Н0: стат значимых различиймых различий в распределении конверсии в покупку премиум аккаунта нет"
   ]
  },
  {
   "cell_type": "code",
   "execution_count": 140,
   "metadata": {},
   "outputs": [
    {
     "data": {
      "application/vnd.jupyter.widget-view+json": {
       "model_id": "a356d37622524c8a93b499d0bb929877",
       "version_major": 2,
       "version_minor": 0
      },
      "text/plain": [
       "HBox(children=(FloatProgress(value=0.0, max=1000.0), HTML(value='')))"
      ]
     },
     "metadata": {},
     "output_type": "display_data"
    },
    {
     "name": "stdout",
     "output_type": "stream",
     "text": [
      "\n",
      "0.018\n",
      "FPR нижн 0.05 система сплитования работает корректно\n"
     ]
    },
    {
     "data": {
      "image/png": "[encoded data removed]",
      "text/plain": [
       "<Figure size 1152x432 with 1 Axes>"
      ]
     },
     "metadata": {},
     "output_type": "display_data"
    }
   ],
   "source": [
    "# посчитаем FPR для колонки buy_premium\n",
    "split_test_xi_square_buy_premium(df_all_data_uniq_id_split_test)"
   ]
  },
  {
   "cell_type": "code",
   "execution_count": 141,
   "metadata": {
    "scrolled": false
   },
   "outputs": [
    {
     "data": {
      "text/html": [
       "<div>\n",
       "<style scoped>\n",
       "    .dataframe tbody tr th:only-of-type {\n",
       "        vertical-align: middle;\n",
       "    }\n",
       "\n",
       "    .dataframe tbody tr th {\n",
       "        vertical-align: top;\n",
       "    }\n",
       "\n",
       "    .dataframe thead th {\n",
       "        text-align: right;\n",
       "    }\n",
       "</style>\n",
       "<table border=\"1\" class=\"dataframe\">\n",
       "  <thead>\n",
       "    <tr style=\"text-align: right;\">\n",
       "      <th>buy_other</th>\n",
       "      <th>0</th>\n",
       "      <th>1</th>\n",
       "    </tr>\n",
       "    <tr>\n",
       "      <th>group</th>\n",
       "      <th></th>\n",
       "      <th></th>\n",
       "    </tr>\n",
       "  </thead>\n",
       "  <tbody>\n",
       "    <tr>\n",
       "      <th>control_1</th>\n",
       "      <td>4202</td>\n",
       "      <td>138</td>\n",
       "    </tr>\n",
       "    <tr>\n",
       "      <th>control_2</th>\n",
       "      <td>4139</td>\n",
       "      <td>125</td>\n",
       "    </tr>\n",
       "  </tbody>\n",
       "</table>\n",
       "</div>"
      ],
      "text/plain": [
       "buy_other     0    1\n",
       "group               \n",
       "control_1  4202  138\n",
       "control_2  4139  125"
      ]
     },
     "execution_count": 141,
     "metadata": {},
     "output_type": "execute_result"
    }
   ],
   "source": [
    "df_crosstab = pd.crosstab(df_all_data_uniq_id_split_test['group'], df_all_data_uniq_id_split_test['buy_other'])\n",
    "df_crosstab"
   ]
  },
  {
   "cell_type": "markdown",
   "metadata": {},
   "source": [
    "Проведем тест хи-квадрат, для контрольных групп\n",
    "\n",
    "Н0: стат значимых различиймых различий в распределении конверсии в покупку buy_other\n",
    "\n",
    "Н1: есть стат. значимые различия в распределении в покупку buy_other нет"
   ]
  },
  {
   "cell_type": "code",
   "execution_count": 142,
   "metadata": {
    "scrolled": false
   },
   "outputs": [
    {
     "data": {
      "text/plain": [
       "0.544474362228881"
      ]
     },
     "execution_count": 142,
     "metadata": {},
     "output_type": "execute_result"
    }
   ],
   "source": [
    "stats.chi2_contingency(df_crosstab)[1]"
   ]
  },
  {
   "cell_type": "markdown",
   "metadata": {},
   "source": [
    "p-value больше 0.05 принимаем Н0: стат значимых различиймых различий в распределении конверсии в покупку buy_other нет"
   ]
  },
  {
   "cell_type": "markdown",
   "metadata": {},
   "source": [
    "Посчитаем FPR для конверсии в покупку(buy_flag) контрольных групп, при помощи хи-квадрат."
   ]
  },
  {
   "cell_type": "code",
   "execution_count": 143,
   "metadata": {
    "scrolled": false
   },
   "outputs": [
    {
     "data": {
      "application/vnd.jupyter.widget-view+json": {
       "model_id": "d0a137ec8597442a928fa4cb042345a6",
       "version_major": 2,
       "version_minor": 0
      },
      "text/plain": [
       "HBox(children=(FloatProgress(value=0.0, max=1000.0), HTML(value='')))"
      ]
     },
     "metadata": {},
     "output_type": "display_data"
    },
    {
     "name": "stdout",
     "output_type": "stream",
     "text": [
      "\n",
      "0.029\n",
      "FPR нижн 0.05 система сплитования работает корректно\n"
     ]
    },
    {
     "data": {
      "image/png": "[encoded data removed]",
      "text/plain": [
       "<Figure size 1152x432 with 1 Axes>"
      ]
     },
     "metadata": {},
     "output_type": "display_data"
    }
   ],
   "source": [
    "split_test_xi_square_buy_other(df_all_data_uniq_id_split_test)"
   ]
  },
  {
   "cell_type": "markdown",
   "metadata": {},
   "source": [
    "В качестве альтернативы, попробую проверить конверсию в покупку при помощи т теста. Среднее колонки buy_flag и будет значением конверсии.\n",
    "\n",
    "Н0: средние значения конверсии в покупку стат. значимо не различаются     \n",
    "Н1: средние значения конверсии в покупку имеют стат. значимые различия\n",
    "\n",
    "проведем расчет FPR для исследуемого признака."
   ]
  },
  {
   "cell_type": "code",
   "execution_count": 144,
   "metadata": {},
   "outputs": [],
   "source": [
    "# оставим только уникальные uid\n",
    "df_split_check_1 = df_cont_1_join.drop_duplicates(subset='uid')\n",
    "df_split_check_2 = df_cont_2_join.drop_duplicates(subset='uid')"
   ]
  },
  {
   "cell_type": "code",
   "execution_count": 145,
   "metadata": {
    "scrolled": false
   },
   "outputs": [
    {
     "data": {
      "application/vnd.jupyter.widget-view+json": {
       "model_id": "fbb656db74974a7186f46b8cc8abaeb5",
       "version_major": 2,
       "version_minor": 0
      },
      "text/plain": [
       "HBox(children=(FloatProgress(value=0.0, max=1000.0), HTML(value='')))"
      ]
     },
     "metadata": {},
     "output_type": "display_data"
    },
    {
     "name": "stdout",
     "output_type": "stream",
     "text": [
      "\n",
      "0.025\n",
      "FPR нижн 0.05 система сплитования работает корректно\n"
     ]
    },
    {
     "data": {
      "image/png": "[encoded data removed]",
      "text/plain": [
       "<Figure size 1152x432 with 1 Axes>"
      ]
     },
     "metadata": {},
     "output_type": "display_data"
    }
   ],
   "source": [
    "#проверим систему сплитования на конверсию в покупку\n",
    "split_test(df_split_check_1['buy_flag'],df_split_check_2['buy_flag'])"
   ]
  },
  {
   "cell_type": "markdown",
   "metadata": {},
   "source": [
    "в данном случае результаты хи-квадрат и т-теста совпали."
   ]
  },
  {
   "cell_type": "markdown",
   "metadata": {},
   "source": [
    "сравним APRU для контрольных групп."
   ]
  },
  {
   "cell_type": "markdown",
   "metadata": {},
   "source": [
    "В нашем случает ARPU можно сравнить, при сравнении среднего суммарных трат всех уникальных пользвателей.    \n",
    "Проверим распределения на нормальность и гомогенность дисперсий."
   ]
  },
  {
   "cell_type": "code",
   "execution_count": 146,
   "metadata": {
    "scrolled": true
   },
   "outputs": [],
   "source": [
    "# подготовим дата сеты для сравнения\n",
    "df_split_control_1 = df_all_data[df_all_data.group == 'control_1'].groupby('uid').agg({'revenue':'sum'})\n",
    "df_split_control_2 = df_all_data[df_all_data.group == 'control_2'].groupby('uid').agg({'revenue':'sum'})"
   ]
  },
  {
   "cell_type": "code",
   "execution_count": 147,
   "metadata": {},
   "outputs": [
    {
     "name": "stdout",
     "output_type": "stream",
     "text": [
      "H1: выборка взята из генеральной совокупности, где признак отличается от нормального\n",
      "\n",
      "H0: выборка взята из генеральной совокупности, где признак распределен нормально\n",
      "\n"
     ]
    }
   ],
   "source": [
    "if stats.shapiro(df_split_control_1['revenue'])[1] > 0.05:\n",
    "    print('H0: выборка взята из генеральной совокупности, где признак распределен нормально\\n')\n",
    "else:\n",
    "    print('H1: выборка взята из генеральной совокупности, где признак отличается от нормального\\n')\n",
    "    \n",
    "if stats.shapiro(df_split_check_2['revenue'])[1] > 0.05:\n",
    "    print('H0: выборка взята из генеральной совокупности, где признак распределен нормально\\n')\n",
    "else:\n",
    "    print('H1: выборка взята из генеральной совокупности, где признак отличается от нормального\\n')"
   ]
  },
  {
   "cell_type": "code",
   "execution_count": 148,
   "metadata": {},
   "outputs": [
    {
     "name": "stdout",
     "output_type": "stream",
     "text": [
      "H1: дисперсии двух групп гетерогенны\n",
      "\n"
     ]
    }
   ],
   "source": [
    "if stats.levene(df_split_control_1['revenue'], df_split_control_2['revenue'], center='mean')[1] > 0.05:\n",
    "    print('H0: дисперсии двух групп гомогенны\\n')\n",
    "else:\n",
    "    print('H1: дисперсии двух групп гетерогенны\\n')"
   ]
  },
  {
   "cell_type": "markdown",
   "metadata": {},
   "source": [
    "Признак в группе контроль 1 отличается от нормального. Дисперсии гетерогенны, мы будем использовать критерий Уэлча. Подсчитаем FPR для наших распределений."
   ]
  },
  {
   "cell_type": "code",
   "execution_count": 149,
   "metadata": {
    "scrolled": false
   },
   "outputs": [
    {
     "data": {
      "application/vnd.jupyter.widget-view+json": {
       "model_id": "c4a7311239564528beca8c6d36c78a1a",
       "version_major": 2,
       "version_minor": 0
      },
      "text/plain": [
       "HBox(children=(FloatProgress(value=0.0, max=1000.0), HTML(value='')))"
      ]
     },
     "metadata": {},
     "output_type": "display_data"
    },
    {
     "name": "stdout",
     "output_type": "stream",
     "text": [
      "\n",
      "0.027\n",
      "FPR нижн 0.05 система сплитования работает корректно\n"
     ]
    },
    {
     "data": {
      "image/png": "[encoded data removed]",
      "text/plain": [
       "<Figure size 1152x432 with 1 Axes>"
      ]
     },
     "metadata": {},
     "output_type": "display_data"
    }
   ],
   "source": [
    "#проверим систему сплитования метрики ARPU\n",
    "split_test(df_split_control_1['revenue'], df_split_control_2['revenue'], t_test_flag=False)"
   ]
  },
  {
   "cell_type": "markdown",
   "metadata": {},
   "source": [
    "FPR ниже 0.05 система сплитования метрики ARPU работает корректно.   \n",
    "    \n",
    "Приступим к проверке ARPPU."
   ]
  },
  {
   "cell_type": "code",
   "execution_count": 150,
   "metadata": {},
   "outputs": [
    {
     "name": "stdout",
     "output_type": "stream",
     "text": [
      "H1: выборка взята из генеральной совокупности, где признак отличается от нормального\n",
      "\n",
      "H1: выборка взята из генеральной совокупности, где признак отличается от нормального\n",
      "\n"
     ]
    }
   ],
   "source": [
    "if stats.shapiro(df_split_control_1[df_split_control_1.revenue > 0].revenue)[1] > 0.05:\n",
    "    print('H0: выборка взята из генеральной совокупности, где признак распределен нормально\\n')\n",
    "else:\n",
    "    print('H1: выборка взята из генеральной совокупности, где признак отличается от нормального\\n')\n",
    "    \n",
    "if stats.shapiro(df_split_control_2[df_split_control_2.revenue > 0].revenue)[1] > 0.05:\n",
    "    print('H0: выборка взята из генеральной совокупности, где признак распределен нормально\\n')\n",
    "else:\n",
    "    print('H1: выборка взята из генеральной совокупности, где признак отличается от нормального\\n')"
   ]
  },
  {
   "cell_type": "code",
   "execution_count": 151,
   "metadata": {},
   "outputs": [
    {
     "name": "stdout",
     "output_type": "stream",
     "text": [
      "H0: дисперсии двух групп гомогенны\n",
      "\n"
     ]
    }
   ],
   "source": [
    "if stats.levene(df_split_control_1[df_split_control_1.revenue > 0].revenue, \n",
    "                df_split_control_2[df_split_control_2.revenue > 0].revenue, center='mean')[1] > 0.05:\n",
    "    print('H0: дисперсии двух групп гомогенны\\n')\n",
    "else:\n",
    "    print('H1: дисперсии двух групп гетерогенны\\n')"
   ]
  },
  {
   "cell_type": "markdown",
   "metadata": {},
   "source": [
    "Признак в группе контроль 1 отличается от нормального. Дисперсии гомогенны, мы будем использовать Т т критерий Стьюдента. Подсчитаем FPR для наших распределений."
   ]
  },
  {
   "cell_type": "code",
   "execution_count": 152,
   "metadata": {},
   "outputs": [
    {
     "data": {
      "text/plain": [
       "(187, 1)"
      ]
     },
     "execution_count": 152,
     "metadata": {},
     "output_type": "execute_result"
    }
   ],
   "source": [
    "#проверим размер выборки и откорректируем количество семплов\n",
    "df_split_control_2[df_split_control_2.revenue > 0].shape"
   ]
  },
  {
   "cell_type": "code",
   "execution_count": 153,
   "metadata": {},
   "outputs": [
    {
     "data": {
      "application/vnd.jupyter.widget-view+json": {
       "model_id": "4c20c9029a33412aa579e8d005a4c51e",
       "version_major": 2,
       "version_minor": 0
      },
      "text/plain": [
       "HBox(children=(FloatProgress(value=0.0, max=1000.0), HTML(value='')))"
      ]
     },
     "metadata": {},
     "output_type": "display_data"
    },
    {
     "name": "stdout",
     "output_type": "stream",
     "text": [
      "\n",
      "0.019\n",
      "FPR нижн 0.05 система сплитования работает корректно\n"
     ]
    },
    {
     "data": {
      "image/png": "[encoded data removed]",
      "text/plain": [
       "<Figure size 1152x432 with 1 Axes>"
      ]
     },
     "metadata": {},
     "output_type": "display_data"
    }
   ],
   "source": [
    "#проверим систему сплитования метрики ARPPU\n",
    "split_test(df_split_control_1[df_split_control_1.revenue > 0].revenue,\n",
    "           df_split_control_2[df_split_control_2.revenue > 0].revenue,\n",
    "           n_s=100\n",
    "          )"
   ]
  },
  {
   "cell_type": "markdown",
   "metadata": {},
   "source": [
    "Итого.    \n",
    "\n",
    "Произведена проверка системы сплитования для метрик CR, ARPU, ARPPU.\n",
    "\n",
    "Единственно я не уверен, что стоило проверять и ARPU и ARPPU. В данном случае, это одни и теж цифры, только в ARPU есть поля заполненные 0. Если бы конверсия сильно различалась, то возможно я бы увидел различия. При отсутствии значимых различий конверсии в покупку в распределениях, думаю можно было бы ограничиться проверкой только одной из метрик.\n",
    "\n",
    "FPR для всех проверок ниже 0.05\n",
    "\n",
    "### Делаем вывод, что система сплитования, для выбранных метрик работает корректно."
   ]
  },
  {
   "cell_type": "markdown",
   "metadata": {},
   "source": [
    "### AB тест."
   ]
  },
  {
   "cell_type": "markdown",
   "metadata": {},
   "source": [
    "Т.к. стат значимых различий в контрольных группах я не обнаружил и системы сплитования работает корректно, то для сравнения выборок буду использовать А1 + А2 и B группы.\n",
    "\n",
    "Для начала подготовим дата фреймы для сравнения."
   ]
  },
  {
   "cell_type": "code",
   "execution_count": 154,
   "metadata": {},
   "outputs": [],
   "source": [
    "# для удобства создания кросс таб, объеденим все дата фреймы\n",
    "df_cont_1_join['group'] = 'control'\n",
    "df_cont_2_join['group'] = 'control'\n",
    "\n",
    "control = df_cont_1_join.append(df_cont_2_join, ignore_index=True)\n",
    "\n",
    "df_test_join['group'] = 'test'\n",
    "\n",
    "df_all_data = df_test_join.append(control, ignore_index=True)"
   ]
  },
  {
   "cell_type": "code",
   "execution_count": 155,
   "metadata": {},
   "outputs": [],
   "source": [
    "# оставим только уникальные uid\n",
    "df_all_data_uniq_id = df_all_data.drop_duplicates(subset='uid')"
   ]
  },
  {
   "cell_type": "markdown",
   "metadata": {},
   "source": [
    "Начнем со сравнение конверсии в покупку контрольной и тестовой групп.\n",
    "\n",
    "Н0: конверсии в покупку стат. значимо не различаются    \n",
    "Н1: конверсии в покупку имеют стат. значимые различия"
   ]
  },
  {
   "cell_type": "code",
   "execution_count": 156,
   "metadata": {
    "scrolled": true
   },
   "outputs": [
    {
     "data": {
      "text/html": [
       "<div>\n",
       "<style scoped>\n",
       "    .dataframe tbody tr th:only-of-type {\n",
       "        vertical-align: middle;\n",
       "    }\n",
       "\n",
       "    .dataframe tbody tr th {\n",
       "        vertical-align: top;\n",
       "    }\n",
       "\n",
       "    .dataframe thead th {\n",
       "        text-align: right;\n",
       "    }\n",
       "</style>\n",
       "<table border=\"1\" class=\"dataframe\">\n",
       "  <thead>\n",
       "    <tr style=\"text-align: right;\">\n",
       "      <th>buy_flag</th>\n",
       "      <th>0</th>\n",
       "      <th>1</th>\n",
       "    </tr>\n",
       "    <tr>\n",
       "      <th>group</th>\n",
       "      <th></th>\n",
       "      <th></th>\n",
       "    </tr>\n",
       "  </thead>\n",
       "  <tbody>\n",
       "    <tr>\n",
       "      <th>control</th>\n",
       "      <td>8224</td>\n",
       "      <td>380</td>\n",
       "    </tr>\n",
       "    <tr>\n",
       "      <th>test</th>\n",
       "      <td>4162</td>\n",
       "      <td>146</td>\n",
       "    </tr>\n",
       "  </tbody>\n",
       "</table>\n",
       "</div>"
      ],
      "text/plain": [
       "buy_flag     0    1\n",
       "group              \n",
       "control   8224  380\n",
       "test      4162  146"
      ]
     },
     "execution_count": 156,
     "metadata": {},
     "output_type": "execute_result"
    }
   ],
   "source": [
    "# создадим таблицу сопряженности\n",
    "df_crosstab = pd.crosstab(df_all_data_uniq_id['group'], df_all_data_uniq_id['buy_flag'])\n",
    "df_crosstab"
   ]
  },
  {
   "cell_type": "code",
   "execution_count": 157,
   "metadata": {
    "scrolled": false
   },
   "outputs": [
    {
     "data": {
      "text/plain": [
       "0.00618701493547966"
      ]
     },
     "execution_count": 157,
     "metadata": {},
     "output_type": "execute_result"
    }
   ],
   "source": [
    "stats.chi2_contingency(df_crosstab)[1]"
   ]
  },
  {
   "cell_type": "markdown",
   "metadata": {},
   "source": [
    "p-value меньше 0.05, верна гиппотеза Н1: конверсии в покупку имеют стат. значимые различия"
   ]
  },
  {
   "cell_type": "markdown",
   "metadata": {},
   "source": [
    "Проверим различия конверсии в покупку премиум аккаунта.\n",
    "\n",
    "Н0: конверсии в покупку премиум аккаунта значимо не различаются    \n",
    "Н1: конверсии в покупку премиум аккаунта имеют стат. значимые различия"
   ]
  },
  {
   "cell_type": "code",
   "execution_count": 158,
   "metadata": {},
   "outputs": [
    {
     "data": {
      "text/html": [
       "<div>\n",
       "<style scoped>\n",
       "    .dataframe tbody tr th:only-of-type {\n",
       "        vertical-align: middle;\n",
       "    }\n",
       "\n",
       "    .dataframe tbody tr th {\n",
       "        vertical-align: top;\n",
       "    }\n",
       "\n",
       "    .dataframe thead th {\n",
       "        text-align: right;\n",
       "    }\n",
       "</style>\n",
       "<table border=\"1\" class=\"dataframe\">\n",
       "  <thead>\n",
       "    <tr style=\"text-align: right;\">\n",
       "      <th>buy_premium</th>\n",
       "      <th>0</th>\n",
       "      <th>1</th>\n",
       "    </tr>\n",
       "    <tr>\n",
       "      <th>group</th>\n",
       "      <th></th>\n",
       "      <th></th>\n",
       "    </tr>\n",
       "  </thead>\n",
       "  <tbody>\n",
       "    <tr>\n",
       "      <th>control</th>\n",
       "      <td>8403</td>\n",
       "      <td>201</td>\n",
       "    </tr>\n",
       "    <tr>\n",
       "      <th>test</th>\n",
       "      <td>4241</td>\n",
       "      <td>67</td>\n",
       "    </tr>\n",
       "  </tbody>\n",
       "</table>\n",
       "</div>"
      ],
      "text/plain": [
       "buy_premium     0    1\n",
       "group                 \n",
       "control      8403  201\n",
       "test         4241   67"
      ]
     },
     "execution_count": 158,
     "metadata": {},
     "output_type": "execute_result"
    }
   ],
   "source": [
    "# создадим таблицу сопряженности\n",
    "df_crosstab = pd.crosstab(df_all_data_uniq_id['group'], df_all_data_uniq_id['buy_premium'])\n",
    "df_crosstab"
   ]
  },
  {
   "cell_type": "code",
   "execution_count": 159,
   "metadata": {},
   "outputs": [
    {
     "data": {
      "text/plain": [
       "0.004115103927605153"
      ]
     },
     "execution_count": 159,
     "metadata": {},
     "output_type": "execute_result"
    }
   ],
   "source": [
    "stats.chi2_contingency(df_crosstab)[1]"
   ]
  },
  {
   "cell_type": "markdown",
   "metadata": {},
   "source": [
    "Верна гиппотеза Н1: конверсии в покупку премиум аккаунта имеют стат. значимые различия. Конверсия в тестовой группе меньше(1.6), чем в контрольной(2.3)"
   ]
  },
  {
   "cell_type": "markdown",
   "metadata": {},
   "source": [
    "проверим результат теста хи-квадрат. проведем тест и сравним средние по колонке buy_premium\n",
    "\n",
    "H0: средние по колонке buy_premium не различаются    \n",
    "H1: средние по колонке buy_premium имеют различия"
   ]
  },
  {
   "cell_type": "code",
   "execution_count": 160,
   "metadata": {},
   "outputs": [],
   "source": [
    "# подготовим дата сеты для сравнения\n",
    "df_control_buy_prem = df_all_data_uniq_id[df_all_data_uniq_id.group == 'control'][['buy_premium']]\n",
    "df_test_buy_prem = df_all_data_uniq_id[df_all_data_uniq_id.group == 'test'][['buy_premium']]"
   ]
  },
  {
   "cell_type": "code",
   "execution_count": 161,
   "metadata": {},
   "outputs": [
    {
     "name": "stdout",
     "output_type": "stream",
     "text": [
      "LeveneResult(statistic=34.74485949562058, pvalue=3.85255440141903e-09)\n"
     ]
    }
   ],
   "source": [
    "#проверим дисперсии на гомогенность.\n",
    "print(stats.levene(df_control_buy_prem.buy_premium, df_test_buy_prem.buy_premium, center='mean'))"
   ]
  },
  {
   "cell_type": "markdown",
   "metadata": {},
   "source": [
    "дисперсии гетерогенны, для сравнения будем использовать критерий Уэлча."
   ]
  },
  {
   "cell_type": "code",
   "execution_count": 162,
   "metadata": {},
   "outputs": [
    {
     "data": {
      "text/plain": [
       "0.001727234962261759"
      ]
     },
     "execution_count": 162,
     "metadata": {},
     "output_type": "execute_result"
    }
   ],
   "source": [
    "# данный тест использую только в качестве альтернативы и тренировки.\n",
    "stats.ttest_ind(df_control_buy_prem.buy_premium, df_test_buy_prem.buy_premium, equal_var = False)[1]"
   ]
  },
  {
   "cell_type": "markdown",
   "metadata": {},
   "source": [
    "сравнение средних так же подтвердило различие средних по колонке конверсии в премиум подписку."
   ]
  },
  {
   "cell_type": "markdown",
   "metadata": {},
   "source": [
    "Сравним конверсии по колонке buy_other для контрольной и тестовой групп.\n",
    "\n",
    "Н0: конверсии по колонке buy_other стат. значимо не различаются    \n",
    "Н1: конверсии по колонке buy_other имеют стат. значимые различия"
   ]
  },
  {
   "cell_type": "code",
   "execution_count": 163,
   "metadata": {
    "scrolled": true
   },
   "outputs": [
    {
     "data": {
      "text/html": [
       "<div>\n",
       "<style scoped>\n",
       "    .dataframe tbody tr th:only-of-type {\n",
       "        vertical-align: middle;\n",
       "    }\n",
       "\n",
       "    .dataframe tbody tr th {\n",
       "        vertical-align: top;\n",
       "    }\n",
       "\n",
       "    .dataframe thead th {\n",
       "        text-align: right;\n",
       "    }\n",
       "</style>\n",
       "<table border=\"1\" class=\"dataframe\">\n",
       "  <thead>\n",
       "    <tr style=\"text-align: right;\">\n",
       "      <th>buy_other</th>\n",
       "      <th>0</th>\n",
       "      <th>1</th>\n",
       "    </tr>\n",
       "    <tr>\n",
       "      <th>group</th>\n",
       "      <th></th>\n",
       "      <th></th>\n",
       "    </tr>\n",
       "  </thead>\n",
       "  <tbody>\n",
       "    <tr>\n",
       "      <th>control</th>\n",
       "      <td>8341</td>\n",
       "      <td>263</td>\n",
       "    </tr>\n",
       "    <tr>\n",
       "      <th>test</th>\n",
       "      <td>4203</td>\n",
       "      <td>105</td>\n",
       "    </tr>\n",
       "  </tbody>\n",
       "</table>\n",
       "</div>"
      ],
      "text/plain": [
       "buy_other     0    1\n",
       "group               \n",
       "control    8341  263\n",
       "test       4203  105"
      ]
     },
     "execution_count": 163,
     "metadata": {},
     "output_type": "execute_result"
    }
   ],
   "source": [
    "# создадим таблицу сопряженности\n",
    "df_crosstab = pd.crosstab(df_all_data_uniq_id['group'], df_all_data_uniq_id['buy_other'])\n",
    "df_crosstab"
   ]
  },
  {
   "cell_type": "code",
   "execution_count": 164,
   "metadata": {
    "scrolled": false
   },
   "outputs": [
    {
     "data": {
      "text/plain": [
       "0.05258671109476595"
      ]
     },
     "execution_count": 164,
     "metadata": {},
     "output_type": "execute_result"
    }
   ],
   "source": [
    "stats.chi2_contingency(df_crosstab)[1]"
   ]
  },
  {
   "cell_type": "markdown",
   "metadata": {},
   "source": [
    "Верна гиппотеза Н0: конверсии по колонке buy_other стат. значимо не различаются."
   ]
  },
  {
   "cell_type": "markdown",
   "metadata": {},
   "source": [
    "Промежуточный вывод. Конверсия в покупку сатат. значимо упала в тестовой группе, по сравнению с контрольной.    \n",
    "При этом, стат. значимо упала только конверсия в покупку премиум аккаунта.    \n",
    "Изменения конверсии в остальные покупки, кроме премиум аккаунта, не стат. значимы. Как я и предполагал, более дорогой премиум покупать стали реже.   \n",
    "Далее произведем сравнение, контрольной и тестовой групп в разрезе возрастных групп."
   ]
  },
  {
   "cell_type": "code",
   "execution_count": 165,
   "metadata": {
    "scrolled": true
   },
   "outputs": [
    {
     "data": {
      "text/html": [
       "<div>\n",
       "<style scoped>\n",
       "    .dataframe tbody tr th:only-of-type {\n",
       "        vertical-align: middle;\n",
       "    }\n",
       "\n",
       "    .dataframe tbody tr th {\n",
       "        vertical-align: top;\n",
       "    }\n",
       "\n",
       "    .dataframe thead tr th {\n",
       "        text-align: left;\n",
       "    }\n",
       "\n",
       "    .dataframe thead tr:last-of-type th {\n",
       "        text-align: right;\n",
       "    }\n",
       "</style>\n",
       "<table border=\"1\" class=\"dataframe\">\n",
       "  <thead>\n",
       "    <tr>\n",
       "      <th></th>\n",
       "      <th colspan=\"2\" halign=\"left\">buy_flag</th>\n",
       "      <th colspan=\"2\" halign=\"left\">buy_premium</th>\n",
       "      <th colspan=\"2\" halign=\"left\">buy_other</th>\n",
       "    </tr>\n",
       "    <tr>\n",
       "      <th>group</th>\n",
       "      <th>control</th>\n",
       "      <th>test</th>\n",
       "      <th>control</th>\n",
       "      <th>test</th>\n",
       "      <th>control</th>\n",
       "      <th>test</th>\n",
       "    </tr>\n",
       "    <tr>\n",
       "      <th>age_group_my</th>\n",
       "      <th></th>\n",
       "      <th></th>\n",
       "      <th></th>\n",
       "      <th></th>\n",
       "      <th></th>\n",
       "      <th></th>\n",
       "    </tr>\n",
       "  </thead>\n",
       "  <tbody>\n",
       "    <tr>\n",
       "      <th>0-17</th>\n",
       "      <td>2.500</td>\n",
       "      <td>0.952</td>\n",
       "      <td>1.000</td>\n",
       "      <td>0.952</td>\n",
       "      <td>1.500</td>\n",
       "      <td>0.952</td>\n",
       "    </tr>\n",
       "    <tr>\n",
       "      <th>17-25</th>\n",
       "      <td>4.636</td>\n",
       "      <td>3.000</td>\n",
       "      <td>2.773</td>\n",
       "      <td>1.750</td>\n",
       "      <td>2.897</td>\n",
       "      <td>1.917</td>\n",
       "    </tr>\n",
       "    <tr>\n",
       "      <th>25-38</th>\n",
       "      <td>4.493</td>\n",
       "      <td>3.860</td>\n",
       "      <td>2.453</td>\n",
       "      <td>1.574</td>\n",
       "      <td>3.098</td>\n",
       "      <td>2.895</td>\n",
       "    </tr>\n",
       "    <tr>\n",
       "      <th>38-</th>\n",
       "      <td>4.208</td>\n",
       "      <td>3.191</td>\n",
       "      <td>1.749</td>\n",
       "      <td>1.354</td>\n",
       "      <td>3.310</td>\n",
       "      <td>2.321</td>\n",
       "    </tr>\n",
       "  </tbody>\n",
       "</table>\n",
       "</div>"
      ],
      "text/plain": [
       "             buy_flag        buy_premium        buy_other       \n",
       "group         control   test     control   test   control   test\n",
       "age_group_my                                                    \n",
       "0-17            2.500  0.952       1.000  0.952     1.500  0.952\n",
       "17-25           4.636  3.000       2.773  1.750     2.897  1.917\n",
       "25-38           4.493  3.860       2.453  1.574     3.098  2.895\n",
       "38-             4.208  3.191       1.749  1.354     3.310  2.321"
      ]
     },
     "execution_count": 165,
     "metadata": {},
     "output_type": "execute_result"
    }
   ],
   "source": [
    "# значения конверси в покупку для всех возрастных групп контроль и тестовой\n",
    "df_all_data_uniq_id.groupby(['group','age_group_my'], as_index=False)\\\n",
    "                   .agg({'buy_flag':'mean', 'buy_premium':'mean', 'buy_other':'mean'})\\\n",
    "                   .pivot(values=['buy_flag', 'buy_premium', 'buy_other'], index='age_group_my', columns='group')\\\n",
    "                   .apply(lambda x: round(x*100,3))"
   ]
  },
  {
   "cell_type": "code",
   "execution_count": 166,
   "metadata": {},
   "outputs": [],
   "source": [
    "age_group_list = ['0-17','17-25','25-38','38-']\n",
    "columns_list = ['buy_flag', 'buy_premium', 'buy_other']"
   ]
  },
  {
   "cell_type": "code",
   "execution_count": 167,
   "metadata": {
    "scrolled": false
   },
   "outputs": [
    {
     "name": "stdout",
     "output_type": "stream",
     "text": [
      "--------------------------------------------------------------------------------------------\n",
      "Для колонки: buy_flag\n",
      "\n",
      "Для группы: 0-17 контроль: 2.564, тест: 0.962\n",
      "H0 различий конверсии в покупку не выявлено\n",
      "p-value = 0.623557039710036\n",
      "---\n",
      "Для группы: 17-25 контроль: 4.861, тест: 3.093\n",
      "Н1 группы имеют стат. значимые различия конверсии в покупку\n",
      "p-value = 0.02453475365495316\n",
      "---\n",
      "Для группы: 25-38 контроль: 4.704, тест: 4.015\n",
      "H0 различий конверсии в покупку не выявлено\n",
      "p-value = 0.28855891612342965\n",
      "---\n",
      "Для группы: 38- контроль: 4.393, тест: 3.297\n",
      "H0 различий конверсии в покупку не выявлено\n",
      "p-value = 0.1971003936748102\n",
      "---\n",
      "--------------------------------------------------------------------------------------------\n",
      "Для колонки: buy_premium\n",
      "\n",
      "Для группы: 0-17 контроль: 1.01, тест: 0.962\n",
      "H0 различий конверсии в покупку не выявлено\n",
      "p-value = 1.0\n",
      "---\n",
      "Для группы: 17-25 контроль: 2.852, тест: 1.781\n",
      "H0 различий конверсии в покупку не выявлено\n",
      "p-value = 0.07746575646756214\n",
      "---\n",
      "Для группы: 25-38 контроль: 2.515, тест: 1.6\n",
      "Н1 группы имеют стат. значимые различия конверсии в покупку\n",
      "p-value = 0.036653257771385075\n",
      "---\n",
      "Для группы: 38- контроль: 1.781, тест: 1.373\n",
      "H0 различий конверсии в покупку не выявлено\n",
      "p-value = 0.49950228241642936\n",
      "---\n",
      "--------------------------------------------------------------------------------------------\n",
      "Для колонки: buy_other\n",
      "\n",
      "Для группы: 0-17 контроль: 1.523, тест: 0.962\n",
      "H0 различий конверсии в покупку не выявлено\n",
      "p-value = 1.0\n",
      "---\n",
      "Для группы: 17-25 контроль: 2.984, тест: 1.954\n",
      "H0 различий конверсии в покупку не выявлено\n",
      "p-value = 0.10045098948982889\n",
      "---\n",
      "Для группы: 25-38 контроль: 3.197, тест: 2.981\n",
      "H0 различий конверсии в покупку не выявлено\n",
      "p-value = 0.7276776949580703\n",
      "---\n",
      "Для группы: 38- контроль: 3.423, тест: 2.376\n",
      "H0 различий конверсии в покупку не выявлено\n",
      "p-value = 0.1557696398420308\n",
      "---\n"
     ]
    }
   ],
   "source": [
    "age_xi_square_check(df_all_data_uniq_id, age_group_list, columns_list)"
   ]
  },
  {
   "cell_type": "markdown",
   "metadata": {},
   "source": [
    "Довольно интересные наблюдения. Выявлены стат. значимые изменения конверсии в сторону уменьшения для тестовой группы, по сравнению с контрольной для колонки:     \n",
    "buy_flag:Для группы: 17-25 контроль: 4.861, тест: 3.093    \n",
    "buy_premium: Для группы: 25-38 контроль: 2.515, тест: 1.6    \n",
    "Я считаю, что это довольно значимое изменение, т.к. оно выявлено для центрального ядра аудитории сервиса."
   ]
  },
  {
   "cell_type": "markdown",
   "metadata": {},
   "source": [
    "Проведем сравнение конверсий для разных стран. Возмем только те страны, которые есть в обеих выборках."
   ]
  },
  {
   "cell_type": "code",
   "execution_count": 168,
   "metadata": {},
   "outputs": [],
   "source": [
    "# значения конверси в покупку для всех возрастных групп контроль и тестовой\n",
    "df_counry = df_all_data_uniq_id.groupby(['group','country_x'], as_index=False)\\\n",
    "                               .agg({'buy_flag':'mean', 'buy_premium':'mean', 'buy_other':'mean'})\\\n",
    "                               .pivot(values=['buy_flag', 'buy_premium', 'buy_other'], index='country_x', columns='group')\\\n",
    "                               .apply(lambda x: round(x*100,3)).dropna()"
   ]
  },
  {
   "cell_type": "code",
   "execution_count": 169,
   "metadata": {
    "scrolled": false
   },
   "outputs": [
    {
     "data": {
      "text/html": [
       "<div>\n",
       "<style scoped>\n",
       "    .dataframe tbody tr th:only-of-type {\n",
       "        vertical-align: middle;\n",
       "    }\n",
       "\n",
       "    .dataframe tbody tr th {\n",
       "        vertical-align: top;\n",
       "    }\n",
       "\n",
       "    .dataframe thead th {\n",
       "        text-align: right;\n",
       "    }\n",
       "</style>\n",
       "<table border=\"1\" class=\"dataframe\">\n",
       "  <thead>\n",
       "    <tr style=\"text-align: right;\">\n",
       "      <th></th>\n",
       "      <th>country_x</th>\n",
       "    </tr>\n",
       "  </thead>\n",
       "  <tbody>\n",
       "    <tr>\n",
       "      <th>United States of America</th>\n",
       "      <td>105</td>\n",
       "    </tr>\n",
       "    <tr>\n",
       "      <th>Italy</th>\n",
       "      <td>66</td>\n",
       "    </tr>\n",
       "    <tr>\n",
       "      <th>France</th>\n",
       "      <td>39</td>\n",
       "    </tr>\n",
       "    <tr>\n",
       "      <th>United Kingdom (Great Britain)</th>\n",
       "      <td>30</td>\n",
       "    </tr>\n",
       "    <tr>\n",
       "      <th>Argentina</th>\n",
       "      <td>28</td>\n",
       "    </tr>\n",
       "    <tr>\n",
       "      <th>Israel</th>\n",
       "      <td>22</td>\n",
       "    </tr>\n",
       "    <tr>\n",
       "      <th>Chile</th>\n",
       "      <td>15</td>\n",
       "    </tr>\n",
       "    <tr>\n",
       "      <th>Canada</th>\n",
       "      <td>14</td>\n",
       "    </tr>\n",
       "    <tr>\n",
       "      <th>Spain</th>\n",
       "      <td>14</td>\n",
       "    </tr>\n",
       "    <tr>\n",
       "      <th>United Arab Emirates</th>\n",
       "      <td>12</td>\n",
       "    </tr>\n",
       "    <tr>\n",
       "      <th>Germany</th>\n",
       "      <td>7</td>\n",
       "    </tr>\n",
       "    <tr>\n",
       "      <th>Turkey</th>\n",
       "      <td>6</td>\n",
       "    </tr>\n",
       "    <tr>\n",
       "      <th>Belgium</th>\n",
       "      <td>4</td>\n",
       "    </tr>\n",
       "    <tr>\n",
       "      <th>Portugal</th>\n",
       "      <td>4</td>\n",
       "    </tr>\n",
       "    <tr>\n",
       "      <th>Russian Federation</th>\n",
       "      <td>3</td>\n",
       "    </tr>\n",
       "  </tbody>\n",
       "</table>\n",
       "</div>"
      ],
      "text/plain": [
       "                                country_x\n",
       "United States of America              105\n",
       "Italy                                  66\n",
       "France                                 39\n",
       "United Kingdom (Great Britain)         30\n",
       "Argentina                              28\n",
       "Israel                                 22\n",
       "Chile                                  15\n",
       "Canada                                 14\n",
       "Spain                                  14\n",
       "United Arab Emirates                   12\n",
       "Germany                                 7\n",
       "Turkey                                  6\n",
       "Belgium                                 4\n",
       "Portugal                                4\n",
       "Russian Federation                      3"
      ]
     },
     "execution_count": 169,
     "metadata": {},
     "output_type": "execute_result"
    }
   ],
   "source": [
    "df_cont_1_join[df_cont_1_join.revenue > 0].country_x.value_counts().to_frame().head(15)"
   ]
  },
  {
   "cell_type": "markdown",
   "metadata": {},
   "source": [
    "для сравнения метрики, отавлю только те страны, которые есть в обоих группах, так же уберу страны в которых было мало покупок и конверсия очень большая и сильно отличается от средней для дата фрейма. Для маленьких выборок, нет смысла в таких сравнениях сравнениях."
   ]
  },
  {
   "cell_type": "code",
   "execution_count": 170,
   "metadata": {},
   "outputs": [
    {
     "data": {
      "text/html": [
       "<div>\n",
       "<style scoped>\n",
       "    .dataframe tbody tr th:only-of-type {\n",
       "        vertical-align: middle;\n",
       "    }\n",
       "\n",
       "    .dataframe tbody tr th {\n",
       "        vertical-align: top;\n",
       "    }\n",
       "\n",
       "    .dataframe thead tr th {\n",
       "        text-align: left;\n",
       "    }\n",
       "\n",
       "    .dataframe thead tr:last-of-type th {\n",
       "        text-align: right;\n",
       "    }\n",
       "</style>\n",
       "<table border=\"1\" class=\"dataframe\">\n",
       "  <thead>\n",
       "    <tr>\n",
       "      <th></th>\n",
       "      <th colspan=\"2\" halign=\"left\">buy_flag</th>\n",
       "      <th colspan=\"2\" halign=\"left\">buy_premium</th>\n",
       "      <th colspan=\"2\" halign=\"left\">buy_other</th>\n",
       "    </tr>\n",
       "    <tr>\n",
       "      <th>group</th>\n",
       "      <th>control</th>\n",
       "      <th>test</th>\n",
       "      <th>control</th>\n",
       "      <th>test</th>\n",
       "      <th>control</th>\n",
       "      <th>test</th>\n",
       "    </tr>\n",
       "    <tr>\n",
       "      <th>country_x</th>\n",
       "      <th></th>\n",
       "      <th></th>\n",
       "      <th></th>\n",
       "      <th></th>\n",
       "      <th></th>\n",
       "      <th></th>\n",
       "    </tr>\n",
       "  </thead>\n",
       "  <tbody>\n",
       "    <tr>\n",
       "      <th>Argentina</th>\n",
       "      <td>2.799</td>\n",
       "      <td>1.768</td>\n",
       "      <td>1.527</td>\n",
       "      <td>1.263</td>\n",
       "      <td>2.163</td>\n",
       "      <td>0.758</td>\n",
       "    </tr>\n",
       "    <tr>\n",
       "      <th>Australia</th>\n",
       "      <td>4.950</td>\n",
       "      <td>1.613</td>\n",
       "      <td>1.980</td>\n",
       "      <td>1.613</td>\n",
       "      <td>2.970</td>\n",
       "      <td>0.000</td>\n",
       "    </tr>\n",
       "    <tr>\n",
       "      <th>Canada</th>\n",
       "      <td>4.851</td>\n",
       "      <td>4.380</td>\n",
       "      <td>1.866</td>\n",
       "      <td>2.190</td>\n",
       "      <td>3.731</td>\n",
       "      <td>2.920</td>\n",
       "    </tr>\n",
       "    <tr>\n",
       "      <th>Chile</th>\n",
       "      <td>3.665</td>\n",
       "      <td>1.471</td>\n",
       "      <td>1.745</td>\n",
       "      <td>1.471</td>\n",
       "      <td>2.792</td>\n",
       "      <td>0.735</td>\n",
       "    </tr>\n",
       "    <tr>\n",
       "      <th>France</th>\n",
       "      <td>5.496</td>\n",
       "      <td>3.621</td>\n",
       "      <td>2.681</td>\n",
       "      <td>1.114</td>\n",
       "      <td>3.485</td>\n",
       "      <td>3.064</td>\n",
       "    </tr>\n",
       "    <tr>\n",
       "      <th>Germany</th>\n",
       "      <td>2.564</td>\n",
       "      <td>3.349</td>\n",
       "      <td>1.795</td>\n",
       "      <td>0.957</td>\n",
       "      <td>1.282</td>\n",
       "      <td>2.392</td>\n",
       "    </tr>\n",
       "    <tr>\n",
       "      <th>Italy</th>\n",
       "      <td>5.230</td>\n",
       "      <td>2.786</td>\n",
       "      <td>2.694</td>\n",
       "      <td>2.167</td>\n",
       "      <td>3.962</td>\n",
       "      <td>1.548</td>\n",
       "    </tr>\n",
       "    <tr>\n",
       "      <th>Portugal</th>\n",
       "      <td>4.000</td>\n",
       "      <td>0.000</td>\n",
       "      <td>3.000</td>\n",
       "      <td>0.000</td>\n",
       "      <td>3.500</td>\n",
       "      <td>0.000</td>\n",
       "    </tr>\n",
       "    <tr>\n",
       "      <th>Spain</th>\n",
       "      <td>3.221</td>\n",
       "      <td>4.983</td>\n",
       "      <td>2.301</td>\n",
       "      <td>1.993</td>\n",
       "      <td>1.994</td>\n",
       "      <td>3.654</td>\n",
       "    </tr>\n",
       "    <tr>\n",
       "      <th>Ukraine</th>\n",
       "      <td>3.846</td>\n",
       "      <td>0.000</td>\n",
       "      <td>3.846</td>\n",
       "      <td>0.000</td>\n",
       "      <td>3.846</td>\n",
       "      <td>0.000</td>\n",
       "    </tr>\n",
       "    <tr>\n",
       "      <th>United Arab Emirates</th>\n",
       "      <td>2.871</td>\n",
       "      <td>3.982</td>\n",
       "      <td>1.675</td>\n",
       "      <td>2.655</td>\n",
       "      <td>1.675</td>\n",
       "      <td>1.770</td>\n",
       "    </tr>\n",
       "    <tr>\n",
       "      <th>United Kingdom (Great Britain)</th>\n",
       "      <td>6.849</td>\n",
       "      <td>4.734</td>\n",
       "      <td>4.452</td>\n",
       "      <td>2.959</td>\n",
       "      <td>4.452</td>\n",
       "      <td>2.959</td>\n",
       "    </tr>\n",
       "    <tr>\n",
       "      <th>United States of America</th>\n",
       "      <td>4.193</td>\n",
       "      <td>3.586</td>\n",
       "      <td>1.961</td>\n",
       "      <td>1.241</td>\n",
       "      <td>2.976</td>\n",
       "      <td>2.828</td>\n",
       "    </tr>\n",
       "  </tbody>\n",
       "</table>\n",
       "</div>"
      ],
      "text/plain": [
       "                               buy_flag        buy_premium        buy_other  \\\n",
       "group                           control   test     control   test   control   \n",
       "country_x                                                                     \n",
       "Argentina                         2.799  1.768       1.527  1.263     2.163   \n",
       "Australia                         4.950  1.613       1.980  1.613     2.970   \n",
       "Canada                            4.851  4.380       1.866  2.190     3.731   \n",
       "Chile                             3.665  1.471       1.745  1.471     2.792   \n",
       "France                            5.496  3.621       2.681  1.114     3.485   \n",
       "Germany                           2.564  3.349       1.795  0.957     1.282   \n",
       "Italy                             5.230  2.786       2.694  2.167     3.962   \n",
       "Portugal                          4.000  0.000       3.000  0.000     3.500   \n",
       "Spain                             3.221  4.983       2.301  1.993     1.994   \n",
       "Ukraine                           3.846  0.000       3.846  0.000     3.846   \n",
       "United Arab Emirates              2.871  3.982       1.675  2.655     1.675   \n",
       "United Kingdom (Great Britain)    6.849  4.734       4.452  2.959     4.452   \n",
       "United States of America          4.193  3.586       1.961  1.241     2.976   \n",
       "\n",
       "                                       \n",
       "group                            test  \n",
       "country_x                              \n",
       "Argentina                       0.758  \n",
       "Australia                       0.000  \n",
       "Canada                          2.920  \n",
       "Chile                           0.735  \n",
       "France                          3.064  \n",
       "Germany                         2.392  \n",
       "Italy                           1.548  \n",
       "Portugal                        0.000  \n",
       "Spain                           3.654  \n",
       "Ukraine                         0.000  \n",
       "United Arab Emirates            1.770  \n",
       "United Kingdom (Great Britain)  2.959  \n",
       "United States of America        2.828  "
      ]
     },
     "execution_count": 170,
     "metadata": {},
     "output_type": "execute_result"
    }
   ],
   "source": [
    "# отфильтруем страны\n",
    "df_counry = df_counry[(df_counry.buy_flag.control != 0) & (df_counry.buy_flag.control < 7)]\n",
    "df_counry"
   ]
  },
  {
   "cell_type": "code",
   "execution_count": 171,
   "metadata": {},
   "outputs": [],
   "source": [
    "# вручную отфильтрую список стран, что бы не утруждаться в фильтрах для сложных индексов\n",
    "country_list = ['Argentina', 'Australia', 'Canada', 'Chile', 'France', 'Germany',\n",
    "       'Italy', 'Spain', 'United Arab Emirates',\n",
    "       'United Kingdom (Great Britain)', 'United States of America']"
   ]
  },
  {
   "cell_type": "code",
   "execution_count": 172,
   "metadata": {
    "scrolled": false
   },
   "outputs": [
    {
     "name": "stdout",
     "output_type": "stream",
     "text": [
      "--------------------------------------------------------------------------------------------\n",
      "Для колонки: buy_flag\n",
      "\n",
      "Для страны: Argentina контроль: 2.88, тест: 1.799\n",
      "H0 различий конверсии в покупку не выявлено\n",
      "p-value = 0.37744386641619576\n",
      "---\n",
      "Для страны: Australia контроль: 5.208, тест: 1.639\n",
      "H0 различий конверсии в покупку не выявлено\n",
      "p-value = 0.5027130113273868\n",
      "---\n",
      "Для страны: Canada контроль: 5.098, тест: 4.58\n",
      "H0 различий конверсии в покупку не выявлено\n",
      "p-value = 1.0\n",
      "---\n",
      "Для страны: Chile контроль: 3.804, тест: 1.493\n",
      "H0 различий конверсии в покупку не выявлено\n",
      "p-value = 0.12319054761414004\n",
      "---\n",
      "Для страны: France контроль: 5.816, тест: 3.757\n",
      "H0 различий конверсии в покупку не выявлено\n",
      "p-value = 0.22826652324355942\n",
      "---\n",
      "Для страны: Germany контроль: 2.632, тест: 3.465\n",
      "H0 различий конверсии в покупку не выявлено\n",
      "p-value = 0.7691756229159478\n",
      "---\n",
      "Для страны: Italy контроль: 5.518, тест: 2.866\n",
      "H0 различий конверсии в покупку не выявлено\n",
      "p-value = 0.11545946477897627\n",
      "---\n",
      "Для страны: Spain контроль: 3.328, тест: 5.245\n",
      "H0 различий конверсии в покупку не выявлено\n",
      "p-value = 0.2526696133160158\n",
      "---\n",
      "Для страны: United Arab Emirates контроль: 2.956, тест: 4.147\n",
      "H0 различий конверсии в покупку не выявлено\n",
      "p-value = 0.5992309764382965\n",
      "---\n",
      "Для страны: United Kingdom (Great Britain) контроль: 7.353, тест: 4.969\n",
      "H0 различий конверсии в покупку не выявлено\n",
      "p-value = 0.47517424691271504\n",
      "---\n",
      "Для страны: United States of America контроль: 4.377, тест: 3.72\n",
      "H0 различий конверсии в покупку не выявлено\n",
      "p-value = 0.37592543472101325\n",
      "---\n",
      "--------------------------------------------------------------------------------------------\n",
      "Для колонки: buy_premium\n",
      "\n",
      "Для страны: Argentina контроль: 1.55, тест: 1.279\n",
      "H0 различий конверсии в покупку не выявлено\n",
      "p-value = 0.919429808040709\n",
      "---\n",
      "Для страны: Australia контроль: 2.02, тест: 1.639\n",
      "H0 различий конверсии в покупку не выявлено\n",
      "p-value = 1.0\n",
      "---\n",
      "Для страны: Canada контроль: 1.901, тест: 2.239\n",
      "H0 различий конверсии в покупку не выявлено\n",
      "p-value = 1.0\n",
      "---\n",
      "Для страны: Chile контроль: 1.776, тест: 1.493\n",
      "H0 различий конверсии в покупку не выявлено\n",
      "p-value = 0.9970042622483378\n",
      "---\n",
      "Для страны: France контроль: 2.755, тест: 1.127\n",
      "H0 различий конверсии в покупку не выявлено\n",
      "p-value = 0.1462245039080998\n",
      "---\n",
      "Для страны: Germany контроль: 1.828, тест: 0.966\n",
      "H0 различий конверсии в покупку не выявлено\n",
      "p-value = 0.6518776171434139\n",
      "---\n",
      "Для страны: Italy контроль: 2.769, тест: 2.215\n",
      "H0 различий конверсии в покупку не выявлено\n",
      "p-value = 0.7845520563143908\n",
      "---\n",
      "Для страны: Spain контроль: 2.355, тест: 2.034\n",
      "H0 различий конверсии в покупку не выявлено\n",
      "p-value = 0.9497582123755389\n",
      "---\n",
      "Для страны: United Arab Emirates контроль: 1.703, тест: 2.727\n",
      "H0 различий конверсии в покупку не выявлено\n",
      "p-value = 0.5818949137872249\n",
      "---\n",
      "Для страны: United Kingdom (Great Britain) контроль: 4.659, тест: 3.049\n",
      "H0 различий конверсии в покупку не выявлено\n",
      "p-value = 0.583538993270658\n",
      "---\n",
      "Для страны: United States of America контроль: 2.001, тест: 1.257\n",
      "H0 различий конверсии в покупку не выявлено\n",
      "p-value = 0.10912809838465268\n",
      "---\n",
      "--------------------------------------------------------------------------------------------\n",
      "Для колонки: buy_other\n",
      "\n",
      "Для страны: Argentina контроль: 2.211, тест: 0.763\n",
      "H0 различий конверсии в покупку не выявлено\n",
      "p-value = 0.1262115001916919\n",
      "---\n",
      "Для страны: Australia контроль: 3.061, тест: 0.0\n",
      "H0 различий конверсии в покупку не выявлено\n",
      "p-value = 0.4415709751333836\n",
      "---\n",
      "Для страны: Canada контроль: 3.876, тест: 3.008\n",
      "H0 различий конверсии в покупку не выявлено\n",
      "p-value = 0.8921643793834747\n",
      "---\n",
      "Для страны: Chile контроль: 2.873, тест: 0.741\n",
      "H0 различий конверсии в покупку не выявлено\n",
      "p-value = 0.09298777920803845\n",
      "---\n",
      "Для страны: France контроль: 3.611, тест: 3.161\n",
      "H0 различий конверсии в покупку не выявлено\n",
      "p-value = 0.8524748524727943\n",
      "---\n",
      "Для страны: Germany контроль: 1.299, тест: 2.451\n",
      "H0 различий конверсии в покупку не выявлено\n",
      "p-value = 0.4988254035234615\n",
      "---\n",
      "Для страны: Italy контроль: 4.125, тест: 1.572\n",
      "H0 различий конверсии в покупку не выявлено\n",
      "p-value = 0.06789005816328023\n",
      "---\n",
      "Для страны: Spain контроль: 2.034, тест: 3.793\n",
      "H0 различий конверсии в покупку не выявлено\n",
      "p-value = 0.19409591860977896\n",
      "---\n",
      "Для страны: United Arab Emirates контроль: 1.703, тест: 1.802\n",
      "H0 различий конверсии в покупку не выявлено\n",
      "p-value = 1.0\n",
      "---\n",
      "Для страны: United Kingdom (Great Britain) контроль: 4.659, тест: 3.049\n",
      "H0 различий конверсии в покупку не выявлено\n",
      "p-value = 0.583538993270658\n",
      "---\n",
      "Для страны: United States of America контроль: 3.067, тест: 2.91\n",
      "H0 различий конверсии в покупку не выявлено\n",
      "p-value = 0.8575375586173786\n",
      "---\n"
     ]
    }
   ],
   "source": [
    "# воспользуют функцией для стран\n",
    "country_xi_square_check(df_all_data_uniq_id, country_list, columns_list)"
   ]
  },
  {
   "cell_type": "markdown",
   "metadata": {},
   "source": [
    "В срезе стран не удалось выявить стат. значимых различий в разрезе стран. Для некоторых стран, слишком мало данных."
   ]
  },
  {
   "cell_type": "code",
   "execution_count": 173,
   "metadata": {},
   "outputs": [
    {
     "data": {
      "text/plain": [
       "Index(['Argentina', 'Australia', 'Canada', 'Chile', 'France', 'Germany',\n",
       "       'Italy', 'Portugal', 'Spain', 'Ukraine', 'United Arab Emirates',\n",
       "       'United Kingdom (Great Britain)', 'United States of America'],\n",
       "      dtype='object', name='country_x')"
      ]
     },
     "execution_count": 173,
     "metadata": {},
     "output_type": "execute_result"
    }
   ],
   "source": [
    "df_counry.index"
   ]
  },
  {
   "cell_type": "markdown",
   "metadata": {},
   "source": [
    "для начала пересчитаем total_revenue для пользователей из тестовой и контрольной группы.\n",
    "\n",
    "проведем тест на полном срезе данных\n",
    "\n",
    "в качестве метрик для проведения теста будем использовать ARPU и ARPPU."
   ]
  },
  {
   "cell_type": "code",
   "execution_count": 174,
   "metadata": {},
   "outputs": [],
   "source": [
    "# подготовим дата фреймы для сравнения\n",
    "df_all_data_arpu_control = df_all_data[df_all_data.group == 'control'].groupby('uid').agg({'revenue':'sum'})\n",
    "df_all_data_arpu_test = df_all_data[df_all_data.group == 'test'].groupby('uid').agg({'revenue':'sum'})"
   ]
  },
  {
   "cell_type": "code",
   "execution_count": 175,
   "metadata": {
    "scrolled": false
   },
   "outputs": [
    {
     "name": "stdout",
     "output_type": "stream",
     "text": [
      "среднее значение нормированной выручки контроль  : 526.82\n",
      "среднее значение нормированной выручки тест      : 544.31\n"
     ]
    }
   ],
   "source": [
    "print('ARPU контроль  : ' + str(round(df_all_data_arpu_control.revenue.mean(),2)))\n",
    "print('ARPU тест      : ' + str(round(df_all_data_arpu_test.revenue.mean(),2)))"
   ]
  },
  {
   "cell_type": "markdown",
   "metadata": {},
   "source": [
    "H0: дисперсии гомогенны   \n",
    "H1: дисперсии гетерогенны"
   ]
  },
  {
   "cell_type": "code",
   "execution_count": 176,
   "metadata": {},
   "outputs": [
    {
     "name": "stdout",
     "output_type": "stream",
     "text": [
      "LeveneResult(statistic=0.19180129354292375, pvalue=0.6614289531997869)\n"
     ]
    }
   ],
   "source": [
    "#проверим различия дисперсий изучаемого признака.\n",
    "print(stats.levene(df_all_data_arpu_control.revenue, df_all_data_arpu_test.revenue, center='mean'))"
   ]
  },
  {
   "cell_type": "markdown",
   "metadata": {},
   "source": [
    "Дисперсии контрольной и тестовой группы гомогенны. \n",
    "\n",
    "Для сравнения двух групп будем использовать т-тест, Отличие от нормальности не является препятствием для использования теста, при достаточном количестве наблюдений.\n",
    "\n",
    "Гиппотезы при проведении теста:\n",
    "\n",
    "H0 ARPU контрольной и тестовой групп не различаются\n",
    "\n",
    "Н1 ARPU контрольной и тестовой групп имеют стат. значимые различия"
   ]
  },
  {
   "cell_type": "code",
   "execution_count": 177,
   "metadata": {
    "scrolled": true
   },
   "outputs": [
    {
     "data": {
      "text/plain": [
       "Ttest_indResult(statistic=-0.16878078575243588, pvalue=0.8659717163828087)"
      ]
     },
     "execution_count": 177,
     "metadata": {},
     "output_type": "execute_result"
    }
   ],
   "source": [
    "# проведем тест для контрольной и тестовой групп\n",
    "stats.ttest_ind(df_all_data_arpu_control.revenue, \n",
    "                df_all_data_arpu_test.revenue, \n",
    "               )"
   ]
  },
  {
   "cell_type": "markdown",
   "metadata": {},
   "source": [
    "p-value больше 0.05 . Верна гиппотез H0 ARPU контрольной и тестовой групп не различаются\n",
    "\n",
    "Проведем тот же тест, только для пользвателей, которые приобретали подпписку premium_no_trial"
   ]
  },
  {
   "cell_type": "code",
   "execution_count": 178,
   "metadata": {},
   "outputs": [],
   "source": [
    "df_cont_premium_no_trial = df_all_data[(df_all_data.product_type == 'premium_no_trial') &\n",
    "                                       (df_all_data.group == 'control')\n",
    "                                      ].groupby('uid').agg({'revenue':'sum'})\n",
    "df_test_premium_no_trial = df_all_data[(df_all_data.product_type == 'premium_no_trial') &\n",
    "                                       (df_all_data.group == 'test')\n",
    "                                      ].groupby('uid').agg({'revenue':'sum'})"
   ]
  },
  {
   "cell_type": "markdown",
   "metadata": {},
   "source": [
    "Гиппотезы при проведении теста:\n",
    "\n",
    "H0 ARPU для пользователей, которые приборели платную подписку не имеют различий\n",
    "\n",
    "Н1 ARPU для пользователей, которые приборели платную подписку различаются"
   ]
  },
  {
   "cell_type": "code",
   "execution_count": 179,
   "metadata": {},
   "outputs": [
    {
     "data": {
      "text/plain": [
       "0.048994299473974524"
      ]
     },
     "execution_count": 179,
     "metadata": {},
     "output_type": "execute_result"
    }
   ],
   "source": [
    "#проверим различия дисперсий изучаемого признака.\n",
    "stats.levene(df_cont_premium_no_trial.revenue, df_test_premium_no_trial.revenue, center='mean')[1]"
   ]
  },
  {
   "cell_type": "markdown",
   "metadata": {},
   "source": [
    "дисперсии гетерогенны, будем использовать тест Уэлча"
   ]
  },
  {
   "cell_type": "code",
   "execution_count": 180,
   "metadata": {},
   "outputs": [
    {
     "data": {
      "text/plain": [
       "Ttest_indResult(statistic=-1.917829579033994, pvalue=0.05870245980451989)"
      ]
     },
     "execution_count": 180,
     "metadata": {},
     "output_type": "execute_result"
    }
   ],
   "source": [
    "# проведем тест Уэлча для группы контроль 1 и тестовой\n",
    "stats.ttest_ind(df_cont_premium_no_trial.revenue, \n",
    "                df_test_premium_no_trial.revenue, \n",
    "                equal_var = False\n",
    "               )"
   ]
  },
  {
   "cell_type": "markdown",
   "metadata": {},
   "source": [
    "P-value больше 0.05 верна гиппотеза H0 ARPU для пользователей, которые приборели платную подписку не различаются\n",
    "\n",
    "\n",
    "Проведем тесты для разных возрастных групп."
   ]
  },
  {
   "cell_type": "code",
   "execution_count": 181,
   "metadata": {},
   "outputs": [],
   "source": [
    "age_group_list = ['0-17','17-25','25-38','38-']"
   ]
  },
  {
   "cell_type": "markdown",
   "metadata": {},
   "source": [
    "H0 ARPU контрольной и тестовой групп не различаются\n",
    "\n",
    "Н1 ARPU контрольной и тестовой групп имеют стат. значимые различия"
   ]
  },
  {
   "cell_type": "code",
   "execution_count": 281,
   "metadata": {
    "scrolled": true
   },
   "outputs": [
    {
     "name": "stdout",
     "output_type": "stream",
     "text": [
      "Для группы: 17-25\n",
      "H0 ARPU групп не различается\n",
      "p-value = 0.5203156961689583\n",
      "Для группы: 25-38\n",
      "H0 ARPU групп не различается\n",
      "p-value = 0.24317919234546792\n",
      "Для группы: 38-\n",
      "H0 ARPU групп не различается\n",
      "p-value = 0.7810321072079949\n"
     ]
    }
   ],
   "source": [
    "# сравним ARPU контрольной и тестовой групп в срезе возрастных групп\n",
    "for i in age_group_list:\n",
    "    s1 = df_all_data[(df_all_data.group == 'control') & (df_all_data.age_group_my == i)]\\\n",
    "                    .groupby('uid').agg({'revenue':'sum'})\n",
    "    s2 = df_all_data[(df_all_data.group == 'test') & (df_all_data.age_group_my == i)]\\\n",
    "                    .groupby('uid').agg({'revenue':'sum'})\n",
    "    if stats.levene(s1.revenue, s2.revenue, center='mean')[1] > 0.05:\n",
    "        result_test = stats.ttest_ind(s1.revenue,s2.revenue)[1]\n",
    "    else:\n",
    "        result_test = stats.ttest_ind(s1.revenue,s2.revenue, equal_var=False)[1]        \n",
    "    if result_test > 0.05:\n",
    "        print('Для группы: ' + i)\n",
    "        print('H0 ARPU групп не различается')\n",
    "        print('p-value = ' + str(result_test))\n",
    "    else:\n",
    "        print('Для группы: ' + i)\n",
    "        print('Н1 группы имеют стат. значимые различия ARPU')\n",
    "        print('p-value = ' + str(result_test))"
   ]
  },
  {
   "cell_type": "markdown",
   "metadata": {},
   "source": [
    "Значимых стат. различий ARPU для всех возрастных групп не выявлены."
   ]
  },
  {
   "cell_type": "markdown",
   "metadata": {},
   "source": [
    "Сделаем сравнения групп для разных стран. Возьмем те же страны, что и при проверке конверсии."
   ]
  },
  {
   "cell_type": "markdown",
   "metadata": {},
   "source": [
    "Гиппотезы при проведении теста:\n",
    "\n",
    "H0 средняя нормированая выручка групп не различается\n",
    "\n",
    "Н1 группы имеют стат. значимые различия средней нормированной выручки"
   ]
  },
  {
   "cell_type": "code",
   "execution_count": 282,
   "metadata": {
    "scrolled": true
   },
   "outputs": [
    {
     "name": "stdout",
     "output_type": "stream",
     "text": [
      "(396, 1)\n",
      "Для группы: Argentina\n",
      "H0 ARPU не различается\n",
      "p-value = 0.5188060287242533\n",
      "(62, 1)\n",
      "Для группы: Australia\n",
      "H0 ARPU не различается\n",
      "p-value = 0.5160415902126857\n",
      "(137, 1)\n",
      "Для группы: Canada\n",
      "H0 ARPU не различается\n",
      "p-value = 0.9828081864182224\n",
      "(272, 1)\n",
      "Для группы: Chile\n",
      "H0 ARPU не различается\n",
      "p-value = 0.5345763070315088\n",
      "(359, 1)\n",
      "Для группы: France\n",
      "H0 ARPU не различается\n",
      "p-value = 0.17793675318531216\n",
      "(209, 1)\n",
      "Для группы: Germany\n",
      "H0 ARPU не различается\n",
      "p-value = 0.3819736812962148\n",
      "(323, 1)\n",
      "Для группы: Italy\n",
      "H0 ARPU не различается\n",
      "p-value = 0.4398225007469604\n",
      "(301, 1)\n",
      "Для группы: Spain\n",
      "H0 ARPU не различается\n",
      "p-value = 0.29889161879637555\n",
      "(226, 1)\n",
      "Для группы: United Arab Emirates\n",
      "H0 ARPU не различается\n",
      "p-value = 0.34001458582740063\n",
      "(169, 1)\n",
      "Для группы: United Kingdom (Great Britain)\n",
      "H0 ARPU не различается\n",
      "p-value = 0.14666126905984217\n",
      "(1450, 1)\n",
      "Для группы: United States of America\n",
      "H0 ARPU не различается\n",
      "p-value = 0.6239752048077898\n"
     ]
    }
   ],
   "source": [
    "# сравним ARPU для группы контроль и тест в разрезе стран.\n",
    "for i in country_list:\n",
    "    s1 = df_all_data[(df_all_data.group == 'control') & (df_all_data.country_x == i)]\\\n",
    "                    .groupby('uid').agg({'revenue':'sum'})\n",
    "    s2 = df_all_data[(df_all_data.group == 'test') & (df_all_data.country_x == i)]\\\n",
    "                    .groupby('uid').agg({'revenue':'sum'})\n",
    "    if stats.levene(s1.revenue, s2.revenue, center='mean')[1] > 0.05:\n",
    "        result_test = stats.ttest_ind(s1.revenue,s2.revenue)[1]\n",
    "    else:\n",
    "        result_test = stats.ttest_ind(s1.revenue,s2.revenue, equal_var=False)[1]        \n",
    "    if result_test > 0.05:\n",
    "        print('Для группы: ' + i)\n",
    "        print('H0 ARPU не различается')\n",
    "        print('p-value = ' + str(result_test))\n",
    "    else:\n",
    "        print('Для группы: ' + i)\n",
    "        print('Н1 группы имеют стат. значимые различия ARPU')\n",
    "        print('p-value = ' + str(result_test))"
   ]
  },
  {
   "cell_type": "markdown",
   "metadata": {},
   "source": [
    "Для всех срезов стран, стат. значимых различий ARPU не выявлено. Да тут для некоторых стран может быть мало дынных. Если бы я обнаружил различия, то надо было бы повнимательней посмотреть на распределения и проверить, вдруг сильные выбросы повлияли на результат.\n",
    "\n",
    "Проведем такие же тесты для ARPPU"
   ]
  },
  {
   "cell_type": "code",
   "execution_count": 216,
   "metadata": {},
   "outputs": [],
   "source": [
    "# подготовим дата фреймы для сравнения\n",
    "df_all_data_arppu_control = df_all_data[df_all_data.group == 'control'].groupby('uid').agg({'revenue':'sum'})\n",
    "df_all_data_arppu_test = df_all_data[df_all_data.group == 'test'].groupby('uid').agg({'revenue':'sum'})"
   ]
  },
  {
   "cell_type": "code",
   "execution_count": 217,
   "metadata": {},
   "outputs": [],
   "source": [
    "# оставим пользователей, которые совершили покупки\n",
    "df_all_data_arppu_control = df_all_data_arppu_control[df_all_data_arppu_control.revenue > 0]\n",
    "df_all_data_arppu_test = df_all_data_arppu_test[df_all_data_arppu_test.revenue > 0]"
   ]
  },
  {
   "cell_type": "code",
   "execution_count": 273,
   "metadata": {
    "scrolled": true
   },
   "outputs": [
    {
     "name": "stdout",
     "output_type": "stream",
     "text": [
      "ARPPU контроль  : 11928.29\n",
      "ARPPU тест      : 16060.97\n"
     ]
    }
   ],
   "source": [
    "print('ARPPU контроль  : ' + str(round(df_all_data_arppu_control.revenue.mean(),2)))\n",
    "print('ARPPU тест      : ' + str(round(df_all_data_arppu_test.revenue.mean(),2)))"
   ]
  },
  {
   "cell_type": "code",
   "execution_count": 284,
   "metadata": {},
   "outputs": [
    {
     "name": "stdout",
     "output_type": "stream",
     "text": [
      "H1: выборка взята из генеральной совокупности, где признак отличается от нормального\n"
     ]
    }
   ],
   "source": [
    "stats_norm(df_all_data_arppu_control['revenue'])"
   ]
  },
  {
   "cell_type": "code",
   "execution_count": 283,
   "metadata": {
    "scrolled": false
   },
   "outputs": [
    {
     "name": "stdout",
     "output_type": "stream",
     "text": [
      "H1: выборка взята из генеральной совокупности, где признак отличается от нормального\n"
     ]
    }
   ],
   "source": [
    "stats_norm(df_all_data_arppu_test['revenue'])"
   ]
  },
  {
   "cell_type": "code",
   "execution_count": 285,
   "metadata": {},
   "outputs": [
    {
     "data": {
      "text/plain": [
       "(146, 1)"
      ]
     },
     "execution_count": 285,
     "metadata": {},
     "output_type": "execute_result"
    }
   ],
   "source": [
    "df_all_data_arppu_test.shape"
   ]
  },
  {
   "cell_type": "markdown",
   "metadata": {},
   "source": [
    "H0: дисперсии гомогенны   \n",
    "H1: дисперсии гетерогенны"
   ]
  },
  {
   "cell_type": "code",
   "execution_count": 219,
   "metadata": {},
   "outputs": [
    {
     "name": "stdout",
     "output_type": "stream",
     "text": [
      "LeveneResult(statistic=1.2261254208631658, pvalue=0.2686699156899393)\n"
     ]
    }
   ],
   "source": [
    "#проверим различия дисперсий изучаемого признака.\n",
    "print(stats.levene(df_all_data_arppu_control.revenue, df_all_data_arppu_test.revenue, center='mean'))"
   ]
  },
  {
   "cell_type": "markdown",
   "metadata": {},
   "source": [
    "Дисперсии контрольной и тестовой группы гомогенны. \n",
    "\n",
    "Для сравнения двух групп будем использовать т-тест, Отличие от нормальности не является препятствием для использования теста, при достаточном количестве наблюдений.\n",
    "\n",
    "Гиппотезы при проведении теста:\n",
    "\n",
    "H0 ARPPU контрольной и тестовой групп не различаются\n",
    "\n",
    "Н1 ARPPU контрольной и тестовой групп имеют стат. значимые различия"
   ]
  },
  {
   "cell_type": "code",
   "execution_count": 260,
   "metadata": {
    "scrolled": true
   },
   "outputs": [
    {
     "data": {
      "text/plain": [
       "Ttest_indResult(statistic=-1.7447182518054658, pvalue=0.08162019308339645)"
      ]
     },
     "execution_count": 260,
     "metadata": {},
     "output_type": "execute_result"
    }
   ],
   "source": [
    "# проведем т-тест для контрольной и тестовой групп\n",
    "stats.ttest_ind(df_all_data_arppu_control.revenue, \n",
    "                df_all_data_arppu_test.revenue, \n",
    "               )"
   ]
  },
  {
   "cell_type": "markdown",
   "metadata": {},
   "source": [
    "p-value больше 0.05 . Верна гиппотез H0 ARPPU контрольной и тестовой групп не различаются\n",
    "\n",
    "Проведем тот же тест, только для пользвателей, которые приобретали подпписку premium_no_trial"
   ]
  },
  {
   "cell_type": "code",
   "execution_count": 261,
   "metadata": {},
   "outputs": [],
   "source": [
    "# подготовим дата фреймы для сравнения.\n",
    "df_cont_premium_no_trial = df_all_data[(df_all_data.product_type == 'premium_no_trial') &\n",
    "                                       (df_all_data.group == 'control')\n",
    "                                      ].groupby('uid').agg({'revenue':'sum'})\n",
    "df_test_premium_no_trial = df_all_data[(df_all_data.product_type == 'premium_no_trial') &\n",
    "                                       (df_all_data.group == 'test')\n",
    "                                      ].groupby('uid').agg({'revenue':'sum'})"
   ]
  },
  {
   "cell_type": "code",
   "execution_count": 262,
   "metadata": {},
   "outputs": [],
   "source": [
    "# отфильтруем покупателей без покупок\n",
    "df_cont_premium_no_trial = df_cont_premium_no_trial[df_cont_premium_no_trial.revenue > 0]\n",
    "df_test_premium_no_trial = df_test_premium_no_trial[df_test_premium_no_trial.revenue > 0]"
   ]
  },
  {
   "cell_type": "code",
   "execution_count": null,
   "metadata": {},
   "outputs": [],
   "source": [
    "stats.shapiro(s1['revenue'])[1]"
   ]
  },
  {
   "cell_type": "markdown",
   "metadata": {},
   "source": [
    "Гиппотезы при проведении теста:\n",
    "\n",
    "H0 ARPPU для пользователей, которые приборели платную подписку не имеют различий\n",
    "\n",
    "Н1 ARPPU для пользователей, которые приборели платную подписку различаются"
   ]
  },
  {
   "cell_type": "code",
   "execution_count": 224,
   "metadata": {},
   "outputs": [
    {
     "data": {
      "text/plain": [
       "0.048994299473974524"
      ]
     },
     "execution_count": 224,
     "metadata": {},
     "output_type": "execute_result"
    }
   ],
   "source": [
    "#проверим различия дисперсий изучаемого признака.\n",
    "stats.levene(df_cont_premium_no_trial.revenue, df_test_premium_no_trial.revenue, center='mean')[1]"
   ]
  },
  {
   "cell_type": "markdown",
   "metadata": {},
   "source": [
    "дисперсии гетерогенны, будем использовать тест Уэлча"
   ]
  },
  {
   "cell_type": "code",
   "execution_count": 259,
   "metadata": {},
   "outputs": [
    {
     "data": {
      "text/plain": [
       "Ttest_indResult(statistic=-1.917829579033994, pvalue=0.05870245980451989)"
      ]
     },
     "execution_count": 259,
     "metadata": {},
     "output_type": "execute_result"
    }
   ],
   "source": [
    "# проведем тест Уэлча для контрольной тестовой групп\n",
    "stats.ttest_ind(df_cont_premium_no_trial.revenue, \n",
    "                df_test_premium_no_trial.revenue, \n",
    "                equal_var = False\n",
    "               )"
   ]
  },
  {
   "cell_type": "markdown",
   "metadata": {},
   "source": [
    "P-value больше 0.05 верна гиппотеза H0 ARPPU для пользователей, которые приборели платную подписку не различаются\n",
    "\n",
    "\n",
    "Проведем тесты для разных возрастных групп."
   ]
  },
  {
   "cell_type": "markdown",
   "metadata": {},
   "source": [
    "сравнение для группы 0-17 не возможно, т.к. для тестовой группы есть только один пользователь, который совершил покупку."
   ]
  },
  {
   "cell_type": "code",
   "execution_count": 233,
   "metadata": {},
   "outputs": [],
   "source": [
    "age_group_list = ['17-25','25-38','38-']"
   ]
  },
  {
   "cell_type": "markdown",
   "metadata": {},
   "source": [
    "H0 ARPPU контрольной и тестовой групп не различаются\n",
    "\n",
    "Н1 ARPPU контрольной и тестовой групп имеют стат. значимые различия"
   ]
  },
  {
   "cell_type": "code",
   "execution_count": 271,
   "metadata": {
    "scrolled": true
   },
   "outputs": [
    {
     "name": "stdout",
     "output_type": "stream",
     "text": [
      "36 элементов в выборке тест\n",
      "17-25выборки не прошили проверку на нормальность\n",
      "76 элементов в выборке тест\n",
      "25-38выборки не прошили проверку на нормальность\n",
      "33 элементов в выборке тест\n",
      "38-выборки не прошили проверку на нормальность\n"
     ]
    }
   ],
   "source": [
    "# сравним ARPPU контрольной и тестовой групп в срезе возрастных групп\n",
    "for i in age_group_list:\n",
    "    s1 = df_all_data[(df_all_data.group == 'control') & (df_all_data.age_group_my == i)]\\\n",
    "                    .groupby('uid').agg({'revenue':'sum'})\n",
    "    s1 = s1[s1.revenue > 0]\n",
    "    s2 = df_all_data[(df_all_data.group == 'test') & (df_all_data.age_group_my == i)]\\\n",
    "                    .groupby('uid').agg({'revenue':'sum'})\n",
    "    s2 = s2[s2.revenue > 0]\n",
    "    print(str(s2.shape[0]) + ' элементов в выборке тест')\n",
    "    if (stats.shapiro(s1['revenue'])[1] > 0.05) and (stats.shapiro(s2['revenue'])[1] > 0.05):\n",
    "        if stats.levene(s1.revenue, s2.revenue, center='mean')[1] > 0.05:\n",
    "            result_test = stats.ttest_ind(s1.revenue,s2.revenue)[1]\n",
    "        else:\n",
    "            result_test = stats.ttest_ind(s1.revenue,s2.revenue, equal_var=False)[1]        \n",
    "        if result_test > 0.05:\n",
    "            print('Для группы: ' + i)\n",
    "            print('H0 ARPPU групп не различается')\n",
    "            print('p-value = ' + str(result_test))\n",
    "        else:\n",
    "            print('Для группы: ' + i)\n",
    "            print('Н1 группы имеют стат. значимые различия ARPPU')\n",
    "            print('Контроль: ' + str(round(s1.revenue.mean(),2)) + ' Тест: ' + str(round(s2.revenue.mean(),2)))\n",
    "            print('p-value = ' + str(result_test))\n",
    "    else:\n",
    "        print(i + 'выборки не прошили проверку на нормальность')"
   ]
  },
  {
   "cell_type": "markdown",
   "metadata": {},
   "source": [
    "Проверку произвести не представляется возможным. Слишком маленькие выборки для сравнения."
   ]
  },
  {
   "cell_type": "markdown",
   "metadata": {},
   "source": [
    "Сделаем сравнения групп для разных стран. Возьмем те же страны, что и при проверке конверсии."
   ]
  },
  {
   "cell_type": "markdown",
   "metadata": {},
   "source": [
    "Гиппотезы при проведении теста:\n",
    "\n",
    "H0 средняя нормированая выручка групп не различается\n",
    "\n",
    "Н1 группы имеют стат. значимые различия средней нормированной выручки"
   ]
  },
  {
   "cell_type": "code",
   "execution_count": 266,
   "metadata": {
    "scrolled": false
   },
   "outputs": [],
   "source": [
    "# сравним ARPPU для группы контроль и тест в разрезе стран.\n",
    "for i in country_list:\n",
    "    s1 = df_all_data[(df_all_data.group == 'control') & (df_all_data.country_x == i)]\\\n",
    "                    .groupby('uid').agg({'revenue':'sum'})\n",
    "    s1 = s1[s1.revenue > 0]    \n",
    "    s2 = df_all_data[(df_all_data.group == 'test') & (df_all_data.country_x == i)]\\\n",
    "                    .groupby('uid').agg({'revenue':'sum'})\n",
    "    s2 = s2[s2.revenue > 0]\n",
    "    if s2.shape[0] > 30:\n",
    "        if (stats.shapiro(s1['revenue'])[1] > 0.05) and (stats.shapiro(s2['revenue'])[1] > 0.05):\n",
    "            if stats.levene(s1.revenue, s2.revenue, center='mean')[1] > 0.05:\n",
    "                result_test = stats.ttest_ind(s1.revenue,s2.revenue)[1]\n",
    "            else:\n",
    "                result_test = stats.ttest_ind(s1.revenue,s2.revenue, equal_var=False)[1]        \n",
    "            if result_test > 0.05:\n",
    "                print('Для группы: ' + i + ' наблюдений в тестовой группе:' +str(s2.shape[0]))\n",
    "                print('H0 ARPPU не различается')\n",
    "                print('p-value = ' + str(result_test))\n",
    "            else:\n",
    "                print('Для группы: ' + i + ' наблюдений в тестовой группе:' +str(s2.shape[0]))\n",
    "                print('Н1 группы имеют стат. значимые различия ARPPU')\n",
    "                print('Контроль: ' + str(round(s1.revenue.mean(),2)) + ' Тест: ' + str(round(s2.revenue.mean(),2)))\n",
    "                print('p-value = ' + str(result_test))"
   ]
  },
  {
   "cell_type": "markdown",
   "metadata": {},
   "source": [
    "Сравнение ARPPU для стран выполнить не представляется возможным. Выборки не проходят проверку на нормальность, следовательно при таком количестве измерений, использовать т-тест не имеет смысла."
   ]
  },
  {
   "cell_type": "code",
   "execution_count": 194,
   "metadata": {},
   "outputs": [],
   "source": [
    "# обнулим дата фрейм\n",
    "df_metrik = pd.DataFrame(columns=['group', 'all_users', 'pay_users','conversion_prem',\n",
    "                                  'conversion_other', 'conversion', 'all_revenue', 'prem_revenue' , 'ARPPU', 'ARPU'])"
   ]
  },
  {
   "cell_type": "code",
   "execution_count": 195,
   "metadata": {
    "scrolled": true
   },
   "outputs": [
    {
     "data": {
      "text/html": [
       "<div>\n",
       "<style scoped>\n",
       "    .dataframe tbody tr th:only-of-type {\n",
       "        vertical-align: middle;\n",
       "    }\n",
       "\n",
       "    .dataframe tbody tr th {\n",
       "        vertical-align: top;\n",
       "    }\n",
       "\n",
       "    .dataframe thead th {\n",
       "        text-align: right;\n",
       "    }\n",
       "</style>\n",
       "<table border=\"1\" class=\"dataframe\">\n",
       "  <thead>\n",
       "    <tr style=\"text-align: right;\">\n",
       "      <th></th>\n",
       "      <th>group</th>\n",
       "      <th>all_users</th>\n",
       "      <th>pay_users</th>\n",
       "      <th>conversion_prem</th>\n",
       "      <th>conversion_other</th>\n",
       "      <th>conversion</th>\n",
       "      <th>all_revenue</th>\n",
       "      <th>prem_revenue</th>\n",
       "      <th>ARPPU</th>\n",
       "      <th>ARPU</th>\n",
       "    </tr>\n",
       "  </thead>\n",
       "  <tbody>\n",
       "    <tr>\n",
       "      <th>0</th>\n",
       "      <td>control_1</td>\n",
       "      <td>4340</td>\n",
       "      <td>193</td>\n",
       "      <td>2.3</td>\n",
       "      <td>3.2</td>\n",
       "      <td>4.447</td>\n",
       "      <td>2612311.0</td>\n",
       "      <td>1568866.0</td>\n",
       "      <td>13535.29</td>\n",
       "      <td>601.91</td>\n",
       "    </tr>\n",
       "    <tr>\n",
       "      <th>1</th>\n",
       "      <td>control_2</td>\n",
       "      <td>4264</td>\n",
       "      <td>187</td>\n",
       "      <td>2.4</td>\n",
       "      <td>2.9</td>\n",
       "      <td>4.386</td>\n",
       "      <td>1920438.0</td>\n",
       "      <td>1026558.0</td>\n",
       "      <td>10269.72</td>\n",
       "      <td>450.38</td>\n",
       "    </tr>\n",
       "    <tr>\n",
       "      <th>2</th>\n",
       "      <td>test</td>\n",
       "      <td>4308</td>\n",
       "      <td>146</td>\n",
       "      <td>1.6</td>\n",
       "      <td>2.4</td>\n",
       "      <td>3.389</td>\n",
       "      <td>2344901.0</td>\n",
       "      <td>1202903.0</td>\n",
       "      <td>16060.97</td>\n",
       "      <td>544.31</td>\n",
       "    </tr>\n",
       "  </tbody>\n",
       "</table>\n",
       "</div>"
      ],
      "text/plain": [
       "       group all_users pay_users  conversion_prem  conversion_other  \\\n",
       "0  control_1      4340       193              2.3               3.2   \n",
       "1  control_2      4264       187              2.4               2.9   \n",
       "2       test      4308       146              1.6               2.4   \n",
       "\n",
       "   conversion  all_revenue  prem_revenue     ARPPU    ARPU  \n",
       "0       4.447    2612311.0     1568866.0  13535.29  601.91  \n",
       "1       4.386    1920438.0     1026558.0  10269.72  450.38  \n",
       "2       3.389    2344901.0     1202903.0  16060.97  544.31  "
      ]
     },
     "execution_count": 195,
     "metadata": {},
     "output_type": "execute_result"
    }
   ],
   "source": [
    "#выведем еще раз таблицу с основными метриками.\n",
    "metriks_new(df_cont_1_join)\n",
    "metriks_new(df_cont_2_join)\n",
    "metriks_new(df_test_join)"
   ]
  },
  {
   "cell_type": "markdown",
   "metadata": {},
   "source": [
    "# Основной вывод.\n",
    "\n",
    "1. Нововедение мы не выкатываем.\n",
    "\n",
    "\n",
    "2. Система сплитования работает корректно для метрик CR, ARPU, ARPPU. \n",
    "\n",
    "\n",
    "3. Основними метриками для оценки выбраны CR, ARPU, ARPPU.    \n",
    "\n",
    "    CR:\n",
    "        Конверсии стат. значимо различаются для колонки buy_flag(то есть наличие любой покупки). В тестовой группе конверсия упала по сравнению с контрольной. Тестовая: 4.4 Контрольная: 3.4\n",
    "        Конверсии в покупку премиум аккаунта имеют стат. значимые различия. Конверсия в тестовой группе меньше(1.6), чем в контрольной(2.3)\n",
    "        Довольно интересные наблюдения. Выявлены стат. значимые изменения конверсии в сторону уменьшения для тестовой группы, по сравнению с контрольной для колонки:\n",
    "        buy_flag:Для группы: 17-25 контроль: 4.861, тест: 3.093\n",
    "        buy_premium: Для группы: 25-38 контроль: 2.515, тест: 1.6\n",
    "        Я считаю, что это довольно значимое изменение, т.к. оно выявлено для центрального ядра аудитории сервиса.\n",
    "        В разрезе стран стат. значимых изменений конверсии не выявлено.\n",
    "    ARPU:\n",
    "        Как на полных срезах, так и в разрезе возрастных групп и стран, стат значимых изменений ARPU не выявлено.\n",
    "    ARPPU:\n",
    "        Значимых различий ARPPU на полных данных не выявлено.\n",
    "        Для проведения проверок на срезах не достаточно данных.\n",
    "        \n",
    "        \n",
    "        Значимых изменений ARPU и ARPPU на полных срезах не выявлено, но при этом упала как конверсия в покупку в целом, так и конверсия в покупку премиум аккаунта. Эксперимент в целом плохо отразился на метриках, в частности на конверсии.\n",
    "        \n",
    "        \n",
    "4. EDA анализ показал явную зависимость роста количества просмотров и роста количества покупок премиум аккаунта. Зная это можно собирать данные AB тестов на значительно более короткой дистанции, чем в эксперименте(11 мес.). \n",
    "\n",
    "    Так же рост количество дней, в которые пользователь заходил в приложение, положительно коррелирует с количеством подписок премиум.   \n",
    "    \n",
    "    Можно оценивать просмотры и визиты пользователей и делать прогноз о том, какой прирост подписок премиум будет в будующем.   \n",
    "    \n",
    "    На короткой дистанции, можно делать больше тестов, следовательно, будет проверяться больше гиппотез, можно добиться занчительно больших результатов.   \n",
    "    \n",
    "    Так же EDA анализ показал, что люди, у которых коэффициент привлекательности выше 75% квантиля значительно реже приобретают премиум подписку, чем люди в диапазоне от 50 до 75 процентов. Можно на основании этого параметра, например чаще предлагать бесплатную пробную подписку или выработать другие гиппотезы по улучшению конверсии в покупку у данной группы пользователей.   \n",
    "    \n",
    "    Ядро самой лояльной аудитории находится в возрастной группе от 20 до 35 лет, с средним количеством просмотров более 21, средним количеством визитов более 7 и имеющих коэффициент привлекательности от 238-518.\n",
    "    \n",
    "    Можно было выделить более узкие группы при анализе, но я ставил перед собой задачу найти общие тенденции.     \n",
    "  \n",
    "  \n",
    "  \n",
    "5. Предлагаю бизнес заказчику в первую очередь работать над гиппотезами, результатом которых будет увеличение конверсии, на всех этапах жизненного цикла пользователя в приложении(от первого входа в регистрацию, от регистрации в первую покупку или приборетения премиум подписки, далее в удержание пользователя на более долгий срок). \n",
    "\n"
   ]
  },
  {
   "cell_type": "code",
   "execution_count": null,
   "metadata": {},
   "outputs": [],
   "source": []
  }
 ],
 "metadata": {
  "kernelspec": {
   "display_name": "Python 3 (ipykernel)",
   "language": "python",
   "name": "python3"
  },
  "language_info": {
   "codemirror_mode": {
    "name": "ipython",
    "version": 3
   },
   "file_extension": ".py",
   "mimetype": "text/x-python",
   "name": "python",
   "nbconvert_exporter": "python",
   "pygments_lexer": "ipython3",
   "version": "3.8.10"
  }
 },
 "nbformat": 4,
 "nbformat_minor": 4
}
